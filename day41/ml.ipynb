{
 "cells": [
  {
   "cell_type": "code",
   "execution_count": 58,
   "metadata": {
    "collapsed": true
   },
   "outputs": [],
   "source": [
    "from sklearn.model_selection import train_test_split,GridSearchCV\n",
    "from sklearn.metrics import classification_report\n",
    "from sklearn.feature_extraction import DictVectorizer\n",
    "from sklearn.tree import DecisionTreeClassifier, export_graphviz\n",
    "from sklearn.ensemble import RandomForestClassifier\n",
    "import pandas as pd"
   ]
  },
  {
   "cell_type": "code",
   "execution_count": 4,
   "outputs": [
    {
     "name": "stdout",
     "output_type": "stream",
     "text": [
      "<class 'pandas.core.frame.DataFrame'>\n",
      "RangeIndex: 1313 entries, 0 to 1312\n",
      "Data columns (total 11 columns):\n",
      " #   Column     Non-Null Count  Dtype  \n",
      "---  ------     --------------  -----  \n",
      " 0   row.names  1313 non-null   int64  \n",
      " 1   pclass     1313 non-null   object \n",
      " 2   survived   1313 non-null   int64  \n",
      " 3   name       1313 non-null   object \n",
      " 4   age        633 non-null    float64\n",
      " 5   embarked   821 non-null    object \n",
      " 6   home.dest  754 non-null    object \n",
      " 7   room       77 non-null     object \n",
      " 8   ticket     69 non-null     object \n",
      " 9   boat       347 non-null    object \n",
      " 10  sex        1313 non-null   object \n",
      "dtypes: float64(1), int64(2), object(8)\n",
      "memory usage: 113.0+ KB\n",
      "   row.names pclass  survived                                 name   age  \\\n",
      "0          1    1st         1         Allen, Miss Elisabeth Walton  29.0   \n",
      "1          2    1st         0          Allison, Miss Helen Loraine   2.0   \n",
      "2          3    1st         0  Allison, Mr Hudson Joshua Creighton  30.0   \n",
      "\n",
      "      embarked                        home.dest room      ticket   boat  \\\n",
      "0  Southampton                     St Louis, MO  B-5  24160 L221      2   \n",
      "1  Southampton  Montreal, PQ / Chesterville, ON  C26         NaN    NaN   \n",
      "2  Southampton  Montreal, PQ / Chesterville, ON  C26         NaN  (135)   \n",
      "\n",
      "      sex  \n",
      "0  female  \n",
      "1  female  \n",
      "2    male  \n"
     ]
    }
   ],
   "source": [
    "\n",
    "titan=pd.read_csv('./titanic.txt')\n",
    "titan.info()\n",
    "print(titan.head(3))"
   ],
   "metadata": {
    "collapsed": false,
    "pycharm": {
     "name": "#%%\n"
    }
   }
  },
  {
   "cell_type": "code",
   "execution_count": 6,
   "outputs": [
    {
     "name": "stdout",
     "output_type": "stream",
     "text": [
      "<class 'pandas.core.frame.DataFrame'>\n",
      "RangeIndex: 1313 entries, 0 to 1312\n",
      "Data columns (total 3 columns):\n",
      " #   Column  Non-Null Count  Dtype  \n",
      "---  ------  --------------  -----  \n",
      " 0   pclass  1313 non-null   object \n",
      " 1   age     633 non-null    float64\n",
      " 2   sex     1313 non-null   object \n",
      "dtypes: float64(1), object(2)\n",
      "memory usage: 30.9+ KB\n",
      "None\n"
     ]
    }
   ],
   "source": [
    "x=titan[['pclass','age','sex']]\n",
    "y=titan.survived\n",
    "print(x.info())"
   ],
   "metadata": {
    "collapsed": false,
    "pycharm": {
     "name": "#%%\n"
    }
   }
  },
  {
   "cell_type": "code",
   "execution_count": 8,
   "outputs": [
    {
     "name": "stdout",
     "output_type": "stream",
     "text": [
      "<class 'pandas.core.frame.DataFrame'>\n",
      "RangeIndex: 1313 entries, 0 to 1312\n",
      "Data columns (total 3 columns):\n",
      " #   Column  Non-Null Count  Dtype  \n",
      "---  ------  --------------  -----  \n",
      " 0   pclass  1313 non-null   object \n",
      " 1   age     1313 non-null   float64\n",
      " 2   sex     1313 non-null   object \n",
      "dtypes: float64(1), object(2)\n",
      "memory usage: 30.9+ KB\n",
      "None\n"
     ]
    },
    {
     "name": "stderr",
     "output_type": "stream",
     "text": [
      "C:\\Users\\gdmmx\\anaconda3\\lib\\site-packages\\pandas\\core\\generic.py:6392: SettingWithCopyWarning: \n",
      "A value is trying to be set on a copy of a slice from a DataFrame\n",
      "\n",
      "See the caveats in the documentation: https://pandas.pydata.org/pandas-docs/stable/user_guide/indexing.html#returning-a-view-versus-a-copy\n",
      "  return self._update_inplace(result)\n"
     ]
    }
   ],
   "source": [
    "x.age.fillna(x.age.mean(),inplace=True)\n",
    "print(x.info())"
   ],
   "metadata": {
    "collapsed": false,
    "pycharm": {
     "name": "#%%\n"
    }
   }
  },
  {
   "cell_type": "code",
   "execution_count": 48,
   "outputs": [
    {
     "name": "stdout",
     "output_type": "stream",
     "text": [
      "<class 'numpy.ndarray'>\n",
      "['age', 'pclass=1st', 'pclass=2nd', 'pclass=3rd', 'sex=female', 'sex=male']\n"
     ]
    }
   ],
   "source": [
    "x_train,x_test,y_train,y_test=train_test_split(x,y,test_size=0.25,random_state=1)\n",
    "dict=DictVectorizer(sparse=False)\n",
    "# 转成字典形式才能fit_transform\n",
    "x_train=dict.fit_transform(x_train.to_dict(orient='records'))\n",
    "print(type(x_train))\n",
    "print(dict.get_feature_names())"
   ],
   "metadata": {
    "collapsed": false,
    "pycharm": {
     "name": "#%%\n"
    }
   }
  },
  {
   "cell_type": "code",
   "execution_count": 49,
   "outputs": [
    {
     "name": "stdout",
     "output_type": "stream",
     "text": [
      "accuracy: 0.8115501519756839\n"
     ]
    }
   ],
   "source": [
    "dec=DecisionTreeClassifier()\n",
    "dec.fit(x_train,y_train)\n",
    "x_test=dict.transform(x_test.to_dict(orient='records'))\n",
    "print('accuracy:',dec.score(x_test,y_test))"
   ],
   "metadata": {
    "collapsed": false,
    "pycharm": {
     "name": "#%%\n"
    }
   }
  },
  {
   "cell_type": "code",
   "execution_count": 54,
   "outputs": [
    {
     "name": "stdout",
     "output_type": "stream",
     "text": [
      "accuracy 0.8206686930091185\n"
     ]
    }
   ],
   "source": [
    "x_train, x_test, y_train, y_test = train_test_split(x, y, test_size=0.25, random_state=4)\n",
    "dict = DictVectorizer(sparse=False)\n",
    "x_train = dict.fit_transform(x_train.to_dict(orient=\"records\"))\n",
    "x_test = dict.transform(x_test.to_dict(orient=\"records\"))\n",
    "dec1=DecisionTreeClassifier(max_depth=15,min_impurity_decrease=0.01)\n",
    "dec1.fit(x_train,y_train)\n",
    "print(\"accuracy\",dec1.score(x_test,y_test))\n"
   ],
   "metadata": {
    "collapsed": false,
    "pycharm": {
     "name": "#%%\n"
    }
   }
  },
  {
   "cell_type": "code",
   "execution_count": 55,
   "outputs": [
    {
     "name": "stdout",
     "output_type": "stream",
     "text": [
      "accuracy 0.8206686930091185\n"
     ]
    }
   ],
   "source": [
    "x_train, x_test, y_train, y_test = train_test_split(x, y, test_size=0.25, random_state=4)\n",
    "dict = DictVectorizer(sparse=False)\n",
    "x_train = dict.fit_transform(x_train.to_dict(orient=\"records\"))\n",
    "x_test = dict.transform(x_test.to_dict(orient=\"records\"))\n",
    "dec2=DecisionTreeClassifier(max_depth=10,min_impurity_decrease=0.01)\n",
    "dec2.fit(x_train,y_train)\n",
    "print(\"accuracy\",dec2.score(x_test,y_test))"
   ],
   "metadata": {
    "collapsed": false,
    "pycharm": {
     "name": "#%%\n"
    }
   }
  },
  {
   "cell_type": "code",
   "execution_count": 60,
   "outputs": [
    {
     "name": "stdout",
     "output_type": "stream",
     "text": [
      "accuracy 0.8328267477203647\n",
      "para model {'max_depth': 3, 'n_estimators': 1500}\n",
      "best model RandomForestClassifier(max_depth=3, n_estimators=1500, n_jobs=-1)\n",
      "every result {'mean_fit_time': array([6.09549109, 3.73525508, 4.92038623, 1.74031417, 2.48980713,\n",
      "       4.26293381, 1.87409576, 2.15475488, 4.02112063, 2.3887639 ,\n",
      "       3.04691601, 4.83466427, 2.20738029, 2.64854344, 4.95474044,\n",
      "       1.79287815, 2.54484129, 6.60722812]), 'std_fit_time': array([5.47867849, 1.59991306, 1.10465888, 0.28325251, 0.31986027,\n",
      "       0.35014919, 0.20083428, 0.09085672, 0.10972059, 0.28945925,\n",
      "       0.35512852, 0.44032944, 0.38659642, 0.29282955, 0.45142555,\n",
      "       0.09595359, 0.13121057, 1.67752734]), 'mean_score_time': array([0.48117765, 1.02478886, 1.32907351, 0.52979994, 0.66466864,\n",
      "       1.27120121, 0.50493932, 0.53272446, 0.89000702, 0.52064164,\n",
      "       0.68658511, 1.0748361 , 0.53676152, 0.61013269, 1.21966012,\n",
      "       0.51166495, 0.626127  , 1.7003626 ]), 'std_score_time': array([0.11778341, 0.32260279, 0.32698202, 0.19116589, 0.10536103,\n",
      "       0.29661101, 0.0381875 , 0.07119899, 0.03043233, 0.13947689,\n",
      "       0.05771196, 0.15921505, 0.07929327, 0.13834194, 0.22577202,\n",
      "       0.16790119, 0.14393346, 0.53651982]), 'param_max_depth': masked_array(data=[2, 2, 2, 3, 3, 3, 5, 5, 5, 8, 8, 8, 12, 12, 12, 20, 20,\n",
      "                   20],\n",
      "             mask=[False, False, False, False, False, False, False, False,\n",
      "                   False, False, False, False, False, False, False, False,\n",
      "                   False, False],\n",
      "       fill_value='?',\n",
      "            dtype=object), 'param_n_estimators': masked_array(data=[1500, 2000, 4000, 1500, 2000, 4000, 1500, 2000, 4000,\n",
      "                   1500, 2000, 4000, 1500, 2000, 4000, 1500, 2000, 4000],\n",
      "             mask=[False, False, False, False, False, False, False, False,\n",
      "                   False, False, False, False, False, False, False, False,\n",
      "                   False, False],\n",
      "       fill_value='?',\n",
      "            dtype=object), 'params': [{'max_depth': 2, 'n_estimators': 1500}, {'max_depth': 2, 'n_estimators': 2000}, {'max_depth': 2, 'n_estimators': 4000}, {'max_depth': 3, 'n_estimators': 1500}, {'max_depth': 3, 'n_estimators': 2000}, {'max_depth': 3, 'n_estimators': 4000}, {'max_depth': 5, 'n_estimators': 1500}, {'max_depth': 5, 'n_estimators': 2000}, {'max_depth': 5, 'n_estimators': 4000}, {'max_depth': 8, 'n_estimators': 1500}, {'max_depth': 8, 'n_estimators': 2000}, {'max_depth': 8, 'n_estimators': 4000}, {'max_depth': 12, 'n_estimators': 1500}, {'max_depth': 12, 'n_estimators': 2000}, {'max_depth': 12, 'n_estimators': 4000}, {'max_depth': 20, 'n_estimators': 1500}, {'max_depth': 20, 'n_estimators': 2000}, {'max_depth': 20, 'n_estimators': 4000}], 'split0_test_score': array([0.73780488, 0.73780488, 0.73780488, 0.80182927, 0.80182927,\n",
      "       0.80182927, 0.81097561, 0.81097561, 0.81097561, 0.82012195,\n",
      "       0.82012195, 0.82012195, 0.82012195, 0.82012195, 0.81402439,\n",
      "       0.82012195, 0.80792683, 0.82012195]), 'split1_test_score': array([0.82621951, 0.82621951, 0.82621951, 0.82317073, 0.82317073,\n",
      "       0.82317073, 0.81402439, 0.81402439, 0.81402439, 0.80792683,\n",
      "       0.80792683, 0.80792683, 0.81402439, 0.81707317, 0.81707317,\n",
      "       0.81707317, 0.81402439, 0.81402439]), 'split2_test_score': array([0.81707317, 0.81707317, 0.81707317, 0.82926829, 0.82926829,\n",
      "       0.82926829, 0.82317073, 0.82317073, 0.82317073, 0.79268293,\n",
      "       0.79268293, 0.79268293, 0.79573171, 0.79268293, 0.79573171,\n",
      "       0.79573171, 0.79573171, 0.79573171]), 'mean_test_score': array([0.79369919, 0.79369919, 0.79369919, 0.81808943, 0.81808943,\n",
      "       0.81808943, 0.81605691, 0.81605691, 0.81605691, 0.80691057,\n",
      "       0.80691057, 0.80691057, 0.80995935, 0.80995935, 0.80894309,\n",
      "       0.81097561, 0.80589431, 0.80995935]), 'std_test_score': array([0.03969924, 0.03969924, 0.03969924, 0.01176406, 0.01176406,\n",
      "       0.01176406, 0.00518193, 0.00518193, 0.00518193, 0.01122496,\n",
      "       0.01122496, 0.01122496, 0.01036386, 0.01227952, 0.00942441,\n",
      "       0.01085069, 0.00760499, 0.01036386]), 'rank_test_score': array([16, 16, 16,  1,  1,  1,  4,  4,  4, 12, 12, 12,  8,  8, 11,  7, 15,\n",
      "        8])}\n"
     ]
    }
   ],
   "source": [
    "rf=RandomForestClassifier(n_jobs=-1)\n",
    "param={'n_estimators':[1500,2000,4000],'max_depth':[2,3,5,8,12,20]}\n",
    "gc=GridSearchCV(rf,param_grid=param,cv=3)\n",
    "gc.fit(x_train,y_train)\n",
    "print('accuracy',gc.score(x_test,y_test))\n",
    "print('para model',gc.best_params_)\n",
    "print('best model',gc.best_estimator_)\n",
    "print('every result',gc.cv_results_)"
   ],
   "metadata": {
    "collapsed": false,
    "pycharm": {
     "name": "#%%\n"
    }
   }
  },
  {
   "cell_type": "code",
   "execution_count": 64,
   "outputs": [],
   "source": [
    "from sklearn.datasets import load_boston\n",
    "import joblib\n",
    "from sklearn.linear_model import LinearRegression,SGDRegressor,Ridge,LogisticRegression,Lasso"
   ],
   "metadata": {
    "collapsed": false,
    "pycharm": {
     "name": "#%%\n"
    }
   }
  },
  {
   "cell_type": "code",
   "execution_count": 66,
   "outputs": [
    {
     "name": "stdout",
     "output_type": "stream",
     "text": [
      "(379, 13)\n"
     ]
    }
   ],
   "source": [
    "lb=load_boston()\n",
    "x_train,x_test,y_train,y_test=train_test_split(lb.data,lb.target,test_size=0.25,random_state=1)\n",
    "print(x_train.shape)"
   ],
   "metadata": {
    "collapsed": false,
    "pycharm": {
     "name": "#%%\n"
    }
   }
  },
  {
   "cell_type": "code",
   "execution_count": 68,
   "outputs": [],
   "source": [
    "from sklearn.preprocessing import StandardScaler"
   ],
   "metadata": {
    "collapsed": false,
    "pycharm": {
     "name": "#%%\n"
    }
   }
  },
  {
   "cell_type": "code",
   "execution_count": 70,
   "outputs": [],
   "source": [
    "std_x=StandardScaler()\n",
    "x_train=std_x.fit_transform(x_train)\n",
    "x_test=std_x.transform(x_test)\n",
    "std_y=StandardScaler()\n",
    "y_train=std_y.fit_transform(y_train.reshape(-1,1))\n",
    "y_test=std_y.transform(y_test.reshape(-1,1))"
   ],
   "metadata": {
    "collapsed": false,
    "pycharm": {
     "name": "#%%\n"
    }
   }
  },
  {
   "cell_type": "code",
   "execution_count": 73,
   "outputs": [
    {
     "name": "stdout",
     "output_type": "stream",
     "text": [
      "系数 [[-0.12026411  0.15044778  0.02951803  0.07470354 -0.28043353  0.22170939\n",
      "   0.02190624 -0.35275513  0.29939558 -0.2028089  -0.23911894  0.06305081\n",
      "  -0.45259462]]\n"
     ]
    }
   ],
   "source": [
    "lr=LinearRegression()\n",
    "lr.fit(x_train,y_train)\n",
    "print('系数',lr.coef_)"
   ],
   "metadata": {
    "collapsed": false,
    "pycharm": {
     "name": "#%%\n"
    }
   }
  },
  {
   "cell_type": "code",
   "execution_count": 78,
   "outputs": [],
   "source": [
    "from sklearn.datasets import load_boston\n",
    "from sklearn.linear_model import LinearRegression, SGDRegressor, Ridge, LogisticRegression, Lasso\n",
    "from sklearn.model_selection import train_test_split\n",
    "from sklearn.preprocessing import StandardScaler\n",
    "from sklearn.metrics import mean_squared_error, classification_report, roc_auc_score\n",
    "import joblib\n",
    "import pandas as pd\n",
    "import numpy as np"
   ],
   "metadata": {
    "collapsed": false,
    "pycharm": {
     "name": "#%%\n"
    }
   }
  },
  {
   "cell_type": "code",
   "execution_count": 79,
   "outputs": [
    {
     "name": "stdout",
     "output_type": "stream",
     "text": [
      "predict [[ 1.12620955]\n",
      " [ 0.62994234]\n",
      " [-0.47955756]\n",
      " [-0.08002168]\n",
      " [-0.38323459]\n",
      " [-0.26734514]\n",
      " [ 1.11558027]\n",
      " [-0.48011678]\n",
      " [ 0.26773583]\n",
      " [ 0.50610896]\n",
      " [ 0.54872518]\n",
      " [ 0.69878929]\n",
      " [-0.12984488]\n",
      " [ 0.51624959]\n",
      " [ 0.11609798]\n",
      " [-0.16307075]\n",
      " [-0.58671359]\n",
      " [ 1.72804157]\n",
      " [ 0.91761907]\n",
      " [-1.56015899]\n",
      " [-0.16601029]\n",
      " [-0.68746111]\n",
      " [ 0.31332585]\n",
      " [ 0.27297733]\n",
      " [ 1.01697482]\n",
      " [-1.27028638]\n",
      " [-0.95672557]\n",
      " [-0.62211389]\n",
      " [ 1.5267197 ]\n",
      " [-0.8563123 ]\n",
      " [-0.12405138]\n",
      " [-0.91970532]\n",
      " [ 2.28757241]\n",
      " [-0.50574043]\n",
      " [-0.05595243]\n",
      " [-0.21806897]\n",
      " [-0.54345359]\n",
      " [ 0.52264682]\n",
      " [-1.40720286]\n",
      " [-0.26284251]\n",
      " [ 0.21619076]\n",
      " [-0.14338071]\n",
      " [ 0.79988591]\n",
      " [-0.65772411]\n",
      " [-0.33180076]\n",
      " [-0.87514574]\n",
      " [ 1.91418761]\n",
      " [-0.47664284]\n",
      " [ 0.43517699]\n",
      " [-0.1950607 ]\n",
      " [ 0.30927175]\n",
      " [ 0.24009869]\n",
      " [ 0.30063331]\n",
      " [ 0.50569088]\n",
      " [-1.94512422]\n",
      " [ 0.20018782]\n",
      " [-1.30384514]\n",
      " [ 0.50366068]\n",
      " [-0.6220835 ]\n",
      " [ 1.47453167]\n",
      " [-0.31823582]\n",
      " [ 0.57109939]\n",
      " [-0.64702253]\n",
      " [-0.35840699]\n",
      " [-1.27347275]\n",
      " [ 1.08939349]\n",
      " [ 1.56941248]\n",
      " [-0.05443313]\n",
      " [ 0.27738264]\n",
      " [ 0.33502069]\n",
      " [ 0.11486652]\n",
      " [-1.72418493]\n",
      " [-0.61811069]\n",
      " [-0.23281138]\n",
      " [-0.17910595]\n",
      " [-0.05448418]\n",
      " [ 1.32820326]\n",
      " [ 0.62880761]\n",
      " [ 0.28237344]\n",
      " [ 1.3569826 ]\n",
      " [-0.41845418]\n",
      " [ 0.18839435]\n",
      " [ 1.35925408]\n",
      " [-1.01266   ]\n",
      " [-0.18286696]\n",
      " [ 0.87704764]\n",
      " [-0.59247755]\n",
      " [ 0.20839319]\n",
      " [-0.35514837]\n",
      " [-0.60196364]\n",
      " [ 0.50091753]\n",
      " [ 2.09695301]\n",
      " [-0.88638171]\n",
      " [ 0.10386413]\n",
      " [-0.83134257]\n",
      " [-0.04651539]\n",
      " [ 0.05322503]\n",
      " [ 0.76551368]\n",
      " [ 1.61168478]\n",
      " [-0.21671192]\n",
      " [-0.50247036]\n",
      " [-0.5438412 ]\n",
      " [ 0.3061877 ]\n",
      " [-0.04061622]\n",
      " [-1.57793495]\n",
      " [-0.09235677]\n",
      " [-0.65513559]\n",
      " [ 1.19613535]\n",
      " [ 0.24158778]\n",
      " [ 0.30758487]\n",
      " [ 1.79047623]\n",
      " [ 0.73947994]\n",
      " [-0.84068691]\n",
      " [ 1.39163914]\n",
      " [ 1.47665016]\n",
      " [ 1.18433322]\n",
      " [-0.15308932]\n",
      " [-0.63598571]\n",
      " [ 1.33600772]\n",
      " [ 1.87079503]\n",
      " [-0.08675261]\n",
      " [-0.74431491]\n",
      " [ 0.55971944]\n",
      " [-0.40532352]\n",
      " [ 0.55334   ]\n",
      " [-0.13251185]\n",
      " [ 0.4108134 ]]\n",
      "error 0.2758842244225055\n"
     ]
    }
   ],
   "source": [
    "y_predict=lr.predict(x_test)\n",
    "y_lr_predict=std_y.inverse_transform(y_predict)\n",
    "joblib.dump(lr,'./house.pkl')\n",
    "print('predict',y_lr_predict)\n",
    "print('error',mean_squared_error(y_lr_predict,y_test))"
   ],
   "metadata": {
    "collapsed": false,
    "pycharm": {
     "name": "#%%\n"
    }
   }
  },
  {
   "cell_type": "code",
   "execution_count": 81,
   "outputs": [
    {
     "name": "stdout",
     "output_type": "stream",
     "text": [
      "0.2758842244225055\n"
     ]
    }
   ],
   "source": [
    "model=joblib.load('./house.pkl')\n",
    "y_predict=model.predict(x_test)\n",
    "print(mean_squared_error(y_test,y_predict))\n",
    "\n"
   ],
   "metadata": {
    "collapsed": false,
    "pycharm": {
     "name": "#%%\n"
    }
   }
  },
  {
   "cell_type": "code",
   "execution_count": 83,
   "outputs": [
    {
     "name": "stdout",
     "output_type": "stream",
     "text": [
      "0.2758842244225055\n"
     ]
    }
   ],
   "source": [
    "print(mean_squared_error(std_y.inverse_transform(y_test),std_y.inverse_transform(y_predict)))"
   ],
   "metadata": {
    "collapsed": false,
    "pycharm": {
     "name": "#%%\n"
    }
   }
  },
  {
   "cell_type": "code",
   "execution_count": 86,
   "outputs": [
    {
     "name": "stdout",
     "output_type": "stream",
     "text": [
      "系数 [-0.09279447  0.09137297 -0.01475409  0.07827004 -0.20301786  0.25350773\n",
      "  0.         -0.26686679  0.11503441 -0.03356268 -0.22573739  0.06307533\n",
      " -0.4367467 ]\n"
     ]
    },
    {
     "name": "stderr",
     "output_type": "stream",
     "text": [
      "C:\\Users\\gdmmx\\anaconda3\\lib\\site-packages\\sklearn\\utils\\validation.py:63: DataConversionWarning: A column-vector y was passed when a 1d array was expected. Please change the shape of y to (n_samples, ), for example using ravel().\n",
      "  return f(*args, **kwargs)\n"
     ]
    }
   ],
   "source": [
    "sgd=SGDRegressor(eta0=0.008,penalty='l1',alpha=0.005)\n",
    "sgd.fit(x_train,y_train)\n",
    "print('系数',sgd.coef_)"
   ],
   "metadata": {
    "collapsed": false,
    "pycharm": {
     "name": "#%%\n"
    }
   }
  },
  {
   "cell_type": "code",
   "execution_count": 88,
   "outputs": [
    {
     "name": "stdout",
     "output_type": "stream",
     "text": [
      "error 0.2799981437649605\n",
      "error before 0.2799981437649605\n"
     ]
    }
   ],
   "source": [
    "y_sgd_predict=std_y.inverse_transform(sgd.predict(x_test).reshape(-1,1))\n",
    "y_predict=sgd.predict(x_test)\n",
    "print('error',mean_squared_error(y_test,y_predict))\n",
    "print('error before',mean_squared_error(std_y.inverse_transform(y_test),y_sgd_predict))"
   ],
   "metadata": {
    "collapsed": false,
    "pycharm": {
     "name": "#%%\n"
    }
   }
  },
  {
   "cell_type": "code",
   "execution_count": null,
   "outputs": [],
   "source": [],
   "metadata": {
    "collapsed": false,
    "pycharm": {
     "name": "#%%\n"
    }
   }
  }
 ],
 "metadata": {
  "kernelspec": {
   "name": "pycharm-a7ca9fd6",
   "language": "python",
   "display_name": "PyCharm (day32)"
  },
  "language_info": {
   "codemirror_mode": {
    "name": "ipython",
    "version": 2
   },
   "file_extension": ".py",
   "mimetype": "text/x-python",
   "name": "python",
   "nbconvert_exporter": "python",
   "pygments_lexer": "ipython2",
   "version": "2.7.6"
  }
 },
 "nbformat": 4,
 "nbformat_minor": 0
}