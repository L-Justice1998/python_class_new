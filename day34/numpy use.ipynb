{
 "cells": [
  {
   "cell_type": "code",
   "execution_count": 5,
   "metadata": {
    "collapsed": true
   },
   "outputs": [
    {
     "name": "stdout",
     "output_type": "stream",
     "text": [
      "int32\n",
      "[[ 0.   0.5  1.   1.5]\n",
      " [ 2.   2.5  3.   3.5]\n",
      " [ 4.   4.5  5.   5.5]\n",
      " [ 6.   6.5  7.   7.5]\n",
      " [ 8.   8.5  9.   9.5]\n",
      " [10.  10.5 11.  11.5]]\n",
      "float64\n",
      "[[ 2  3  4  5]\n",
      " [ 6  7  8  9]\n",
      " [10 11 12 13]\n",
      " [14 15 16 17]\n",
      " [18 19 20 21]\n",
      " [22 23 24 25]]\n",
      "[[100 102 104 106]\n",
      " [108 110 112 114]\n",
      " [116 118 120 122]\n",
      " [124 126 128 130]\n",
      " [132 134 136 138]\n",
      " [140 142 144 146]]\n"
     ]
    }
   ],
   "source": [
    "import numpy as np\n",
    "\n",
    "t1=np.array(range(24)).reshape(6,4)\n",
    "print(t1.dtype)\n",
    "t2=t1/2\n",
    "print(t2)\n",
    "print(t2.dtype)\n",
    "print(t1+2)\n",
    "t3=np.array(range(100,124)).reshape(6,4)\n",
    "print(t1+t3)"
   ]
  },
  {
   "cell_type": "code",
   "execution_count": 7,
   "outputs": [
    {
     "name": "stdout",
     "output_type": "stream",
     "text": [
      "[[ 0  1  2  3]\n",
      " [ 5  6  7  8]\n",
      " [10 11 12 13]\n",
      " [15 16 17 18]\n",
      " [20 21 22 23]\n",
      " [25 26 27 28]]\n",
      "[[ 0  2  4  6]\n",
      " [ 4  6  8 10]\n",
      " [ 8 10 12 14]\n",
      " [12 14 16 18]\n",
      " [16 18 20 22]\n",
      " [20 22 24 26]]\n"
     ]
    }
   ],
   "source": [
    "t1=np.array(range(24)).reshape(6,4)\n",
    "t2=np.array(range(6)).reshape(6,1)\n",
    "print(t1+t2)\n",
    "t3=np.array(range(4)).reshape(1,4)\n",
    "print(t1+t3)"
   ],
   "metadata": {
    "collapsed": false,
    "pycharm": {
     "name": "#%%\n"
    }
   }
  },
  {
   "cell_type": "code",
   "execution_count": 11,
   "outputs": [
    {
     "name": "stdout",
     "output_type": "stream",
     "text": [
      "[[ 0  1  2  3]\n",
      " [ 4  5  6  7]\n",
      " [ 8  9 10 11]]\n",
      "[12 15 18 21]\n",
      "[ 6 22 38]\n"
     ]
    }
   ],
   "source": [
    "t1=np.array(range(12)).reshape(3,4)\n",
    "print(t1)\n",
    "print(np.sum(t1,axis=0))\n",
    "print(np.sum(t1,axis=1))"
   ],
   "metadata": {
    "collapsed": false,
    "pycharm": {
     "name": "#%%\n"
    }
   }
  },
  {
   "cell_type": "code",
   "execution_count": 14,
   "outputs": [
    {
     "name": "stdout",
     "output_type": "stream",
     "text": [
      "[[[ 0  1  2]\n",
      "  [ 3  4  5]\n",
      "  [ 6  7  8]]\n",
      "\n",
      " [[ 9 10 11]\n",
      "  [12 13 14]\n",
      "  [15 16 17]]\n",
      "\n",
      " [[18 19 20]\n",
      "  [21 22 23]\n",
      "  [24 25 26]]]\n",
      "--------------------------------------------------\n",
      "[[27 30 33]\n",
      " [36 39 42]\n",
      " [45 48 51]]\n",
      "[[ 9 12 15]\n",
      " [36 39 42]\n",
      " [63 66 69]]\n",
      "[[ 3 12 21]\n",
      " [30 39 48]\n",
      " [57 66 75]]\n"
     ]
    }
   ],
   "source": [
    "t2=np.array(range(27)).reshape(3,3,3)\n",
    "print(t2)\n",
    "print('-'*50)\n",
    "print(np.sum(t2,axis=0))\n",
    "print(np.sum(t2,axis=1))\n",
    "print(np.sum(t2,axis=2)"
   ],
   "metadata": {
    "collapsed": false,
    "pycharm": {
     "name": "#%%\n"
    }
   }
  },
  {
   "cell_type": "code",
   "execution_count": 20,
   "outputs": [
    {
     "name": "stdout",
     "output_type": "stream",
     "text": [
      "[ 6  7  8  9 10 11]\n",
      "[[ 6  7  8  9 10 11]\n",
      " [12 13 14 15 16 17]]\n",
      "[[ 0  1  2  3  4  5]\n",
      " [12 13 14 15 16 17]]\n",
      "[ 1  7 13 19]\n",
      "[[ 1  2]\n",
      " [ 7  8]\n",
      " [13 14]\n",
      " [19 20]]\n",
      "[[ 0  2]\n",
      " [ 6  8]\n",
      " [12 14]\n",
      " [18 20]]\n",
      "[ 7  9 16]\n"
     ]
    }
   ],
   "source": [
    "t=np.arange(24).reshape(4,6)\n",
    "print(t[1])\n",
    "print(t[1:3])\n",
    "print(t[[0,2]])\n",
    "print(t[:,1])\n",
    "print(t[:,1:3])\n",
    "print(t[:,[0,2]])\n",
    "print(t[[1,1,2],[1,3,4]])"
   ],
   "metadata": {
    "collapsed": false,
    "pycharm": {
     "name": "#%%\n"
    }
   }
  },
  {
   "cell_type": "code",
   "execution_count": 24,
   "outputs": [
    {
     "name": "stdout",
     "output_type": "stream",
     "text": [
      "[[ 0  1  2  3  4  5]\n",
      " [ 0  0  0  0  0  0]\n",
      " [12 13 14 15 16 17]\n",
      " [18 19 20 21 22 23]]\n",
      "[[ 0  0  2  3  4  5]\n",
      " [ 0  0  0  0  0  0]\n",
      " [12  0 14 15 16 17]\n",
      " [18  0 20 21 22 23]]\n",
      "[[  0   0   2   3   4   5]\n",
      " [100 100 100 100 100 100]\n",
      " [100 100 100 100 100 100]\n",
      " [ 18   0  20  21  22  23]]\n",
      "[[  0 200 200   3   4   5]\n",
      " [100 200 200 100 100 100]\n",
      " [100 200 200 100 100 100]\n",
      " [ 18 200 200  21  22  23]]\n",
      "[[ 0  0  0  3  4  5]\n",
      " [ 0  0  0  0  0  0]\n",
      " [ 0  0  0  0  0  0]\n",
      " [18  0  0 21 22 23]]\n"
     ]
    }
   ],
   "source": [
    "t=np.arange(24).reshape(4,6)\n",
    "t[1]=0\n",
    "print(t)\n",
    "t[:,1]=0\n",
    "print(t)\n",
    "t[1:3]=100\n",
    "print(t)\n",
    "t[:,1:3]=200\n",
    "print(t)\n",
    "t[t>99]=0\n",
    "print(t)"
   ],
   "metadata": {
    "collapsed": false,
    "pycharm": {
     "name": "#%%\n"
    }
   }
  },
  {
   "cell_type": "code",
   "execution_count": 30,
   "outputs": [
    {
     "name": "stdout",
     "output_type": "stream",
     "text": [
      "[[ 0  1  2  3  4  5]\n",
      " [ 6  7  8  9 10 11]\n",
      " [12 13 14 15 16 17]\n",
      " [18 19 20 21 22 23]]\n",
      "[[0 0 2 3 4 5]\n",
      " [6 0 0 0 0 0]\n",
      " [0 0 0 0 0 0]\n",
      " [0 0 0 0 0 0]]\n",
      "[[1 1 2 3 4 4]\n",
      " [4 1 1 1 1 1]\n",
      " [1 1 1 1 1 1]\n",
      " [1 1 1 1 1 1]]\n",
      "[[False False False False  True  True]\n",
      " [ True False False False False False]\n",
      " [False False False False False False]\n",
      " [False False False False False False]]\n"
     ]
    }
   ],
   "source": [
    "t=np.arange(24).reshape(4,6)\n",
    "print(t)\n",
    "t[(t<2)|(t>6)]=0\n",
    "print(t)\n",
    "t=t.clip(1,4)\n",
    "print(t)\n",
    "result=np.where(t>3,True,False)\n",
    "print(result)"
   ],
   "metadata": {
    "collapsed": false,
    "pycharm": {
     "name": "#%%\n"
    }
   }
  },
  {
   "cell_type": "code",
   "execution_count": 37,
   "outputs": [
    {
     "name": "stdout",
     "output_type": "stream",
     "text": [
      "[[0 1 2]\n",
      " [3 4 5]]\n",
      "[0 1 2 3 4 5 6 7 8]\n",
      "[[0 1 2]\n",
      " [3 4 5]\n",
      " [6 7 8]]\n",
      "[[0 1 2 6 7]\n",
      " [3 4 5 8 9]]\n"
     ]
    }
   ],
   "source": [
    "a=np.arange(6).reshape(2,3)\n",
    "print(a)\n",
    "b=np.append(a,[6,7,8])\n",
    "print(b)\n",
    "c=np.append(a,[[6,7,8]],axis=0)\n",
    "print(c)\n",
    "d=np.append(a,[[6,7],[8,9]],axis=1)\n",
    "print(d)"
   ],
   "metadata": {
    "collapsed": false,
    "pycharm": {
     "name": "#%%\n"
    }
   }
  },
  {
   "cell_type": "code",
   "execution_count": 67,
   "outputs": [
    {
     "name": "stdout",
     "output_type": "stream",
     "text": [
      "[[0 1]\n",
      " [2 3]]\n",
      "[0 1 2 4 5 3]\n",
      "[[4 5]\n",
      " [0 1]\n",
      " [2 3]]\n",
      "[[0 4 1]\n",
      " [2 5 3]]\n"
     ]
    }
   ],
   "source": [
    "a=np.arange(4).reshape(2,2)\n",
    "print(a)\n",
    "b=np.insert(a,3,[4,5])\n",
    "print(b)\n",
    "c=np.insert(a,0,[4,5],axis=0)\n",
    "print(c)\n",
    "d=np.insert(a,1,[4,5],axis=1)\n",
    "print(d)"
   ],
   "metadata": {
    "collapsed": false,
    "pycharm": {
     "name": "#%%\n"
    }
   }
  },
  {
   "cell_type": "code",
   "execution_count": 45,
   "outputs": [
    {
     "name": "stdout",
     "output_type": "stream",
     "text": [
      "[[ 0  1  2  3]\n",
      " [ 4  5  6  7]\n",
      " [ 8  9 10 11]]\n",
      "[ 0  1  2  3  4  6  7  8  9 10 11]\n",
      "[[ 0  1  2  3]\n",
      " [ 8  9 10 11]]\n",
      "[[ 0  2  3]\n",
      " [ 4  6  7]\n",
      " [ 8 10 11]]\n"
     ]
    }
   ],
   "source": [
    "a=np.arange(12).reshape(3,4)\n",
    "print(a)\n",
    "b=np.delete(a,5)\n",
    "print(b)\n",
    "c=np.delete(a,1,axis=0)\n",
    "print(c)\n",
    "d=np.delete(a,1,axis=1)\n",
    "print(d)"
   ],
   "metadata": {
    "collapsed": false,
    "pycharm": {
     "name": "#%%\n"
    }
   }
  },
  {
   "cell_type": "code",
   "execution_count": 49,
   "outputs": [
    {
     "name": "stdout",
     "output_type": "stream",
     "text": [
      "[1 2 3 4 5 6]\n",
      "[ 0  3  6 11 12  9]\n",
      "[0 0 0 1 1 1 2 2 2 5 5 3 4 4]\n",
      "[3 3 3 1 2 2]\n"
     ]
    }
   ],
   "source": [
    "a=np.array([1,1,1,2,2,2,3,3,3,6,6,4,5,5])\n",
    "b=np.unique(a)\n",
    "print(b)\n",
    "b,index=np.unique(a,return_index=True)\n",
    "print(index)\n",
    "b,index=np.unique(a,return_inverse=True)\n",
    "print(index)\n",
    "b,index=np.unique(a,return_counts=True)\n",
    "print(index)"
   ],
   "metadata": {
    "collapsed": false,
    "pycharm": {
     "name": "#%%\n"
    }
   }
  },
  {
   "cell_type": "code",
   "execution_count": 68,
   "outputs": [
    {
     "name": "stdout",
     "output_type": "stream",
     "text": [
      "100\n",
      "[100  99]\n",
      "[[ 90  90  90  90 100  99]]\n",
      "87.83333333333333\n",
      "[ 85  82 100]\n",
      "[82.5 81.5 99.5]\n",
      "[[ 80  85]\n",
      " [161 167]\n",
      " [261 266]]\n"
     ]
    }
   ],
   "source": [
    "score=np.array([[80,85],[81,82],[100,99]])\n",
    "print(np.max(score))\n",
    "print(np.max(score,axis=0))\n",
    "score=score.reshape(1,6)\n",
    "print(np.maximum(score,90))\n",
    "print(np.mean(score))\n",
    "score=score.reshape(3,2)\n",
    "print(np.max(score,axis=1))\n",
    "print(np.mean(score,axis=1))\n",
    "score1=score.cumsum(0)\n",
    "print(score1)"
   ],
   "metadata": {
    "collapsed": false,
    "pycharm": {
     "name": "#%%\n"
    }
   }
  },
  {
   "cell_type": "code",
   "execution_count": 64,
   "outputs": [
    {
     "name": "stdout",
     "output_type": "stream",
     "text": [
      "[1 1 0]\n",
      "100\n"
     ]
    }
   ],
   "source": [
    "score=np.array([[80,85],[81,82],[100,99]])\n",
    "res=np.argmax(score,axis=1)\n",
    "print(res)\n",
    "res1=np.max(score)\n",
    "print(res1)"
   ],
   "metadata": {
    "collapsed": false,
    "pycharm": {
     "name": "#%%\n"
    }
   }
  },
  {
   "cell_type": "code",
   "execution_count": 73,
   "outputs": [
    {
     "name": "stdout",
     "output_type": "stream",
     "text": [
      "[[1 2]\n",
      " [3 4]\n",
      " [5 6]\n",
      " [7 8]]\n",
      "[[1 2 5 6]\n",
      " [3 4 7 8]]\n",
      "[[[1 2]\n",
      "  [3 4]]\n",
      "\n",
      " [[5 6]\n",
      "  [7 8]]]\n",
      "(2, 2, 2)\n",
      "[[[1 2]\n",
      "  [5 6]]\n",
      "\n",
      " [[3 4]\n",
      "  [7 8]]]\n",
      "[[[1 5]\n",
      "  [2 6]]\n",
      "\n",
      " [[3 7]\n",
      "  [4 8]]]\n"
     ]
    }
   ],
   "source": [
    "a=np.array([[1,2],[3,4]])\n",
    "b=np.array([[5,6],[7,8]])\n",
    "print(np.concatenate((a,b),axis=0))\n",
    "print(np.concatenate((a,b),axis=1))\n",
    "s=np.stack((a,b),axis=0)\n",
    "print(s)\n",
    "print(s.shape)\n",
    "s1=np.stack((a,b),axis=1)\n",
    "s2=np.stack((a,b),axis=2)\n",
    "print(s1)\n",
    "print(s2)"
   ],
   "metadata": {
    "collapsed": false,
    "pycharm": {
     "name": "#%%\n"
    }
   }
  },
  {
   "cell_type": "code",
   "execution_count": 76,
   "outputs": [
    {
     "name": "stdout",
     "output_type": "stream",
     "text": [
      "[[ 1  2  3  4  5  6]\n",
      " [ 7  8  9 10 11 12]\n",
      " [13 14 15 16 17 18]\n",
      " [19 20 21 22 23 24]]\n",
      "[[ 1  2  3  4  5  6 13 14 15 16 17 18]\n",
      " [ 7  8  9 10 11 12 19 20 21 22 23 24]]\n"
     ]
    }
   ],
   "source": [
    "c1=[[1,2,3,4,5,6],[7,8,9,10,11,12]]\n",
    "c2=[[13,14,15,16,17,18],[19,20,21,22,23,24]]\n",
    "s=np.vstack((c1,c2))\n",
    "print(s)\n",
    "s1=np.hstack((c1,c2))\n",
    "print(s1)"
   ],
   "metadata": {
    "collapsed": false,
    "pycharm": {
     "name": "#%%\n"
    }
   }
  },
  {
   "cell_type": "code",
   "execution_count": 85,
   "outputs": [
    {
     "name": "stdout",
     "output_type": "stream",
     "text": [
      "[array([[[0, 1, 2],\n",
      "        [3, 4, 5],\n",
      "        [6, 7, 8]]]), array([[[ 9, 10, 11],\n",
      "        [12, 13, 14],\n",
      "        [15, 16, 17]]]), array([[[18, 19, 20],\n",
      "        [21, 22, 23],\n",
      "        [24, 25, 26]]])]\n",
      "[array([[[ 0,  1,  2]],\n",
      "\n",
      "       [[ 9, 10, 11]],\n",
      "\n",
      "       [[18, 19, 20]]]), array([[[ 3,  4,  5]],\n",
      "\n",
      "       [[12, 13, 14]],\n",
      "\n",
      "       [[21, 22, 23]]]), array([[[ 6,  7,  8]],\n",
      "\n",
      "       [[15, 16, 17]],\n",
      "\n",
      "       [[24, 25, 26]]])]\n",
      "[array([[[ 0],\n",
      "        [ 3],\n",
      "        [ 6]],\n",
      "\n",
      "       [[ 9],\n",
      "        [12],\n",
      "        [15]],\n",
      "\n",
      "       [[18],\n",
      "        [21],\n",
      "        [24]]]), array([[[ 1],\n",
      "        [ 4],\n",
      "        [ 7]],\n",
      "\n",
      "       [[10],\n",
      "        [13],\n",
      "        [16]],\n",
      "\n",
      "       [[19],\n",
      "        [22],\n",
      "        [25]]]), array([[[ 2],\n",
      "        [ 5],\n",
      "        [ 8]],\n",
      "\n",
      "       [[11],\n",
      "        [14],\n",
      "        [17]],\n",
      "\n",
      "       [[20],\n",
      "        [23],\n",
      "        [26]]])]\n"
     ]
    }
   ],
   "source": [
    "a=np.arange(27).reshape(3,3,3)\n",
    "b=np.split(a,3)\n",
    "print(b)\n",
    "c=np.split(a,3,axis=1)\n",
    "print(c)\n",
    "d=np.split(a,3,axis=2)\n",
    "print(d)"
   ],
   "metadata": {
    "collapsed": false,
    "pycharm": {
     "name": "#%%\n"
    }
   }
  },
  {
   "cell_type": "code",
   "execution_count": 82,
   "outputs": [
    {
     "name": "stdout",
     "output_type": "stream",
     "text": [
      "[[6.25175295 1.14051064 2.93767836 7.29648781 7.13345475 9.9677307 ]\n",
      " [6.14451011 6.68748378 0.32777224 5.49404476 0.65270323 1.13412885]]\n",
      "[array([[6.25175295, 1.14051064, 2.93767836, 7.29648781, 7.13345475,\n",
      "        9.9677307 ]]), array([[6.14451011, 6.68748378, 0.32777224, 5.49404476, 0.65270323,\n",
      "        1.13412885]])]\n",
      "[array([[6.25175295, 1.14051064],\n",
      "       [6.14451011, 6.68748378]]), array([[2.93767836, 7.29648781],\n",
      "       [0.32777224, 5.49404476]]), array([[7.13345475, 9.9677307 ],\n",
      "       [0.65270323, 1.13412885]])]\n"
     ]
    }
   ],
   "source": [
    "a=10*np.random.random((2,6))\n",
    "print(a)\n",
    "print(np.vsplit(a,2))\n",
    "print(np.hsplit(a,3))\n",
    "#vsplit切断垂直轴"
   ],
   "metadata": {
    "collapsed": false,
    "pycharm": {
     "name": "#%%\n"
    }
   }
  },
  {
   "cell_type": "code",
   "execution_count": 93,
   "outputs": [
    {
     "name": "stdout",
     "output_type": "stream",
     "text": [
      "<class 'float'>\n",
      "<class 'float'>\n",
      "[[ 0.  1.  2.  3.  4.  5.]\n",
      " [ 6.  7.  8.  9. 10. 11.]\n",
      " [12. 13. 14. 15. 16. 17.]\n",
      " [18. 19. 20. 21. 22. 23.]]\n",
      "[[ 0.  1.  2.  3.  4.  5.]\n",
      " [ 6.  7.  8.  9. 10. 11.]\n",
      " [12. 13. 14. 15. 16. 17.]\n",
      " [18. 19. 20. 21. nan 23.]]\n",
      "23\n",
      "False\n",
      "1\n"
     ]
    }
   ],
   "source": [
    "a=np.inf\n",
    "b=np.nan\n",
    "print(type(a))\n",
    "print(type(b))\n",
    "t=np.arange(24,dtype=np.float32).reshape(4,6)\n",
    "print(t)\n",
    "t[3,4]=np.nan\n",
    "print(t)\n",
    "print(np.count_nonzero(t))\n",
    "print(np.nan==np.nan)\n",
    "print(np.count_nonzero(t!=t))"
   ],
   "metadata": {
    "collapsed": false,
    "pycharm": {
     "name": "#%%\n"
    }
   }
  },
  {
   "cell_type": "code",
   "execution_count": 99,
   "outputs": [
    {
     "name": "stdout",
     "output_type": "stream",
     "text": [
      "[[ 0.  1.  2.  3.  4.  5.]\n",
      " [ 6.  7.  8. nan nan nan]\n",
      " [12. 13. 14. 15. 16. 17.]\n",
      " [18. 19. 20. 21. 22. 23.]]\n",
      "[[ 0.  1.  2.  3.  4.  5.]\n",
      " [ 6.  7.  8. nan nan nan]\n",
      " [12. 13. 14. 15. 16. 17.]\n",
      " [18. 19. 20. 21. 22. 23.]]\n",
      "[[ 0.  1.  2.  3.  4.  5.]\n",
      " [ 6.  7.  8. 13. 14. 15.]\n",
      " [12. 13. 14. 15. 16. 17.]\n",
      " [18. 19. 20. 21. 22. 23.]]\n"
     ]
    }
   ],
   "source": [
    "t=np.arange(24).reshape(4,6).astype(float)\n",
    "t[1,3:]=np.nan\n",
    "print(t)\n",
    "t[t==np.nan]=np.mean(t)\n",
    "print(t)\n",
    "for i in range(t.shape[1]):\n",
    "    temp_col=t[:,i]\n",
    "    zero_count=np.count_nonzero(temp_col!=temp_col)\n",
    "    if zero_count!=0:\n",
    "        temp_col1=temp_col[temp_col==temp_col]\n",
    "        temp_col[temp_col!=temp_col]=np.mean(temp_col1)\n",
    "print(t)"
   ],
   "metadata": {
    "collapsed": false,
    "pycharm": {
     "name": "#%%\n"
    }
   }
  },
  {
   "cell_type": "code",
   "execution_count": 4,
   "outputs": [
    {
     "name": "stdout",
     "output_type": "stream",
     "text": [
      "[[ 0.  6. 12. 18.]\n",
      " [ 1.  7. 13. 19.]\n",
      " [ 2.  8. 14. 20.]\n",
      " [ 3.  9. 15. 21.]\n",
      " [ 4. 10. 16. 22.]\n",
      " [ 5. 11. 17. 23.]]\n",
      "[[ 0.  6. 12. 18.]\n",
      " [ 1.  7. 13. 19.]\n",
      " [ 2.  8. 14. 20.]\n",
      " [ 3.  9. 15. 21.]\n",
      " [ 4. 10. 16. 22.]\n",
      " [ 5. 11. 17. 23.]]\n",
      "(4, 6)\n"
     ]
    }
   ],
   "source": [
    "import numpy as np\n",
    "t=np.arange(24).reshape(4,6).astype(float)\n",
    "print(t.T)\n",
    "print(np.transpose(t))\n",
    "print(t.shape)"
   ],
   "metadata": {
    "collapsed": false,
    "pycharm": {
     "name": "#%%\n"
    }
   }
  },
  {
   "cell_type": "code",
   "execution_count": 12,
   "outputs": [
    {
     "name": "stdout",
     "output_type": "stream",
     "text": [
      "[[[1. 1. 1. 1. 1.]\n",
      "  [1. 1. 1. 1. 1.]\n",
      "  [1. 1. 1. 1. 1.]\n",
      "  [1. 1. 1. 1. 1.]]\n",
      "\n",
      " [[1. 1. 1. 1. 1.]\n",
      "  [1. 1. 1. 1. 1.]\n",
      "  [1. 1. 1. 1. 1.]\n",
      "  [1. 1. 1. 1. 1.]]\n",
      "\n",
      " [[1. 1. 1. 1. 1.]\n",
      "  [1. 1. 1. 1. 1.]\n",
      "  [1. 1. 1. 1. 1.]\n",
      "  [1. 1. 1. 1. 1.]]]\n",
      "[[[1. 1. 1. 1. 1.]\n",
      "  [1. 1. 1. 1. 1.]\n",
      "  [1. 1. 1. 1. 1.]]\n",
      "\n",
      " [[1. 1. 1. 1. 1.]\n",
      "  [1. 1. 1. 1. 1.]\n",
      "  [1. 1. 1. 1. 1.]]\n",
      "\n",
      " [[1. 1. 1. 1. 1.]\n",
      "  [1. 1. 1. 1. 1.]\n",
      "  [1. 1. 1. 1. 1.]]\n",
      "\n",
      " [[1. 1. 1. 1. 1.]\n",
      "  [1. 1. 1. 1. 1.]\n",
      "  [1. 1. 1. 1. 1.]]]\n",
      "(5, 3, 4, 6)\n"
     ]
    }
   ],
   "source": [
    "t=np.ones((3,4,5))\n",
    "print(t)\n",
    "\n",
    "t=t.swapaxes(1,0)\n",
    "print(t)\n",
    "\n",
    "t=np.ones((3,4,5,6))\n",
    "t=np.rollaxis(t,2,0)\n",
    "print(t.shape)"
   ],
   "metadata": {
    "collapsed": false,
    "pycharm": {
     "name": "#%%\n"
    }
   }
  }
 ],
 "metadata": {
  "kernelspec": {
   "name": "pycharm-a7ca9fd6",
   "language": "python",
   "display_name": "PyCharm (day32)"
  },
  "language_info": {
   "codemirror_mode": {
    "name": "ipython",
    "version": 2
   },
   "file_extension": ".py",
   "mimetype": "text/x-python",
   "name": "python",
   "nbconvert_exporter": "python",
   "pygments_lexer": "ipython2",
   "version": "2.7.6"
  },
  "pycharm": {
   "stem_cell": {
    "cell_type": "raw",
    "source": [
     "\n",
     "import numpy as np"
    ],
    "metadata": {
     "collapsed": false
    }
   }
  }
 },
 "nbformat": 4,
 "nbformat_minor": 0
}