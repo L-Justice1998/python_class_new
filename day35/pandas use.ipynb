{
 "cells": [
  {
   "cell_type": "code",
   "execution_count": 2,
   "outputs": [],
   "source": [
    "import pandas as pd\n",
    "import random\n",
    "import numpy as np"
   ],
   "metadata": {
    "collapsed": false,
    "pycharm": {
     "name": "#%%\n"
    }
   }
  },
  {
   "cell_type": "code",
   "execution_count": null,
   "outputs": [],
   "source": [
    "pd_data=pd.DataFrame(np.random.randn(5,5),\n",
    "                     columns=list('abcde'),index=list('abcde'))\n",
    "print(pd_data)\n",
    "# print(pd_data['a'])\n",
    "# print(pd_data.loc['a'])\n",
    "# print(pd_data.loc[:,'a'])\n",
    "print(pd_data.loc['a':'c','a':'c'])\n",
    "print(pd_data.loc[['a','c'],'a':'c'])\n",
    "print(pd_data.iloc[0:3,0:3])"
   ],
   "metadata": {
    "collapsed": false,
    "pycharm": {
     "name": "#%%\n"
    }
   }
  },
  {
   "cell_type": "code",
   "execution_count": 13,
   "outputs": [
    {
     "name": "stdout",
     "output_type": "stream",
     "text": [
      "0    0\n",
      "1    1\n",
      "2    2\n",
      "3    3\n",
      "4    4\n",
      "dtype: int64\n",
      "0    0\n",
      "1    1\n",
      "2    2\n",
      "3    3\n",
      "4    4\n",
      "5    5\n",
      "6    6\n",
      "7    7\n",
      "8    8\n",
      "9    9\n",
      "dtype: int64\n",
      "0    0.0\n",
      "1    2.0\n",
      "2    4.0\n",
      "3    6.0\n",
      "4    8.0\n",
      "5    NaN\n",
      "6    NaN\n",
      "7    NaN\n",
      "8    NaN\n",
      "9    NaN\n",
      "dtype: float64\n",
      "0    0.0\n",
      "1    2.0\n",
      "2    4.0\n",
      "3    6.0\n",
      "4    8.0\n",
      "5    5.0\n",
      "6    6.0\n",
      "7    7.0\n",
      "8    8.0\n",
      "9    9.0\n",
      "dtype: float64\n"
     ]
    }
   ],
   "source": [
    "s1=pd.Series(range(5))\n",
    "s2=pd.Series(range(10))\n",
    "print(s1)\n",
    "print(s2)\n",
    "s3=s1+s2\n",
    "print(s3)\n",
    "s4=s2.add(s1,fill_value=0)\n",
    "print(s4)"
   ],
   "metadata": {
    "collapsed": false,
    "pycharm": {
     "name": "#%%\n"
    }
   }
  },
  {
   "cell_type": "code",
   "execution_count": 21,
   "outputs": [
    {
     "name": "stdout",
     "output_type": "stream",
     "text": [
      "     a    b\n",
      "0  1.0  1.0\n",
      "1  1.0  1.0\n",
      "     a    b    c\n",
      "0  1.0  1.0  1.0\n",
      "1  1.0  1.0  1.0\n",
      "2  1.0  1.0  1.0\n",
      "     a    b   c\n",
      "0  0.0  0.0 NaN\n",
      "1  0.0  0.0 NaN\n",
      "2  NaN  NaN NaN\n",
      "     a    b    c\n",
      "0  0.0  0.0 -1.0\n",
      "1  0.0  0.0 -1.0\n",
      "2 -1.0 -1.0 -1.0\n"
     ]
    }
   ],
   "source": [
    "s1=pd.DataFrame(np.ones((2,2)),columns=list('ab'))\n",
    "s2=pd.DataFrame(np.ones((3,3)),columns=list('abc'))\n",
    "print(s1)\n",
    "print(s2)\n",
    "print(s1-s2)\n",
    "print(s1.sub(s2,fill_value=0))"
   ],
   "metadata": {
    "collapsed": false,
    "pycharm": {
     "name": "#%%\n"
    }
   }
  },
  {
   "cell_type": "code",
   "execution_count": 28,
   "outputs": [
    {
     "name": "stdout",
     "output_type": "stream",
     "text": [
      "          0         1         2         3\n",
      "0 -0.760386 -3.623133 -0.502356  0.366479\n",
      "1 -0.181137 -1.694143  0.510245 -1.786124\n",
      "2 -0.918121 -2.289797 -1.576127 -0.588575\n",
      "3  0.159380 -1.510539 -0.244735 -2.120333\n",
      "4  0.408473 -1.105805 -3.298234 -0.154352\n",
      "          0         1         2         3\n",
      "0  0.760386  3.623133  0.502356  0.366479\n",
      "1  0.181137  1.694143  0.510245  1.786124\n",
      "2  0.918121  2.289797  1.576127  0.588575\n",
      "3  0.159380  1.510539  0.244735  2.120333\n",
      "4  0.408473  1.105805  3.298234  0.154352\n",
      "0   -0.258358\n",
      "1   -2.044683\n",
      "2   -1.022242\n",
      "3   -0.856581\n",
      "dtype: float64\n",
      "0   -1.129849\n",
      "1   -0.787790\n",
      "2   -1.343155\n",
      "3   -0.929057\n",
      "4   -1.037479\n",
      "dtype: float64\n",
      "        0       1       2       3\n",
      "0  -0.760  -3.623  -0.502   0.366\n",
      "1  -0.181  -1.694   0.510  -1.786\n",
      "2  -0.918  -2.290  -1.576  -0.589\n",
      "3   0.159  -1.511  -0.245  -2.120\n",
      "4   0.408  -1.106  -3.298  -0.154\n"
     ]
    }
   ],
   "source": [
    "df=pd.DataFrame(np.random.randn(5,4)-1)\n",
    "print(df)\n",
    "print(np.abs(df))\n",
    "print(df.apply(lambda x:x.mean()))\n",
    "print(df.apply(lambda x:x.mean(),axis=1))\n",
    "print(df.applymap(lambda x:'%.3f'%x))"
   ],
   "metadata": {
    "collapsed": false,
    "pycharm": {
     "name": "#%%\n"
    }
   }
  },
  {
   "cell_type": "code",
   "execution_count": 36,
   "outputs": [
    {
     "name": "stdout",
     "output_type": "stream",
     "text": [
      "    0   1   2   3   4   5\n",
      "4  33  48  34  36  60  66\n",
      "3  35   2   7  61  77  41\n",
      "4  73   6  72  24  51  65\n",
      "5  54  14  94  59  34  78\n",
      "    0   1   2   3   4   5\n",
      "3  35   2   7  61  77  41\n",
      "4  33  48  34  36  60  66\n",
      "4  73   6  72  24  51  65\n",
      "5  54  14  94  59  34  78\n"
     ]
    }
   ],
   "source": [
    "data=[random.randint(1,100) for i in range(24)]\n",
    "index=[random.randint(1,5) for i in range(4)]\n",
    "df=pd.DataFrame(np.array(data).reshape(4,6),index=index)\n",
    "print(df)\n",
    "df=df.sort_index()\n",
    "print(df)"
   ],
   "metadata": {
    "collapsed": false,
    "pycharm": {
     "name": "#%%\n"
    }
   }
  },
  {
   "cell_type": "code",
   "execution_count": 39,
   "outputs": [
    {
     "name": "stdout",
     "output_type": "stream",
     "text": [
      "    0   1   2   3   4   5\n",
      "0  33  48  34  36  60  66\n",
      "1  35   2   7  61  77  41\n",
      "2  73   6  72  24  51  65\n",
      "3  54  14  94  59  34  78\n",
      "    0   1   2   3   4   5\n",
      "2  73   6  72  24  51  65\n",
      "0  33  48  34  36  60  66\n",
      "3  54  14  94  59  34  78\n",
      "1  35   2   7  61  77  41\n",
      "    4   3   5   0   2   1\n",
      "2  51  24  65  73  72   6\n",
      "0  60  36  66  33  34  48\n",
      "3  34  59  78  54  94  14\n",
      "1  77  61  41  35   7   2\n"
     ]
    }
   ],
   "source": [
    "df=pd.DataFrame(np.array(data).reshape(4,6))\n",
    "print(df)\n",
    "df=df.sort_values(by=3)\n",
    "print(df)\n",
    "df=df.sort_values(by=1,axis=1,ascending=False)\n",
    "print(df)"
   ],
   "metadata": {
    "collapsed": false,
    "pycharm": {
     "name": "#%%\n"
    }
   }
  },
  {
   "cell_type": "code",
   "execution_count": 50,
   "outputs": [
    {
     "name": "stdout",
     "output_type": "stream",
     "text": [
      "          0         1         2\n",
      "0 -1.331778  1.339475 -0.429799\n",
      "1  1.000000  2.000000       NaN\n",
      "2       NaN  4.000000       NaN\n",
      "3  1.000000  2.000000  3.000000\n",
      "       0      1      2\n",
      "0  False  False  False\n",
      "1  False  False   True\n",
      "2   True  False   True\n",
      "3  False  False  False\n",
      "          0         1         2\n",
      "0 -1.331778  1.339475 -0.429799\n",
      "3  1.000000  2.000000  3.000000\n",
      "          1\n",
      "0  1.339475\n",
      "1  2.000000\n",
      "2  4.000000\n",
      "3  2.000000\n",
      "            0         1           2\n",
      "0   -1.331778  1.339475   -0.429799\n",
      "1    1.000000  2.000000 -100.000000\n",
      "2 -100.000000  4.000000 -100.000000\n",
      "3    1.000000  2.000000    3.000000\n",
      "          0         1         2\n",
      "0 -1.331778  1.339475 -0.429799\n",
      "1  1.000000  2.000000       NaN\n",
      "2       NaN  4.000000       NaN\n",
      "3  1.000000  2.000000  3.000000\n"
     ]
    }
   ],
   "source": [
    "df=pd.DataFrame([np.random.randn(3),[1.,2.,np.nan],[np.nan,4.,np.nan],[1.,2.,3.]])\n",
    "print(df)\n",
    "print(df.isnull())\n",
    "print(df.dropna(inplace=False))\n",
    "print(df.dropna(inplace=False,axis=1))\n",
    "print(df.fillna(-100))\n",
    "print(df)"
   ],
   "metadata": {
    "collapsed": false,
    "pycharm": {
     "name": "#%%\n"
    }
   }
  },
  {
   "cell_type": "code",
   "execution_count": 27,
   "outputs": [
    {
     "name": "stdout",
     "output_type": "stream",
     "text": [
      "a  0    1.638955\n",
      "   1    0.614621\n",
      "   2   -0.410226\n",
      "b  0    1.012702\n",
      "   1    0.913445\n",
      "   2   -1.339299\n",
      "c  0    1.920850\n",
      "   1    1.627320\n",
      "   2    0.537338\n",
      "d  0    0.680060\n",
      "   1    1.742703\n",
      "   2   -0.850545\n",
      "dtype: float64\n",
      "a  0    1.638955\n",
      "b  0    1.012702\n",
      "c  0    1.920850\n",
      "d  0    0.680060\n",
      "a  1    0.614621\n",
      "b  1    0.913445\n",
      "c  1    1.627320\n",
      "d  1    1.742703\n",
      "a  2   -0.410226\n",
      "b  2   -1.339299\n",
      "c  2    0.537338\n",
      "d  2   -0.850545\n",
      "dtype: float64\n",
      "          a         b         c         d\n",
      "0  1.638955  1.012702  1.920850  0.680060\n",
      "1  0.614621  0.913445  1.627320  1.742703\n",
      "2 -0.410226 -1.339299  0.537338 -0.850545\n",
      "0  a    1.638955\n",
      "   b    1.012702\n",
      "   c    1.920850\n",
      "   d    0.680060\n",
      "1  a    0.614621\n",
      "   b    0.913445\n",
      "   c    1.627320\n",
      "   d    1.742703\n",
      "2  a   -0.410226\n",
      "   b   -1.339299\n",
      "   c    0.537338\n",
      "   d   -0.850545\n",
      "dtype: float64\n"
     ]
    }
   ],
   "source": [
    "index=pd.MultiIndex.from_arrays([list('aaabbbcccddd'),list('012012012012')])\n",
    "ob=pd.Series(np.random.randn(12),index=index)\n",
    "print(ob)\n",
    "# print(type(ob))\n",
    "# print(type(ob.index))\n",
    "# print(ob.index.levels)\n",
    "# print(ob['a'])\n",
    "# print(ob['a','1'])\n",
    "# print(ob[:,'1'])\n",
    "# ob=ob.swaplevel()\n",
    "# print(ob)\n",
    "print(ob.sort_index(level=1))\n",
    "ob=ob.unstack(0)\n",
    "print(ob)\n",
    "ob=ob.stack()\n",
    "print(ob)"
   ],
   "metadata": {
    "collapsed": false,
    "pycharm": {
     "name": "#%%\n"
    }
   }
  },
  {
   "cell_type": "code",
   "execution_count": 43,
   "outputs": [
    {
     "name": "stdout",
     "output_type": "stream",
     "text": [
      "          0         1         2\n",
      "0  1.506709 -0.243059  1.190529\n",
      "1  1.000000  2.000000       NaN\n",
      "2       NaN  4.000000       NaN\n",
      "3  1.000000  2.000000  3.000000\n",
      "0    1.000000\n",
      "1   -0.243059\n",
      "2    1.190529\n",
      "dtype: float64\n",
      "1.5067093838443433\n",
      "1\n",
      "0    0\n",
      "1    1\n",
      "2    1\n",
      "3    2\n",
      "dtype: int64\n"
     ]
    }
   ],
   "source": [
    "df=pd.DataFrame([np.random.randn(3),[1.,2.,np.nan],[np.nan,4.,np.nan],[1.,2.,3.]])\n",
    "print(df)\n",
    "print(df.min(axis=0,skipna=True))\n",
    "# print(df.describe())\n",
    "print(df.iloc[0,0])\n",
    "print(df.iloc[0].argmin())\n",
    "print(df.idxmax(axis=1))"
   ],
   "metadata": {
    "collapsed": false,
    "pycharm": {
     "name": "#%%\n"
    }
   }
  }
 ],
 "metadata": {
  "kernelspec": {
   "name": "pycharm-a7ca9fd6",
   "language": "python",
   "display_name": "PyCharm (day32)"
  },
  "language_info": {
   "codemirror_mode": {
    "name": "ipython",
    "version": 2
   },
   "file_extension": ".py",
   "mimetype": "text/x-python",
   "name": "python",
   "nbconvert_exporter": "python",
   "pygments_lexer": "ipython2",
   "version": "2.7.6"
  }
 },
 "nbformat": 4,
 "nbformat_minor": 0
}