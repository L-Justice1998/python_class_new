{
 "cells": [
  {
   "cell_type": "code",
   "execution_count": 1,
   "id": "0dfb6f2c",
   "metadata": {},
   "outputs": [],
   "source": [
    "import matplotlib as mpl\n",
    "import matplotlib.pyplot as plt\n",
    "%matplotlib inline\n",
    "import numpy as np\n",
    "import sklearn\n",
    "import pandas as pd\n",
    "import os\n",
    "import sys\n",
    "import time\n",
    "import tensorflow as tf\n",
    "from tensorflow import keras"
   ]
  },
  {
   "cell_type": "code",
   "execution_count": 3,
   "id": "8c1ead7c",
   "metadata": {},
   "outputs": [
    {
     "name": "stdout",
     "output_type": "stream",
     "text": [
      "2.9.1\n",
      "sys.version_info(major=3, minor=9, micro=7, releaselevel='final', serial=0)\n",
      "matplotlib 3.4.3\n",
      "numpy 1.20.3\n",
      "pandas 1.3.4\n",
      "sklearn 0.24.2\n",
      "tensorflow 2.9.1\n",
      "keras.api._v2.keras 2.9.0\n"
     ]
    }
   ],
   "source": [
    "print(tf.__version__)\n",
    "print(sys.version_info)\n",
    "for module in mpl,np,pd,sklearn,tf,keras:\n",
    "    print(module.__name__,module.__version__)"
   ]
  },
  {
   "cell_type": "code",
   "execution_count": 6,
   "id": "fd307ddc",
   "metadata": {},
   "outputs": [
    {
     "name": "stdout",
     "output_type": "stream",
     "text": [
      "Downloading data from https://storage.googleapis.com/tensorflow/tf-keras-datasets/train-labels-idx1-ubyte.gz\n",
      "29515/29515 [==============================] - 0s 2us/step\n",
      "Downloading data from https://storage.googleapis.com/tensorflow/tf-keras-datasets/train-images-idx3-ubyte.gz\n",
      "26421880/26421880 [==============================] - 4s 0us/step\n",
      "Downloading data from https://storage.googleapis.com/tensorflow/tf-keras-datasets/t10k-labels-idx1-ubyte.gz\n",
      "5148/5148 [==============================] - 0s 0s/step\n",
      "Downloading data from https://storage.googleapis.com/tensorflow/tf-keras-datasets/t10k-images-idx3-ubyte.gz\n",
      "4422102/4422102 [==============================] - 3s 1us/step\n",
      "(55000, 28, 28) (55000,)\n",
      "(5000, 28, 28) (5000,)\n",
      "(10000, 28, 28) (10000,)\n"
     ]
    }
   ],
   "source": [
    "(x_train_all,y_train_all),(x_test,y_test)=fashion_mnist.load_data()\n",
    "x_valid,x_train=x_train_all[:5000],x_train_all[5000:]\n",
    "y_valid,y_train=y_train_all[:5000],y_train_all[5000:]\n",
    "print(x_train.shape,y_train.shape)\n",
    "print(x_valid.shape,y_valid.shape)\n",
    "print(x_test.shape,y_test.shape)"
   ]
  },
  {
   "cell_type": "code",
   "execution_count": 7,
   "id": "5cec340f",
   "metadata": {},
   "outputs": [
    {
     "name": "stdout",
     "output_type": "stream",
     "text": [
      "<class 'numpy.ndarray'>\n"
     ]
    }
   ],
   "source": [
    "print(type(x_train))"
   ]
  },
  {
   "cell_type": "code",
   "execution_count": 8,
   "id": "60b4b3cd",
   "metadata": {},
   "outputs": [],
   "source": [
    "def show_single_image(img_arr):\n",
    "    plt.imshow(img_arr,cmap='binary')\n",
    "    plt.colorbar()\n",
    "    plt.show()\n",
    "    "
   ]
  },
  {
   "cell_type": "code",
   "execution_count": 9,
   "id": "62a5ef44",
   "metadata": {},
   "outputs": [
    {
     "name": "stdout",
     "output_type": "stream",
     "text": [
      "[[  0   0   0   0   0   0   0   0   0   0   0   0   0   0   0   0   0   0\n",
      "    0   1   0   0   0   0   0   0   0   0]\n",
      " [  0   0   0   0   0   0   0   0   0   0   0  44 127 182 185 161 120  55\n",
      "    0   0   0   0   0   0   0   0   0   0]\n",
      " [  0   0   0   0   0   0   0   0   0  42 198 251 255 251 249 247 255 252\n",
      "  214 100   0   0   0   0   0   0   0   0]\n",
      " [  0   0   0   0   0   0   2   0   0 233 252 237 239 234 237 235 237 237\n",
      "  254 227   0   0   0   0   1   0   0   0]\n",
      " [  0   0   0   0   0   2   0   0  16 210 225 215 175 217 216 193 196 226\n",
      "  221 209  50   0   0   2   0   0   0   0]\n",
      " [  0   0   0   0   2   0   0 199 229 232 230 245 204 219 253 245 207 194\n",
      "  223 231 236 235   0   0   3   0   0   0]\n",
      " [  0   0   0   0   1   0 137 235 204 209 201 209 234 190 234 218 215 238\n",
      "  239 204 189 224 154   0   0   0   0   0]\n",
      " [  0   0   0   0   0   0 194 201 200 209 202 193 205 194 183 218 231 197\n",
      "  172 181 193 205 199   0   0   0   0   0]\n",
      " [  0   0   0   0   0   3 212 203 188 189 196 198 198 201 196 217 179 167\n",
      "  183 217 197 202 219  30   0   0   0   0]\n",
      " [  0   0   0   0   0  34 225 200 194 190 188 192 196 192 170 202 190 201\n",
      "  195 200 201 209 227  50   0   0   0   0]\n",
      " [  0   0   0   0   0  68 225 210 211 198 192 196 204 196 181 212 197 195\n",
      "  192 206 220 210 229  93   0   0   0   0]\n",
      " [  0   0   0   0   0 111 223 227 253 209 196 204 211 206 183 216 206 210\n",
      "  203 215 244 224 227 150   0   0   0   0]\n",
      " [  0   0   0   0   0 139 225 224 255 202 206 212 209 211 190 213 202 207\n",
      "  206 222 255 230 220 190   0   0   0   0]\n",
      " [  0   0   0   0   0 180 226 224 255 199 204 207 214 214 190 216 206 203\n",
      "  205 219 243 224 214 234   0   0   0   0]\n",
      " [  0   0   0   0   0 225 223 228 254 209 206 208 213 210 191 215 207 204\n",
      "  208 211 249 226 214 255  38   0   0   0]\n",
      " [  0   0   0   0   0 250 232 240 239 211 203 209 205 211 197 215 208 208\n",
      "  214 213 239 231 219 255  81   0   0   0]\n",
      " [  0   0   0   0   0 248 236 247 240 203 200 208 206 214 193 213 212 208\n",
      "  212 211 243 242 225 254  66   0   0   0]\n",
      " [  0   0   0   0   0 247 230 252 226 199 211 202 211 213 182 213 212 206\n",
      "  202 219 207 247 222 237 104   0   0   0]\n",
      " [  0   0   0   0  10 244 219 250 205 199 209 202 209 211 189 214 206 210\n",
      "  200 212 154 240 208 219 140   0   0   0]\n",
      " [  0   0   0   0  21 255 222 238 184 210 192 206 209 210 189 213 211 209\n",
      "  192 228 155 226 238 241 166   0   0   0]\n",
      " [  0   0   0   0  37 245 226 241 150 197 189 204 209 210 183 213 213 201\n",
      "  184 215 146 216 236 225 154   0   0   0]\n",
      " [  0   0   0   0  58 239 227 255 158 193 195 204 209 213 180 207 217 199\n",
      "  194 211 158 219 236 216 151   0   0   0]\n",
      " [  0   0   0   0  68 233 226 243 139 200 193 205 210 208 180 205 212 203\n",
      "  196 216 157 179 255 216 155   0   0   0]\n",
      " [  0   0   0   0  81 225 224 211 138 219 185 201 213 207 197 226 212 200\n",
      "  190 215 183  90 255 211 147   0   0   0]\n",
      " [  0   0   0   0  91 210 230 158 114 205 187 208 209 206 193 210 211 204\n",
      "  195 204 181  23 255 213 158   0   0   0]\n",
      " [  0   0   0   0  87 205 232 109 164 255 214 224 222 210 197 214 225 222\n",
      "  211 220 217   0 234 216 169   0   0   0]\n",
      " [  0   0   0   0  92 213 232 146   5 134 151 162 170 183 182 164 166 178\n",
      "  162 156  98   0 240 225 210   0   0   0]\n",
      " [  0   0   0   0  43 164 206 141   0   0   0   0   0   0   0   0   0   0\n",
      "    0   0   0   0 127 125  76   0   0   0]]\n"
     ]
    },
    {
     "data": {
      "image/png": "[encoded data removed]",
      "text/plain": [
       "<Figure size 432x288 with 2 Axes>"
      ]
     },
     "metadata": {
      "needs_background": "light"
     },
     "output_type": "display_data"
    }
   ],
   "source": [
    "print(x_train[0])\n",
    "show_single_image(x_train[0])"
   ]
  },
  {
   "cell_type": "code",
   "execution_count": 10,
   "id": "2db739f7",
   "metadata": {},
   "outputs": [
    {
     "data": {
      "image/png": "[encoded data removed]",
      "text/plain": [
       "<Figure size 432x288 with 2 Axes>"
      ]
     },
     "metadata": {
      "needs_background": "light"
     },
     "output_type": "display_data"
    }
   ],
   "source": [
    "show_single_image(x_train[1])"
   ]
  },
  {
   "cell_type": "code",
   "execution_count": 12,
   "id": "1a168662",
   "metadata": {},
   "outputs": [],
   "source": [
    "def show_imgs(n_rows,n_cols,x_data,y_data,class_names):\n",
    "    assert len(x_data)==len(y_data)\n",
    "    assert n_rows*n_cols<len(x_data)\n",
    "    plt.figure(figsize=(n_cols*1.4,n_rows*1.6))\n",
    "    for row in range(n_rows):\n",
    "        for col in range(n_cols):\n",
    "            index=n_cols*row+col\n",
    "            plt.subplot(n_rows,n_cols,index+1)\n",
    "            plt.imshow(x_data[index],cmap='binary',interpolation='nearest')\n",
    "            plt.axis('off')\n",
    "            plt.title(class_names[y_data[index]])\n",
    "    plt.show()\n",
    "            \n",
    "            "
   ]
  },
  {
   "cell_type": "code",
   "execution_count": 13,
   "id": "51739922",
   "metadata": {},
   "outputs": [
    {
     "data": {
      "image/png": "[encoded data removed]",
      "text/plain": [
       "<Figure size 504x345.6 with 15 Axes>"
      ]
     },
     "metadata": {
      "needs_background": "light"
     },
     "output_type": "display_data"
    }
   ],
   "source": [
    "class_names=['T-shirt', 'Trouser', 'Pullover', 'Dress',\n",
    "               'Coat', 'Sandal', 'Shirt', 'Sneaker',\n",
    "               'Bag', 'Ankle boot']\n",
    "show_imgs(3,5,x_train,y_train,class_names)"
   ]
  },
  {
   "cell_type": "code",
   "execution_count": 14,
   "id": "c79916a5",
   "metadata": {},
   "outputs": [
    {
     "data": {
      "text/plain": [
       "<keras.engine.sequential.Sequential at 0x1bf4fd96790>"
      ]
     },
     "execution_count": 14,
     "metadata": {},
     "output_type": "execute_result"
    }
   ],
   "source": [
    "tf.keras.models.Sequential()"
   ]
  },
  {
   "cell_type": "code",
   "execution_count": 15,
   "id": "add64325",
   "metadata": {},
   "outputs": [
    {
     "name": "stdout",
     "output_type": "stream",
     "text": [
      "(None, 784)\n"
     ]
    }
   ],
   "source": [
    "model=keras.models.Sequential()\n",
    "model.add(keras.layers.Flatten(input_shape=[28,28]))\n",
    "print(model.output.shape)"
   ]
  },
  {
   "cell_type": "code",
   "execution_count": 16,
   "id": "8f15a0cf",
   "metadata": {},
   "outputs": [
    {
     "data": {
      "text/plain": [
       "[<keras.layers.reshaping.flatten.Flatten at 0x1bf5945bfd0>,\n",
       " <keras.layers.core.dense.Dense at 0x1bf59edca00>,\n",
       " <keras.layers.core.dense.Dense at 0x1bf59edcb80>,\n",
       " <keras.layers.core.dense.Dense at 0x1bf59ed7d60>]"
      ]
     },
     "execution_count": 16,
     "metadata": {},
     "output_type": "execute_result"
    }
   ],
   "source": [
    "model.add(keras.layers.Dense(300,activation='relu'))\n",
    "model.add(keras.layers.Dense(100,activation='relu'))\n",
    "model.add(keras.layers.Dense(10,activation='softmax'))\n",
    "model.compile(loss='sparse_categorical_crossentropy',optimizer=keras.optimizers.SGD(0.001),metrics=['accuracy'])\n",
    "model.layers"
   ]
  },
  {
   "cell_type": "code",
   "execution_count": 17,
   "id": "11b959eb",
   "metadata": {},
   "outputs": [
    {
     "name": "stdout",
     "output_type": "stream",
     "text": [
      "Model: \"sequential_1\"\n",
      "_________________________________________________________________\n",
      " Layer (type)                Output Shape              Param #   \n",
      "=================================================================\n",
      " flatten (Flatten)           (None, 784)               0         \n",
      "                                                                 \n",
      " dense (Dense)               (None, 300)               235500    \n",
      "                                                                 \n",
      " dense_1 (Dense)             (None, 100)               30100     \n",
      "                                                                 \n",
      " dense_2 (Dense)             (None, 10)                1010      \n",
      "                                                                 \n",
      "=================================================================\n",
      "Total params: 266,610\n",
      "Trainable params: 266,610\n",
      "Non-trainable params: 0\n",
      "_________________________________________________________________\n"
     ]
    }
   ],
   "source": [
    "model.summary()"
   ]
  },
  {
   "cell_type": "code",
   "execution_count": 18,
   "id": "32e87e9a",
   "metadata": {},
   "outputs": [
    {
     "data": {
      "text/plain": [
       "[<tf.Variable 'dense/kernel:0' shape=(784, 300) dtype=float32, numpy=\n",
       " array([[-0.05643701,  0.06869526, -0.06090026, ...,  0.04143918,\n",
       "         -0.00022522,  0.0018408 ],\n",
       "        [-0.01361173,  0.04341464,  0.07269457, ...,  0.06063764,\n",
       "         -0.06199852, -0.02631827],\n",
       "        [-0.0334201 ,  0.04481   , -0.05806792, ...,  0.04822761,\n",
       "          0.04010144,  0.01919732],\n",
       "        ...,\n",
       "        [-0.03465187,  0.02058978,  0.04164493, ..., -0.03175801,\n",
       "         -0.04293377, -0.01668572],\n",
       "        [ 0.00087432,  0.03815623, -0.02094629, ..., -0.0305095 ,\n",
       "         -0.0492199 ,  0.0189482 ],\n",
       "        [ 0.00465711,  0.06438839,  0.051856  , ..., -0.06959593,\n",
       "          0.04375515, -0.05069491]], dtype=float32)>,\n",
       " <tf.Variable 'dense/bias:0' shape=(300,) dtype=float32, numpy=\n",
       " array([0., 0., 0., 0., 0., 0., 0., 0., 0., 0., 0., 0., 0., 0., 0., 0., 0.,\n",
       "        0., 0., 0., 0., 0., 0., 0., 0., 0., 0., 0., 0., 0., 0., 0., 0., 0.,\n",
       "        0., 0., 0., 0., 0., 0., 0., 0., 0., 0., 0., 0., 0., 0., 0., 0., 0.,\n",
       "        0., 0., 0., 0., 0., 0., 0., 0., 0., 0., 0., 0., 0., 0., 0., 0., 0.,\n",
       "        0., 0., 0., 0., 0., 0., 0., 0., 0., 0., 0., 0., 0., 0., 0., 0., 0.,\n",
       "        0., 0., 0., 0., 0., 0., 0., 0., 0., 0., 0., 0., 0., 0., 0., 0., 0.,\n",
       "        0., 0., 0., 0., 0., 0., 0., 0., 0., 0., 0., 0., 0., 0., 0., 0., 0.,\n",
       "        0., 0., 0., 0., 0., 0., 0., 0., 0., 0., 0., 0., 0., 0., 0., 0., 0.,\n",
       "        0., 0., 0., 0., 0., 0., 0., 0., 0., 0., 0., 0., 0., 0., 0., 0., 0.,\n",
       "        0., 0., 0., 0., 0., 0., 0., 0., 0., 0., 0., 0., 0., 0., 0., 0., 0.,\n",
       "        0., 0., 0., 0., 0., 0., 0., 0., 0., 0., 0., 0., 0., 0., 0., 0., 0.,\n",
       "        0., 0., 0., 0., 0., 0., 0., 0., 0., 0., 0., 0., 0., 0., 0., 0., 0.,\n",
       "        0., 0., 0., 0., 0., 0., 0., 0., 0., 0., 0., 0., 0., 0., 0., 0., 0.,\n",
       "        0., 0., 0., 0., 0., 0., 0., 0., 0., 0., 0., 0., 0., 0., 0., 0., 0.,\n",
       "        0., 0., 0., 0., 0., 0., 0., 0., 0., 0., 0., 0., 0., 0., 0., 0., 0.,\n",
       "        0., 0., 0., 0., 0., 0., 0., 0., 0., 0., 0., 0., 0., 0., 0., 0., 0.,\n",
       "        0., 0., 0., 0., 0., 0., 0., 0., 0., 0., 0., 0., 0., 0., 0., 0., 0.,\n",
       "        0., 0., 0., 0., 0., 0., 0., 0., 0., 0., 0.], dtype=float32)>,\n",
       " <tf.Variable 'dense_1/kernel:0' shape=(300, 100) dtype=float32, numpy=\n",
       " array([[ 0.02984587,  0.08877919,  0.113367  , ...,  0.10076285,\n",
       "          0.11547024,  0.05504017],\n",
       "        [ 0.03751681,  0.06581032,  0.08315887, ..., -0.10606392,\n",
       "         -0.07496895, -0.1095032 ],\n",
       "        [ 0.10275378, -0.09295309, -0.0347515 , ...,  0.02879957,\n",
       "         -0.02051471,  0.00135512],\n",
       "        ...,\n",
       "        [-0.08140538,  0.10271121,  0.06803257, ...,  0.01725761,\n",
       "         -0.0680535 , -0.09063883],\n",
       "        [-0.02543661,  0.02015161,  0.11788774, ...,  0.08458228,\n",
       "          0.01146113,  0.02509456],\n",
       "        [ 0.09450268,  0.06853987, -0.09535638, ..., -0.02738864,\n",
       "         -0.00923021, -0.10498474]], dtype=float32)>,\n",
       " <tf.Variable 'dense_1/bias:0' shape=(100,) dtype=float32, numpy=\n",
       " array([0., 0., 0., 0., 0., 0., 0., 0., 0., 0., 0., 0., 0., 0., 0., 0., 0.,\n",
       "        0., 0., 0., 0., 0., 0., 0., 0., 0., 0., 0., 0., 0., 0., 0., 0., 0.,\n",
       "        0., 0., 0., 0., 0., 0., 0., 0., 0., 0., 0., 0., 0., 0., 0., 0., 0.,\n",
       "        0., 0., 0., 0., 0., 0., 0., 0., 0., 0., 0., 0., 0., 0., 0., 0., 0.,\n",
       "        0., 0., 0., 0., 0., 0., 0., 0., 0., 0., 0., 0., 0., 0., 0., 0., 0.,\n",
       "        0., 0., 0., 0., 0., 0., 0., 0., 0., 0., 0., 0., 0., 0., 0.],\n",
       "       dtype=float32)>,\n",
       " <tf.Variable 'dense_2/kernel:0' shape=(100, 10) dtype=float32, numpy=\n",
       " array([[ 1.72297895e-01, -7.97370672e-02, -1.40845537e-01,\n",
       "          1.98927492e-01, -9.67882425e-02,  1.27820194e-01,\n",
       "          1.91435039e-01,  8.84829760e-02, -7.72462785e-02,\n",
       "          3.55218053e-02],\n",
       "        [-9.89708304e-03, -5.96168935e-02, -1.01027638e-01,\n",
       "         -2.08474591e-01, -1.15592979e-01, -1.30163997e-01,\n",
       "          5.19050658e-02,  6.28907084e-02,  2.27933526e-01,\n",
       "          1.84324622e-01],\n",
       "        [ 1.56693131e-01, -4.60009426e-02,  9.93845463e-02,\n",
       "          9.05864239e-02, -4.38495278e-02,  7.38982558e-02,\n",
       "          1.02625787e-01, -7.36202300e-03, -3.59986275e-02,\n",
       "          1.02019459e-01],\n",
       "        [-1.92021221e-01, -1.26917928e-01, -3.21770757e-02,\n",
       "          8.12593102e-03,  3.92940640e-03,  1.69098586e-01,\n",
       "          1.19764507e-01, -2.81663090e-02,  1.42873377e-01,\n",
       "         -1.04447782e-01],\n",
       "        [ 2.01205343e-01,  2.77165174e-02, -1.17407009e-01,\n",
       "          4.82690334e-03,  6.83570504e-02, -2.10813701e-01,\n",
       "         -1.44273043e-04, -1.41545743e-01, -6.95304573e-02,\n",
       "          1.53287858e-01],\n",
       "        [ 1.19173914e-01,  1.58284426e-01, -1.24898039e-01,\n",
       "          3.31927836e-02, -2.10107654e-01,  8.80914032e-02,\n",
       "         -2.87918448e-02, -2.07017928e-01,  2.01205283e-01,\n",
       "         -7.01855570e-02],\n",
       "        [-9.35221314e-02, -9.20959860e-02, -1.30646378e-02,\n",
       "         -5.24558276e-02, -4.79061753e-02,  1.76319510e-01,\n",
       "         -4.19095159e-03, -1.35884270e-01,  1.35420889e-01,\n",
       "         -6.47233129e-02],\n",
       "        [-1.84425279e-01, -1.54047593e-01, -4.38819975e-02,\n",
       "          1.12826347e-01, -3.75914723e-02, -3.71004641e-02,\n",
       "         -5.75625449e-02,  5.19922674e-02,  8.42833519e-03,\n",
       "          1.40436381e-01],\n",
       "        [ 1.47655129e-01,  2.33533978e-02, -1.55425400e-01,\n",
       "         -2.10515141e-01, -1.56237692e-01, -6.69488907e-02,\n",
       "         -1.50382280e-01, -1.94159433e-01,  4.78068292e-02,\n",
       "         -1.10558994e-01],\n",
       "        [-2.24912822e-01,  1.48710907e-02, -1.28962144e-01,\n",
       "         -1.43086031e-01,  6.34433329e-02, -1.82567492e-01,\n",
       "          4.75613475e-02,  4.53573763e-02, -8.07183683e-02,\n",
       "         -5.70136756e-02],\n",
       "        [ 1.53529286e-01,  1.74434543e-01, -8.45712423e-03,\n",
       "         -7.60772824e-02, -2.00159177e-01,  1.24079615e-01,\n",
       "          1.27943546e-01,  1.44960135e-01,  1.49762422e-01,\n",
       "         -6.44971430e-03],\n",
       "        [ 1.86999768e-01,  1.92739069e-02,  1.23402566e-01,\n",
       "          1.74626201e-01, -4.33262289e-02,  7.23485947e-02,\n",
       "          1.78059697e-01,  2.68875659e-02,  1.76116765e-01,\n",
       "          1.02850974e-01],\n",
       "        [-4.50172573e-02, -1.14567198e-01,  4.92540002e-03,\n",
       "          2.09238619e-01,  1.73279345e-01,  1.67024702e-01,\n",
       "          7.43781328e-02, -2.03581706e-01, -8.94347429e-02,\n",
       "         -1.03415370e-01],\n",
       "        [ 1.14456385e-01,  1.48417860e-01,  9.48373377e-02,\n",
       "          9.85722542e-02,  8.84248316e-02, -1.28696084e-01,\n",
       "         -1.74985021e-01,  2.31192648e-01,  7.04405308e-02,\n",
       "          7.77305365e-02],\n",
       "        [-1.73772588e-01, -7.06835836e-02,  1.70172870e-01,\n",
       "          1.33282214e-01,  2.74617076e-02, -2.81798989e-02,\n",
       "         -1.48269027e-01, -2.20194772e-01,  2.15010613e-01,\n",
       "          8.66264403e-02],\n",
       "        [-1.50597066e-01, -9.30405855e-02, -1.71977937e-01,\n",
       "          9.36900079e-02, -1.05368927e-01,  3.41715813e-02,\n",
       "         -8.71773809e-02, -1.17066115e-01, -2.15160564e-01,\n",
       "          6.93965852e-02],\n",
       "        [-2.45658755e-02,  1.81020141e-01, -2.09437758e-02,\n",
       "          2.22814530e-01, -1.90913424e-01,  1.70747817e-01,\n",
       "          5.95119298e-02,  1.34785593e-01, -1.20940067e-01,\n",
       "         -1.25536054e-01],\n",
       "        [-1.59826547e-01, -1.27465844e-01, -2.65382677e-02,\n",
       "         -1.18057877e-01,  2.60151327e-02, -1.10873714e-01,\n",
       "          1.37907326e-01,  2.01482415e-01,  1.63607359e-01,\n",
       "         -5.86385429e-02],\n",
       "        [ 2.13450670e-01, -2.15202212e-01, -8.19380432e-02,\n",
       "          2.28261292e-01, -1.97386682e-01, -1.50009781e-01,\n",
       "          1.62549317e-01, -1.55059516e-01,  8.21618140e-02,\n",
       "          8.90267193e-02],\n",
       "        [-1.77780017e-01,  1.06911659e-02,  2.13093013e-01,\n",
       "          2.28121012e-01, -6.69147670e-02,  1.94455326e-01,\n",
       "          8.29801261e-02,  1.69342548e-01, -1.52842671e-01,\n",
       "         -1.69272214e-01],\n",
       "        [ 1.97883546e-02,  1.71253115e-01, -2.26857811e-01,\n",
       "          4.70272303e-02,  4.39577699e-02,  1.64649278e-01,\n",
       "         -2.59224176e-02, -1.86719686e-01, -2.07743347e-02,\n",
       "          8.29180479e-02],\n",
       "        [ 3.11961174e-02, -1.47735536e-01,  3.88247371e-02,\n",
       "         -4.99315709e-02,  1.71920210e-01, -5.43210357e-02,\n",
       "         -9.27185714e-02,  1.12068504e-01, -4.59179729e-02,\n",
       "         -7.71379769e-02],\n",
       "        [ 1.74553305e-01, -7.96421319e-02,  4.33127582e-02,\n",
       "         -2.11656019e-01,  6.17350042e-02,  1.00085944e-01,\n",
       "          1.97320491e-01,  8.15207064e-02, -2.26778388e-02,\n",
       "          7.63262808e-03],\n",
       "        [ 2.17530459e-01, -1.38700306e-01,  7.15197623e-02,\n",
       "         -1.40584320e-01, -8.75978321e-02,  4.32734489e-02,\n",
       "          1.77639306e-01,  6.55939579e-02,  1.40900552e-01,\n",
       "         -1.27209485e-01],\n",
       "        [-1.94532335e-01, -2.61367857e-03, -1.84051037e-01,\n",
       "          8.53984356e-02,  1.70527846e-01, -1.83382958e-01,\n",
       "          1.27851099e-01, -1.29080921e-01,  1.00076973e-01,\n",
       "          9.21476483e-02],\n",
       "        [ 1.34225041e-01,  1.44315213e-01,  1.45680010e-01,\n",
       "          1.13721818e-01, -3.49978954e-02,  1.12672925e-01,\n",
       "          2.16261566e-01, -1.63670927e-01, -1.64947569e-01,\n",
       "          1.61951631e-02],\n",
       "        [ 8.20165575e-02,  1.72285199e-01,  1.23642117e-01,\n",
       "         -3.73229384e-03,  3.08246017e-02, -1.13036871e-01,\n",
       "         -1.78219736e-01,  1.27278805e-01, -1.16519257e-01,\n",
       "         -2.04043761e-01],\n",
       "        [-1.76986262e-01, -2.18667895e-01,  1.18493646e-01,\n",
       "         -1.31834984e-01, -8.00397992e-03, -6.20703250e-02,\n",
       "          1.64866894e-01, -6.95894212e-02, -1.70442820e-01,\n",
       "         -1.20044969e-01],\n",
       "        [-1.89217389e-01, -9.49520618e-02, -1.19682811e-01,\n",
       "          7.05838501e-02,  8.81881714e-02, -1.56675979e-01,\n",
       "         -2.12046519e-01,  2.32757032e-02,  1.12512171e-01,\n",
       "          4.88385558e-04],\n",
       "        [ 2.61998177e-03,  1.19518369e-01,  7.71201551e-02,\n",
       "          1.06868297e-02,  1.00636810e-01, -1.25189424e-01,\n",
       "         -7.95142800e-02,  7.16963410e-03,  1.64765328e-01,\n",
       "         -1.31032914e-01],\n",
       "        [ 1.34108543e-01,  3.16327810e-02,  1.37752801e-01,\n",
       "         -6.55885786e-02,  9.27513242e-02,  1.04452133e-01,\n",
       "         -7.49890208e-02,  2.16660827e-01, -1.57236874e-01,\n",
       "          4.35993969e-02],\n",
       "        [-9.51700509e-02,  2.33322114e-01, -6.09935373e-02,\n",
       "         -2.16886222e-01, -2.95306444e-02,  1.11623645e-01,\n",
       "         -2.17974931e-01,  8.20992887e-02, -8.85525644e-02,\n",
       "         -8.48827511e-02],\n",
       "        [-2.25433007e-01,  2.39555240e-02, -2.32982174e-01,\n",
       "          3.96861434e-02, -2.01023102e-01, -3.81313264e-02,\n",
       "         -9.99848098e-02, -1.47216901e-01,  1.13591850e-01,\n",
       "          1.94638014e-01],\n",
       "        [-3.24077904e-03, -3.96353155e-02, -1.17137671e-01,\n",
       "          1.65987492e-01,  1.71280950e-01, -1.38747126e-01,\n",
       "         -1.66132718e-01,  1.67615592e-01, -1.16559349e-01,\n",
       "         -4.25456166e-02],\n",
       "        [ 2.19523191e-01, -2.12312520e-01, -1.58284158e-01,\n",
       "          8.01093578e-02, -4.81134802e-02, -2.39337683e-02,\n",
       "         -2.00394824e-01,  1.13285661e-01,  1.48556024e-01,\n",
       "          9.71874297e-02],\n",
       "        [-8.48669410e-02, -1.47754192e-01, -2.04797208e-01,\n",
       "          1.79953814e-01, -1.91396028e-02, -2.29645506e-01,\n",
       "          1.47467196e-01,  7.88610578e-02, -3.26201916e-02,\n",
       "          1.50413066e-02],\n",
       "        [-2.27705017e-01, -8.53414088e-02,  9.28847194e-02,\n",
       "         -3.64841819e-02,  2.20704168e-01,  1.44598424e-01,\n",
       "          3.51996422e-02,  1.57110244e-01,  3.32614779e-02,\n",
       "         -3.59122604e-02],\n",
       "        [ 2.30020463e-01, -1.42514676e-01,  1.26753151e-01,\n",
       "          1.53155476e-02, -1.70386195e-01,  1.38316274e-01,\n",
       "          5.63471019e-02, -1.72040313e-02, -5.03984243e-02,\n",
       "          1.64748222e-01],\n",
       "        [ 1.01092011e-01,  2.30808824e-01,  7.14620948e-02,\n",
       "         -6.86845779e-02,  5.12871146e-02, -1.33117855e-01,\n",
       "          1.03682429e-01,  1.03109062e-01, -1.05981603e-01,\n",
       "          2.61352956e-02],\n",
       "        [-2.14573279e-01, -1.93062156e-01,  7.69220889e-02,\n",
       "          6.22558594e-03,  2.31250614e-01, -1.20011836e-01,\n",
       "          1.16901964e-01, -1.65665150e-01, -8.91639590e-02,\n",
       "         -1.57449514e-01],\n",
       "        [-1.37830943e-01, -8.32855552e-02, -1.67038679e-01,\n",
       "         -5.81409633e-02, -5.60803264e-02, -5.98663539e-02,\n",
       "         -1.80213183e-01,  3.74124050e-02, -4.50232178e-02,\n",
       "          5.13543785e-02],\n",
       "        [ 5.55055141e-02,  1.67431027e-01, -6.34563714e-02,\n",
       "          3.27309966e-02,  7.22682476e-03, -7.89068937e-02,\n",
       "          4.00393307e-02,  1.20009273e-01,  7.93368816e-02,\n",
       "          2.16877460e-02],\n",
       "        [-2.10354045e-01, -8.92280489e-02,  5.71070611e-02,\n",
       "         -8.25797766e-02,  8.47717226e-02, -1.78732023e-01,\n",
       "         -2.11274371e-01,  2.01275438e-01,  1.54699802e-01,\n",
       "          3.50681245e-02],\n",
       "        [-7.76249766e-02, -1.76145554e-01, -1.84941068e-01,\n",
       "          1.46814436e-01, -1.10150725e-02, -8.89515877e-02,\n",
       "         -2.19007447e-01, -1.81895673e-01, -3.89064848e-03,\n",
       "         -1.62051797e-01],\n",
       "        [ 1.05845630e-01, -1.60304010e-02, -1.65752083e-01,\n",
       "          1.31437391e-01, -2.31448174e-01, -3.99953574e-02,\n",
       "          1.19462818e-01,  5.29266298e-02, -2.33115703e-02,\n",
       "         -1.42711222e-01],\n",
       "        [-5.86800277e-02, -1.76119611e-01, -1.00604281e-01,\n",
       "         -4.30742055e-02, -9.22383666e-02,  6.69144988e-02,\n",
       "          2.29597598e-01, -6.17714673e-02, -2.09742144e-01,\n",
       "          1.62230700e-01],\n",
       "        [-9.04666632e-02, -1.87352121e-01, -2.74954438e-02,\n",
       "         -2.97901779e-02, -5.32263517e-03, -2.04695970e-01,\n",
       "          3.19245458e-03,  2.28644758e-01,  9.57244337e-02,\n",
       "         -4.94934022e-02],\n",
       "        [-6.11575693e-02, -1.28917262e-01, -6.62080348e-02,\n",
       "          2.27338672e-01, -4.52341437e-02, -3.56632471e-02,\n",
       "         -5.81985414e-02, -1.35007828e-01, -1.65539533e-01,\n",
       "          1.11516684e-01],\n",
       "        [-5.59307039e-02,  1.43239945e-01, -8.66926014e-02,\n",
       "         -3.02537382e-02,  1.31249636e-01,  2.90859044e-02,\n",
       "          9.41586494e-02,  1.07183188e-01, -9.12666470e-02,\n",
       "          2.17043310e-01],\n",
       "        [ 2.30182767e-01,  1.52324229e-01,  2.01825827e-01,\n",
       "         -3.72182429e-02, -2.21781671e-01,  1.82591587e-01,\n",
       "          3.12068164e-02,  4.31209803e-04,  1.31386578e-01,\n",
       "          3.14365029e-02],\n",
       "        [ 1.75653428e-01,  1.87725872e-01,  9.30445492e-02,\n",
       "         -1.07447356e-02,  1.88630819e-03, -2.71680355e-02,\n",
       "         -9.02826339e-02,  1.52269095e-01,  3.06648016e-02,\n",
       "          1.97750837e-01],\n",
       "        [-1.61702931e-03, -2.12774277e-02,  1.22068763e-01,\n",
       "         -5.85687757e-02, -2.66534090e-02, -3.33279222e-02,\n",
       "          1.22493953e-02, -1.44883797e-01, -4.61897552e-02,\n",
       "          2.15856105e-01],\n",
       "        [ 5.86127639e-02,  2.01375484e-02,  1.91767812e-01,\n",
       "          1.40386760e-01, -1.02987662e-01,  1.51576728e-01,\n",
       "          1.60924405e-01, -1.74089313e-01, -2.27198899e-02,\n",
       "         -2.27704078e-01],\n",
       "        [-1.67843461e-01, -1.09697364e-01, -4.63132709e-02,\n",
       "          1.90195322e-01, -2.25048006e-01, -2.27283537e-02,\n",
       "          4.28306460e-02, -2.25551546e-01,  1.43557101e-01,\n",
       "         -1.92926228e-02],\n",
       "        [ 1.74245626e-01, -2.04647869e-01,  2.27836818e-01,\n",
       "         -1.72211528e-01,  1.84825867e-01, -2.55293995e-02,\n",
       "          9.17919576e-02,  2.22273231e-01, -9.24197882e-02,\n",
       "          3.08058858e-02],\n",
       "        [-9.93629545e-02,  3.73862386e-02,  6.45980835e-02,\n",
       "         -1.89756453e-01,  1.40958458e-01,  6.61377609e-02,\n",
       "          9.09421742e-02,  1.40793204e-01,  9.09894109e-02,\n",
       "          3.86776924e-02],\n",
       "        [ 1.72935903e-01,  4.88787889e-04, -2.70707607e-02,\n",
       "         -1.09466895e-01, -6.16721362e-02, -4.59761620e-02,\n",
       "          2.29219347e-01, -1.71817079e-01,  1.96089059e-01,\n",
       "          2.33746469e-02],\n",
       "        [-2.32683763e-01,  9.59438086e-02, -1.85122341e-02,\n",
       "          2.05368340e-01,  2.02502698e-01, -1.24532208e-01,\n",
       "          1.91214085e-02,  5.28834164e-02,  8.37581456e-02,\n",
       "          8.05089474e-02],\n",
       "        [ 1.76446080e-01,  2.06718743e-02, -1.07470065e-01,\n",
       "          6.82813227e-02, -4.86883521e-02, -1.86625719e-02,\n",
       "          7.76563883e-02,  7.74837136e-02, -2.27042615e-01,\n",
       "          2.22779900e-01],\n",
       "        [ 7.59293735e-02,  1.67929530e-01, -1.53479576e-01,\n",
       "         -1.14851005e-01, -2.80079991e-02, -5.52498698e-02,\n",
       "         -1.33832201e-01,  1.60978615e-01, -1.43775672e-01,\n",
       "          1.59319609e-01],\n",
       "        [ 1.44672722e-01,  1.19709820e-02,  1.15802675e-01,\n",
       "         -5.66473901e-02, -1.70826703e-01,  1.85376227e-01,\n",
       "         -2.07369342e-01, -2.23310545e-01, -6.20571822e-02,\n",
       "         -2.06579119e-02],\n",
       "        [-1.52238905e-01, -1.75584495e-01, -1.62694097e-01,\n",
       "         -5.36829084e-02,  1.04719996e-01, -1.09157577e-01,\n",
       "         -2.13331133e-02,  1.01680964e-01, -2.13405564e-01,\n",
       "          1.35237902e-01],\n",
       "        [ 1.32833809e-01, -4.49953675e-02,  2.04212964e-02,\n",
       "          6.14501238e-02, -1.43488795e-01,  2.17378795e-01,\n",
       "          5.07730544e-02,  1.86328739e-01,  7.81076849e-02,\n",
       "         -2.59279311e-02],\n",
       "        [-1.55098289e-02, -2.32806101e-01, -1.45986095e-01,\n",
       "         -6.05113208e-02,  1.26315206e-01, -1.86371282e-01,\n",
       "          3.87745202e-02,  2.13972121e-01,  1.87960953e-01,\n",
       "          9.59854126e-02],\n",
       "        [-9.50894207e-02,  5.02105355e-02, -2.30378389e-01,\n",
       "          7.18684494e-03,  1.13209546e-01,  1.58573985e-01,\n",
       "          2.03584552e-01, -1.86979324e-01, -1.85063794e-01,\n",
       "         -1.79323643e-01],\n",
       "        [-1.89444229e-01, -9.53031331e-02,  1.14185870e-01,\n",
       "          8.88064206e-02,  1.63900912e-01,  1.39120221e-02,\n",
       "         -1.93624154e-01,  5.88628352e-02,  2.13339627e-01,\n",
       "         -6.88633770e-02],\n",
       "        [ 1.04362190e-01, -1.85152322e-01,  1.86729103e-01,\n",
       "          1.47203714e-01, -1.11676157e-01,  1.70141041e-01,\n",
       "          1.53540164e-01, -5.60595542e-02,  1.49799913e-01,\n",
       "          1.76649034e-01],\n",
       "        [ 5.51880896e-03,  1.39227718e-01, -6.24458492e-03,\n",
       "          1.77677572e-01, -2.20790908e-01, -5.71536571e-02,\n",
       "          1.58405989e-01,  5.09711802e-02,  1.12877607e-01,\n",
       "         -2.31516823e-01],\n",
       "        [ 2.30727971e-01,  1.39342546e-01, -9.18289274e-02,\n",
       "         -1.78998068e-01,  2.26274192e-01, -1.68804094e-01,\n",
       "          1.87409818e-01, -1.09776556e-02,  4.57796454e-02,\n",
       "         -2.08470583e-01],\n",
       "        [-1.26708284e-01,  2.10183442e-01,  1.02005482e-01,\n",
       "         -9.50051844e-02,  1.47913039e-01, -5.53155839e-02,\n",
       "          1.20714307e-03,  1.60628110e-02, -2.12890223e-01,\n",
       "         -1.57703102e-01],\n",
       "        [ 5.63888550e-02, -4.26265150e-02, -2.01198384e-01,\n",
       "          2.22761035e-02,  2.13502049e-01, -7.70237744e-02,\n",
       "          1.49846941e-01, -1.59968168e-01, -2.28382289e-01,\n",
       "          1.30698651e-01],\n",
       "        [-1.31344751e-01, -9.82846618e-02,  2.20834851e-01,\n",
       "         -1.28604263e-01,  5.64225912e-02,  1.12251699e-01,\n",
       "          2.01665044e-01,  2.04743594e-01,  2.22095788e-01,\n",
       "         -9.10563916e-02],\n",
       "        [ 1.69470280e-01, -1.26967654e-01,  2.97305584e-02,\n",
       "         -1.71242371e-01,  9.28056240e-03,  1.62153244e-01,\n",
       "         -2.22370118e-01,  9.11815166e-02,  8.59498680e-02,\n",
       "         -2.36274600e-02],\n",
       "        [ 7.84083605e-02, -8.69293660e-02, -3.84603441e-02,\n",
       "         -8.69244337e-03,  5.68480194e-02, -1.19572058e-01,\n",
       "         -2.54698843e-02, -1.42519802e-01,  1.03335917e-01,\n",
       "         -9.61765200e-02],\n",
       "        [ 1.03672832e-01,  2.11657017e-01,  1.76208496e-01,\n",
       "          1.15944952e-01,  4.10221815e-02, -1.13748215e-01,\n",
       "          2.99644172e-02, -9.09646899e-02,  2.21906126e-01,\n",
       "         -8.48916024e-02],\n",
       "        [-1.29500926e-01,  7.89661407e-02,  2.32369483e-01,\n",
       "          1.96136951e-01, -2.03682482e-02,  2.64217854e-02,\n",
       "         -1.15188502e-01,  1.60990447e-01, -2.24862084e-01,\n",
       "         -9.51389223e-02],\n",
       "        [-1.44951791e-02, -1.62771344e-02, -2.19728202e-01,\n",
       "          1.64564699e-01,  1.70517623e-01,  1.17516041e-01,\n",
       "         -4.86067235e-02,  1.71980739e-01,  1.67530477e-02,\n",
       "         -1.32142454e-01],\n",
       "        [ 1.74544156e-02, -8.10541362e-02, -2.23073453e-01,\n",
       "          8.23661685e-02, -1.29414052e-02,  1.15180016e-02,\n",
       "          4.48816717e-02, -1.82601959e-01, -1.10088423e-01,\n",
       "         -2.13607028e-01],\n",
       "        [-1.46122068e-01, -2.43374109e-02, -7.80705959e-02,\n",
       "         -6.75897300e-03, -1.83846518e-01,  1.08782649e-02,\n",
       "          5.93361557e-02,  1.44570798e-01,  3.75818610e-02,\n",
       "          9.93519723e-02],\n",
       "        [-1.02489635e-01,  2.19003320e-01,  2.11594999e-01,\n",
       "         -1.59429371e-01,  1.95607245e-02,  2.22980797e-01,\n",
       "          6.19547367e-02,  4.75390553e-02, -2.31302500e-01,\n",
       "         -1.01029694e-01],\n",
       "        [-3.09737772e-02,  2.08204418e-01,  4.73170578e-02,\n",
       "         -1.44403309e-01, -1.64064229e-01, -2.20963135e-01,\n",
       "         -3.07524353e-02, -1.97328895e-01, -2.11686969e-01,\n",
       "         -2.25591198e-01],\n",
       "        [-1.14799112e-01, -1.68430954e-01, -9.74082798e-02,\n",
       "         -1.13176860e-01,  1.21003717e-01,  2.11401552e-01,\n",
       "         -6.33793026e-02, -1.01098418e-02, -9.58526134e-02,\n",
       "         -1.26568630e-01],\n",
       "        [ 1.23073697e-01,  1.94899946e-01, -1.21798918e-01,\n",
       "         -5.91432005e-02,  1.41814977e-01,  2.29446054e-01,\n",
       "         -7.78841227e-02,  7.55031407e-02,  1.54935122e-02,\n",
       "         -6.61399364e-02],\n",
       "        [-1.85536489e-01,  1.92433000e-02,  4.27363813e-03,\n",
       "         -2.31278226e-01, -2.17599466e-01, -1.31651342e-01,\n",
       "         -1.97269589e-01,  1.59350634e-01, -3.90680134e-03,\n",
       "         -1.12694867e-01],\n",
       "        [-1.13259435e-01,  1.79192185e-01, -1.36934608e-01,\n",
       "          2.11750388e-01,  1.00219697e-01, -8.73307884e-02,\n",
       "          1.76339328e-01, -1.24035291e-01,  8.14765990e-02,\n",
       "          1.76011920e-01],\n",
       "        [ 7.09085464e-02,  1.81549013e-01, -7.69209862e-02,\n",
       "          4.43982184e-02,  5.39299250e-02, -1.91301301e-01,\n",
       "          1.96668535e-01, -6.41113073e-02, -6.39549047e-02,\n",
       "         -6.75437599e-02],\n",
       "        [ 3.86905372e-02,  1.98208332e-01,  1.13570035e-01,\n",
       "         -6.80135489e-02,  3.22765708e-02,  1.67790830e-01,\n",
       "         -1.85641497e-01,  1.48567319e-01, -1.03070185e-01,\n",
       "          1.40239149e-01],\n",
       "        [ 3.10735404e-02,  1.00742817e-01,  1.24902278e-01,\n",
       "          2.08496600e-01, -1.86977684e-02,  1.99681312e-01,\n",
       "         -3.54116708e-02, -2.11995840e-02, -2.17418775e-01,\n",
       "          1.59715623e-01],\n",
       "        [ 1.16502821e-01,  1.09697819e-01,  1.64913118e-01,\n",
       "          2.04638898e-01,  1.33715212e-01,  1.02827072e-01,\n",
       "         -1.40214860e-01, -3.42138857e-02,  1.66182041e-01,\n",
       "          1.05223149e-01],\n",
       "        [ 8.15292001e-02,  1.68995202e-01,  1.38142765e-01,\n",
       "          4.27556932e-02,  1.62781745e-01, -3.70130986e-02,\n",
       "         -1.63394362e-01,  7.35988319e-02,  1.00492090e-02,\n",
       "         -1.32686913e-01],\n",
       "        [-4.63932753e-02,  4.21564579e-02,  1.89872444e-01,\n",
       "          9.17199552e-02,  1.50936991e-01,  9.13808048e-02,\n",
       "         -1.76028132e-01, -1.85606316e-01, -7.45033026e-02,\n",
       "          5.77809215e-02],\n",
       "        [ 1.39332801e-01, -7.82850385e-02,  1.13389164e-01,\n",
       "          1.99560642e-01,  1.05334312e-01, -1.25856608e-01,\n",
       "          1.01882994e-01, -6.61163926e-02, -1.51981547e-01,\n",
       "          4.74681854e-02],\n",
       "        [ 2.08707333e-01,  1.48226380e-01,  1.95231616e-01,\n",
       "          1.71514064e-01, -1.00066051e-01,  8.13481212e-02,\n",
       "          3.21555734e-02,  9.04630423e-02,  2.06290096e-01,\n",
       "         -1.32644325e-02],\n",
       "        [-6.95217103e-02, -1.10138424e-01,  1.09205455e-01,\n",
       "         -1.46882415e-01,  1.21459126e-01, -1.90182865e-01,\n",
       "         -1.62078246e-01,  1.55086398e-01, -1.38795018e-01,\n",
       "          6.63549900e-02],\n",
       "        [-1.50640666e-01, -1.84693947e-01,  1.14519238e-01,\n",
       "          5.60912490e-02, -2.13733256e-01,  1.28106207e-01,\n",
       "          2.15185285e-01, -1.05101660e-01,  1.35351717e-01,\n",
       "         -5.24467528e-02],\n",
       "        [-1.81673065e-01,  1.22663379e-01,  1.60046905e-01,\n",
       "         -2.53012180e-02,  1.12048626e-01, -1.62176579e-01,\n",
       "          2.14499176e-01,  1.62320584e-01,  1.66297436e-01,\n",
       "          2.05375850e-01],\n",
       "        [ 9.79153216e-02, -1.98612988e-01,  1.70719683e-01,\n",
       "         -3.61684561e-02, -1.33183062e-01, -1.56265050e-01,\n",
       "         -2.15682149e-01, -1.90375134e-01, -2.24331260e-01,\n",
       "         -1.25431210e-01],\n",
       "        [ 2.07319736e-01, -6.10107929e-02, -2.31326282e-01,\n",
       "          1.22108132e-01, -1.01118237e-01, -1.78912982e-01,\n",
       "          1.25099510e-01,  8.83061886e-02,  1.88562721e-01,\n",
       "         -9.57809985e-02],\n",
       "        [-2.09634244e-01, -2.07047507e-01,  1.77566081e-01,\n",
       "          4.61079180e-02, -3.46596539e-03, -1.38680935e-01,\n",
       "          1.95777506e-01,  8.49982500e-02, -6.84877932e-02,\n",
       "         -1.33314788e-01],\n",
       "        [ 3.03520262e-02,  2.15119183e-01, -1.92932129e-01,\n",
       "          2.01067299e-01, -9.37245935e-02,  9.38747823e-03,\n",
       "         -2.18437314e-01, -1.02543980e-02,  1.71254903e-01,\n",
       "         -2.30203047e-01]], dtype=float32)>,\n",
       " <tf.Variable 'dense_2/bias:0' shape=(10,) dtype=float32, numpy=array([0., 0., 0., 0., 0., 0., 0., 0., 0., 0.], dtype=float32)>]"
      ]
     },
     "execution_count": 18,
     "metadata": {},
     "output_type": "execute_result"
    }
   ],
   "source": [
    "model.variables"
   ]
  },
  {
   "cell_type": "code",
   "execution_count": 19,
   "id": "ad9d913f",
   "metadata": {},
   "outputs": [
    {
     "name": "stdout",
     "output_type": "stream",
     "text": [
      "Epoch 1/20\n",
      "1719/1719 [==============================] - 7s 3ms/step - loss: 2.2180 - accuracy: 0.7141 - val_loss: 0.6882 - val_accuracy: 0.7580\n",
      "Epoch 2/20\n",
      "1719/1719 [==============================] - 6s 3ms/step - loss: 0.5864 - accuracy: 0.7817 - val_loss: 0.5782 - val_accuracy: 0.7930\n",
      "Epoch 3/20\n",
      "1719/1719 [==============================] - 6s 4ms/step - loss: 0.5085 - accuracy: 0.8111 - val_loss: 0.5064 - val_accuracy: 0.8262\n",
      "Epoch 4/20\n",
      "1719/1719 [==============================] - 7s 4ms/step - loss: 0.4582 - accuracy: 0.8313 - val_loss: 0.4970 - val_accuracy: 0.8258\n",
      "Epoch 5/20\n",
      "1719/1719 [==============================] - 7s 4ms/step - loss: 0.4277 - accuracy: 0.8410 - val_loss: 0.4799 - val_accuracy: 0.8340\n",
      "Epoch 6/20\n",
      "1719/1719 [==============================] - 8s 4ms/step - loss: 0.4064 - accuracy: 0.8495 - val_loss: 0.4668 - val_accuracy: 0.8360\n",
      "Epoch 7/20\n",
      "1719/1719 [==============================] - 7s 4ms/step - loss: 0.3905 - accuracy: 0.8546 - val_loss: 0.4438 - val_accuracy: 0.8504\n",
      "Epoch 8/20\n",
      "1719/1719 [==============================] - 6s 4ms/step - loss: 0.3766 - accuracy: 0.8601 - val_loss: 0.4370 - val_accuracy: 0.8498\n",
      "Epoch 9/20\n",
      "1719/1719 [==============================] - 8s 5ms/step - loss: 0.3640 - accuracy: 0.8647 - val_loss: 0.4259 - val_accuracy: 0.8538\n",
      "Epoch 10/20\n",
      "1719/1719 [==============================] - 7s 4ms/step - loss: 0.3563 - accuracy: 0.8667 - val_loss: 0.4345 - val_accuracy: 0.8516\n",
      "Epoch 11/20\n",
      "1719/1719 [==============================] - 8s 4ms/step - loss: 0.3454 - accuracy: 0.8721 - val_loss: 0.4211 - val_accuracy: 0.8572\n",
      "Epoch 12/20\n",
      "1719/1719 [==============================] - 7s 4ms/step - loss: 0.3378 - accuracy: 0.8744 - val_loss: 0.4393 - val_accuracy: 0.8540\n",
      "Epoch 13/20\n",
      "1719/1719 [==============================] - 8s 5ms/step - loss: 0.3303 - accuracy: 0.8778 - val_loss: 0.4196 - val_accuracy: 0.8602\n",
      "Epoch 14/20\n",
      "1719/1719 [==============================] - 6s 4ms/step - loss: 0.3242 - accuracy: 0.8792 - val_loss: 0.4258 - val_accuracy: 0.8586\n",
      "Epoch 15/20\n",
      "1719/1719 [==============================] - 8s 4ms/step - loss: 0.3181 - accuracy: 0.8816 - val_loss: 0.4187 - val_accuracy: 0.8616\n",
      "Epoch 16/20\n",
      "1719/1719 [==============================] - 6s 4ms/step - loss: 0.3112 - accuracy: 0.8847 - val_loss: 0.4230 - val_accuracy: 0.8544\n",
      "Epoch 17/20\n",
      "1719/1719 [==============================] - 8s 4ms/step - loss: 0.3067 - accuracy: 0.8855 - val_loss: 0.4332 - val_accuracy: 0.8600\n",
      "Epoch 18/20\n",
      "1719/1719 [==============================] - 7s 4ms/step - loss: 0.3022 - accuracy: 0.8878 - val_loss: 0.4156 - val_accuracy: 0.8610\n",
      "Epoch 19/20\n",
      "1719/1719 [==============================] - 8s 4ms/step - loss: 0.2980 - accuracy: 0.8890 - val_loss: 0.4156 - val_accuracy: 0.8646\n",
      "Epoch 20/20\n",
      "1719/1719 [==============================] - 8s 4ms/step - loss: 0.2932 - accuracy: 0.8906 - val_loss: 0.4119 - val_accuracy: 0.8670\n"
     ]
    },
    {
     "data": {
      "text/plain": [
       "keras.callbacks.History"
      ]
     },
     "execution_count": 19,
     "metadata": {},
     "output_type": "execute_result"
    }
   ],
   "source": [
    "history=model.fit(x_train,y_train,epochs=20,validation_data=(x_valid,y_valid))\n",
    "type(history)"
   ]
  },
  {
   "cell_type": "code",
   "execution_count": 22,
   "id": "63b07048",
   "metadata": {},
   "outputs": [],
   "source": [
    "def plot_learning_curves(history):\n",
    "    pd.DataFrame(history.history).plot(figsize=(8,5))\n",
    "    plt.grid(True)\n",
    "    plt.gca().set_ylim(0,1)\n",
    "    plt.show()"
   ]
  },
  {
   "cell_type": "code",
   "execution_count": 23,
   "id": "4d17fbff",
   "metadata": {},
   "outputs": [
    {
     "data": {
      "image/png": "[encoded data removed]",
      "text/plain": [
       "<Figure size 576x360 with 1 Axes>"
      ]
     },
     "metadata": {
      "needs_background": "light"
     },
     "output_type": "display_data"
    }
   ],
   "source": [
    "plot_learning_curves(history)"
   ]
  },
  {
   "cell_type": "code",
   "execution_count": 24,
   "id": "f4dc8c8e",
   "metadata": {},
   "outputs": [
    {
     "data": {
      "text/plain": [
       "[0.44468700885772705, 0.8532999753952026]"
      ]
     },
     "execution_count": 24,
     "metadata": {},
     "output_type": "execute_result"
    }
   ],
   "source": [
    "#损失和准确率\n",
    "model.evaluate(x_test,y_test,verbose=0)"
   ]
  },
  {
   "cell_type": "code",
   "execution_count": 25,
   "id": "efb09f7a",
   "metadata": {},
   "outputs": [
    {
     "data": {
      "text/plain": [
       "(43120000, 1)"
      ]
     },
     "execution_count": 25,
     "metadata": {},
     "output_type": "execute_result"
    }
   ],
   "source": [
    "x_train.reshape(-1,1).shape"
   ]
  },
  {
   "cell_type": "code",
   "execution_count": 26,
   "id": "318adcd8",
   "metadata": {},
   "outputs": [],
   "source": [
    "from sklearn.preprocessing import StandardScaler"
   ]
  },
  {
   "cell_type": "code",
   "execution_count": 27,
   "id": "89f39617",
   "metadata": {},
   "outputs": [
    {
     "name": "stdout",
     "output_type": "stream",
     "text": [
      "2.0234432 -0.81388575\n"
     ]
    }
   ],
   "source": [
    "scaler=StandardScaler()\n",
    "x_train_scaled=scaler.fit_transform(x_train.astype(np.float32).reshape(-1,1)).reshape(-1,28,28)\n",
    "x_valid_scaled=scaler.fit_transform(x_valid.astype(np.float32).reshape(-1,1)).reshape(-1,28,28)\n",
    "x_test_scaled=scaler.fit_transform(x_test.astype(np.float32).reshape(-1,1)).reshape(-1,28,28)\n",
    "print(np.max(x_test_scaled),np.min(x_test_scaled))"
   ]
  },
  {
   "cell_type": "code",
   "execution_count": 28,
   "id": "87c71275",
   "metadata": {},
   "outputs": [
    {
     "name": "stdout",
     "output_type": "stream",
     "text": [
      "Epoch 1/20\n",
      "1719/1719 [==============================] - 6s 3ms/step - loss: 0.9160 - accuracy: 0.7009 - val_loss: 0.6256 - val_accuracy: 0.7898\n",
      "Epoch 2/20\n",
      "1719/1719 [==============================] - 8s 5ms/step - loss: 0.5826 - accuracy: 0.7979 - val_loss: 0.5278 - val_accuracy: 0.8152\n",
      "Epoch 3/20\n",
      "1719/1719 [==============================] - 9s 5ms/step - loss: 0.5158 - accuracy: 0.8192 - val_loss: 0.4828 - val_accuracy: 0.8320\n",
      "Epoch 4/20\n",
      "1719/1719 [==============================] - 6s 3ms/step - loss: 0.4795 - accuracy: 0.8313 - val_loss: 0.4575 - val_accuracy: 0.8434\n",
      "Epoch 5/20\n",
      "1719/1719 [==============================] - 10s 6ms/step - loss: 0.4552 - accuracy: 0.8404 - val_loss: 0.4380 - val_accuracy: 0.8534\n",
      "Epoch 6/20\n",
      "1719/1719 [==============================] - 10s 6ms/step - loss: 0.4372 - accuracy: 0.8459 - val_loss: 0.4233 - val_accuracy: 0.8580\n",
      "Epoch 7/20\n",
      "1719/1719 [==============================] - 7s 4ms/step - loss: 0.4229 - accuracy: 0.8509 - val_loss: 0.4125 - val_accuracy: 0.8576\n",
      "Epoch 8/20\n",
      "1719/1719 [==============================] - 7s 4ms/step - loss: 0.4106 - accuracy: 0.8559 - val_loss: 0.4076 - val_accuracy: 0.8588\n",
      "Epoch 9/20\n",
      "1719/1719 [==============================] - 7s 4ms/step - loss: 0.4007 - accuracy: 0.8591 - val_loss: 0.3977 - val_accuracy: 0.8606\n",
      "Epoch 10/20\n",
      "1719/1719 [==============================] - 7s 4ms/step - loss: 0.3919 - accuracy: 0.8617 - val_loss: 0.3903 - val_accuracy: 0.8632\n",
      "Epoch 11/20\n",
      "1719/1719 [==============================] - 7s 4ms/step - loss: 0.3840 - accuracy: 0.8643 - val_loss: 0.3840 - val_accuracy: 0.8660\n",
      "Epoch 12/20\n",
      "1719/1719 [==============================] - 7s 4ms/step - loss: 0.3769 - accuracy: 0.8667 - val_loss: 0.3782 - val_accuracy: 0.8676\n",
      "Epoch 13/20\n",
      "1719/1719 [==============================] - 7s 4ms/step - loss: 0.3706 - accuracy: 0.8685 - val_loss: 0.3737 - val_accuracy: 0.8702\n",
      "Epoch 14/20\n",
      "1719/1719 [==============================] - 7s 4ms/step - loss: 0.3649 - accuracy: 0.8716 - val_loss: 0.3724 - val_accuracy: 0.8702\n",
      "Epoch 15/20\n",
      "1719/1719 [==============================] - 7s 4ms/step - loss: 0.3597 - accuracy: 0.8721 - val_loss: 0.3684 - val_accuracy: 0.8698\n",
      "Epoch 16/20\n",
      "1719/1719 [==============================] - 9s 5ms/step - loss: 0.3545 - accuracy: 0.8740 - val_loss: 0.3648 - val_accuracy: 0.8714\n",
      "Epoch 17/20\n",
      "1719/1719 [==============================] - 8s 5ms/step - loss: 0.3500 - accuracy: 0.8763 - val_loss: 0.3595 - val_accuracy: 0.8720\n",
      "Epoch 18/20\n",
      "1719/1719 [==============================] - 7s 4ms/step - loss: 0.3454 - accuracy: 0.8780 - val_loss: 0.3560 - val_accuracy: 0.8734\n",
      "Epoch 19/20\n",
      "1719/1719 [==============================] - 7s 4ms/step - loss: 0.3415 - accuracy: 0.8795 - val_loss: 0.3588 - val_accuracy: 0.8758\n",
      "Epoch 20/20\n",
      "1719/1719 [==============================] - 7s 4ms/step - loss: 0.3380 - accuracy: 0.8803 - val_loss: 0.3535 - val_accuracy: 0.8750\n"
     ]
    },
    {
     "data": {
      "image/png": "[encoded data removed]",
      "text/plain": [
       "<Figure size 576x360 with 1 Axes>"
      ]
     },
     "metadata": {
      "needs_background": "light"
     },
     "output_type": "display_data"
    }
   ],
   "source": [
    "modelstd=keras.models.Sequential()\n",
    "modelstd.add(keras.layers.Flatten(input_shape=[28,28]))\n",
    "modelstd.add(keras.layers.Dense(300,activation='relu'))\n",
    "modelstd.add(keras.layers.Dense(100,activation='relu'))\n",
    "modelstd.add(keras.layers.Dense(10,activation='softmax'))\n",
    "modelstd.compile(loss='sparse_categorical_crossentropy',optimizer=keras.optimizers.SGD(0.001),metrics=['accuracy'])\n",
    "historystd=modelstd.fit(x_train_scaled,y_train,epochs=20,validation_data=(x_valid_scaled,y_valid))\n",
    "plot_learning_curves(historystd)"
   ]
  },
  {
   "cell_type": "code",
   "execution_count": 29,
   "id": "e8ce3402",
   "metadata": {},
   "outputs": [
    {
     "data": {
      "text/plain": [
       "[0.39230111241340637, 0.8597000241279602]"
      ]
     },
     "execution_count": 29,
     "metadata": {},
     "output_type": "execute_result"
    }
   ],
   "source": [
    "modelstd.evaluate(x_test_scaled,y_test,verbose=0)"
   ]
  },
  {
   "cell_type": "code",
   "execution_count": 33,
   "id": "6e31e116",
   "metadata": {},
   "outputs": [
    {
     "name": "stdout",
     "output_type": "stream",
     "text": [
      "Epoch 1/20\n",
      "1719/1719 [==============================] - 9s 5ms/step - loss: 0.9109 - accuracy: 0.7003 - val_loss: 0.6245 - val_accuracy: 0.7842\n",
      "Epoch 2/20\n",
      "1719/1719 [==============================] - 7s 4ms/step - loss: 0.5876 - accuracy: 0.7941 - val_loss: 0.5312 - val_accuracy: 0.8156\n",
      "Epoch 3/20\n",
      "1719/1719 [==============================] - 6s 3ms/step - loss: 0.5206 - accuracy: 0.8162 - val_loss: 0.4897 - val_accuracy: 0.8282\n",
      "Epoch 4/20\n",
      "1719/1719 [==============================] - 6s 3ms/step - loss: 0.4838 - accuracy: 0.8290 - val_loss: 0.4644 - val_accuracy: 0.8370\n",
      "Epoch 5/20\n",
      "1719/1719 [==============================] - 7s 4ms/step - loss: 0.4595 - accuracy: 0.8373 - val_loss: 0.4461 - val_accuracy: 0.8458\n",
      "Epoch 6/20\n",
      "1719/1719 [==============================] - 7s 4ms/step - loss: 0.4408 - accuracy: 0.8442 - val_loss: 0.4326 - val_accuracy: 0.8480\n",
      "Epoch 7/20\n",
      "1719/1719 [==============================] - 6s 3ms/step - loss: 0.4264 - accuracy: 0.8503 - val_loss: 0.4212 - val_accuracy: 0.8530\n",
      "Epoch 8/20\n",
      "1719/1719 [==============================] - 7s 4ms/step - loss: 0.4143 - accuracy: 0.8538 - val_loss: 0.4127 - val_accuracy: 0.8546\n",
      "Epoch 9/20\n",
      "1719/1719 [==============================] - 6s 4ms/step - loss: 0.4042 - accuracy: 0.8580 - val_loss: 0.4051 - val_accuracy: 0.8590\n",
      "Epoch 10/20\n",
      "1719/1719 [==============================] - 6s 4ms/step - loss: 0.3951 - accuracy: 0.8613 - val_loss: 0.3986 - val_accuracy: 0.8578\n",
      "Epoch 11/20\n",
      "1719/1719 [==============================] - 7s 4ms/step - loss: 0.3873 - accuracy: 0.8628 - val_loss: 0.3948 - val_accuracy: 0.8600\n",
      "Epoch 12/20\n",
      "1719/1719 [==============================] - 6s 3ms/step - loss: 0.3803 - accuracy: 0.8658 - val_loss: 0.3888 - val_accuracy: 0.8618\n",
      "Epoch 13/20\n",
      "1719/1719 [==============================] - 7s 4ms/step - loss: 0.3742 - accuracy: 0.8677 - val_loss: 0.3843 - val_accuracy: 0.8634\n",
      "Epoch 14/20\n",
      "1719/1719 [==============================] - 6s 4ms/step - loss: 0.3687 - accuracy: 0.8695 - val_loss: 0.3804 - val_accuracy: 0.8638\n",
      "Epoch 15/20\n",
      "1719/1719 [==============================] - 6s 4ms/step - loss: 0.3633 - accuracy: 0.8722 - val_loss: 0.3785 - val_accuracy: 0.8662\n",
      "Epoch 16/20\n",
      "1719/1719 [==============================] - 6s 3ms/step - loss: 0.3582 - accuracy: 0.8733 - val_loss: 0.3727 - val_accuracy: 0.8658\n",
      "Epoch 17/20\n",
      "1719/1719 [==============================] - 6s 3ms/step - loss: 0.3537 - accuracy: 0.8752 - val_loss: 0.3691 - val_accuracy: 0.8668\n",
      "Epoch 18/20\n",
      "1719/1719 [==============================] - 6s 3ms/step - loss: 0.3495 - accuracy: 0.8759 - val_loss: 0.3687 - val_accuracy: 0.8684\n",
      "Epoch 19/20\n",
      "1719/1719 [==============================] - 6s 3ms/step - loss: 0.3451 - accuracy: 0.8776 - val_loss: 0.3642 - val_accuracy: 0.8676\n",
      "Epoch 20/20\n",
      "1719/1719 [==============================] - 6s 3ms/step - loss: 0.3414 - accuracy: 0.8788 - val_loss: 0.3623 - val_accuracy: 0.8698\n"
     ]
    },
    {
     "data": {
      "image/png": "[encoded data removed]",
      "text/plain": [
       "<Figure size 576x360 with 1 Axes>"
      ]
     },
     "metadata": {
      "needs_background": "light"
     },
     "output_type": "display_data"
    }
   ],
   "source": [
    "logdir='./callbacks'\n",
    "if not os.path.exists(logdir):\n",
    "    os.mkdir(logdir)\n",
    "output_model_file=os.path.join(logdir,'fashion_mnist_model.h5')\n",
    "callbacks=[keras.callbacks.TensorBoard(logdir),keras.callbacks.ModelCheckpoint(output_model_file,save_best_only=True),\n",
    "           keras.callbacks.EarlyStopping(patience=5,min_delta=1e-2)]\n",
    "model_callback=keras.models.Sequential()\n",
    "model_callback.add(keras.layers.Flatten(input_shape=[28,28]))\n",
    "model_callback.add(keras.layers.Dense(300,activation='relu'))\n",
    "model_callback.add(keras.layers.Dense(100,activation='relu'))\n",
    "model_callback.add(keras.layers.Dense(10,activation='softmax'))\n",
    "model_callback.compile(loss='sparse_categorical_crossentropy',optimizer=keras.optimizers.SGD(0.001),metrics=['accuracy'])\n",
    "history_callback=model_callback.fit(x_train_scaled,y_train,epochs=20,validation_data=(x_valid_scaled,y_valid),callbacks=callbacks)\n",
    "plot_learning_curves(history_callback)"
   ]
  },
  {
   "cell_type": "code",
   "execution_count": 34,
   "id": "aa406ae5",
   "metadata": {},
   "outputs": [
    {
     "data": {
      "text/plain": [
       "[0.3912116289138794, 0.859000027179718]"
      ]
     },
     "execution_count": 34,
     "metadata": {},
     "output_type": "execute_result"
    }
   ],
   "source": [
    "model_callback.evaluate(x_test_scaled,y_test,verbose=0)"
   ]
  }
 ],
 "metadata": {
  "kernelspec": {
   "display_name": "Python 3 (ipykernel)",
   "language": "python",
   "name": "python3"
  },
  "language_info": {
   "codemirror_mode": {
    "name": "ipython",
    "version": 3
   },
   "file_extension": ".py",
   "mimetype": "text/x-python",
   "name": "python",
   "nbconvert_exporter": "python",
   "pygments_lexer": "ipython3",
   "version": "3.9.7"
  }
 },
 "nbformat": 4,
 "nbformat_minor": 5
}
