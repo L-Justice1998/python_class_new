{
 "cells": [
  {
   "cell_type": "code",
   "execution_count": 2,
   "metadata": {
    "collapsed": true
   },
   "outputs": [],
   "source": [
    "from sklearn.decomposition import PCA\n"
   ]
  },
  {
   "cell_type": "code",
   "execution_count": 3,
   "outputs": [
    {
     "name": "stdout",
     "output_type": "stream",
     "text": [
      "[[ 0.21114836  4.13761287]\n",
      " [ 5.88277347 -1.66496792]\n",
      " [-5.60419422 -1.50749961]\n",
      " [-0.48972761 -0.96514533]]\n"
     ]
    }
   ],
   "source": [
    "def pca():\n",
    "    pca=PCA(n_components=0.9)\n",
    "    data=pca.fit_transform([[2, 8, 4, 5], [6, 3, 0, 8], [5, 4, 9, 1],[6 ,5 ,4 ,3]])\n",
    "    print(data)\n",
    "pca()"
   ],
   "metadata": {
    "collapsed": false,
    "pycharm": {
     "name": "#%%\n"
    }
   }
  }
 ],
 "metadata": {
  "kernelspec": {
   "name": "pycharm-a7ca9fd6",
   "language": "python",
   "display_name": "PyCharm (day32)"
  },
  "language_info": {
   "codemirror_mode": {
    "name": "ipython",
    "version": 2
   },
   "file_extension": ".py",
   "mimetype": "text/x-python",
   "name": "python",
   "nbconvert_exporter": "python",
   "pygments_lexer": "ipython2",
   "version": "2.7.6"
  }
 },
 "nbformat": 4,
 "nbformat_minor": 0
}