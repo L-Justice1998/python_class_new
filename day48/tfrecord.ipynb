{
 "cells": [
  {
   "cell_type": "code",
   "execution_count": 1,
   "id": "0a880e8b",
   "metadata": {},
   "outputs": [],
   "source": [
    "import matplotlib as mpl\n",
    "import matplotlib.pyplot as plt\n",
    "%matplotlib inline\n",
    "import numpy as np\n",
    "import sklearn\n",
    "import pandas as pd\n",
    "import os\n",
    "import sys\n",
    "import time\n",
    "import tensorflow as tf\n",
    "\n",
    "from tensorflow import keras"
   ]
  },
  {
   "cell_type": "code",
   "execution_count": 2,
   "id": "51f62083",
   "metadata": {},
   "outputs": [
    {
     "name": "stdout",
     "output_type": "stream",
     "text": [
      "[b'machine learning', b'cc150']\n"
     ]
    }
   ],
   "source": [
    "favorite_books = [name.encode('utf-8')\n",
    "                  for name in [\"machine learning\", \"cc150\"]]\n",
    "print(favorite_books)\n"
   ]
  },
  {
   "cell_type": "code",
   "execution_count": 3,
   "id": "223658c7",
   "metadata": {},
   "outputs": [
    {
     "name": "stdout",
     "output_type": "stream",
     "text": [
      "<class 'tensorflow.core.example.feature_pb2.BytesList'>\n",
      "value: \"machine learning\"\n",
      "value: \"cc150\"\n",
      "\n"
     ]
    }
   ],
   "source": [
    "favorite_books_bytelist = tf.train.BytesList(value = favorite_books) #字符串是变为BytesList\n",
    "print(type(favorite_books_bytelist))\n",
    "print(favorite_books_bytelist)"
   ]
  },
  {
   "cell_type": "code",
   "execution_count": 4,
   "id": "34c64310",
   "metadata": {},
   "outputs": [
    {
     "name": "stdout",
     "output_type": "stream",
     "text": [
      "<class 'tensorflow.core.example.feature_pb2.FloatList'>\n",
      "value: 15.5\n",
      "value: 9.5\n",
      "value: 7.0\n",
      "value: 8.0\n",
      "\n"
     ]
    }
   ],
   "source": [
    "#hours设置到0-24之间\n",
    "hours_floatlist = tf.train.FloatList(value = [15.5, 9.5, 7.0, 8.0])\n",
    "print(type(hours_floatlist))\n",
    "print(hours_floatlist)"
   ]
  },
  {
   "cell_type": "code",
   "execution_count": 5,
   "id": "1be3a61d",
   "metadata": {},
   "outputs": [
    {
     "name": "stdout",
     "output_type": "stream",
     "text": [
      "<class 'tensorflow.core.example.feature_pb2.Int64List'>\n",
      "value: 42\n",
      "\n"
     ]
    }
   ],
   "source": [
    "age_int64list = tf.train.Int64List(value = [42])\n",
    "print(type(age_int64list))\n",
    "print(age_int64list)"
   ]
  },
  {
   "cell_type": "code",
   "execution_count": 6,
   "id": "c2a6bfd1",
   "metadata": {},
   "outputs": [
    {
     "name": "stdout",
     "output_type": "stream",
     "text": [
      "<class 'tensorflow.core.example.feature_pb2.Features'>\n",
      "feature {\n",
      "  key: \"age\"\n",
      "  value {\n",
      "    int64_list {\n",
      "      value: 42\n",
      "    }\n",
      "  }\n",
      "}\n",
      "feature {\n",
      "  key: \"favorite_books\"\n",
      "  value {\n",
      "    bytes_list {\n",
      "      value: \"machine learning\"\n",
      "      value: \"cc150\"\n",
      "    }\n",
      "  }\n",
      "}\n",
      "feature {\n",
      "  key: \"hours\"\n",
      "  value {\n",
      "    float_list {\n",
      "      value: 15.5\n",
      "      value: 9.5\n",
      "      value: 7.0\n",
      "      value: 8.0\n",
      "    }\n",
      "  }\n",
      "}\n",
      "\n"
     ]
    }
   ],
   "source": [
    "#进一步，开搞features\n",
    "features = tf.train.Features(\n",
    "    feature = {\n",
    "        \"favorite_books\": tf.train.Feature(\n",
    "            bytes_list = favorite_books_bytelist),\n",
    "        \"hours\": tf.train.Feature(\n",
    "            float_list = hours_floatlist),\n",
    "        \"age\": tf.train.Feature(int64_list = age_int64list),\n",
    "    }\n",
    ")\n",
    "print(type(features))\n",
    "print(features) #类似于json的格式"
   ]
  },
  {
   "cell_type": "code",
   "execution_count": 7,
   "id": "b25371ae",
   "metadata": {},
   "outputs": [
    {
     "name": "stdout",
     "output_type": "stream",
     "text": [
      "<class 'tensorflow.core.example.example_pb2.Example'>\n",
      "features {\n",
      "  feature {\n",
      "    key: \"age\"\n",
      "    value {\n",
      "      int64_list {\n",
      "        value: 42\n",
      "      }\n",
      "    }\n",
      "  }\n",
      "  feature {\n",
      "    key: \"favorite_books\"\n",
      "    value {\n",
      "      bytes_list {\n",
      "        value: \"machine learning\"\n",
      "        value: \"cc150\"\n",
      "      }\n",
      "    }\n",
      "  }\n",
      "  feature {\n",
      "    key: \"hours\"\n",
      "    value {\n",
      "      float_list {\n",
      "        value: 15.5\n",
      "        value: 9.5\n",
      "        value: 7.0\n",
      "        value: 8.0\n",
      "      }\n",
      "    }\n",
      "  }\n",
      "}\n",
      "\n"
     ]
    }
   ],
   "source": [
    "#example又在外面加了features封装\n",
    "example = tf.train.Example(features=features)\n",
    "print(type(example))\n",
    "print(example)"
   ]
  },
  {
   "cell_type": "code",
   "execution_count": 8,
   "id": "bf4e36ff",
   "metadata": {},
   "outputs": [
    {
     "name": "stdout",
     "output_type": "stream",
     "text": [
      "<class 'bytes'>\n",
      "b'\\n\\\\\\n\\x0c\\n\\x03age\\x12\\x05\\x1a\\x03\\n\\x01*\\n\\x1d\\n\\x05hours\\x12\\x14\\x12\\x12\\n\\x10\\x00\\x00xA\\x00\\x00\\x18A\\x00\\x00\\xe0@\\x00\\x00\\x00A\\n-\\n\\x0efavorite_books\\x12\\x1b\\n\\x19\\n\\x10machine learning\\n\\x05cc150'\n",
      "94\n"
     ]
    }
   ],
   "source": [
    "#需要把Example对象进行序列化后，序列化后是变为字节流，才能写入文件\n",
    "serialized_example = example.SerializeToString()\n",
    "print(type(serialized_example))\n",
    "print(serialized_example)\n",
    "print(len(serialized_example))"
   ]
  },
  {
   "cell_type": "code",
   "execution_count": 10,
   "id": "7dbb69ec",
   "metadata": {},
   "outputs": [
    {
     "name": "stdout",
     "output_type": "stream",
     "text": [
      "dataset.ipynb\n",
      "generate_csv\n",
      "tfrecord.ipynb\n"
     ]
    }
   ],
   "source": [
    "!ls"
   ]
  },
  {
   "cell_type": "code",
   "execution_count": 11,
   "id": "fdd8e63d",
   "metadata": {},
   "outputs": [],
   "source": [
    "\n",
    "#生成test.tfrecords文件\n",
    "output_dir = 'tfrecord_basic'\n",
    "if not os.path.exists(output_dir):\n",
    "    os.mkdir(output_dir)\n",
    "filename = \"test.tfrecords\"\n",
    "filename_fullpath = os.path.join(output_dir, filename)\n",
    "with tf.io.TFRecordWriter(filename_fullpath) as writer:\n",
    "    #把serialized_example写3遍到test.tfrecords里边\n",
    "    for i in range(3):\n",
    "        writer.write(serialized_example)"
   ]
  },
  {
   "cell_type": "code",
   "execution_count": 12,
   "id": "2a2fa41d",
   "metadata": {},
   "outputs": [
    {
     "name": "stdout",
     "output_type": "stream",
     "text": [
      "total 1\n",
      "-rw-r--r-- 1 娣辩埍涓讳箟 197121 330  7鏈� 28 15:42 test.tfrecords\n"
     ]
    }
   ],
   "source": [
    "\n",
    "!ls -l tfrecord_basic"
   ]
  },
  {
   "cell_type": "code",
   "execution_count": 13,
   "id": "39e0fbd3",
   "metadata": {},
   "outputs": [
    {
     "name": "stdout",
     "output_type": "stream",
     "text": [
      "tf.Tensor(b'\\n\\\\\\n\\x0c\\n\\x03age\\x12\\x05\\x1a\\x03\\n\\x01*\\n\\x1d\\n\\x05hours\\x12\\x14\\x12\\x12\\n\\x10\\x00\\x00xA\\x00\\x00\\x18A\\x00\\x00\\xe0@\\x00\\x00\\x00A\\n-\\n\\x0efavorite_books\\x12\\x1b\\n\\x19\\n\\x10machine learning\\n\\x05cc150', shape=(), dtype=string)\n",
      "tf.Tensor(b'\\n\\\\\\n\\x0c\\n\\x03age\\x12\\x05\\x1a\\x03\\n\\x01*\\n\\x1d\\n\\x05hours\\x12\\x14\\x12\\x12\\n\\x10\\x00\\x00xA\\x00\\x00\\x18A\\x00\\x00\\xe0@\\x00\\x00\\x00A\\n-\\n\\x0efavorite_books\\x12\\x1b\\n\\x19\\n\\x10machine learning\\n\\x05cc150', shape=(), dtype=string)\n",
      "tf.Tensor(b'\\n\\\\\\n\\x0c\\n\\x03age\\x12\\x05\\x1a\\x03\\n\\x01*\\n\\x1d\\n\\x05hours\\x12\\x14\\x12\\x12\\n\\x10\\x00\\x00xA\\x00\\x00\\x18A\\x00\\x00\\xe0@\\x00\\x00\\x00A\\n-\\n\\x0efavorite_books\\x12\\x1b\\n\\x19\\n\\x10machine learning\\n\\x05cc150', shape=(), dtype=string)\n"
     ]
    }
   ],
   "source": [
    "#读取record并打印\n",
    "dataset = tf.data.TFRecordDataset([filename_fullpath])\n",
    "for serialized_example_tensor in dataset:\n",
    "    print(serialized_example_tensor)\n"
   ]
  },
  {
   "cell_type": "code",
   "execution_count": null,
   "id": "823bfbd4",
   "metadata": {},
   "outputs": [],
   "source": []
  },
  {
   "cell_type": "code",
   "execution_count": null,
   "id": "7309ab8e",
   "metadata": {},
   "outputs": [],
   "source": [
    "\n",
    "\n",
    "# VarLenFeature是变长的，得到的是sparseTensor,要通过to_dense变为Tensor，\n",
    "# 如果FixedLenFeature，得到的是Tensor，必须传入原来保存时数据的shape\n",
    "expected_features = {\n",
    "    \"favorite_books\": tf.io.FixedLenFeature([2],dtype = tf.string),\n",
    "#     \"hours\": tf.io.FixedLenFeature([4],dtype = tf.float32),\n",
    "    \"hours\": tf.io.VarLenFeature(dtype = tf.float32),\n",
    "    \"age\": tf.io.FixedLenFeature([], dtype = tf.int64),\n",
    "}\n",
    "dataset = tf.data.TFRecordDataset([filename_fullpath])\n",
    "#sparse tensor 存储稀疏矩阵的时候效率比较高\n",
    "for serialized_example_tensor in dataset:\n",
    "    example = tf.io.parse_single_example(\n",
    "        serialized_example_tensor,#游标\n",
    "        expected_features #解析的类型\n",
    "    )\n",
    "    print(example)\n",
    "    #把books从sparse tensor解析出来\n",
    "#     books = tf.sparse.to_dense(example[\"favorite_books\"],\n",
    "#                                default_value=b\"\")\n",
    "#     print(books)\n",
    "#     #这里是为了把两个字符串解析出来\n",
    "#     for book in books:\n",
    "#         print(book.numpy().decode(\"UTF-8\"))\n",
    "    for i in example[\"favorite_books\"]:\n",
    "        print(i.numpy().decode(\"UTF-8\"))\n",
    "    print('-'*50)\n",
    "    hours = tf.sparse.to_dense(example[\"hours\"])\n",
    "    print(hours)\n",
    "    for hour in hours:\n",
    "        print(hour.numpy())\n",
    "    print('-'*50)\n",
    "    print(example[\"age\"].numpy())\n",
    "    \n",
    "\n",
    "#%%\n",
    "\n",
    "#把tfrecord存为压缩文件\n",
    "filename_fullpath_zip = filename_fullpath + '.zip'\n",
    "options = tf.io.TFRecordOptions(compression_type = \"GZIP\")\n",
    "with tf.io.TFRecordWriter(filename_fullpath_zip, options) as writer:\n",
    "    for i in range(3):\n",
    "        writer.write(serialized_example)\n",
    "\n",
    "#%%\n",
    "\n",
    "!ls -l tfrecord_basic\n",
    "\n",
    "#%%\n",
    "\n",
    "expected_features = {\n",
    "    \"favorite_books\": tf.io.FixedLenFeature([2],dtype = tf.string),\n",
    "    \"hours\": tf.io.FixedLenFeature([4],dtype = tf.float32),\n",
    "    \"age\": tf.io.FixedLenFeature([], dtype = tf.int64),\n",
    "}\n",
    "\n",
    "#%%\n",
    "\n",
    "#压缩后的文件的读取方法\n",
    "dataset_zip = tf.data.TFRecordDataset([filename_fullpath_zip], \n",
    "                                      compression_type= \"GZIP\")\n",
    "for serialized_example_tensor in dataset_zip:\n",
    "    example = tf.io.parse_single_example(\n",
    "        serialized_example_tensor,\n",
    "        expected_features)\n",
    "    print(example)\n"
   ]
  }
 ],
 "metadata": {
  "kernelspec": {
   "display_name": "PyCharm (day32)",
   "language": "python",
   "name": "pycharm-a7ca9fd6"
  },
  "language_info": {
   "codemirror_mode": {
    "name": "ipython",
    "version": 3
   },
   "file_extension": ".py",
   "mimetype": "text/x-python",
   "name": "python",
   "nbconvert_exporter": "python",
   "pygments_lexer": "ipython3",
   "version": "3.9.7"
  }
 },
 "nbformat": 4,
 "nbformat_minor": 5
}
