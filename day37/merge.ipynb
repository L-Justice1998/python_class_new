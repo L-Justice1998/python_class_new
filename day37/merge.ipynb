{
 "cells": [
  {
   "cell_type": "code",
   "execution_count": 2,
   "metadata": {
    "collapsed": true
   },
   "outputs": [],
   "source": [
    "import pandas as pd\n",
    "import numpy as np\n",
    "import random\n"
   ]
  },
  {
   "cell_type": "code",
   "execution_count": 9,
   "outputs": [
    {
     "name": "stdout",
     "output_type": "stream",
     "text": [
      "  key  data1\n",
      "0   b      4\n",
      "1   b      2\n",
      "2   a      8\n",
      "3   c      3\n",
      "4   a      1\n",
      "5   a      8\n",
      "6   b      5\n",
      "                                                  \n",
      "  key  data2\n",
      "0   a      9\n",
      "1   b      3\n",
      "2   d      6\n",
      "  key  data1  data2\n",
      "0   b      4      3\n",
      "1   b      2      3\n",
      "2   b      5      3\n",
      "3   a      8      9\n",
      "4   a      1      9\n",
      "5   a      8      9\n",
      "  key  data1  data2\n",
      "0   b      4      3\n",
      "1   b      2      3\n",
      "2   b      5      3\n",
      "3   a      8      9\n",
      "4   a      1      9\n",
      "5   a      8      9\n"
     ]
    }
   ],
   "source": [
    "df_obj1 = pd.DataFrame({'key': ['b', 'b', 'a', 'c', 'a', 'a', 'b'],\n",
    "                        'data1' : np.random.randint(0,10,7)})\n",
    "df_obj2 = pd.DataFrame({'key': ['a', 'b' ,'d'],\n",
    "                        'data2' : np.random.randint(0,10,3)})\n",
    "print(df_obj1)\n",
    "print(\" \"*50)\n",
    "print(df_obj2)\n",
    "#两个df中都出现的key才会有，形成一个key两个数据\n",
    "# print(pd.merge(df_obj1,df_obj2))\n",
    "\n",
    "#行数为最少的那行，只是直接拼到右边，多余的行不管了\n",
    "# print(pd.merge(df_obj1,df_obj2,left_index=True,right_index=True))\n",
    "\n",
    "#和情况1一样\n",
    "# print(pd.merge(df_obj1,df_obj2,on='key'))"
   ],
   "metadata": {
    "collapsed": false,
    "pycharm": {
     "name": "#%%\n"
    }
   }
  },
  {
   "cell_type": "code",
   "execution_count": 15,
   "outputs": [
    {
     "name": "stdout",
     "output_type": "stream",
     "text": [
      "  key1  data1\n",
      "0    b      4\n",
      "1    b      2\n",
      "2    a      8\n",
      "3    c      3\n",
      "4    a      1\n",
      "5    a      8\n",
      "6    b      5\n",
      "  key2  data2\n",
      "0    a      9\n",
      "1    b      3\n",
      "2    d      6\n"
     ]
    },
    {
     "ename": "KeyError",
     "evalue": "'key'",
     "output_type": "error",
     "traceback": [
      "\u001B[1;31m---------------------------------------------------------------------------\u001B[0m",
      "\u001B[1;31mKeyError\u001B[0m                                  Traceback (most recent call last)",
      "\u001B[1;32m~\\AppData\\Local\\Temp/ipykernel_28996/3909614119.py\u001B[0m in \u001B[0;36m<module>\u001B[1;34m\u001B[0m\n\u001B[0;32m     12\u001B[0m \u001B[1;31m# 按第一个df的列明连 是全外连接的一部分\u001B[0m\u001B[1;33m\u001B[0m\u001B[1;33m\u001B[0m\u001B[0m\n\u001B[0;32m     13\u001B[0m \u001B[1;31m# print(pd.merge(df_obj1, df_obj2, left_on='key1', right_on='key2', how='left'))\u001B[0m\u001B[1;33m\u001B[0m\u001B[1;33m\u001B[0m\u001B[0m\n\u001B[1;32m---> 14\u001B[1;33m \u001B[0mprint\u001B[0m\u001B[1;33m(\u001B[0m\u001B[0mpd\u001B[0m\u001B[1;33m.\u001B[0m\u001B[0mmerge\u001B[0m\u001B[1;33m(\u001B[0m\u001B[0mdf_obj1\u001B[0m\u001B[1;33m,\u001B[0m \u001B[0mdf_obj2\u001B[0m\u001B[1;33m,\u001B[0m \u001B[0mon\u001B[0m\u001B[1;33m=\u001B[0m\u001B[1;34m'key'\u001B[0m\u001B[1;33m,\u001B[0m \u001B[0msuffixes\u001B[0m\u001B[1;33m=\u001B[0m\u001B[1;33m(\u001B[0m\u001B[1;34m'_left'\u001B[0m\u001B[1;33m,\u001B[0m \u001B[1;34m'_right'\u001B[0m\u001B[1;33m)\u001B[0m\u001B[1;33m)\u001B[0m\u001B[1;33m)\u001B[0m\u001B[1;33m\u001B[0m\u001B[1;33m\u001B[0m\u001B[0m\n\u001B[0m",
      "\u001B[1;32m~\\anaconda3\\lib\\site-packages\\pandas\\core\\reshape\\merge.py\u001B[0m in \u001B[0;36mmerge\u001B[1;34m(left, right, how, on, left_on, right_on, left_index, right_index, sort, suffixes, copy, indicator, validate)\u001B[0m\n\u001B[0;32m    104\u001B[0m     \u001B[0mvalidate\u001B[0m\u001B[1;33m:\u001B[0m \u001B[0mstr\u001B[0m \u001B[1;33m|\u001B[0m \u001B[1;32mNone\u001B[0m \u001B[1;33m=\u001B[0m \u001B[1;32mNone\u001B[0m\u001B[1;33m,\u001B[0m\u001B[1;33m\u001B[0m\u001B[1;33m\u001B[0m\u001B[0m\n\u001B[0;32m    105\u001B[0m ) -> DataFrame:\n\u001B[1;32m--> 106\u001B[1;33m     op = _MergeOperation(\n\u001B[0m\u001B[0;32m    107\u001B[0m         \u001B[0mleft\u001B[0m\u001B[1;33m,\u001B[0m\u001B[1;33m\u001B[0m\u001B[1;33m\u001B[0m\u001B[0m\n\u001B[0;32m    108\u001B[0m         \u001B[0mright\u001B[0m\u001B[1;33m,\u001B[0m\u001B[1;33m\u001B[0m\u001B[1;33m\u001B[0m\u001B[0m\n",
      "\u001B[1;32m~\\anaconda3\\lib\\site-packages\\pandas\\core\\reshape\\merge.py\u001B[0m in \u001B[0;36m__init__\u001B[1;34m(self, left, right, how, on, left_on, right_on, axis, left_index, right_index, sort, suffixes, copy, indicator, validate)\u001B[0m\n\u001B[0;32m    697\u001B[0m             \u001B[0mself\u001B[0m\u001B[1;33m.\u001B[0m\u001B[0mright_join_keys\u001B[0m\u001B[1;33m,\u001B[0m\u001B[1;33m\u001B[0m\u001B[1;33m\u001B[0m\u001B[0m\n\u001B[0;32m    698\u001B[0m             \u001B[0mself\u001B[0m\u001B[1;33m.\u001B[0m\u001B[0mjoin_names\u001B[0m\u001B[1;33m,\u001B[0m\u001B[1;33m\u001B[0m\u001B[1;33m\u001B[0m\u001B[0m\n\u001B[1;32m--> 699\u001B[1;33m         ) = self._get_merge_keys()\n\u001B[0m\u001B[0;32m    700\u001B[0m \u001B[1;33m\u001B[0m\u001B[0m\n\u001B[0;32m    701\u001B[0m         \u001B[1;31m# validate the merge keys dtypes. We may need to coerce\u001B[0m\u001B[1;33m\u001B[0m\u001B[1;33m\u001B[0m\u001B[0m\n",
      "\u001B[1;32m~\\anaconda3\\lib\\site-packages\\pandas\\core\\reshape\\merge.py\u001B[0m in \u001B[0;36m_get_merge_keys\u001B[1;34m(self)\u001B[0m\n\u001B[0;32m   1094\u001B[0m                     \u001B[1;32mif\u001B[0m \u001B[1;32mnot\u001B[0m \u001B[0mis_rkey\u001B[0m\u001B[1;33m(\u001B[0m\u001B[0mrk\u001B[0m\u001B[1;33m)\u001B[0m\u001B[1;33m:\u001B[0m\u001B[1;33m\u001B[0m\u001B[1;33m\u001B[0m\u001B[0m\n\u001B[0;32m   1095\u001B[0m                         \u001B[1;32mif\u001B[0m \u001B[0mrk\u001B[0m \u001B[1;32mis\u001B[0m \u001B[1;32mnot\u001B[0m \u001B[1;32mNone\u001B[0m\u001B[1;33m:\u001B[0m\u001B[1;33m\u001B[0m\u001B[1;33m\u001B[0m\u001B[0m\n\u001B[1;32m-> 1096\u001B[1;33m                             \u001B[0mright_keys\u001B[0m\u001B[1;33m.\u001B[0m\u001B[0mappend\u001B[0m\u001B[1;33m(\u001B[0m\u001B[0mright\u001B[0m\u001B[1;33m.\u001B[0m\u001B[0m_get_label_or_level_values\u001B[0m\u001B[1;33m(\u001B[0m\u001B[0mrk\u001B[0m\u001B[1;33m)\u001B[0m\u001B[1;33m)\u001B[0m\u001B[1;33m\u001B[0m\u001B[1;33m\u001B[0m\u001B[0m\n\u001B[0m\u001B[0;32m   1097\u001B[0m                         \u001B[1;32melse\u001B[0m\u001B[1;33m:\u001B[0m\u001B[1;33m\u001B[0m\u001B[1;33m\u001B[0m\u001B[0m\n\u001B[0;32m   1098\u001B[0m                             \u001B[1;31m# work-around for merge_asof(right_index=True)\u001B[0m\u001B[1;33m\u001B[0m\u001B[1;33m\u001B[0m\u001B[0m\n",
      "\u001B[1;32m~\\anaconda3\\lib\\site-packages\\pandas\\core\\generic.py\u001B[0m in \u001B[0;36m_get_label_or_level_values\u001B[1;34m(self, key, axis)\u001B[0m\n\u001B[0;32m   1777\u001B[0m             \u001B[0mvalues\u001B[0m \u001B[1;33m=\u001B[0m \u001B[0mself\u001B[0m\u001B[1;33m.\u001B[0m\u001B[0maxes\u001B[0m\u001B[1;33m[\u001B[0m\u001B[0maxis\u001B[0m\u001B[1;33m]\u001B[0m\u001B[1;33m.\u001B[0m\u001B[0mget_level_values\u001B[0m\u001B[1;33m(\u001B[0m\u001B[0mkey\u001B[0m\u001B[1;33m)\u001B[0m\u001B[1;33m.\u001B[0m\u001B[0m_values\u001B[0m\u001B[1;33m\u001B[0m\u001B[1;33m\u001B[0m\u001B[0m\n\u001B[0;32m   1778\u001B[0m         \u001B[1;32melse\u001B[0m\u001B[1;33m:\u001B[0m\u001B[1;33m\u001B[0m\u001B[1;33m\u001B[0m\u001B[0m\n\u001B[1;32m-> 1779\u001B[1;33m             \u001B[1;32mraise\u001B[0m \u001B[0mKeyError\u001B[0m\u001B[1;33m(\u001B[0m\u001B[0mkey\u001B[0m\u001B[1;33m)\u001B[0m\u001B[1;33m\u001B[0m\u001B[1;33m\u001B[0m\u001B[0m\n\u001B[0m\u001B[0;32m   1780\u001B[0m \u001B[1;33m\u001B[0m\u001B[0m\n\u001B[0;32m   1781\u001B[0m         \u001B[1;31m# Check for duplicates\u001B[0m\u001B[1;33m\u001B[0m\u001B[1;33m\u001B[0m\u001B[0m\n",
      "\u001B[1;31mKeyError\u001B[0m: 'key'"
     ]
    }
   ],
   "source": [
    "df_obj1 = pd.DataFrame({'key': ['b', 'b', 'a', 'c', 'a', 'a', 'b'],\n",
    "                        'data' : np.random.randint(0,10,7)})\n",
    "df_obj2 = pd.DataFrame({'key': ['a', 'b', 'd'],\n",
    "                        'data' : np.random.randint(0,10,3)})\n",
    "df_obj1 = df_obj1.rename(columns={'key':'key1'})\n",
    "df_obj2 = df_obj2.rename(columns={'key':'key2'})\n",
    "print(df_obj1)\n",
    "print(df_obj2)\n",
    "\n",
    "#拿相同的列名链接 有不同的元素\n",
    "# print(pd.merge(df_obj1, df_obj2, left_on='key1', right_on='key2'))\n",
    "\n",
    "#所有元素都会有 没有对应的另外用nan\n",
    "# pd.merge(df_obj1, df_obj2, left_on='key1', right_on='key2', how='outer')\n",
    "\n",
    "# 按第一个df的列明连 是全外连接的一部分\n",
    "# print(pd.merge(df_obj1, df_obj2, left_on='key1', right_on='key2', how='left'))"
   ],
   "metadata": {
    "collapsed": false,
    "pycharm": {
     "name": "#%%\n"
    }
   }
  },
  {
   "cell_type": "code",
   "execution_count": 16,
   "outputs": [
    {
     "name": "stdout",
     "output_type": "stream",
     "text": [
      "  key  data_left  data_right\n",
      "0   b          0           3\n",
      "1   b          7           3\n",
      "2   b          6           3\n",
      "3   a          4           7\n",
      "4   a          2           7\n",
      "5   a          4           7\n"
     ]
    }
   ],
   "source": [
    "df_obj1 = pd.DataFrame({'key': ['b', 'b', 'a', 'c', 'a', 'a', 'b'],\n",
    "                        'data' : np.random.randint(0,10,7)})\n",
    "df_obj2 = pd.DataFrame({'key': ['a', 'b', 'd'],\n",
    "                        'data' : np.random.randint(0,10,3)})\n",
    "print(pd.merge(df_obj1, df_obj2, on='key', suffixes=('_left', '_right')))"
   ],
   "metadata": {
    "collapsed": false,
    "pycharm": {
     "name": "#%%\n"
    }
   }
  },
  {
   "cell_type": "code",
   "execution_count": 18,
   "outputs": [
    {
     "name": "stdout",
     "output_type": "stream",
     "text": [
      "  key  data1\n",
      "0   b      4\n",
      "1   b      9\n",
      "2   a      2\n",
      "3   c      3\n",
      "4   a      4\n",
      "5   a      1\n",
      "6   b      5\n",
      "   data2\n",
      "a      6\n",
      "b      2\n",
      "d      7\n",
      "  key  data1  data2\n",
      "0   b      4      2\n",
      "1   b      9      2\n",
      "6   b      5      2\n",
      "2   a      2      6\n",
      "4   a      4      6\n",
      "5   a      1      6\n",
      "   data2 key  data1\n",
      "2      6   a      2\n",
      "4      6   a      4\n",
      "5      6   a      1\n",
      "0      2   b      4\n",
      "1      2   b      9\n",
      "6      2   b      5\n"
     ]
    }
   ],
   "source": [
    "df_obj1 = pd.DataFrame({'key': ['b', 'b', 'a', 'c', 'a', 'a', 'b'],\n",
    "                        'data1' : np.random.randint(0,10,7)})\n",
    "df_obj2 = pd.DataFrame({'data2' : np.random.randint(0,10,3)}, index=['a', 'b', 'd'])\n",
    "print(df_obj1)\n",
    "print(df_obj2)\n",
    "print(pd.merge(df_obj1, df_obj2, left_on='key', right_index=True))\n",
    "print(pd.merge(df_obj2,df_obj1, left_index=True, right_on='key'))"
   ],
   "metadata": {
    "collapsed": false,
    "pycharm": {
     "name": "#%%\n"
    }
   }
  },
  {
   "cell_type": "code",
   "execution_count": 19,
   "outputs": [
    {
     "name": "stdout",
     "output_type": "stream",
     "text": [
      "[[1 7 8 5]\n",
      " [4 9 2 3]\n",
      " [3 2 9 5]]\n",
      "[[7 5 6 2]\n",
      " [2 6 0 1]\n",
      " [7 6 9 1]]\n",
      "[[1 7 8 5]\n",
      " [4 9 2 3]\n",
      " [3 2 9 5]\n",
      " [7 5 6 2]\n",
      " [2 6 0 1]\n",
      " [7 6 9 1]]\n",
      "[[1 7 8 5 7 5 6 2]\n",
      " [4 9 2 3 2 6 0 1]\n",
      " [3 2 9 5 7 6 9 1]]\n"
     ]
    }
   ],
   "source": [
    "arr1 = np.random.randint(0, 10, (3, 4))\n",
    "arr2 = np.random.randint(0, 10, (3, 4))\n",
    "\n",
    "print(arr1)\n",
    "print(arr2)\n",
    "print(np.concatenate([arr1,arr2]))\n",
    "print(np.concatenate([arr1,arr2],axis=1))"
   ],
   "metadata": {
    "collapsed": false,
    "pycharm": {
     "name": "#%%\n"
    }
   }
  },
  {
   "cell_type": "code",
   "execution_count": 21,
   "outputs": [
    {
     "name": "stdout",
     "output_type": "stream",
     "text": [
      "0    8\n",
      "1    1\n",
      "2    3\n",
      "3    1\n",
      "4    6\n",
      "dtype: int32\n",
      "5    3\n",
      "6    6\n",
      "7    4\n",
      "8    7\n",
      "dtype: int32\n",
      "9     0\n",
      "10    4\n",
      "11    5\n",
      "dtype: int32\n",
      "                                                  \n",
      "      0    1    2\n",
      "0   8.0  NaN  NaN\n",
      "1   1.0  NaN  NaN\n",
      "2   3.0  NaN  NaN\n",
      "3   1.0  NaN  NaN\n",
      "4   6.0  NaN  NaN\n",
      "5   NaN  3.0  NaN\n",
      "6   NaN  6.0  NaN\n",
      "7   NaN  4.0  NaN\n",
      "8   NaN  7.0  NaN\n",
      "9   NaN  NaN  0.0\n",
      "10  NaN  NaN  4.0\n",
      "11  NaN  NaN  5.0\n",
      "Empty DataFrame\n",
      "Columns: [0, 1, 2]\n",
      "Index: []\n"
     ]
    }
   ],
   "source": [
    "ser_obj1=pd.Series(np.random.randint(0,10,5),index=range(0,5))\n",
    "ser_obj2 = pd.Series(np.random.randint(0, 10, 4), index=range(5,9))\n",
    "ser_obj3 = pd.Series(np.random.randint(0, 10, 3), index=range(9,12))\n",
    "\n",
    "print(ser_obj1)\n",
    "print(ser_obj2)\n",
    "print(ser_obj3)\n",
    "print(' '*50)\n",
    "# 直接往下拼接\n",
    "# print(pd.concat([ser_obj1,ser_obj2,ser_obj3]))\n",
    "#横着拼接 没对应的用nan\n",
    "print(pd.concat([ser_obj1,ser_obj2,ser_obj3],axis=1))"
   ],
   "metadata": {
    "collapsed": false,
    "pycharm": {
     "name": "#%%\n"
    }
   }
  },
  {
   "cell_type": "code",
   "execution_count": 23,
   "outputs": [
    {
     "name": "stdout",
     "output_type": "stream",
     "text": [
      "0    3\n",
      "1    5\n",
      "2    5\n",
      "3    7\n",
      "4    5\n",
      "dtype: int32\n",
      "0    9\n",
      "1    5\n",
      "2    6\n",
      "3    9\n",
      "dtype: int32\n",
      "0    0\n",
      "1    7\n",
      "2    0\n",
      "dtype: int32\n",
      "   0  1  2\n",
      "0  3  9  0\n",
      "1  5  5  7\n",
      "2  5  6  0\n",
      "0    3\n",
      "1    5\n",
      "2    5\n",
      "3    7\n",
      "4    5\n",
      "0    9\n",
      "1    5\n",
      "2    6\n",
      "3    9\n",
      "0    0\n",
      "1    7\n",
      "2    0\n",
      "dtype: int32\n"
     ]
    }
   ],
   "source": [
    "ser_obj1 = pd.Series(np.random.randint(0, 10, 5), index=range(5))\n",
    "ser_obj2 = pd.Series(np.random.randint(0, 10, 4), index=range(4))\n",
    "ser_obj3 = pd.Series(np.random.randint(0, 10, 3), index=range(3))\n",
    "\n",
    "print(ser_obj1)\n",
    "print(ser_obj2)\n",
    "print(ser_obj3)\n",
    "#有重复索引 inner join 没有对应的不出现\n",
    "print(pd.concat([ser_obj1,ser_obj2,ser_obj3],axis=1,join='inner'))\n",
    "print(pd.concat([ser_obj1, ser_obj2, ser_obj3]))"
   ],
   "metadata": {
    "collapsed": false,
    "pycharm": {
     "name": "#%%\n"
    }
   }
  },
  {
   "cell_type": "code",
   "execution_count": 25,
   "outputs": [
    {
     "name": "stdout",
     "output_type": "stream",
     "text": [
      "   A  B\n",
      "a  5  7\n",
      "b  7  9\n",
      "c  0  4\n",
      "   A  B\n",
      "a  8  5\n",
      "b  0  0\n",
      "   A  B\n",
      "a  5  7\n",
      "b  7  9\n",
      "c  0  4\n",
      "a  8  5\n",
      "b  0  0\n",
      "   A  B    A    B\n",
      "a  5  7  8.0  5.0\n",
      "b  7  9  0.0  0.0\n",
      "c  0  4  NaN  NaN\n"
     ]
    }
   ],
   "source": [
    "df_obj1 = pd.DataFrame(np.random.randint(0, 10, (3, 2)), index=['a', 'b', 'c'],\n",
    "                       columns=['A', 'B'])\n",
    "df_obj2 = pd.DataFrame(np.random.randint(0, 10, (2, 2)), index=['a', 'b'],\n",
    "                       columns=['A', 'B'])\n",
    "print(df_obj1)\n",
    "print(df_obj2)\n",
    "#与series同理\n",
    "print(pd.concat([df_obj1, df_obj2]))\n",
    "print(pd.concat([df_obj1, df_obj2], axis=1))"
   ],
   "metadata": {
    "collapsed": false,
    "pycharm": {
     "name": "#%%\n"
    }
   }
  },
  {
   "cell_type": "code",
   "execution_count": 28,
   "outputs": [
    {
     "name": "stdout",
     "output_type": "stream",
     "text": [
      "   data1  data2\n",
      "0      8      1\n",
      "1      8      7\n",
      "2      5      8\n",
      "3      6      2\n",
      "4      1      1\n",
      "0  data1    8\n",
      "   data2    1\n",
      "1  data1    8\n",
      "   data2    7\n",
      "2  data1    5\n",
      "   data2    8\n",
      "3  data1    6\n",
      "   data2    2\n",
      "4  data1    1\n",
      "   data2    1\n",
      "dtype: int32\n"
     ]
    },
    {
     "ename": "KeyError",
     "evalue": "'Requested level (data1) does not match index name (None)'",
     "output_type": "error",
     "traceback": [
      "\u001B[1;31m---------------------------------------------------------------------------\u001B[0m",
      "\u001B[1;31mKeyError\u001B[0m                                  Traceback (most recent call last)",
      "\u001B[1;32m~\\AppData\\Local\\Temp/ipykernel_28996/3974212064.py\u001B[0m in \u001B[0;36m<module>\u001B[1;34m\u001B[0m\n\u001B[0;32m      3\u001B[0m \u001B[0mstacked\u001B[0m \u001B[1;33m=\u001B[0m \u001B[0mdf_obj\u001B[0m\u001B[1;33m.\u001B[0m\u001B[0mstack\u001B[0m\u001B[1;33m(\u001B[0m\u001B[1;33m)\u001B[0m\u001B[1;33m\u001B[0m\u001B[1;33m\u001B[0m\u001B[0m\n\u001B[0;32m      4\u001B[0m \u001B[0mprint\u001B[0m\u001B[1;33m(\u001B[0m\u001B[0mstacked\u001B[0m\u001B[1;33m)\u001B[0m\u001B[1;33m\u001B[0m\u001B[1;33m\u001B[0m\u001B[0m\n\u001B[1;32m----> 5\u001B[1;33m \u001B[0mstacked1\u001B[0m\u001B[1;33m=\u001B[0m\u001B[0mdf_obj\u001B[0m\u001B[1;33m.\u001B[0m\u001B[0mstack\u001B[0m\u001B[1;33m(\u001B[0m\u001B[0mlevel\u001B[0m\u001B[1;33m=\u001B[0m\u001B[1;34m'data1'\u001B[0m\u001B[1;33m)\u001B[0m\u001B[1;33m\u001B[0m\u001B[1;33m\u001B[0m\u001B[0m\n\u001B[0m\u001B[0;32m      6\u001B[0m \u001B[0mprint\u001B[0m\u001B[1;33m(\u001B[0m\u001B[0mstacked1\u001B[0m\u001B[1;33m)\u001B[0m\u001B[1;33m\u001B[0m\u001B[1;33m\u001B[0m\u001B[0m\n",
      "\u001B[1;32m~\\anaconda3\\lib\\site-packages\\pandas\\core\\frame.py\u001B[0m in \u001B[0;36mstack\u001B[1;34m(self, level, dropna)\u001B[0m\n\u001B[0;32m   8132\u001B[0m             \u001B[0mresult\u001B[0m \u001B[1;33m=\u001B[0m \u001B[0mstack_multiple\u001B[0m\u001B[1;33m(\u001B[0m\u001B[0mself\u001B[0m\u001B[1;33m,\u001B[0m \u001B[0mlevel\u001B[0m\u001B[1;33m,\u001B[0m \u001B[0mdropna\u001B[0m\u001B[1;33m=\u001B[0m\u001B[0mdropna\u001B[0m\u001B[1;33m)\u001B[0m\u001B[1;33m\u001B[0m\u001B[1;33m\u001B[0m\u001B[0m\n\u001B[0;32m   8133\u001B[0m         \u001B[1;32melse\u001B[0m\u001B[1;33m:\u001B[0m\u001B[1;33m\u001B[0m\u001B[1;33m\u001B[0m\u001B[0m\n\u001B[1;32m-> 8134\u001B[1;33m             \u001B[0mresult\u001B[0m \u001B[1;33m=\u001B[0m \u001B[0mstack\u001B[0m\u001B[1;33m(\u001B[0m\u001B[0mself\u001B[0m\u001B[1;33m,\u001B[0m \u001B[0mlevel\u001B[0m\u001B[1;33m,\u001B[0m \u001B[0mdropna\u001B[0m\u001B[1;33m=\u001B[0m\u001B[0mdropna\u001B[0m\u001B[1;33m)\u001B[0m\u001B[1;33m\u001B[0m\u001B[1;33m\u001B[0m\u001B[0m\n\u001B[0m\u001B[0;32m   8135\u001B[0m \u001B[1;33m\u001B[0m\u001B[0m\n\u001B[0;32m   8136\u001B[0m         \u001B[1;32mreturn\u001B[0m \u001B[0mresult\u001B[0m\u001B[1;33m.\u001B[0m\u001B[0m__finalize__\u001B[0m\u001B[1;33m(\u001B[0m\u001B[0mself\u001B[0m\u001B[1;33m,\u001B[0m \u001B[0mmethod\u001B[0m\u001B[1;33m=\u001B[0m\u001B[1;34m\"stack\"\u001B[0m\u001B[1;33m)\u001B[0m\u001B[1;33m\u001B[0m\u001B[1;33m\u001B[0m\u001B[0m\n",
      "\u001B[1;32m~\\anaconda3\\lib\\site-packages\\pandas\\core\\reshape\\reshape.py\u001B[0m in \u001B[0;36mstack\u001B[1;34m(frame, level, dropna)\u001B[0m\n\u001B[0;32m    526\u001B[0m \u001B[1;33m\u001B[0m\u001B[0m\n\u001B[0;32m    527\u001B[0m     \u001B[1;31m# Will also convert negative level numbers and check if out of bounds.\u001B[0m\u001B[1;33m\u001B[0m\u001B[1;33m\u001B[0m\u001B[0m\n\u001B[1;32m--> 528\u001B[1;33m     \u001B[0mlevel_num\u001B[0m \u001B[1;33m=\u001B[0m \u001B[0mframe\u001B[0m\u001B[1;33m.\u001B[0m\u001B[0mcolumns\u001B[0m\u001B[1;33m.\u001B[0m\u001B[0m_get_level_number\u001B[0m\u001B[1;33m(\u001B[0m\u001B[0mlevel\u001B[0m\u001B[1;33m)\u001B[0m\u001B[1;33m\u001B[0m\u001B[1;33m\u001B[0m\u001B[0m\n\u001B[0m\u001B[0;32m    529\u001B[0m \u001B[1;33m\u001B[0m\u001B[0m\n\u001B[0;32m    530\u001B[0m     \u001B[1;32mif\u001B[0m \u001B[0misinstance\u001B[0m\u001B[1;33m(\u001B[0m\u001B[0mframe\u001B[0m\u001B[1;33m.\u001B[0m\u001B[0mcolumns\u001B[0m\u001B[1;33m,\u001B[0m \u001B[0mMultiIndex\u001B[0m\u001B[1;33m)\u001B[0m\u001B[1;33m:\u001B[0m\u001B[1;33m\u001B[0m\u001B[1;33m\u001B[0m\u001B[0m\n",
      "\u001B[1;32m~\\anaconda3\\lib\\site-packages\\pandas\\core\\indexes\\base.py\u001B[0m in \u001B[0;36m_get_level_number\u001B[1;34m(self, level)\u001B[0m\n\u001B[0;32m   1733\u001B[0m \u001B[1;33m\u001B[0m\u001B[0m\n\u001B[0;32m   1734\u001B[0m     \u001B[1;32mdef\u001B[0m \u001B[0m_get_level_number\u001B[0m\u001B[1;33m(\u001B[0m\u001B[0mself\u001B[0m\u001B[1;33m,\u001B[0m \u001B[0mlevel\u001B[0m\u001B[1;33m)\u001B[0m \u001B[1;33m->\u001B[0m \u001B[0mint\u001B[0m\u001B[1;33m:\u001B[0m\u001B[1;33m\u001B[0m\u001B[1;33m\u001B[0m\u001B[0m\n\u001B[1;32m-> 1735\u001B[1;33m         \u001B[0mself\u001B[0m\u001B[1;33m.\u001B[0m\u001B[0m_validate_index_level\u001B[0m\u001B[1;33m(\u001B[0m\u001B[0mlevel\u001B[0m\u001B[1;33m)\u001B[0m\u001B[1;33m\u001B[0m\u001B[1;33m\u001B[0m\u001B[0m\n\u001B[0m\u001B[0;32m   1736\u001B[0m         \u001B[1;32mreturn\u001B[0m \u001B[1;36m0\u001B[0m\u001B[1;33m\u001B[0m\u001B[1;33m\u001B[0m\u001B[0m\n\u001B[0;32m   1737\u001B[0m \u001B[1;33m\u001B[0m\u001B[0m\n",
      "\u001B[1;32m~\\anaconda3\\lib\\site-packages\\pandas\\core\\indexes\\base.py\u001B[0m in \u001B[0;36m_validate_index_level\u001B[1;34m(self, level)\u001B[0m\n\u001B[0;32m   1728\u001B[0m                 )\n\u001B[0;32m   1729\u001B[0m         \u001B[1;32melif\u001B[0m \u001B[0mlevel\u001B[0m \u001B[1;33m!=\u001B[0m \u001B[0mself\u001B[0m\u001B[1;33m.\u001B[0m\u001B[0mname\u001B[0m\u001B[1;33m:\u001B[0m\u001B[1;33m\u001B[0m\u001B[1;33m\u001B[0m\u001B[0m\n\u001B[1;32m-> 1730\u001B[1;33m             raise KeyError(\n\u001B[0m\u001B[0;32m   1731\u001B[0m                 \u001B[1;34mf\"Requested level ({level}) does not match index name ({self.name})\"\u001B[0m\u001B[1;33m\u001B[0m\u001B[1;33m\u001B[0m\u001B[0m\n\u001B[0;32m   1732\u001B[0m             )\n",
      "\u001B[1;31mKeyError\u001B[0m: 'Requested level (data1) does not match index name (None)'"
     ]
    }
   ],
   "source": [
    "df_obj = pd.DataFrame(np.random.randint(0,10, (5,2)), columns=['data1', 'data2'])\n",
    "print(df_obj)\n",
    "stacked = df_obj.stack()\n",
    "print(stacked)"
   ],
   "metadata": {
    "collapsed": false,
    "pycharm": {
     "name": "#%%\n"
    }
   }
  },
  {
   "cell_type": "code",
   "execution_count": 31,
   "outputs": [
    {
     "name": "stdout",
     "output_type": "stream",
     "text": [
      "            data1  data2\n",
      "cloth size              \n",
      "a     0         0      1\n",
      "      1         2      3\n",
      "      2         4      5\n",
      "b     0         6      7\n",
      "      1         8      9\n",
      "      2        10     11\n",
      "c     0        12     13\n",
      "      1        14     15\n",
      "      2        16     17\n",
      "d     0        18     19\n",
      "      1        20     21\n",
      "      2        22     23\n",
      "      data1         data2        \n",
      "size      0   1   2     0   1   2\n",
      "cloth                            \n",
      "a         0   2   4     1   3   5\n",
      "b         6   8  10     7   9  11\n",
      "c        12  14  16    13  15  17\n",
      "d        18  20  22    19  21  23\n",
      "      data1             data2            \n",
      "cloth     a   b   c   d     a   b   c   d\n",
      "size                                     \n",
      "0         0   6  12  18     1   7  13  19\n",
      "1         2   8  14  20     3   9  15  21\n",
      "2         4  10  16  22     5  11  17  23\n"
     ]
    }
   ],
   "source": [
    "index1=pd.MultiIndex.from_arrays([['a', 'a', 'a', 'b', 'b', 'b', 'c', 'c', 'c', 'd', 'd', 'd'],\n",
    "                [0, 1, 2, 0, 1, 2, 0, 1, 2, 0, 1, 2]],names=['cloth','size'])\n",
    "df=pd.DataFrame(np.arange(24).reshape(12,2),index=index1,columns=['data1','data2'])\n",
    "print(df)\n",
    "# 默认内层索引，level=-1\n",
    "df_unstacked=df.unstack()\n",
    "print(df_unstacked)\n",
    "df1_unstacked=df.unstack(level='cloth')\n",
    "print(df1_unstacked)"
   ],
   "metadata": {
    "collapsed": false,
    "pycharm": {
     "name": "#%%\n"
    }
   }
  },
  {
   "cell_type": "code",
   "execution_count": 46,
   "outputs": [
    {
     "name": "stdout",
     "output_type": "stream",
     "text": [
      "  data1  data2\n",
      "0     a      1\n",
      "1     a      1\n",
      "2     a      2\n",
      "3     a      0\n",
      "4     b      1\n",
      "5     b      3\n",
      "6     b      1\n",
      "7     b      0\n",
      "0    False\n",
      "1     True\n",
      "2    False\n",
      "3    False\n",
      "4    False\n",
      "5    False\n",
      "6     True\n",
      "7    False\n",
      "dtype: bool\n",
      "  data1  data2\n",
      "0     a      1\n",
      "2     a      2\n",
      "3     a      0\n",
      "4     b      1\n",
      "5     b      3\n",
      "7     b      0\n",
      "0    False\n",
      "1     True\n",
      "2    False\n",
      "3    False\n",
      "4     True\n",
      "5    False\n",
      "6     True\n",
      "7     True\n",
      "dtype: bool\n"
     ]
    }
   ],
   "source": [
    "df.obj=pd.DataFrame({'data1':['a']*4+['b']*4,\n",
    "                    'data2': np.random.randint(0,4,8)})\n",
    "print(df_obj)\n",
    "#返回TF矩阵\n",
    "print(df_obj.duplicated())\n",
    "print(df_obj[~df_obj.duplicated()])\n",
    "print(df_obj.duplicated('data2'))"
   ],
   "metadata": {
    "collapsed": false,
    "pycharm": {
     "name": "#%%\n"
    }
   }
  },
  {
   "cell_type": "code",
   "execution_count": 49,
   "outputs": [
    {
     "name": "stdout",
     "output_type": "stream",
     "text": [
      "   data1 data2\n",
      "0    NaN     1\n",
      "1    NaN     2\n",
      "2    NaN     3\n",
      "3    NaN     5\n",
      "0    False\n",
      "1     True\n",
      "2     True\n",
      "3     True\n",
      "dtype: bool\n",
      "   data1 data2\n",
      "0    NaN     1\n"
     ]
    }
   ],
   "source": [
    "df_obj1 = pd.DataFrame({'data1' :[np.nan] * 4,\n",
    "                       'data2' :list('1235')})\n",
    "print(df_obj1)\n",
    "print(df_obj1.duplicated('data1'))\n",
    "df_obj1.drop_duplicates('data1',inplace=True)\n",
    "print(df_obj1)"
   ],
   "metadata": {
    "collapsed": false,
    "pycharm": {
     "name": "#%%\n"
    }
   }
  },
  {
   "cell_type": "code",
   "execution_count": 59,
   "outputs": [
    {
     "name": "stdout",
     "output_type": "stream",
     "text": [
      "   data1  data2\n",
      "0      3     92\n",
      "1      3     71\n",
      "2      3     89\n",
      "3      5     81\n",
      "4      5     60\n",
      "5      5     46\n",
      "   data2\n",
      "0    252\n",
      "1    252\n",
      "2    252\n",
      "3    187\n",
      "4    187\n",
      "5    187\n",
      "       data1      data2\n",
      "data1                  \n",
      "3        3.0  84.000000\n",
      "5        5.0  62.333333\n"
     ]
    }
   ],
   "source": [
    "df1=pd.DataFrame({'data1':[3,3,3,5,5,5],'data2':np.random.randint(1,100,6)})\n",
    "print(df1)\n",
    "df2=df1.groupby('data1').transform(np.sum)\n",
    "print(df2)\n",
    "df3=df1.groupby('data1').apply(np.mean)\n",
    "print(df3)"
   ],
   "metadata": {
    "collapsed": false,
    "pycharm": {
     "name": "#%%\n"
    }
   }
  }
 ],
 "metadata": {
  "kernelspec": {
   "name": "pycharm-a7ca9fd6",
   "language": "python",
   "display_name": "PyCharm (day32)"
  },
  "language_info": {
   "codemirror_mode": {
    "name": "ipython",
    "version": 2
   },
   "file_extension": ".py",
   "mimetype": "text/x-python",
   "name": "python",
   "nbconvert_exporter": "python",
   "pygments_lexer": "ipython2",
   "version": "2.7.6"
  }
 },
 "nbformat": 4,
 "nbformat_minor": 0
}