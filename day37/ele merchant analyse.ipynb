{
 "cells": [
  {
   "cell_type": "code",
   "execution_count": 6,
   "metadata": {
    "collapsed": true
   },
   "outputs": [],
   "source": [
    "import numpy as np\n",
    "import pandas as pd\n",
    "import matplotlib.pyplot as plt\n",
    "import os"
   ]
  },
  {
   "cell_type": "code",
   "execution_count": 3,
   "outputs": [],
   "source": [
    "import plotly as py\n",
    "import plotly.graph_objs as go"
   ],
   "metadata": {
    "collapsed": false,
    "pycharm": {
     "name": "#%%\n"
    }
   }
  },
  {
   "cell_type": "code",
   "execution_count": 11,
   "outputs": [
    {
     "name": "stdout",
     "output_type": "stream",
     "text": [
      "(541909, 8)\n",
      "<class 'pandas.core.frame.DataFrame'>\n",
      "RangeIndex: 541909 entries, 0 to 541908\n",
      "Data columns (total 8 columns):\n",
      " #   Column       Non-Null Count   Dtype  \n",
      "---  ------       --------------   -----  \n",
      " 0   InvoiceNo    541909 non-null  object \n",
      " 1   StockCode    541909 non-null  object \n",
      " 2   Description  540455 non-null  object \n",
      " 3   Quantity     541909 non-null  int64  \n",
      " 4   InvoiceDate  541909 non-null  object \n",
      " 5   UnitPrice    541909 non-null  float64\n",
      " 6   CustomerID   406829 non-null  object \n",
      " 7   Country      541909 non-null  object \n",
      "dtypes: float64(1), int64(1), object(6)\n",
      "memory usage: 33.1+ MB\n",
      "None\n"
     ]
    }
   ],
   "source": [
    "df=pd.read_csv('./data.csv',encoding='ISO-8859-1',dtype={'CustomerID':str})\n",
    "print(df.shape)\n",
    "print(df.info())"
   ],
   "metadata": {
    "collapsed": false,
    "pycharm": {
     "name": "#%%\n"
    }
   }
  },
  {
   "cell_type": "code",
   "execution_count": 12,
   "outputs": [
    {
     "name": "stdout",
     "output_type": "stream",
     "text": [
      "InvoiceNo      0.000000\n",
      "StockCode      0.000000\n",
      "Description    0.002683\n",
      "Quantity       0.000000\n",
      "InvoiceDate    0.000000\n",
      "UnitPrice      0.000000\n",
      "CustomerID     0.249267\n",
      "Country        0.000000\n",
      "dtype: float64\n"
     ]
    }
   ],
   "source": [
    "missing_rate=df.apply(lambda x:sum(x.isnull())/len(x))\n",
    "print(missing_rate)"
   ],
   "metadata": {
    "collapsed": false,
    "pycharm": {
     "name": "#%%\n"
    }
   }
  },
  {
   "cell_type": "code",
   "execution_count": 13,
   "outputs": [
    {
     "name": "stdout",
     "output_type": "stream",
     "text": [
      "(541909, 7)\n"
     ]
    }
   ],
   "source": [
    "df.drop(['Description'],axis=1,inplace=True)\n",
    "print(df.shape)"
   ],
   "metadata": {
    "collapsed": false,
    "pycharm": {
     "name": "#%%\n"
    }
   }
  },
  {
   "cell_type": "code",
   "execution_count": 14,
   "outputs": [
    {
     "name": "stdout",
     "output_type": "stream",
     "text": [
      "(406829, 7)\n"
     ]
    }
   ],
   "source": [
    "# ID为空就删除改行\n",
    "df.dropna(inplace=True)\n",
    "print(df.shape)"
   ],
   "metadata": {
    "collapsed": false,
    "pycharm": {
     "name": "#%%\n"
    }
   }
  },
  {
   "cell_type": "code",
   "execution_count": 15,
   "outputs": [
    {
     "name": "stdout",
     "output_type": "stream",
     "text": [
      "  InvoiceNo StockCode  Quantity     InvoiceDate  UnitPrice CustomerID  \\\n",
      "0    536365    85123A         6  12/1/2010 8:26       2.55      17850   \n",
      "\n",
      "          Country  \n",
      "0  United Kingdom  \n"
     ]
    }
   ],
   "source": [
    "print(df.head(1))"
   ],
   "metadata": {
    "collapsed": false,
    "pycharm": {
     "name": "#%%\n"
    }
   }
  },
  {
   "cell_type": "code",
   "execution_count": 16,
   "outputs": [
    {
     "name": "stdout",
     "output_type": "stream",
     "text": [
      "(406829, 8)\n"
     ]
    }
   ],
   "source": [
    "df['date']=[x.split(' ')[0] for x in df['InvoiceDate']]\n",
    "df['time']=[x.split(' ')[1] for x in df['InvoiceDate']]\n",
    "df.drop(['InvoiceDate'],axis=1,inplace=True)\n",
    "print(df.shape)"
   ],
   "metadata": {
    "collapsed": false,
    "pycharm": {
     "name": "#%%\n"
    }
   }
  },
  {
   "cell_type": "code",
   "execution_count": 17,
   "outputs": [
    {
     "name": "stdout",
     "output_type": "stream",
     "text": [
      "(406829, 11)\n",
      "  InvoiceNo StockCode  Quantity  UnitPrice CustomerID         Country  \\\n",
      "0    536365    85123A         6       2.55      17850  United Kingdom   \n",
      "\n",
      "        date  time  year month day  \n",
      "0 2010-12-01  8:26  2010    12   1  \n"
     ]
    }
   ],
   "source": [
    "df['year']=[x.split('/')[2] for x in df['date']]\n",
    "df['month']=[x.split('/')[0] for x in df['date']]\n",
    "df['day']=[x.split('/')[1] for x in df['date']]\n",
    "df['date']=pd.to_datetime(df['date'])\n",
    "print(df.shape)\n",
    "print(df.head(1))"
   ],
   "metadata": {
    "collapsed": false,
    "pycharm": {
     "name": "#%%\n"
    }
   }
  },
  {
   "cell_type": "code",
   "execution_count": 18,
   "outputs": [
    {
     "name": "stdout",
     "output_type": "stream",
     "text": [
      "<class 'pandas.core.frame.DataFrame'>\n",
      "Int64Index: 406829 entries, 0 to 541908\n",
      "Data columns (total 11 columns):\n",
      " #   Column      Non-Null Count   Dtype         \n",
      "---  ------      --------------   -----         \n",
      " 0   InvoiceNo   406829 non-null  object        \n",
      " 1   StockCode   406829 non-null  object        \n",
      " 2   Quantity    406829 non-null  int64         \n",
      " 3   UnitPrice   406829 non-null  float64       \n",
      " 4   CustomerID  406829 non-null  object        \n",
      " 5   Country     406829 non-null  object        \n",
      " 6   date        406829 non-null  datetime64[ns]\n",
      " 7   time        406829 non-null  object        \n",
      " 8   year        406829 non-null  object        \n",
      " 9   month       406829 non-null  object        \n",
      " 10  day         406829 non-null  object        \n",
      "dtypes: datetime64[ns](1), float64(1), int64(1), object(8)\n",
      "memory usage: 37.2+ MB\n",
      "None\n"
     ]
    }
   ],
   "source": [
    "print(df.info())"
   ],
   "metadata": {
    "collapsed": false,
    "pycharm": {
     "name": "#%%\n"
    }
   }
  },
  {
   "cell_type": "code",
   "execution_count": 19,
   "outputs": [
    {
     "name": "stdout",
     "output_type": "stream",
     "text": [
      "(406829, 11)\n",
      "(401602, 11)\n"
     ]
    }
   ],
   "source": [
    "print(df.shape)\n",
    "df=df.drop_duplicates()\n",
    "print(df.shape)"
   ],
   "metadata": {
    "collapsed": false,
    "pycharm": {
     "name": "#%%\n"
    }
   }
  },
  {
   "cell_type": "code",
   "execution_count": 20,
   "outputs": [
    {
     "name": "stdout",
     "output_type": "stream",
     "text": [
      "            Quantity      UnitPrice\n",
      "count  401602.000000  401602.000000\n",
      "mean       12.182579       3.474064\n",
      "std       250.283248      69.764209\n",
      "min    -80995.000000       0.000000\n",
      "25%         2.000000       1.250000\n",
      "50%         5.000000       1.950000\n",
      "75%        12.000000       3.750000\n",
      "max     80995.000000   38970.000000\n"
     ]
    }
   ],
   "source": [
    "print(df.describe())"
   ],
   "metadata": {
    "collapsed": false,
    "pycharm": {
     "name": "#%%\n"
    }
   }
  },
  {
   "cell_type": "code",
   "execution_count": 22,
   "outputs": [
    {
     "name": "stdout",
     "output_type": "stream",
     "text": [
      "0.022091523448588404\n"
     ]
    }
   ],
   "source": [
    "return_rate=df[df['Quantity']<0].shape[0]/df['Quantity'].shape[0]\n",
    "print(return_rate)"
   ],
   "metadata": {
    "collapsed": false,
    "pycharm": {
     "name": "#%%\n"
    }
   }
  },
  {
   "cell_type": "code",
   "execution_count": 25,
   "outputs": [
    {
     "name": "stdout",
     "output_type": "stream",
     "text": [
      "(8872, 11)\n"
     ]
    }
   ],
   "source": [
    "df1=df[df['Quantity']<=0]\n",
    "print(df1.shape)"
   ],
   "metadata": {
    "collapsed": false,
    "pycharm": {
     "name": "#%%\n"
    }
   }
  },
  {
   "cell_type": "code",
   "execution_count": 26,
   "outputs": [
    {
     "name": "stdout",
     "output_type": "stream",
     "text": [
      "(40, 11)\n"
     ]
    }
   ],
   "source": [
    "df2=df[df['UnitPrice']<=0]\n",
    "print(df2.shape)"
   ],
   "metadata": {
    "collapsed": false,
    "pycharm": {
     "name": "#%%\n"
    }
   }
  },
  {
   "cell_type": "code",
   "execution_count": 30,
   "outputs": [
    {
     "name": "stderr",
     "output_type": "stream",
     "text": [
      "C:\\Users\\gdmmx\\AppData\\Local\\Temp/ipykernel_28064/3359828142.py:2: SettingWithCopyWarning: \n",
      "A value is trying to be set on a copy of a slice from a DataFrame.\n",
      "Try using .loc[row_indexer,col_indexer] = value instead\n",
      "\n",
      "See the caveats in the documentation: https://pandas.pydata.org/pandas-docs/stable/user_guide/indexing.html#returning-a-view-versus-a-copy\n",
      "  df1['total_price']=df1['Quantity']*df1['UnitPrice']\n"
     ]
    },
    {
     "ename": "TypeError",
     "evalue": "unsupported operand type(s) for /: 'method' and 'method'",
     "output_type": "error",
     "traceback": [
      "\u001B[1;31m---------------------------------------------------------------------------\u001B[0m",
      "\u001B[1;31mTypeError\u001B[0m                                 Traceback (most recent call last)",
      "\u001B[1;32m~\\AppData\\Local\\Temp/ipykernel_28064/3359828142.py\u001B[0m in \u001B[0;36m<module>\u001B[1;34m\u001B[0m\n\u001B[0;32m      1\u001B[0m \u001B[0mdf\u001B[0m\u001B[1;33m[\u001B[0m\u001B[1;34m'total_price'\u001B[0m\u001B[1;33m]\u001B[0m\u001B[1;33m=\u001B[0m\u001B[0mdf\u001B[0m\u001B[1;33m[\u001B[0m\u001B[1;34m'Quantity'\u001B[0m\u001B[1;33m]\u001B[0m\u001B[1;33m*\u001B[0m\u001B[0mdf\u001B[0m\u001B[1;33m[\u001B[0m\u001B[1;34m'UnitPrice'\u001B[0m\u001B[1;33m]\u001B[0m\u001B[1;33m\u001B[0m\u001B[1;33m\u001B[0m\u001B[0m\n\u001B[0;32m      2\u001B[0m \u001B[0mdf1\u001B[0m\u001B[1;33m[\u001B[0m\u001B[1;34m'total_price'\u001B[0m\u001B[1;33m]\u001B[0m\u001B[1;33m=\u001B[0m\u001B[0mdf1\u001B[0m\u001B[1;33m[\u001B[0m\u001B[1;34m'Quantity'\u001B[0m\u001B[1;33m]\u001B[0m\u001B[1;33m*\u001B[0m\u001B[0mdf1\u001B[0m\u001B[1;33m[\u001B[0m\u001B[1;34m'UnitPrice'\u001B[0m\u001B[1;33m]\u001B[0m\u001B[1;33m\u001B[0m\u001B[1;33m\u001B[0m\u001B[0m\n\u001B[1;32m----> 3\u001B[1;33m \u001B[0mprint\u001B[0m\u001B[1;33m(\u001B[0m\u001B[0mdf1\u001B[0m\u001B[1;33m[\u001B[0m\u001B[1;34m'total_price'\u001B[0m\u001B[1;33m]\u001B[0m\u001B[1;33m.\u001B[0m\u001B[0msum\u001B[0m\u001B[1;33m/\u001B[0m\u001B[0mdf\u001B[0m\u001B[1;33m.\u001B[0m\u001B[0mloc\u001B[0m\u001B[1;33m[\u001B[0m\u001B[0mdf\u001B[0m\u001B[1;33m[\u001B[0m\u001B[1;34m'Quantity'\u001B[0m\u001B[1;33m]\u001B[0m\u001B[1;33m>\u001B[0m\u001B[1;36m0\u001B[0m\u001B[1;33m]\u001B[0m\u001B[1;33m[\u001B[0m\u001B[1;34m'total_price'\u001B[0m\u001B[1;33m]\u001B[0m\u001B[1;33m.\u001B[0m\u001B[0msum\u001B[0m\u001B[1;33m)\u001B[0m\u001B[1;33m\u001B[0m\u001B[1;33m\u001B[0m\u001B[0m\n\u001B[0m",
      "\u001B[1;31mTypeError\u001B[0m: unsupported operand type(s) for /: 'method' and 'method'"
     ]
    }
   ],
   "source": [
    "df['total_price']=df['Quantity']*df['UnitPrice']\n",
    "df1['total_price']=df1['Quantity']*df1['UnitPrice']"
   ],
   "metadata": {
    "collapsed": false,
    "pycharm": {
     "name": "#%%\n"
    }
   }
  },
  {
   "cell_type": "code",
   "execution_count": 33,
   "outputs": [
    {
     "name": "stdout",
     "output_type": "stream",
     "text": [
      "0.06849476321480963\n"
     ]
    }
   ],
   "source": [
    "return_rate=np.abs(df1['total_price'].sum()/df[df['Quantity']>0]['total_price'].sum())\n",
    "print(return_rate)"
   ],
   "metadata": {
    "collapsed": false,
    "pycharm": {
     "name": "#%%\n"
    }
   }
  },
  {
   "cell_type": "code",
   "execution_count": 35,
   "outputs": [
    {
     "name": "stdout",
     "output_type": "stream",
     "text": [
      "      total_price                                                     \\\n",
      "month           1        10        11         12         2         3   \n",
      "year                                                                   \n",
      "2010          NaN       NaN       NaN  -18049.87       NaN       NaN   \n",
      "2011    -94369.41 -62336.07 -29390.54 -175651.01 -10550.85 -15505.55   \n",
      "\n",
      "                                                                   \n",
      "month         4         5         6         7         8         9  \n",
      "year                                                               \n",
      "2010        NaN       NaN       NaN       NaN       NaN       NaN  \n",
      "2011  -43151.66 -30343.48 -53183.53 -25850.58 -28972.95 -21333.97  \n"
     ]
    }
   ],
   "source": [
    "return_pic=pd.pivot_table(df1,index=['year'],columns=['month'],aggfunc={'total_price':np.sum},margins=False)\n",
    "print(return_pic)"
   ],
   "metadata": {
    "collapsed": false,
    "pycharm": {
     "name": "#%%\n"
    }
   }
  },
  {
   "cell_type": "code",
   "execution_count": 37,
   "outputs": [
    {
     "name": "stdout",
     "output_type": "stream",
     "text": [
      "<class 'pandas.core.frame.DataFrame'>\n",
      "(2, 12)\n"
     ]
    }
   ],
   "source": [
    "print(type(return_pic))\n",
    "print(return_pic.shape)"
   ],
   "metadata": {
    "collapsed": false,
    "pycharm": {
     "name": "#%%\n"
    }
   }
  },
  {
   "cell_type": "code",
   "execution_count": 42,
   "outputs": [
    {
     "name": "stdout",
     "output_type": "stream",
     "text": [
      "      total_price                                                     \\\n",
      "month           1        10        11         12         2         3   \n",
      "year                                                                   \n",
      "2010         0.00      0.00      0.00  -18049.87      0.00      0.00   \n",
      "2011    -94369.41 -62336.07 -29390.54 -175651.01 -10550.85 -15505.55   \n",
      "\n",
      "                                                                   \n",
      "month         4         5         6         7         8         9  \n",
      "year                                                               \n",
      "2010       0.00      0.00      0.00      0.00      0.00      0.00  \n",
      "2011  -43151.66 -30343.48 -53183.53 -25850.58 -28972.95 -21333.97  \n",
      "(2, 12)\n",
      "             month\n",
      "total_price  1            0.00\n",
      "             10           0.00\n",
      "             11           0.00\n",
      "             12      -18049.87\n",
      "             2            0.00\n",
      "             3            0.00\n",
      "             4            0.00\n",
      "             5            0.00\n",
      "             6            0.00\n",
      "             7            0.00\n",
      "             8            0.00\n",
      "             9            0.00\n",
      "Name: 2010, dtype: float64\n"
     ]
    }
   ],
   "source": [
    "return_data=return_pic.fillna(0)\n",
    "print(return_data)\n",
    "print(return_data.iloc[1])"
   ],
   "metadata": {
    "collapsed": false,
    "pycharm": {
     "name": "#%%\n"
    }
   }
  },
  {
   "cell_type": "code",
   "execution_count": 45,
   "outputs": [
    {
     "name": "stdout",
     "output_type": "stream",
     "text": [
      "      total_price                                                           \\\n",
      "month           1          10          11         12          2          3   \n",
      "year                                                                         \n",
      "2010          NaN         NaN         NaN  570422.73        NaN        NaN   \n",
      "2011    568101.31  1035642.45  1155668.61  517190.44  446084.92  594081.76   \n",
      "\n",
      "                                                                           \n",
      "month           4         5          6           7          8           9  \n",
      "year                                                                       \n",
      "2010          NaN       NaN        NaN         NaN        NaN         NaN  \n",
      "2011   468374.331  677340.3  660046.05  598962.901  644051.04  950690.202  \n"
     ]
    }
   ],
   "source": [
    "df2=df[(df['Quantity']>0)&(df['UnitPrice']>0)]\n",
    "normal_pic=pd.pivot_table(df2,index=['year'],columns=['month'],values=['total_price'],\n",
    "                          aggfunc={'total_price':np.sum},margins=False)\n",
    "print(normal_pic)"
   ],
   "metadata": {
    "collapsed": false,
    "pycharm": {
     "name": "#%%\n"
    }
   }
  },
  {
   "cell_type": "code",
   "execution_count": 47,
   "outputs": [
    {
     "name": "stdout",
     "output_type": "stream",
     "text": [
      "      total_price                                                            \\\n",
      "month           1        10        11        12         2       3         4   \n",
      "year                                                                          \n",
      "2010          NaN       NaN       NaN  0.031643       NaN     NaN       NaN   \n",
      "2011     0.166114  0.060191  0.025432  0.339625  0.023652  0.0261  0.092131   \n",
      "\n",
      "                                                         \n",
      "month         5         6         7         8         9  \n",
      "year                                                     \n",
      "2010        NaN       NaN       NaN       NaN       NaN  \n",
      "2011   0.044798  0.080575  0.043159  0.044985  0.022441  \n"
     ]
    }
   ],
   "source": [
    "normal_pic.fillna(0)\n",
    "return_rate_month=-return_pic/normal_pic\n",
    "print(return_rate_month)"
   ],
   "metadata": {
    "collapsed": false,
    "pycharm": {
     "name": "#%%\n"
    }
   }
  },
  {
   "cell_type": "code",
   "execution_count": 61,
   "outputs": [
    {
     "name": "stdout",
     "output_type": "stream",
     "text": [
      "CustomerID\n",
      "12346   2011-01-18\n",
      "12347   2011-12-07\n",
      "12348   2011-09-25\n",
      "12349   2011-11-21\n",
      "12350   2011-02-02\n",
      "12352   2011-11-03\n",
      "12353   2011-05-19\n",
      "12354   2011-04-21\n",
      "12355   2011-05-09\n",
      "12356   2011-11-17\n",
      "Name: date, dtype: datetime64[ns]\n"
     ]
    }
   ],
   "source": [
    "#rfm模型分析\n",
    "r_value=df2.groupby(by='CustomerID')['date'].max()\n",
    "print(r_value.head(10))"
   ],
   "metadata": {
    "collapsed": false,
    "pycharm": {
     "name": "#%%\n"
    }
   }
  },
  {
   "cell_type": "code",
   "execution_count": 76,
   "outputs": [
    {
     "name": "stdout",
     "output_type": "stream",
     "text": [
      "CustomerID\n",
      "12346    325\n",
      "12347      2\n",
      "12348     75\n",
      "12349     18\n",
      "12350    310\n",
      "12352     36\n",
      "12353    204\n",
      "12354    232\n",
      "12355    214\n",
      "12356     22\n",
      "Name: date, dtype: int64\n"
     ]
    }
   ],
   "source": [
    "r_max=df2['date'].max()\n",
    "r=(r_max-r_value).dt.days\n",
    "print(r.head(10))"
   ],
   "metadata": {
    "collapsed": false,
    "pycharm": {
     "name": "#%%\n"
    }
   }
  },
  {
   "cell_type": "code",
   "execution_count": 71,
   "outputs": [
    {
     "name": "stdout",
     "output_type": "stream",
     "text": [
      "CustomerID\n",
      "12346    1\n",
      "12347    7\n",
      "12348    4\n",
      "12349    1\n",
      "12350    1\n",
      "12352    8\n",
      "12353    1\n",
      "12354    1\n",
      "12355    1\n",
      "12356    3\n",
      "Name: InvoiceNo, dtype: int64\n"
     ]
    }
   ],
   "source": [
    "f=df2.groupby('CustomerID')['InvoiceNo'].nunique()\n",
    "print(f.head(10))"
   ],
   "metadata": {
    "collapsed": false,
    "pycharm": {
     "name": "#%%\n"
    }
   }
  },
  {
   "cell_type": "code",
   "execution_count": 73,
   "outputs": [
    {
     "name": "stdout",
     "output_type": "stream",
     "text": [
      "CustomerID\n",
      "12346    77183.60\n",
      "12347     4310.00\n",
      "12348     1797.24\n",
      "12349     1757.55\n",
      "12350      334.40\n",
      "Name: total_price, dtype: float64\n"
     ]
    }
   ],
   "source": [
    "m=df2.groupby('CustomerID')['total_price'].sum()\n",
    "print(m.head())"
   ],
   "metadata": {
    "collapsed": false,
    "pycharm": {
     "name": "#%%\n"
    }
   }
  },
  {
   "cell_type": "code",
   "execution_count": 74,
   "outputs": [
    {
     "name": "stdout",
     "output_type": "stream",
     "text": [
      "count                           4338\n",
      "mean      92 days 01:25:38.589211618\n",
      "std      100 days 00:17:39.630484461\n",
      "min                  0 days 00:00:00\n",
      "25%                 17 days 00:00:00\n",
      "50%                 50 days 00:00:00\n",
      "75%                141 days 18:00:00\n",
      "max                373 days 00:00:00\n",
      "Name: date, dtype: object\n"
     ]
    }
   ],
   "source": [
    "print(r.describe())"
   ],
   "metadata": {
    "collapsed": false,
    "pycharm": {
     "name": "#%%\n"
    }
   }
  },
  {
   "cell_type": "code",
   "execution_count": 82,
   "outputs": [
    {
     "data": {
      "text/plain": "<Figure size 432x288 with 1 Axes>",
      "image/png": "[encoded data removed]"
     },
     "metadata": {},
     "output_type": "display_data"
    }
   ],
   "source": [
    "import seaborn as sns\n",
    "sns.set(style='darkgrid',context='notebook',font_scale=1.2)\n",
    "plt.rcParams['axes.unicode_minus']=False\n",
    "plt.hist(r,bins=30)\n",
    "plt.show()"
   ],
   "metadata": {
    "collapsed": false,
    "pycharm": {
     "name": "#%%\n"
    }
   }
  },
  {
   "cell_type": "code",
   "execution_count": 78,
   "outputs": [
    {
     "name": "stdout",
     "output_type": "stream",
     "text": [
      "count    4338.000000\n",
      "mean        4.272015\n",
      "std         7.697998\n",
      "min         1.000000\n",
      "25%         1.000000\n",
      "50%         2.000000\n",
      "75%         5.000000\n",
      "max       209.000000\n",
      "Name: InvoiceNo, dtype: float64\n"
     ]
    }
   ],
   "source": [
    "print(f.describe())"
   ],
   "metadata": {
    "collapsed": false,
    "pycharm": {
     "name": "#%%\n"
    }
   }
  },
  {
   "cell_type": "code",
   "execution_count": 91,
   "outputs": [
    {
     "data": {
      "text/plain": "<Figure size 432x288 with 1 Axes>",
      "image/png": "[encoded data removed]"
     },
     "metadata": {},
     "output_type": "display_data"
    }
   ],
   "source": [
    "plt.hist(f[f<20],bins=22)\n",
    "plt.show()"
   ],
   "metadata": {
    "collapsed": false,
    "pycharm": {
     "name": "#%%\n"
    }
   }
  },
  {
   "cell_type": "code",
   "execution_count": 99,
   "outputs": [
    {
     "name": "stdout",
     "output_type": "stream",
     "text": [
      "count      4338.000000\n",
      "mean       2048.560868\n",
      "std        8984.682547\n",
      "min           3.750000\n",
      "25%         306.482500\n",
      "50%         668.570000\n",
      "75%        1660.597500\n",
      "max      280206.020000\n",
      "Name: total_price, dtype: float64\n"
     ]
    },
    {
     "data": {
      "text/plain": "<Figure size 432x288 with 1 Axes>",
      "image/png": "[encoded data removed]"
     },
     "metadata": {},
     "output_type": "display_data"
    }
   ],
   "source": [
    "print(m.describe())\n",
    "plt.hist(m[m<10000],bins=20)\n",
    "plt.show()"
   ],
   "metadata": {
    "collapsed": false,
    "pycharm": {
     "name": "#%%\n"
    }
   }
  },
  {
   "cell_type": "code",
   "execution_count": 101,
   "outputs": [
    {
     "name": "stdout",
     "output_type": "stream",
     "text": [
      "CustomerID\n",
      "12346    2\n",
      "12347    5\n",
      "12348    4\n",
      "12349    5\n",
      "12350    2\n",
      "        ..\n",
      "18280    2\n",
      "18281    2\n",
      "18282    5\n",
      "18283    5\n",
      "18287    4\n",
      "Name: date, Length: 4338, dtype: category\n",
      "Categories (5, int64): [5 < 4 < 3 < 2 < 1]\n",
      "CustomerID\n",
      "12346    1\n",
      "12347    3\n",
      "12348    2\n",
      "12349    1\n",
      "12350    1\n",
      "        ..\n",
      "18280    1\n",
      "18281    1\n",
      "18282    2\n",
      "18283    4\n",
      "18287    2\n",
      "Name: InvoiceNo, Length: 4338, dtype: category\n",
      "Categories (5, int64): [1 < 2 < 3 < 4 < 5]\n",
      "CustomerID\n",
      "12346    5\n",
      "12347    3\n",
      "12348    2\n",
      "12349    2\n",
      "12350    1\n",
      "        ..\n",
      "18280    1\n",
      "18281    1\n",
      "18282    1\n",
      "18283    3\n",
      "18287    2\n",
      "Name: total_price, Length: 4338, dtype: category\n",
      "Categories (5, int64): [1 < 2 < 3 < 4 < 5]\n"
     ]
    }
   ],
   "source": [
    "r_bins = [0,30,90,180,360,720]\n",
    "f_bins = [1,2,5,10,20,500]\n",
    "m_bins = [0,500,2000,5000,10000,300000]\n",
    "r_score = pd.cut(r,r_bins, labels = [5,4,3,2,1], right=False)\n",
    "f_score = pd.cut(f,f_bins, labels = [1,2,3,4,5], right=False)\n",
    "m_score = pd.cut(m,m_bins, labels = [1,2,3,4,5], right=False)\n",
    "print(r_score)\n",
    "print(f_score)\n",
    "print(m_score)"
   ],
   "metadata": {
    "collapsed": false,
    "pycharm": {
     "name": "#%%\n"
    }
   }
  },
  {
   "cell_type": "code",
   "execution_count": 103,
   "outputs": [
    {
     "name": "stdout",
     "output_type": "stream",
     "text": [
      "           date InvoiceNo total_price\n",
      "CustomerID                           \n",
      "12346         2         1           5\n",
      "12347         5         3           3\n",
      "12348         4         2           2\n",
      "12349         5         1           2\n",
      "12350         2         1           1\n",
      "...         ...       ...         ...\n",
      "18280         2         1           1\n",
      "18281         2         1           1\n",
      "18282         5         2           1\n",
      "18283         5         4           3\n",
      "18287         4         2           2\n",
      "\n",
      "[4338 rows x 3 columns]\n"
     ]
    }
   ],
   "source": [
    "rfm=pd.concat([r_score,f_score,m_score],axis=1)\n",
    "print(rfm)"
   ],
   "metadata": {
    "collapsed": false,
    "pycharm": {
     "name": "#%%\n"
    }
   }
  },
  {
   "cell_type": "code",
   "execution_count": 107,
   "outputs": [
    {
     "name": "stdout",
     "output_type": "stream",
     "text": [
      "<class 'pandas.core.frame.DataFrame'>\n",
      "Index: 4338 entries, 12346 to 18287\n",
      "Data columns (total 3 columns):\n",
      " #   Column   Non-Null Count  Dtype   \n",
      "---  ------   --------------  -----   \n",
      " 0   r_score  4338 non-null   category\n",
      " 1   f_score  4338 non-null   category\n",
      " 2   m_score  4338 non-null   category\n",
      "dtypes: category(3)\n",
      "memory usage: 47.2+ KB\n",
      "None\n"
     ]
    }
   ],
   "source": [
    "rfm.rename(columns={'date':'r_score','InvoiceNo':'f_score','total_price':'m_score'},inplace=True)\n",
    "print(rfm.info())"
   ],
   "metadata": {
    "collapsed": false,
    "pycharm": {
     "name": "#%%\n"
    }
   }
  },
  {
   "cell_type": "code",
   "execution_count": 111,
   "outputs": [
    {
     "name": "stdout",
     "output_type": "stream",
     "text": [
      "r_score    category\n",
      "f_score    category\n",
      "m_score    category\n",
      "dtype: object\n",
      "r_score    float64\n",
      "f_score    float64\n",
      "m_score    float64\n",
      "dtype: object\n"
     ]
    }
   ],
   "source": [
    "print(rfm.dtypes)\n",
    "rfm=rfm.astype(float)\n",
    "print(rfm.dtypes)"
   ],
   "metadata": {
    "collapsed": false,
    "pycharm": {
     "name": "#%%\n"
    }
   }
  },
  {
   "cell_type": "code",
   "execution_count": 112,
   "outputs": [
    {
     "name": "stdout",
     "output_type": "stream",
     "text": [
      "            r_score  f_score  m_score  total_score\n",
      "CustomerID                                        \n",
      "12346           2.0      1.0      5.0          8.0\n",
      "12347           5.0      3.0      3.0         11.0\n",
      "12348           4.0      2.0      2.0          8.0\n",
      "12349           5.0      1.0      2.0          8.0\n",
      "12350           2.0      1.0      1.0          4.0\n"
     ]
    }
   ],
   "source": [
    "rfm['total_score']=rfm['r_score']+rfm['f_score']+rfm['m_score']\n",
    "print(rfm.head())"
   ],
   "metadata": {
    "collapsed": false,
    "pycharm": {
     "name": "#%%\n"
    }
   }
  },
  {
   "cell_type": "code",
   "execution_count": 113,
   "outputs": [
    {
     "name": "stdout",
     "output_type": "stream",
     "text": [
      "count    4338.000000\n",
      "mean        7.735823\n",
      "std         2.617286\n",
      "min         3.000000\n",
      "25%         6.000000\n",
      "50%         8.000000\n",
      "75%         9.000000\n",
      "max        15.000000\n",
      "Name: total_score, dtype: float64\n"
     ]
    }
   ],
   "source": [
    "print(rfm['total_score'].describe())"
   ],
   "metadata": {
    "collapsed": false,
    "pycharm": {
     "name": "#%%\n"
    }
   }
  }
 ],
 "metadata": {
  "kernelspec": {
   "name": "pycharm-a7ca9fd6",
   "language": "python",
   "display_name": "PyCharm (day32)"
  },
  "language_info": {
   "codemirror_mode": {
    "name": "ipython",
    "version": 2
   },
   "file_extension": ".py",
   "mimetype": "text/x-python",
   "name": "python",
   "nbconvert_exporter": "python",
   "pygments_lexer": "ipython2",
   "version": "2.7.6"
  }
 },
 "nbformat": 4,
 "nbformat_minor": 0
}