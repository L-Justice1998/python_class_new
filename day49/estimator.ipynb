{
 "cells": [
  {
   "cell_type": "code",
   "execution_count": 1,
   "id": "e6e53e26",
   "metadata": {},
   "outputs": [
    {
     "name": "stdout",
     "output_type": "stream",
     "text": [
      "2.9.1\n",
      "sys.version_info(major=3, minor=9, micro=7, releaselevel='final', serial=0)\n",
      "matplotlib 3.4.3\n",
      "numpy 1.20.3\n",
      "pandas 1.3.4\n",
      "sklearn 0.24.2\n",
      "tensorflow 2.9.1\n",
      "keras.api._v2.keras 2.9.0\n"
     ]
    }
   ],
   "source": [
    "import matplotlib as mpl\n",
    "import matplotlib.pyplot as plt\n",
    "%matplotlib inline\n",
    "import numpy as np\n",
    "import sklearn\n",
    "import pandas as pd\n",
    "import os\n",
    "import sys\n",
    "import time\n",
    "import tensorflow as tf\n",
    "\n",
    "from tensorflow import keras\n",
    "\n",
    "print(tf.__version__)\n",
    "print(sys.version_info)\n",
    "for module in mpl, np, pd, sklearn, tf, keras:\n",
    "    print(module.__name__, module.__version__)\n"
   ]
  },
  {
   "cell_type": "code",
   "execution_count": 2,
   "id": "d32d1084",
   "metadata": {},
   "outputs": [
    {
     "name": "stdout",
     "output_type": "stream",
     "text": [
      "   survived     sex   age  n_siblings_spouses  parch     fare  class     deck  \\\n",
      "0         0    male  22.0                   1      0   7.2500  Third  unknown   \n",
      "1         1  female  38.0                   1      0  71.2833  First        C   \n",
      "2         1  female  26.0                   0      0   7.9250  Third  unknown   \n",
      "3         1  female  35.0                   1      0  53.1000  First        C   \n",
      "4         0    male  28.0                   0      0   8.4583  Third  unknown   \n",
      "\n",
      "   embark_town alone  \n",
      "0  Southampton     n  \n",
      "1    Cherbourg     n  \n",
      "2  Southampton     y  \n",
      "3  Southampton     n  \n",
      "4   Queenstown     y  \n",
      "   survived     sex   age  n_siblings_spouses  parch     fare   class  \\\n",
      "0         0    male  35.0                   0      0   8.0500   Third   \n",
      "1         0    male  54.0                   0      0  51.8625   First   \n",
      "2         1  female  58.0                   0      0  26.5500   First   \n",
      "3         1  female  55.0                   0      0  16.0000  Second   \n",
      "4         1    male  34.0                   0      0  13.0000  Second   \n",
      "\n",
      "      deck  embark_town alone  \n",
      "0  unknown  Southampton     y  \n",
      "1        E  Southampton     y  \n",
      "2        C  Southampton     y  \n",
      "3  unknown  Southampton     y  \n",
      "4        D  Southampton     y  \n",
      "(627, 10)\n",
      "(264, 10)\n"
     ]
    }
   ],
   "source": [
    "train_file = \"./data/titanic/train.csv\"\n",
    "eval_file = \"./data/titanic/eval.csv\"\n",
    "train_df = pd.read_csv(train_file)\n",
    "eval_df = pd.read_csv(eval_file)\n",
    "print(train_df.head())\n",
    "print(eval_df.head())\n",
    "print(train_df.shape)\n",
    "print(eval_df.shape)\n"
   ]
  },
  {
   "cell_type": "code",
   "execution_count": 3,
   "id": "aa8bc82a",
   "metadata": {},
   "outputs": [
    {
     "name": "stdout",
     "output_type": "stream",
     "text": [
      "      sex   age  n_siblings_spouses  parch     fare  class     deck  \\\n",
      "0    male  22.0                   1      0   7.2500  Third  unknown   \n",
      "1  female  38.0                   1      0  71.2833  First        C   \n",
      "2  female  26.0                   0      0   7.9250  Third  unknown   \n",
      "3  female  35.0                   1      0  53.1000  First        C   \n",
      "4    male  28.0                   0      0   8.4583  Third  unknown   \n",
      "\n",
      "   embark_town alone  \n",
      "0  Southampton     n  \n",
      "1    Cherbourg     n  \n",
      "2  Southampton     y  \n",
      "3  Southampton     n  \n",
      "4   Queenstown     y  \n",
      "--------------------------------------------------\n",
      "      sex   age  n_siblings_spouses  parch     fare   class     deck  \\\n",
      "0    male  35.0                   0      0   8.0500   Third  unknown   \n",
      "1    male  54.0                   0      0  51.8625   First        E   \n",
      "2  female  58.0                   0      0  26.5500   First        C   \n",
      "3  female  55.0                   0      0  16.0000  Second  unknown   \n",
      "4    male  34.0                   0      0  13.0000  Second        D   \n",
      "\n",
      "   embark_town alone  \n",
      "0  Southampton     y  \n",
      "1  Southampton     y  \n",
      "2  Southampton     y  \n",
      "3  Southampton     y  \n",
      "4  Southampton     y  \n",
      "--------------------------------------------------\n",
      "0    0\n",
      "1    1\n",
      "2    1\n",
      "3    1\n",
      "4    0\n",
      "Name: survived, dtype: int64\n",
      "--------------------------------------------------\n",
      "0    0\n",
      "1    0\n",
      "2    1\n",
      "3    1\n",
      "4    1\n",
      "Name: survived, dtype: int64\n"
     ]
    }
   ],
   "source": [
    "#pop取数据后 原来位置的数据消失\n",
    "y_train = train_df.pop('survived')\n",
    "y_eval = eval_df.pop('survived')\n",
    "print(train_df.head())\n",
    "print('-'*50)\n",
    "print(eval_df.head())\n",
    "print('-'*50)\n",
    "print(y_train.head())\n",
    "print('-'*50)\n",
    "print(y_eval.head())\n"
   ]
  },
  {
   "cell_type": "code",
   "execution_count": 4,
   "id": "2748b691",
   "metadata": {},
   "outputs": [
    {
     "data": {
      "text/html": [
       "<div>\n",
       "<style scoped>\n",
       "    .dataframe tbody tr th:only-of-type {\n",
       "        vertical-align: middle;\n",
       "    }\n",
       "\n",
       "    .dataframe tbody tr th {\n",
       "        vertical-align: top;\n",
       "    }\n",
       "\n",
       "    .dataframe thead th {\n",
       "        text-align: right;\n",
       "    }\n",
       "</style>\n",
       "<table border=\"1\" class=\"dataframe\">\n",
       "  <thead>\n",
       "    <tr style=\"text-align: right;\">\n",
       "      <th></th>\n",
       "      <th>age</th>\n",
       "      <th>n_siblings_spouses</th>\n",
       "      <th>parch</th>\n",
       "      <th>fare</th>\n",
       "    </tr>\n",
       "  </thead>\n",
       "  <tbody>\n",
       "    <tr>\n",
       "      <th>count</th>\n",
       "      <td>627.000000</td>\n",
       "      <td>627.000000</td>\n",
       "      <td>627.000000</td>\n",
       "      <td>627.000000</td>\n",
       "    </tr>\n",
       "    <tr>\n",
       "      <th>mean</th>\n",
       "      <td>29.631308</td>\n",
       "      <td>0.545455</td>\n",
       "      <td>0.379585</td>\n",
       "      <td>34.385399</td>\n",
       "    </tr>\n",
       "    <tr>\n",
       "      <th>std</th>\n",
       "      <td>12.511818</td>\n",
       "      <td>1.151090</td>\n",
       "      <td>0.792999</td>\n",
       "      <td>54.597730</td>\n",
       "    </tr>\n",
       "    <tr>\n",
       "      <th>min</th>\n",
       "      <td>0.750000</td>\n",
       "      <td>0.000000</td>\n",
       "      <td>0.000000</td>\n",
       "      <td>0.000000</td>\n",
       "    </tr>\n",
       "    <tr>\n",
       "      <th>25%</th>\n",
       "      <td>23.000000</td>\n",
       "      <td>0.000000</td>\n",
       "      <td>0.000000</td>\n",
       "      <td>7.895800</td>\n",
       "    </tr>\n",
       "    <tr>\n",
       "      <th>50%</th>\n",
       "      <td>28.000000</td>\n",
       "      <td>0.000000</td>\n",
       "      <td>0.000000</td>\n",
       "      <td>15.045800</td>\n",
       "    </tr>\n",
       "    <tr>\n",
       "      <th>75%</th>\n",
       "      <td>35.000000</td>\n",
       "      <td>1.000000</td>\n",
       "      <td>0.000000</td>\n",
       "      <td>31.387500</td>\n",
       "    </tr>\n",
       "    <tr>\n",
       "      <th>max</th>\n",
       "      <td>80.000000</td>\n",
       "      <td>8.000000</td>\n",
       "      <td>5.000000</td>\n",
       "      <td>512.329200</td>\n",
       "    </tr>\n",
       "  </tbody>\n",
       "</table>\n",
       "</div>"
      ],
      "text/plain": [
       "              age  n_siblings_spouses       parch        fare\n",
       "count  627.000000          627.000000  627.000000  627.000000\n",
       "mean    29.631308            0.545455    0.379585   34.385399\n",
       "std     12.511818            1.151090    0.792999   54.597730\n",
       "min      0.750000            0.000000    0.000000    0.000000\n",
       "25%     23.000000            0.000000    0.000000    7.895800\n",
       "50%     28.000000            0.000000    0.000000   15.045800\n",
       "75%     35.000000            1.000000    0.000000   31.387500\n",
       "max     80.000000            8.000000    5.000000  512.329200"
      ]
     },
     "execution_count": 4,
     "metadata": {},
     "output_type": "execute_result"
    }
   ],
   "source": [
    "train_df.describe()"
   ]
  },
  {
   "cell_type": "code",
   "execution_count": 5,
   "id": "e1e1d2de",
   "metadata": {},
   "outputs": [
    {
     "data": {
      "text/html": [
       "<div>\n",
       "<style scoped>\n",
       "    .dataframe tbody tr th:only-of-type {\n",
       "        vertical-align: middle;\n",
       "    }\n",
       "\n",
       "    .dataframe tbody tr th {\n",
       "        vertical-align: top;\n",
       "    }\n",
       "\n",
       "    .dataframe thead th {\n",
       "        text-align: right;\n",
       "    }\n",
       "</style>\n",
       "<table border=\"1\" class=\"dataframe\">\n",
       "  <thead>\n",
       "    <tr style=\"text-align: right;\">\n",
       "      <th></th>\n",
       "      <th>sex</th>\n",
       "      <th>class</th>\n",
       "      <th>deck</th>\n",
       "      <th>embark_town</th>\n",
       "      <th>alone</th>\n",
       "    </tr>\n",
       "  </thead>\n",
       "  <tbody>\n",
       "    <tr>\n",
       "      <th>count</th>\n",
       "      <td>627</td>\n",
       "      <td>627</td>\n",
       "      <td>627</td>\n",
       "      <td>627</td>\n",
       "      <td>627</td>\n",
       "    </tr>\n",
       "    <tr>\n",
       "      <th>unique</th>\n",
       "      <td>2</td>\n",
       "      <td>3</td>\n",
       "      <td>8</td>\n",
       "      <td>4</td>\n",
       "      <td>2</td>\n",
       "    </tr>\n",
       "    <tr>\n",
       "      <th>top</th>\n",
       "      <td>male</td>\n",
       "      <td>Third</td>\n",
       "      <td>unknown</td>\n",
       "      <td>Southampton</td>\n",
       "      <td>y</td>\n",
       "    </tr>\n",
       "    <tr>\n",
       "      <th>freq</th>\n",
       "      <td>410</td>\n",
       "      <td>341</td>\n",
       "      <td>481</td>\n",
       "      <td>450</td>\n",
       "      <td>372</td>\n",
       "    </tr>\n",
       "  </tbody>\n",
       "</table>\n",
       "</div>"
      ],
      "text/plain": [
       "         sex  class     deck  embark_town alone\n",
       "count    627    627      627          627   627\n",
       "unique     2      3        8            4     2\n",
       "top     male  Third  unknown  Southampton     y\n",
       "freq     410    341      481          450   372"
      ]
     },
     "execution_count": 5,
     "metadata": {},
     "output_type": "execute_result"
    }
   ],
   "source": [
    "train_df.describe(include='object')"
   ]
  },
  {
   "cell_type": "code",
   "execution_count": 6,
   "id": "764efc4f",
   "metadata": {},
   "outputs": [
    {
     "name": "stdout",
     "output_type": "stream",
     "text": [
      "(627, 9) (264, 9)\n"
     ]
    }
   ],
   "source": [
    "print(train_df.shape, eval_df.shape)"
   ]
  },
  {
   "cell_type": "code",
   "execution_count": 7,
   "id": "9134ffea",
   "metadata": {},
   "outputs": [
    {
     "data": {
      "text/plain": [
       "<AxesSubplot:>"
      ]
     },
     "execution_count": 7,
     "metadata": {},
     "output_type": "execute_result"
    },
    {
     "data": {
      "image/png": "[encoded data removed]",
      "text/plain": [
       "<Figure size 432x288 with 1 Axes>"
      ]
     },
     "metadata": {
      "needs_background": "light"
     },
     "output_type": "display_data"
    }
   ],
   "source": [
    "train_df.age.hist(bins = 20)"
   ]
  },
  {
   "cell_type": "code",
   "execution_count": 10,
   "id": "84e67e7b",
   "metadata": {},
   "outputs": [
    {
     "data": {
      "text/plain": [
       "<AxesSubplot:>"
      ]
     },
     "execution_count": 10,
     "metadata": {},
     "output_type": "execute_result"
    },
    {
     "data": {
      "image/png": "[encoded data removed]",
      "text/plain": [
       "<Figure size 432x288 with 1 Axes>"
      ]
     },
     "metadata": {
      "needs_background": "light"
     },
     "output_type": "display_data"
    }
   ],
   "source": [
    "train_df.sex.value_counts().plot(kind='barh')"
   ]
  },
  {
   "cell_type": "code",
   "execution_count": 11,
   "id": "92e961f9",
   "metadata": {},
   "outputs": [
    {
     "data": {
      "text/plain": [
       "0      n\n",
       "1      n\n",
       "2      y\n",
       "3      n\n",
       "4      y\n",
       "      ..\n",
       "622    y\n",
       "623    y\n",
       "624    y\n",
       "625    n\n",
       "626    y\n",
       "Name: alone, Length: 627, dtype: object"
      ]
     },
     "execution_count": 11,
     "metadata": {},
     "output_type": "execute_result"
    }
   ],
   "source": [
    "\n",
    "train_df.alone    "
   ]
  },
  {
   "cell_type": "code",
   "execution_count": 12,
   "id": "dd6fffd0",
   "metadata": {},
   "outputs": [
    {
     "name": "stdout",
     "output_type": "stream",
     "text": [
      "<class 'pandas.core.frame.DataFrame'>\n",
      "RangeIndex: 627 entries, 0 to 626\n",
      "Data columns (total 9 columns):\n",
      " #   Column              Non-Null Count  Dtype  \n",
      "---  ------              --------------  -----  \n",
      " 0   sex                 627 non-null    object \n",
      " 1   age                 627 non-null    float64\n",
      " 2   n_siblings_spouses  627 non-null    int64  \n",
      " 3   parch               627 non-null    int64  \n",
      " 4   fare                627 non-null    float64\n",
      " 5   class               627 non-null    object \n",
      " 6   deck                627 non-null    object \n",
      " 7   embark_town         627 non-null    object \n",
      " 8   alone               627 non-null    object \n",
      "dtypes: float64(2), int64(2), object(5)\n",
      "memory usage: 44.2+ KB\n"
     ]
    }
   ],
   "source": [
    "train_df.info()"
   ]
  },
  {
   "cell_type": "code",
   "execution_count": 14,
   "id": "55ef007e",
   "metadata": {},
   "outputs": [
    {
     "data": {
      "text/plain": [
       "<AxesSubplot:>"
      ]
     },
     "execution_count": 14,
     "metadata": {},
     "output_type": "execute_result"
    },
    {
     "data": {
      "image/png": "[encoded data removed]",
      "text/plain": [
       "<Figure size 432x288 with 1 Axes>"
      ]
     },
     "metadata": {
      "needs_background": "light"
     },
     "output_type": "display_data"
    }
   ],
   "source": [
    "train_df.alone.value_counts().plot(kind='barh')"
   ]
  },
  {
   "cell_type": "code",
   "execution_count": 18,
   "id": "c6bdee4d",
   "metadata": {},
   "outputs": [
    {
     "data": {
      "text/plain": [
       "<AxesSubplot:>"
      ]
     },
     "execution_count": 18,
     "metadata": {},
     "output_type": "execute_result"
    },
    {
     "data": {
      "image/png": "[encoded data removed]",
      "text/plain": [
       "<Figure size 432x288 with 1 Axes>"
      ]
     },
     "metadata": {
      "needs_background": "light"
     },
     "output_type": "display_data"
    }
   ],
   "source": [
    "train_df['class'].value_counts().plot(kind='barh')"
   ]
  },
  {
   "cell_type": "code",
   "execution_count": 20,
   "id": "c3c46d09",
   "metadata": {},
   "outputs": [
    {
     "name": "stderr",
     "output_type": "stream",
     "text": [
      "C:\\Users\\gdmmx\\AppData\\Local\\Temp/ipykernel_4368/2184565294.py:2: UserWarning: Boolean Series key will be reindexed to match DataFrame index.\n",
      "  df_age[df_age.age>30][df_age.age<50].groupby('age').survived.mean().plot(kind='barh')\n"
     ]
    },
    {
     "data": {
      "text/plain": [
       "<AxesSubplot:ylabel='age'>"
      ]
     },
     "execution_count": 20,
     "metadata": {},
     "output_type": "execute_result"
    },
    {
     "data": {
      "image/png": "[encoded data removed]",
      "text/plain": [
       "<Figure size 432x288 with 1 Axes>"
      ]
     },
     "metadata": {
      "needs_background": "light"
     },
     "output_type": "display_data"
    }
   ],
   "source": [
    "df_age=pd.concat([train_df,y_train],axis=1)\n",
    "df_age[df_age.age>30][df_age.age<50].groupby('age').survived.mean().plot(kind='barh')"
   ]
  },
  {
   "cell_type": "code",
   "execution_count": 22,
   "id": "2bcc42f3",
   "metadata": {},
   "outputs": [
    {
     "data": {
      "text/plain": [
       "array(['male', 'female'], dtype=object)"
      ]
     },
     "execution_count": 22,
     "metadata": {},
     "output_type": "execute_result"
    }
   ],
   "source": [
    "train_df['sex'].unique()"
   ]
  },
  {
   "cell_type": "code",
   "execution_count": 29,
   "id": "a5da7be9",
   "metadata": {
    "code_folding": []
   },
   "outputs": [
    {
     "name": "stdout",
     "output_type": "stream",
     "text": [
      "sex ['male' 'female']\n",
      "n_siblings_spouses [1 0 3 4 2 5 8]\n",
      "parch [0 1 2 5 3 4]\n",
      "class ['Third' 'First' 'Second']\n",
      "deck ['unknown' 'C' 'G' 'A' 'B' 'D' 'F' 'E']\n",
      "embark_town ['Southampton' 'Cherbourg' 'Queenstown' 'unknown']\n",
      "alone ['n' 'y']\n"
     ]
    },
    {
     "data": {
      "text/plain": [
       "[IndicatorColumn(categorical_column=VocabularyListCategoricalColumn(key='sex', vocabulary_list=('male', 'female'), dtype=tf.string, default_value=-1, num_oov_buckets=0)),\n",
       " IndicatorColumn(categorical_column=VocabularyListCategoricalColumn(key='n_siblings_spouses', vocabulary_list=(1, 0, 3, 4, 2, 5, 8), dtype=tf.int64, default_value=-1, num_oov_buckets=0)),\n",
       " IndicatorColumn(categorical_column=VocabularyListCategoricalColumn(key='parch', vocabulary_list=(0, 1, 2, 5, 3, 4), dtype=tf.int64, default_value=-1, num_oov_buckets=0)),\n",
       " IndicatorColumn(categorical_column=VocabularyListCategoricalColumn(key='class', vocabulary_list=('Third', 'First', 'Second'), dtype=tf.string, default_value=-1, num_oov_buckets=0)),\n",
       " IndicatorColumn(categorical_column=VocabularyListCategoricalColumn(key='deck', vocabulary_list=('unknown', 'C', 'G', 'A', 'B', 'D', 'F', 'E'), dtype=tf.string, default_value=-1, num_oov_buckets=0)),\n",
       " IndicatorColumn(categorical_column=VocabularyListCategoricalColumn(key='embark_town', vocabulary_list=('Southampton', 'Cherbourg', 'Queenstown', 'unknown'), dtype=tf.string, default_value=-1, num_oov_buckets=0)),\n",
       " IndicatorColumn(categorical_column=VocabularyListCategoricalColumn(key='alone', vocabulary_list=('n', 'y'), dtype=tf.string, default_value=-1, num_oov_buckets=0)),\n",
       " NumericColumn(key='age', shape=(1,), default_value=None, dtype=tf.float32, normalizer_fn=None),\n",
       " NumericColumn(key='fare', shape=(1,), default_value=None, dtype=tf.float32, normalizer_fn=None)]"
      ]
     },
     "execution_count": 29,
     "metadata": {},
     "output_type": "execute_result"
    }
   ],
   "source": [
    "categorical_columns = ['sex', 'n_siblings_spouses', 'parch', 'class',\n",
    "                       'deck', 'embark_town', 'alone']\n",
    "numeric_columns = ['age', 'fare']\n",
    "feature_columns = []\n",
    "for categorical_column in categorical_columns:\n",
    "    vocab=train_df[categorical_column].unique()\n",
    "    print(categorical_column,vocab)\n",
    "    feature_columns.append(tf.feature_column.indicator_column(\n",
    "        tf.feature_column.categorical_column_with_vocabulary_list(\n",
    "            categorical_column,vocab)))\n",
    "for categorical_column in numeric_columns:\n",
    "    feature_columns.append(\n",
    "            tf.feature_column.numeric_column(\n",
    "                categorical_column,dtype=tf.float32))\n",
    "feature_columns"
   ]
  },
  {
   "cell_type": "code",
   "execution_count": 30,
   "id": "72656bb0",
   "metadata": {},
   "outputs": [
    {
     "data": {
      "text/html": [
       "<div>\n",
       "<style scoped>\n",
       "    .dataframe tbody tr th:only-of-type {\n",
       "        vertical-align: middle;\n",
       "    }\n",
       "\n",
       "    .dataframe tbody tr th {\n",
       "        vertical-align: top;\n",
       "    }\n",
       "\n",
       "    .dataframe thead th {\n",
       "        text-align: right;\n",
       "    }\n",
       "</style>\n",
       "<table border=\"1\" class=\"dataframe\">\n",
       "  <thead>\n",
       "    <tr style=\"text-align: right;\">\n",
       "      <th></th>\n",
       "      <th>sex</th>\n",
       "      <th>age</th>\n",
       "      <th>n_siblings_spouses</th>\n",
       "      <th>parch</th>\n",
       "      <th>fare</th>\n",
       "      <th>class</th>\n",
       "      <th>deck</th>\n",
       "      <th>embark_town</th>\n",
       "      <th>alone</th>\n",
       "    </tr>\n",
       "  </thead>\n",
       "  <tbody>\n",
       "    <tr>\n",
       "      <th>0</th>\n",
       "      <td>male</td>\n",
       "      <td>22.0</td>\n",
       "      <td>1</td>\n",
       "      <td>0</td>\n",
       "      <td>7.2500</td>\n",
       "      <td>Third</td>\n",
       "      <td>unknown</td>\n",
       "      <td>Southampton</td>\n",
       "      <td>n</td>\n",
       "    </tr>\n",
       "    <tr>\n",
       "      <th>1</th>\n",
       "      <td>female</td>\n",
       "      <td>38.0</td>\n",
       "      <td>1</td>\n",
       "      <td>0</td>\n",
       "      <td>71.2833</td>\n",
       "      <td>First</td>\n",
       "      <td>C</td>\n",
       "      <td>Cherbourg</td>\n",
       "      <td>n</td>\n",
       "    </tr>\n",
       "    <tr>\n",
       "      <th>2</th>\n",
       "      <td>female</td>\n",
       "      <td>26.0</td>\n",
       "      <td>0</td>\n",
       "      <td>0</td>\n",
       "      <td>7.9250</td>\n",
       "      <td>Third</td>\n",
       "      <td>unknown</td>\n",
       "      <td>Southampton</td>\n",
       "      <td>y</td>\n",
       "    </tr>\n",
       "    <tr>\n",
       "      <th>3</th>\n",
       "      <td>female</td>\n",
       "      <td>35.0</td>\n",
       "      <td>1</td>\n",
       "      <td>0</td>\n",
       "      <td>53.1000</td>\n",
       "      <td>First</td>\n",
       "      <td>C</td>\n",
       "      <td>Southampton</td>\n",
       "      <td>n</td>\n",
       "    </tr>\n",
       "    <tr>\n",
       "      <th>4</th>\n",
       "      <td>male</td>\n",
       "      <td>28.0</td>\n",
       "      <td>0</td>\n",
       "      <td>0</td>\n",
       "      <td>8.4583</td>\n",
       "      <td>Third</td>\n",
       "      <td>unknown</td>\n",
       "      <td>Queenstown</td>\n",
       "      <td>y</td>\n",
       "    </tr>\n",
       "    <tr>\n",
       "      <th>...</th>\n",
       "      <td>...</td>\n",
       "      <td>...</td>\n",
       "      <td>...</td>\n",
       "      <td>...</td>\n",
       "      <td>...</td>\n",
       "      <td>...</td>\n",
       "      <td>...</td>\n",
       "      <td>...</td>\n",
       "      <td>...</td>\n",
       "    </tr>\n",
       "    <tr>\n",
       "      <th>622</th>\n",
       "      <td>male</td>\n",
       "      <td>28.0</td>\n",
       "      <td>0</td>\n",
       "      <td>0</td>\n",
       "      <td>10.5000</td>\n",
       "      <td>Second</td>\n",
       "      <td>unknown</td>\n",
       "      <td>Southampton</td>\n",
       "      <td>y</td>\n",
       "    </tr>\n",
       "    <tr>\n",
       "      <th>623</th>\n",
       "      <td>male</td>\n",
       "      <td>25.0</td>\n",
       "      <td>0</td>\n",
       "      <td>0</td>\n",
       "      <td>7.0500</td>\n",
       "      <td>Third</td>\n",
       "      <td>unknown</td>\n",
       "      <td>Southampton</td>\n",
       "      <td>y</td>\n",
       "    </tr>\n",
       "    <tr>\n",
       "      <th>624</th>\n",
       "      <td>female</td>\n",
       "      <td>19.0</td>\n",
       "      <td>0</td>\n",
       "      <td>0</td>\n",
       "      <td>30.0000</td>\n",
       "      <td>First</td>\n",
       "      <td>B</td>\n",
       "      <td>Southampton</td>\n",
       "      <td>y</td>\n",
       "    </tr>\n",
       "    <tr>\n",
       "      <th>625</th>\n",
       "      <td>female</td>\n",
       "      <td>28.0</td>\n",
       "      <td>1</td>\n",
       "      <td>2</td>\n",
       "      <td>23.4500</td>\n",
       "      <td>Third</td>\n",
       "      <td>unknown</td>\n",
       "      <td>Southampton</td>\n",
       "      <td>n</td>\n",
       "    </tr>\n",
       "    <tr>\n",
       "      <th>626</th>\n",
       "      <td>male</td>\n",
       "      <td>32.0</td>\n",
       "      <td>0</td>\n",
       "      <td>0</td>\n",
       "      <td>7.7500</td>\n",
       "      <td>Third</td>\n",
       "      <td>unknown</td>\n",
       "      <td>Queenstown</td>\n",
       "      <td>y</td>\n",
       "    </tr>\n",
       "  </tbody>\n",
       "</table>\n",
       "<p>627 rows × 9 columns</p>\n",
       "</div>"
      ],
      "text/plain": [
       "        sex   age  n_siblings_spouses  parch     fare   class     deck  \\\n",
       "0      male  22.0                   1      0   7.2500   Third  unknown   \n",
       "1    female  38.0                   1      0  71.2833   First        C   \n",
       "2    female  26.0                   0      0   7.9250   Third  unknown   \n",
       "3    female  35.0                   1      0  53.1000   First        C   \n",
       "4      male  28.0                   0      0   8.4583   Third  unknown   \n",
       "..      ...   ...                 ...    ...      ...     ...      ...   \n",
       "622    male  28.0                   0      0  10.5000  Second  unknown   \n",
       "623    male  25.0                   0      0   7.0500   Third  unknown   \n",
       "624  female  19.0                   0      0  30.0000   First        B   \n",
       "625  female  28.0                   1      2  23.4500   Third  unknown   \n",
       "626    male  32.0                   0      0   7.7500   Third  unknown   \n",
       "\n",
       "     embark_town alone  \n",
       "0    Southampton     n  \n",
       "1      Cherbourg     n  \n",
       "2    Southampton     y  \n",
       "3    Southampton     n  \n",
       "4     Queenstown     y  \n",
       "..           ...   ...  \n",
       "622  Southampton     y  \n",
       "623  Southampton     y  \n",
       "624  Southampton     y  \n",
       "625  Southampton     n  \n",
       "626   Queenstown     y  \n",
       "\n",
       "[627 rows x 9 columns]"
      ]
     },
     "execution_count": 30,
     "metadata": {},
     "output_type": "execute_result"
    }
   ],
   "source": [
    "dict(train_df)\n",
    "train_df"
   ]
  },
  {
   "cell_type": "code",
   "execution_count": 31,
   "id": "1cd9d236",
   "metadata": {},
   "outputs": [
    {
     "data": {
      "text/plain": [
       "0      0\n",
       "1      1\n",
       "2      1\n",
       "3      1\n",
       "4      0\n",
       "      ..\n",
       "622    0\n",
       "623    0\n",
       "624    1\n",
       "625    0\n",
       "626    0\n",
       "Name: survived, Length: 627, dtype: int64"
      ]
     },
     "execution_count": 31,
     "metadata": {},
     "output_type": "execute_result"
    }
   ],
   "source": [
    "y_train"
   ]
  },
  {
   "cell_type": "code",
   "execution_count": 33,
   "id": "e2c2c7ae",
   "metadata": {},
   "outputs": [],
   "source": [
    "def make_dataset(data_df,label_df,epochs=10,shuffle=True,batch_size=32):\n",
    "    dataset=tf.data.Dataset.from_tensor_slices((dict(data_df),label_df))\n",
    "    if shuffle:\n",
    "        dataset=dataset.shuffle(10000)\n",
    "    dataset=dataset.repeat(epochs).batch(batch_size)\n",
    "    return dataset\n"
   ]
  },
  {
   "cell_type": "code",
   "execution_count": 34,
   "id": "f0f3d8c7",
   "metadata": {},
   "outputs": [
    {
     "name": "stdout",
     "output_type": "stream",
     "text": [
      "{'sex': <tf.Tensor: shape=(5,), dtype=string, numpy=array([b'female', b'female', b'male', b'female', b'male'], dtype=object)>, 'age': <tf.Tensor: shape=(5,), dtype=float64, numpy=array([51., 28., 28., 50., 29.])>, 'n_siblings_spouses': <tf.Tensor: shape=(5,), dtype=int64, numpy=array([1, 1, 0, 0, 0], dtype=int64)>, 'parch': <tf.Tensor: shape=(5,), dtype=int64, numpy=array([0, 0, 0, 0, 0], dtype=int64)>, 'fare': <tf.Tensor: shape=(5,), dtype=float64, numpy=array([77.9583, 15.5   , 29.7   , 28.7125,  9.4833])>, 'class': <tf.Tensor: shape=(5,), dtype=string, numpy=array([b'First', b'Third', b'First', b'First', b'Third'], dtype=object)>, 'deck': <tf.Tensor: shape=(5,), dtype=string, numpy=array([b'D', b'unknown', b'C', b'C', b'unknown'], dtype=object)>, 'embark_town': <tf.Tensor: shape=(5,), dtype=string, numpy=\n",
      "array([b'Southampton', b'Queenstown', b'Cherbourg', b'Cherbourg',\n",
      "       b'Southampton'], dtype=object)>, 'alone': <tf.Tensor: shape=(5,), dtype=string, numpy=array([b'n', b'n', b'y', b'y', b'y'], dtype=object)>}\n",
      "--------------------------------------------------\n",
      "tf.Tensor([1 1 1 0 0], shape=(5,), dtype=int64)\n"
     ]
    }
   ],
   "source": [
    "train_dataset=make_dataset(train_df,y_train,batch_size=5)\n",
    "for x,y in train_dataset.take(1):\n",
    "    print(x)\n",
    "    print('-'*50)\n",
    "    print(y)"
   ]
  },
  {
   "cell_type": "code",
   "execution_count": 36,
   "id": "5b055c9f",
   "metadata": {},
   "outputs": [
    {
     "name": "stdout",
     "output_type": "stream",
     "text": [
      "NumericColumn(key='age', shape=(1,), default_value=None, dtype=tf.float32, normalizer_fn=None)\n",
      "IndicatorColumn(categorical_column=VocabularyListCategoricalColumn(key='sex', vocabulary_list=('male', 'female'), dtype=tf.string, default_value=-1, num_oov_buckets=0))\n",
      "[[40.]\n",
      " [29.]\n",
      " [ 1.]\n",
      " [28.]\n",
      " [44.]]\n",
      "tf.Tensor(\n",
      "[[0. 1.]\n",
      " [1. 0.]\n",
      " [1. 0.]\n",
      " [1. 0.]\n",
      " [0. 1.]], shape=(5, 2), dtype=float32)\n"
     ]
    }
   ],
   "source": [
    "for x,y in train_dataset.take(1):\n",
    "    age_column=feature_columns[7]\n",
    "    gender_column=feature_columns[0]\n",
    "    print(age_column)\n",
    "    print(gender_column)\n",
    "    print(keras.layers.DenseFeatures(age_column)(x).numpy())\n",
    "    print(keras.layers.DenseFeatures(gender_column)(x))"
   ]
  },
  {
   "cell_type": "code",
   "execution_count": 37,
   "id": "31dc8299",
   "metadata": {},
   "outputs": [
    {
     "name": "stdout",
     "output_type": "stream",
     "text": [
      "tf.Tensor(\n",
      "[[22.      0.      1.      1.      0.      0.      1.      0.      0.\n",
      "   0.      0.      0.      0.      0.      0.      1.      0.      0.\n",
      "   7.2292  0.      1.      0.      0.      0.      0.      0.      1.\n",
      "   0.      0.      0.      0.      0.      1.      0.    ]\n",
      " [19.      0.      1.      0.      1.      0.      0.      0.      0.\n",
      "   0.      1.      0.      0.      0.      1.      0.      0.      0.\n",
      "  30.      0.      1.      0.      0.      0.      0.      0.      1.\n",
      "   0.      0.      0.      0.      0.      0.      1.    ]\n",
      " [28.      0.      1.      1.      0.      0.      1.      0.      0.\n",
      "   0.      0.      0.      0.      0.      1.      0.      0.      0.\n",
      "   8.6625  0.      1.      0.      0.      0.      0.      0.      1.\n",
      "   0.      0.      0.      0.      0.      1.      0.    ]\n",
      " [28.      1.      0.      1.      0.      0.      1.      0.      0.\n",
      "   0.      0.      0.      0.      0.      1.      0.      0.      0.\n",
      "  25.4667  0.      0.      1.      0.      0.      0.      0.      0.\n",
      "   1.      0.      0.      0.      0.      0.      1.    ]\n",
      " [35.      0.      1.      0.      0.      1.      1.      0.      0.\n",
      "   0.      0.      0.      0.      0.      1.      0.      0.      0.\n",
      "  26.      0.      1.      0.      0.      0.      0.      0.      1.\n",
      "   0.      0.      0.      0.      0.      1.      0.    ]], shape=(5, 34), dtype=float32)\n"
     ]
    }
   ],
   "source": [
    "for x, y in train_dataset.take(1):#拿第一个batch\n",
    "    print(keras.layers.DenseFeatures(feature_columns)(x))"
   ]
  },
  {
   "cell_type": "code",
   "execution_count": 40,
   "id": "b2400d35",
   "metadata": {},
   "outputs": [
    {
     "data": {
      "text/plain": [
       "[<keras.feature_column.dense_features_v2.DenseFeatures at 0x292e8f70ee0>,\n",
       " <keras.layers.core.dense.Dense at 0x292e8f70cd0>,\n",
       " <keras.layers.core.dense.Dense at 0x292e8f70640>,\n",
       " <keras.layers.core.dense.Dense at 0x292e918fbe0>]"
      ]
     },
     "execution_count": 40,
     "metadata": {},
     "output_type": "execute_result"
    }
   ],
   "source": [
    "model=keras.models.Sequential([\n",
    "    keras.layers.DenseFeatures(feature_columns),\n",
    "    keras.layers.Dense(100,activation='relu'),\n",
    "    keras.layers.Dense(100, activation='relu'),\n",
    "    keras.layers.Dense(2, activation='softmax'),\n",
    "])\n",
    "model.compile(loss='sparse_categorical_crossentropy',\n",
    "              optimizer = keras.optimizers.SGD(learning_rate=0.005),metrics=['accuracy'])\n",
    "model.layers"
   ]
  },
  {
   "cell_type": "code",
   "execution_count": 42,
   "id": "5ebbbeaf",
   "metadata": {},
   "outputs": [
    {
     "name": "stdout",
     "output_type": "stream",
     "text": [
      "Epoch 1/100\n",
      "WARNING:tensorflow:Layers in a Sequential model should only have a single input tensor. Received: inputs={'sex': <tf.Tensor 'IteratorGetNext:8' shape=(None,) dtype=string>, 'age': <tf.Tensor 'IteratorGetNext:0' shape=(None,) dtype=float64>, 'n_siblings_spouses': <tf.Tensor 'IteratorGetNext:6' shape=(None,) dtype=int64>, 'parch': <tf.Tensor 'IteratorGetNext:7' shape=(None,) dtype=int64>, 'fare': <tf.Tensor 'IteratorGetNext:5' shape=(None,) dtype=float64>, 'class': <tf.Tensor 'IteratorGetNext:2' shape=(None,) dtype=string>, 'deck': <tf.Tensor 'IteratorGetNext:3' shape=(None,) dtype=string>, 'embark_town': <tf.Tensor 'IteratorGetNext:4' shape=(None,) dtype=string>, 'alone': <tf.Tensor 'IteratorGetNext:1' shape=(None,) dtype=string>}. Consider rewriting this model with the Functional API.\n",
      "WARNING:tensorflow:Layers in a Sequential model should only have a single input tensor. Received: inputs={'sex': <tf.Tensor 'IteratorGetNext:8' shape=(None,) dtype=string>, 'age': <tf.Tensor 'IteratorGetNext:0' shape=(None,) dtype=float64>, 'n_siblings_spouses': <tf.Tensor 'IteratorGetNext:6' shape=(None,) dtype=int64>, 'parch': <tf.Tensor 'IteratorGetNext:7' shape=(None,) dtype=int64>, 'fare': <tf.Tensor 'IteratorGetNext:5' shape=(None,) dtype=float64>, 'class': <tf.Tensor 'IteratorGetNext:2' shape=(None,) dtype=string>, 'deck': <tf.Tensor 'IteratorGetNext:3' shape=(None,) dtype=string>, 'embark_town': <tf.Tensor 'IteratorGetNext:4' shape=(None,) dtype=string>, 'alone': <tf.Tensor 'IteratorGetNext:1' shape=(None,) dtype=string>}. Consider rewriting this model with the Functional API.\n",
      "15/19 [======================>.......] - ETA: 0s - loss: 1.4375 - accuracy: 0.5292 WARNING:tensorflow:Layers in a Sequential model should only have a single input tensor. Received: inputs={'sex': <tf.Tensor 'IteratorGetNext:8' shape=(None,) dtype=string>, 'age': <tf.Tensor 'IteratorGetNext:0' shape=(None,) dtype=float64>, 'n_siblings_spouses': <tf.Tensor 'IteratorGetNext:6' shape=(None,) dtype=int64>, 'parch': <tf.Tensor 'IteratorGetNext:7' shape=(None,) dtype=int64>, 'fare': <tf.Tensor 'IteratorGetNext:5' shape=(None,) dtype=float64>, 'class': <tf.Tensor 'IteratorGetNext:2' shape=(None,) dtype=string>, 'deck': <tf.Tensor 'IteratorGetNext:3' shape=(None,) dtype=string>, 'embark_town': <tf.Tensor 'IteratorGetNext:4' shape=(None,) dtype=string>, 'alone': <tf.Tensor 'IteratorGetNext:1' shape=(None,) dtype=string>}. Consider rewriting this model with the Functional API.\n",
      "19/19 [==============================] - 2s 27ms/step - loss: 1.3769 - accuracy: 0.5411 - val_loss: 1.5309 - val_accuracy: 0.6250\n",
      "Epoch 2/100\n",
      "19/19 [==============================] - 0s 5ms/step - loss: 0.9741 - accuracy: 0.6349 - val_loss: 0.6284 - val_accuracy: 0.6680\n",
      "Epoch 3/100\n",
      "19/19 [==============================] - 0s 6ms/step - loss: 0.7948 - accuracy: 0.6316 - val_loss: 0.6083 - val_accuracy: 0.7070\n",
      "Epoch 4/100\n",
      "19/19 [==============================] - 0s 6ms/step - loss: 0.7191 - accuracy: 0.6266 - val_loss: 0.7388 - val_accuracy: 0.6836\n",
      "Epoch 5/100\n",
      "19/19 [==============================] - 0s 5ms/step - loss: 0.6799 - accuracy: 0.6694 - val_loss: 0.6189 - val_accuracy: 0.6562\n",
      "Epoch 6/100\n",
      "19/19 [==============================] - 0s 5ms/step - loss: 0.6366 - accuracy: 0.6546 - val_loss: 0.7472 - val_accuracy: 0.6680\n",
      "Epoch 7/100\n",
      "19/19 [==============================] - 0s 6ms/step - loss: 0.6788 - accuracy: 0.6513 - val_loss: 0.6579 - val_accuracy: 0.6406\n",
      "Epoch 8/100\n",
      "19/19 [==============================] - 0s 8ms/step - loss: 0.6247 - accuracy: 0.6760 - val_loss: 0.7274 - val_accuracy: 0.6367\n",
      "Epoch 9/100\n",
      "19/19 [==============================] - 0s 11ms/step - loss: 0.6372 - accuracy: 0.6776 - val_loss: 0.5914 - val_accuracy: 0.7266\n",
      "Epoch 10/100\n",
      "19/19 [==============================] - 0s 6ms/step - loss: 0.6197 - accuracy: 0.6891 - val_loss: 0.6054 - val_accuracy: 0.7070\n",
      "Epoch 11/100\n",
      "19/19 [==============================] - 0s 6ms/step - loss: 0.6270 - accuracy: 0.6694 - val_loss: 0.5975 - val_accuracy: 0.6719\n",
      "Epoch 12/100\n",
      "19/19 [==============================] - 0s 6ms/step - loss: 0.5958 - accuracy: 0.6908 - val_loss: 0.5932 - val_accuracy: 0.7031\n",
      "Epoch 13/100\n",
      "19/19 [==============================] - 0s 5ms/step - loss: 0.5964 - accuracy: 0.6859 - val_loss: 0.8290 - val_accuracy: 0.6250\n",
      "Epoch 14/100\n",
      "19/19 [==============================] - 0s 6ms/step - loss: 0.6179 - accuracy: 0.6891 - val_loss: 0.5929 - val_accuracy: 0.6914\n",
      "Epoch 15/100\n",
      "19/19 [==============================] - 0s 5ms/step - loss: 0.6110 - accuracy: 0.6760 - val_loss: 0.5888 - val_accuracy: 0.7031\n",
      "Epoch 16/100\n",
      "19/19 [==============================] - 0s 5ms/step - loss: 0.6178 - accuracy: 0.6842 - val_loss: 0.5785 - val_accuracy: 0.7109\n",
      "Epoch 17/100\n",
      "19/19 [==============================] - 0s 4ms/step - loss: 0.5648 - accuracy: 0.7089 - val_loss: 0.6342 - val_accuracy: 0.6953\n",
      "Epoch 18/100\n",
      "19/19 [==============================] - 0s 6ms/step - loss: 0.6619 - accuracy: 0.6497 - val_loss: 0.5849 - val_accuracy: 0.7031\n",
      "Epoch 19/100\n",
      "19/19 [==============================] - 0s 5ms/step - loss: 0.5613 - accuracy: 0.7138 - val_loss: 0.5999 - val_accuracy: 0.6562\n",
      "Epoch 20/100\n",
      "19/19 [==============================] - 0s 6ms/step - loss: 0.5967 - accuracy: 0.6891 - val_loss: 0.5705 - val_accuracy: 0.6992\n",
      "Epoch 21/100\n",
      "19/19 [==============================] - 0s 7ms/step - loss: 0.5898 - accuracy: 0.6875 - val_loss: 0.5725 - val_accuracy: 0.6992\n",
      "Epoch 22/100\n",
      "19/19 [==============================] - 0s 7ms/step - loss: 0.6113 - accuracy: 0.6694 - val_loss: 0.5977 - val_accuracy: 0.6953\n",
      "Epoch 23/100\n",
      "19/19 [==============================] - 0s 10ms/step - loss: 0.5643 - accuracy: 0.7303 - val_loss: 0.5825 - val_accuracy: 0.6914\n",
      "Epoch 24/100\n",
      "19/19 [==============================] - 0s 6ms/step - loss: 0.5704 - accuracy: 0.7286 - val_loss: 0.5883 - val_accuracy: 0.6758\n",
      "Epoch 25/100\n",
      "19/19 [==============================] - 0s 4ms/step - loss: 0.6099 - accuracy: 0.6875 - val_loss: 0.6068 - val_accuracy: 0.7031\n",
      "Epoch 26/100\n",
      "19/19 [==============================] - 0s 6ms/step - loss: 0.5847 - accuracy: 0.7105 - val_loss: 0.5703 - val_accuracy: 0.6914\n",
      "Epoch 27/100\n",
      "19/19 [==============================] - 0s 5ms/step - loss: 0.5484 - accuracy: 0.7204 - val_loss: 0.5665 - val_accuracy: 0.6953\n",
      "Epoch 28/100\n",
      "19/19 [==============================] - 0s 5ms/step - loss: 0.5816 - accuracy: 0.7056 - val_loss: 0.5780 - val_accuracy: 0.6602\n",
      "Epoch 29/100\n",
      "19/19 [==============================] - 0s 4ms/step - loss: 0.5600 - accuracy: 0.7270 - val_loss: 0.5733 - val_accuracy: 0.7227\n",
      "Epoch 30/100\n",
      "19/19 [==============================] - 0s 4ms/step - loss: 0.5778 - accuracy: 0.7270 - val_loss: 0.5748 - val_accuracy: 0.6797\n",
      "Epoch 31/100\n",
      "19/19 [==============================] - 0s 4ms/step - loss: 0.6004 - accuracy: 0.6826 - val_loss: 0.6122 - val_accuracy: 0.6875\n",
      "Epoch 32/100\n",
      "19/19 [==============================] - 0s 4ms/step - loss: 0.5930 - accuracy: 0.7220 - val_loss: 0.5994 - val_accuracy: 0.6602\n",
      "Epoch 33/100\n",
      "19/19 [==============================] - 0s 4ms/step - loss: 0.5539 - accuracy: 0.7204 - val_loss: 0.5566 - val_accuracy: 0.6914\n",
      "Epoch 34/100\n",
      "19/19 [==============================] - 0s 4ms/step - loss: 0.5664 - accuracy: 0.7072 - val_loss: 0.5632 - val_accuracy: 0.6914\n",
      "Epoch 35/100\n",
      "19/19 [==============================] - 0s 4ms/step - loss: 0.5622 - accuracy: 0.7220 - val_loss: 0.5609 - val_accuracy: 0.6953\n",
      "Epoch 36/100\n",
      "19/19 [==============================] - 0s 4ms/step - loss: 0.5608 - accuracy: 0.7105 - val_loss: 0.5468 - val_accuracy: 0.7148\n",
      "Epoch 37/100\n",
      "19/19 [==============================] - 0s 4ms/step - loss: 0.5635 - accuracy: 0.7155 - val_loss: 0.5483 - val_accuracy: 0.6992\n",
      "Epoch 38/100\n",
      "19/19 [==============================] - 0s 8ms/step - loss: 0.5526 - accuracy: 0.7155 - val_loss: 0.5546 - val_accuracy: 0.7031\n",
      "Epoch 39/100\n",
      "19/19 [==============================] - 0s 11ms/step - loss: 0.5461 - accuracy: 0.7319 - val_loss: 0.5568 - val_accuracy: 0.7070\n",
      "Epoch 40/100\n",
      "19/19 [==============================] - 0s 8ms/step - loss: 0.5642 - accuracy: 0.7188 - val_loss: 0.5493 - val_accuracy: 0.6875\n",
      "Epoch 41/100\n"
     ]
    },
    {
     "name": "stdout",
     "output_type": "stream",
     "text": [
      "19/19 [==============================] - 0s 5ms/step - loss: 0.5529 - accuracy: 0.7352 - val_loss: 0.5389 - val_accuracy: 0.6953\n",
      "Epoch 42/100\n",
      "19/19 [==============================] - 0s 5ms/step - loss: 0.5474 - accuracy: 0.7253 - val_loss: 0.5591 - val_accuracy: 0.7070\n",
      "Epoch 43/100\n",
      "19/19 [==============================] - 0s 5ms/step - loss: 0.5598 - accuracy: 0.7188 - val_loss: 0.5373 - val_accuracy: 0.7188\n",
      "Epoch 44/100\n",
      "19/19 [==============================] - 0s 6ms/step - loss: 0.5382 - accuracy: 0.7434 - val_loss: 0.5381 - val_accuracy: 0.6992\n",
      "Epoch 45/100\n",
      "19/19 [==============================] - 0s 5ms/step - loss: 0.5486 - accuracy: 0.7336 - val_loss: 0.6052 - val_accuracy: 0.7109\n",
      "Epoch 46/100\n",
      "19/19 [==============================] - 0s 5ms/step - loss: 0.5657 - accuracy: 0.7171 - val_loss: 0.5495 - val_accuracy: 0.7227\n",
      "Epoch 47/100\n",
      "19/19 [==============================] - 0s 5ms/step - loss: 0.5893 - accuracy: 0.7105 - val_loss: 0.5521 - val_accuracy: 0.6953\n",
      "Epoch 48/100\n",
      "19/19 [==============================] - 0s 6ms/step - loss: 0.5477 - accuracy: 0.7270 - val_loss: 0.5651 - val_accuracy: 0.6992\n",
      "Epoch 49/100\n",
      "19/19 [==============================] - 0s 5ms/step - loss: 0.4929 - accuracy: 0.7599 - val_loss: 0.5372 - val_accuracy: 0.7148\n",
      "Epoch 50/100\n",
      "19/19 [==============================] - 0s 6ms/step - loss: 0.5579 - accuracy: 0.7286 - val_loss: 0.5934 - val_accuracy: 0.6875\n",
      "Epoch 51/100\n",
      "19/19 [==============================] - 0s 6ms/step - loss: 0.5405 - accuracy: 0.7319 - val_loss: 0.5315 - val_accuracy: 0.7227\n",
      "Epoch 52/100\n",
      "19/19 [==============================] - 0s 5ms/step - loss: 0.5305 - accuracy: 0.7467 - val_loss: 0.5360 - val_accuracy: 0.7031\n",
      "Epoch 53/100\n",
      "19/19 [==============================] - 0s 5ms/step - loss: 0.5398 - accuracy: 0.7516 - val_loss: 0.5662 - val_accuracy: 0.6836\n",
      "Epoch 54/100\n",
      "19/19 [==============================] - 0s 6ms/step - loss: 0.5608 - accuracy: 0.7286 - val_loss: 0.6196 - val_accuracy: 0.6836\n",
      "Epoch 55/100\n",
      "19/19 [==============================] - 0s 5ms/step - loss: 0.5164 - accuracy: 0.7599 - val_loss: 0.5282 - val_accuracy: 0.7109\n",
      "Epoch 56/100\n",
      "19/19 [==============================] - 0s 6ms/step - loss: 0.5601 - accuracy: 0.7352 - val_loss: 0.5333 - val_accuracy: 0.7031\n",
      "Epoch 57/100\n",
      "19/19 [==============================] - 0s 5ms/step - loss: 0.5494 - accuracy: 0.7401 - val_loss: 0.5402 - val_accuracy: 0.7031\n",
      "Epoch 58/100\n",
      "19/19 [==============================] - 0s 5ms/step - loss: 0.5483 - accuracy: 0.7253 - val_loss: 0.5761 - val_accuracy: 0.7070\n",
      "Epoch 59/100\n",
      "19/19 [==============================] - 0s 6ms/step - loss: 0.5258 - accuracy: 0.7533 - val_loss: 0.5333 - val_accuracy: 0.7070\n",
      "Epoch 60/100\n",
      "19/19 [==============================] - 0s 6ms/step - loss: 0.5530 - accuracy: 0.7220 - val_loss: 0.5249 - val_accuracy: 0.7305\n",
      "Epoch 61/100\n",
      "19/19 [==============================] - 0s 4ms/step - loss: 0.5182 - accuracy: 0.7763 - val_loss: 0.5755 - val_accuracy: 0.7266\n",
      "Epoch 62/100\n",
      "19/19 [==============================] - 0s 4ms/step - loss: 0.5916 - accuracy: 0.7220 - val_loss: 0.5443 - val_accuracy: 0.6992\n",
      "Epoch 63/100\n",
      "19/19 [==============================] - 0s 4ms/step - loss: 0.5144 - accuracy: 0.7632 - val_loss: 0.5484 - val_accuracy: 0.7305\n",
      "Epoch 64/100\n",
      "19/19 [==============================] - 0s 4ms/step - loss: 0.5573 - accuracy: 0.7303 - val_loss: 0.5401 - val_accuracy: 0.7031\n",
      "Epoch 65/100\n",
      "19/19 [==============================] - 0s 5ms/step - loss: 0.5355 - accuracy: 0.7319 - val_loss: 0.5593 - val_accuracy: 0.6797\n",
      "Epoch 66/100\n",
      "19/19 [==============================] - 0s 3ms/step - loss: 0.5294 - accuracy: 0.7500 - val_loss: 0.5207 - val_accuracy: 0.7109\n",
      "Epoch 67/100\n",
      "19/19 [==============================] - 0s 4ms/step - loss: 0.5153 - accuracy: 0.7615 - val_loss: 0.5358 - val_accuracy: 0.7539\n",
      "Epoch 68/100\n",
      "19/19 [==============================] - 0s 4ms/step - loss: 0.5150 - accuracy: 0.7648 - val_loss: 0.5431 - val_accuracy: 0.6992\n",
      "Epoch 69/100\n",
      "19/19 [==============================] - 0s 4ms/step - loss: 0.5399 - accuracy: 0.7500 - val_loss: 0.5130 - val_accuracy: 0.7266\n",
      "Epoch 70/100\n",
      "19/19 [==============================] - 0s 4ms/step - loss: 0.5133 - accuracy: 0.7664 - val_loss: 0.5880 - val_accuracy: 0.7188\n",
      "Epoch 71/100\n",
      "19/19 [==============================] - 0s 5ms/step - loss: 0.5435 - accuracy: 0.7434 - val_loss: 0.5145 - val_accuracy: 0.7188\n",
      "Epoch 72/100\n",
      "19/19 [==============================] - 0s 8ms/step - loss: 0.5709 - accuracy: 0.7155 - val_loss: 0.5671 - val_accuracy: 0.7148\n",
      "Epoch 73/100\n",
      "19/19 [==============================] - 0s 7ms/step - loss: 0.5365 - accuracy: 0.7368 - val_loss: 0.5162 - val_accuracy: 0.7148\n",
      "Epoch 74/100\n",
      "19/19 [==============================] - 0s 5ms/step - loss: 0.5109 - accuracy: 0.7664 - val_loss: 0.5737 - val_accuracy: 0.7227\n",
      "Epoch 75/100\n",
      "19/19 [==============================] - 0s 6ms/step - loss: 0.5247 - accuracy: 0.7516 - val_loss: 0.5684 - val_accuracy: 0.7109\n",
      "Epoch 76/100\n",
      "19/19 [==============================] - 0s 5ms/step - loss: 0.5486 - accuracy: 0.7549 - val_loss: 0.5221 - val_accuracy: 0.7227\n",
      "Epoch 77/100\n",
      "19/19 [==============================] - 0s 7ms/step - loss: 0.5031 - accuracy: 0.7632 - val_loss: 0.5172 - val_accuracy: 0.7227\n",
      "Epoch 78/100\n",
      "19/19 [==============================] - 0s 7ms/step - loss: 0.5172 - accuracy: 0.7747 - val_loss: 0.5246 - val_accuracy: 0.7227\n",
      "Epoch 79/100\n",
      "19/19 [==============================] - 0s 4ms/step - loss: 0.5130 - accuracy: 0.7599 - val_loss: 0.5682 - val_accuracy: 0.7305\n",
      "Epoch 80/100\n",
      "19/19 [==============================] - 0s 5ms/step - loss: 0.5266 - accuracy: 0.7632 - val_loss: 0.5222 - val_accuracy: 0.7266\n",
      "Epoch 81/100\n",
      "19/19 [==============================] - 0s 4ms/step - loss: 0.5297 - accuracy: 0.7138 - val_loss: 0.5463 - val_accuracy: 0.7031\n",
      "Epoch 82/100\n",
      "19/19 [==============================] - 0s 4ms/step - loss: 0.5705 - accuracy: 0.7418 - val_loss: 0.6267 - val_accuracy: 0.6445\n",
      "Epoch 83/100\n",
      "19/19 [==============================] - 0s 4ms/step - loss: 0.5174 - accuracy: 0.7681 - val_loss: 0.5302 - val_accuracy: 0.7227\n",
      "Epoch 84/100\n",
      "19/19 [==============================] - 0s 5ms/step - loss: 0.4927 - accuracy: 0.7632 - val_loss: 0.5044 - val_accuracy: 0.7461\n",
      "Epoch 85/100\n",
      "19/19 [==============================] - 0s 5ms/step - loss: 0.5378 - accuracy: 0.7434 - val_loss: 0.5201 - val_accuracy: 0.7461\n",
      "Epoch 86/100\n",
      "19/19 [==============================] - 0s 6ms/step - loss: 0.5096 - accuracy: 0.7664 - val_loss: 0.5100 - val_accuracy: 0.7422\n",
      "Epoch 87/100\n",
      "19/19 [==============================] - 0s 6ms/step - loss: 0.4966 - accuracy: 0.7516 - val_loss: 0.5324 - val_accuracy: 0.7305\n",
      "Epoch 88/100\n",
      "19/19 [==============================] - 0s 5ms/step - loss: 0.5577 - accuracy: 0.7303 - val_loss: 0.5081 - val_accuracy: 0.7461\n",
      "Epoch 89/100\n",
      "19/19 [==============================] - 0s 6ms/step - loss: 0.5013 - accuracy: 0.7944 - val_loss: 0.5069 - val_accuracy: 0.7422\n",
      "Epoch 90/100\n",
      "19/19 [==============================] - 0s 5ms/step - loss: 0.5494 - accuracy: 0.7516 - val_loss: 0.5129 - val_accuracy: 0.7305\n",
      "Epoch 91/100\n",
      "19/19 [==============================] - 0s 6ms/step - loss: 0.5138 - accuracy: 0.7648 - val_loss: 0.5157 - val_accuracy: 0.7461\n",
      "Epoch 92/100\n",
      "19/19 [==============================] - 0s 6ms/step - loss: 0.4998 - accuracy: 0.7780 - val_loss: 0.5334 - val_accuracy: 0.7227\n",
      "Epoch 93/100\n",
      "19/19 [==============================] - 0s 4ms/step - loss: 0.5119 - accuracy: 0.7582 - val_loss: 0.6334 - val_accuracy: 0.7109\n",
      "Epoch 94/100\n",
      "19/19 [==============================] - 0s 5ms/step - loss: 0.5490 - accuracy: 0.7368 - val_loss: 0.5310 - val_accuracy: 0.7227\n",
      "Epoch 95/100\n",
      "19/19 [==============================] - 0s 4ms/step - loss: 0.5228 - accuracy: 0.7500 - val_loss: 0.5860 - val_accuracy: 0.7070\n",
      "Epoch 96/100\n",
      "19/19 [==============================] - 0s 5ms/step - loss: 0.5220 - accuracy: 0.7516 - val_loss: 0.5366 - val_accuracy: 0.7344\n",
      "Epoch 97/100\n",
      "19/19 [==============================] - 0s 4ms/step - loss: 0.5159 - accuracy: 0.7664 - val_loss: 0.5054 - val_accuracy: 0.7539\n",
      "Epoch 98/100\n",
      "19/19 [==============================] - 0s 5ms/step - loss: 0.5078 - accuracy: 0.7862 - val_loss: 0.5168 - val_accuracy: 0.7383\n"
     ]
    },
    {
     "name": "stdout",
     "output_type": "stream",
     "text": [
      "Epoch 99/100\n",
      "19/19 [==============================] - 0s 5ms/step - loss: 0.5144 - accuracy: 0.7664 - val_loss: 0.5346 - val_accuracy: 0.7266\n",
      "Epoch 100/100\n",
      "19/19 [==============================] - 0s 4ms/step - loss: 0.4758 - accuracy: 0.7780 - val_loss: 0.5165 - val_accuracy: 0.7383\n"
     ]
    }
   ],
   "source": [
    "train_dataset=make_dataset(train_df,y_train,epochs=100)\n",
    "eval_dataset=make_dataset(eval_df,y_eval,epochs=100,shuffle=False)\n",
    "history=model.fit(train_dataset,validation_data=eval_dataset,steps_per_epoch=19,validation_steps=8,epochs=100)\n"
   ]
  },
  {
   "cell_type": "code",
   "execution_count": 44,
   "id": "d02e9843",
   "metadata": {},
   "outputs": [
    {
     "name": "stdout",
     "output_type": "stream",
     "text": [
      "Model: \"sequential_2\"\n",
      "_________________________________________________________________\n",
      " Layer (type)                Output Shape              Param #   \n",
      "=================================================================\n",
      " dense_features_7 (DenseFeat  multiple                 0         \n",
      " ures)                                                           \n",
      "                                                                 \n",
      " dense_6 (Dense)             multiple                  3500      \n",
      "                                                                 \n",
      " dense_7 (Dense)             multiple                  10100     \n",
      "                                                                 \n",
      " dense_8 (Dense)             multiple                  202       \n",
      "                                                                 \n",
      "=================================================================\n",
      "Total params: 13,802\n",
      "Trainable params: 13,802\n",
      "Non-trainable params: 0\n",
      "_________________________________________________________________\n"
     ]
    }
   ],
   "source": [
    "model.summary()"
   ]
  },
  {
   "cell_type": "code",
   "execution_count": 45,
   "id": "b61b0d8d",
   "metadata": {},
   "outputs": [
    {
     "data": {
      "text/plain": [
       "pandas.core.frame.DataFrame"
      ]
     },
     "execution_count": 45,
     "metadata": {},
     "output_type": "execute_result"
    }
   ],
   "source": [
    "type(train_df)"
   ]
  },
  {
   "cell_type": "code",
   "execution_count": 46,
   "id": "f6597196",
   "metadata": {},
   "outputs": [
    {
     "data": {
      "text/plain": [
       "pandas.core.series.Series"
      ]
     },
     "execution_count": 46,
     "metadata": {},
     "output_type": "execute_result"
    }
   ],
   "source": [
    "type(y_train)"
   ]
  },
  {
   "cell_type": "code",
   "execution_count": 47,
   "id": "7ad73b31",
   "metadata": {},
   "outputs": [
    {
     "name": "stdout",
     "output_type": "stream",
     "text": [
      "data\n",
      "estimator.ipynb\n"
     ]
    }
   ],
   "source": [
    "!ls"
   ]
  },
  {
   "cell_type": "code",
   "execution_count": 48,
   "id": "c3433cc9",
   "metadata": {},
   "outputs": [
    {
     "name": "stdout",
     "output_type": "stream",
     "text": [
      "Sat Jul 30 11:12:44 2022       \n",
      "+-----------------------------------------------------------------------------+\n",
      "| NVIDIA-SMI 496.13       Driver Version: 496.13       CUDA Version: 11.5     |\n",
      "|-------------------------------+----------------------+----------------------+\n",
      "| GPU  Name            TCC/WDDM | Bus-Id        Disp.A | Volatile Uncorr. ECC |\n",
      "| Fan  Temp  Perf  Pwr:Usage/Cap|         Memory-Usage | GPU-Util  Compute M. |\n",
      "|                               |                      |               MIG M. |\n",
      "|===============================+======================+======================|\n",
      "|   0  NVIDIA GeForce ... WDDM  | 00000000:01:00.0 Off |                  N/A |\n",
      "| N/A    0C    P8    N/A /  N/A |     37MiB /  2048MiB |      1%      Default |\n",
      "|                               |                      |                  N/A |\n",
      "+-------------------------------+----------------------+----------------------+\n",
      "                                                                               \n",
      "+-----------------------------------------------------------------------------+\n",
      "| Processes:                                                                  |\n",
      "|  GPU   GI   CI        PID   Type   Process name                  GPU Memory |\n",
      "|        ID   ID                                                   Usage      |\n",
      "|=============================================================================|\n",
      "|  No running processes found                                                 |\n",
      "+-----------------------------------------------------------------------------+\n"
     ]
    }
   ],
   "source": [
    "!nvidia-smi"
   ]
  },
  {
   "cell_type": "code",
   "execution_count": 76,
   "id": "20007f95",
   "metadata": {},
   "outputs": [],
   "source": [
    "!rm -rf linear_model"
   ]
  },
  {
   "cell_type": "code",
   "execution_count": 77,
   "id": "8e72939c",
   "metadata": {},
   "outputs": [],
   "source": [
    "linear_output_dir = 'linear_model'\n",
    "if not os.path.exists(linear_output_dir):\n",
    "    os.mkdir(linear_output_dir)"
   ]
  },
  {
   "cell_type": "code",
   "execution_count": 78,
   "id": "f9ef5331",
   "metadata": {},
   "outputs": [
    {
     "name": "stdout",
     "output_type": "stream",
     "text": [
      "INFO:tensorflow:Using default config.\n",
      "INFO:tensorflow:Using config: {'_model_dir': 'linear_model', '_tf_random_seed': None, '_save_summary_steps': 100, '_save_checkpoints_steps': None, '_save_checkpoints_secs': 600, '_session_config': allow_soft_placement: true\n",
      "graph_options {\n",
      "  rewrite_options {\n",
      "    meta_optimizer_iterations: ONE\n",
      "  }\n",
      "}\n",
      ", '_keep_checkpoint_max': 5, '_keep_checkpoint_every_n_hours': 10000, '_log_step_count_steps': 100, '_train_distribute': None, '_device_fn': None, '_protocol': None, '_eval_distribute': None, '_experimental_distribute': None, '_experimental_max_worker_delay_secs': None, '_session_creation_timeout_secs': 7200, '_checkpoint_save_graph_def': True, '_service': None, '_cluster_spec': ClusterSpec({}), '_task_type': 'worker', '_task_id': 0, '_global_id_in_cluster': 0, '_master': '', '_evaluation_master': '', '_is_chief': True, '_num_ps_replicas': 0, '_num_worker_replicas': 1}\n",
      "INFO:tensorflow:Calling model_fn.\n",
      "INFO:tensorflow:Done calling model_fn.\n",
      "INFO:tensorflow:Create CheckpointSaverHook.\n",
      "INFO:tensorflow:Graph was finalized.\n",
      "INFO:tensorflow:Running local_init_op.\n",
      "INFO:tensorflow:Done running local_init_op.\n",
      "INFO:tensorflow:Calling checkpoint listeners before saving checkpoint 0...\n",
      "INFO:tensorflow:Saving checkpoints for 0 into linear_model\\model.ckpt.\n",
      "INFO:tensorflow:linear_model\\model.ckpt-0.data-00000-of-00001\n",
      "INFO:tensorflow:0\n",
      "INFO:tensorflow:linear_model\\model.ckpt-0.index\n",
      "INFO:tensorflow:0\n",
      "INFO:tensorflow:linear_model\\model.ckpt-0.meta\n",
      "INFO:tensorflow:400\n",
      "INFO:tensorflow:Calling checkpoint listeners after saving checkpoint 0...\n",
      "INFO:tensorflow:loss = 0.6931472, step = 0\n",
      "INFO:tensorflow:global_step/sec: 239.304\n",
      "INFO:tensorflow:loss = 0.3731264, step = 100 (0.407 sec)\n",
      "INFO:tensorflow:global_step/sec: 737.262\n",
      "INFO:tensorflow:loss = 0.5268611, step = 200 (0.133 sec)\n",
      "INFO:tensorflow:global_step/sec: 777.266\n",
      "INFO:tensorflow:loss = 0.37772125, step = 300 (0.130 sec)\n",
      "INFO:tensorflow:global_step/sec: 771.29\n",
      "INFO:tensorflow:loss = 0.2375035, step = 400 (0.129 sec)\n",
      "INFO:tensorflow:global_step/sec: 765.399\n",
      "INFO:tensorflow:loss = 0.5897871, step = 500 (0.132 sec)\n",
      "INFO:tensorflow:global_step/sec: 600.402\n",
      "INFO:tensorflow:loss = 0.42695457, step = 600 (0.167 sec)\n",
      "INFO:tensorflow:global_step/sec: 414.328\n",
      "INFO:tensorflow:loss = 0.3367367, step = 700 (0.240 sec)\n",
      "INFO:tensorflow:global_step/sec: 426.671\n",
      "INFO:tensorflow:loss = 0.5171168, step = 800 (0.239 sec)\n",
      "INFO:tensorflow:global_step/sec: 475.199\n",
      "INFO:tensorflow:loss = 0.5601896, step = 900 (0.208 sec)\n",
      "INFO:tensorflow:global_step/sec: 593.299\n",
      "INFO:tensorflow:loss = 0.5390811, step = 1000 (0.166 sec)\n",
      "INFO:tensorflow:global_step/sec: 842.585\n",
      "INFO:tensorflow:loss = 0.3797145, step = 1100 (0.120 sec)\n",
      "INFO:tensorflow:global_step/sec: 759.6\n",
      "INFO:tensorflow:loss = 0.30871427, step = 1200 (0.132 sec)\n",
      "INFO:tensorflow:global_step/sec: 742.728\n",
      "INFO:tensorflow:loss = 0.2959636, step = 1300 (0.135 sec)\n",
      "INFO:tensorflow:global_step/sec: 815.181\n",
      "INFO:tensorflow:loss = 0.4950922, step = 1400 (0.122 sec)\n",
      "INFO:tensorflow:global_step/sec: 765.402\n",
      "INFO:tensorflow:loss = 0.7516269, step = 1500 (0.131 sec)\n",
      "INFO:tensorflow:global_step/sec: 777.268\n",
      "INFO:tensorflow:loss = 0.42716703, step = 1600 (0.129 sec)\n",
      "INFO:tensorflow:global_step/sec: 742.718\n",
      "INFO:tensorflow:loss = 0.5288801, step = 1700 (0.136 sec)\n",
      "INFO:tensorflow:global_step/sec: 711.12\n",
      "INFO:tensorflow:loss = 0.37679923, step = 1800 (0.140 sec)\n",
      "INFO:tensorflow:global_step/sec: 765.405\n",
      "INFO:tensorflow:loss = 0.43137497, step = 1900 (0.131 sec)\n",
      "INFO:tensorflow:Calling checkpoint listeners before saving checkpoint 1960...\n",
      "INFO:tensorflow:Saving checkpoints for 1960 into linear_model\\model.ckpt.\n",
      "INFO:tensorflow:linear_model\\model.ckpt-1960.data-00000-of-00001\n",
      "INFO:tensorflow:0\n",
      "INFO:tensorflow:linear_model\\model.ckpt-1960.index\n",
      "INFO:tensorflow:0\n",
      "INFO:tensorflow:linear_model\\model.ckpt-1960.meta\n",
      "INFO:tensorflow:400\n",
      "INFO:tensorflow:Calling checkpoint listeners after saving checkpoint 1960...\n",
      "INFO:tensorflow:Loss for final step: 0.30857393.\n"
     ]
    },
    {
     "data": {
      "text/plain": [
       "<tensorflow_estimator.python.estimator.canned.linear.LinearClassifierV2 at 0x292fd98ee20>"
      ]
     },
     "execution_count": 78,
     "metadata": {},
     "output_type": "execute_result"
    }
   ],
   "source": [
    "linear_estimator=tf.estimator.LinearClassifier(\n",
    "    model_dir=linear_output_dir,\n",
    "    n_classes=2,\n",
    "    feature_columns=feature_columns)\n",
    "linear_estimator.train(input_fn=lambda :make_dataset(train_df,y_train,epochs=100))"
   ]
  },
  {
   "cell_type": "code",
   "execution_count": 52,
   "id": "1b02cc07",
   "metadata": {},
   "outputs": [
    {
     "data": {
      "text/plain": [
       "['global_step',\n",
       " 'linear/linear_model/age/weights',\n",
       " 'linear/linear_model/alone_indicator/weights',\n",
       " 'linear/linear_model/bias_weights',\n",
       " 'linear/linear_model/class_indicator/weights',\n",
       " 'linear/linear_model/deck_indicator/weights',\n",
       " 'linear/linear_model/embark_town_indicator/weights',\n",
       " 'linear/linear_model/fare/weights',\n",
       " 'linear/linear_model/n_siblings_spouses_indicator/weights',\n",
       " 'linear/linear_model/parch_indicator/weights',\n",
       " 'linear/linear_model/sex_indicator/weights',\n",
       " 'training/Ftrl/beta',\n",
       " 'training/Ftrl/decay',\n",
       " 'training/Ftrl/l1_regularization_strength',\n",
       " 'training/Ftrl/l2_regularization_strength',\n",
       " 'training/Ftrl/learning_rate',\n",
       " 'training/Ftrl/learning_rate_power',\n",
       " 'training/Ftrl/linear/linear_model/age/weights/accumulator',\n",
       " 'training/Ftrl/linear/linear_model/age/weights/linear',\n",
       " 'training/Ftrl/linear/linear_model/alone_indicator/weights/accumulator',\n",
       " 'training/Ftrl/linear/linear_model/alone_indicator/weights/linear',\n",
       " 'training/Ftrl/linear/linear_model/bias_weights/accumulator',\n",
       " 'training/Ftrl/linear/linear_model/bias_weights/linear',\n",
       " 'training/Ftrl/linear/linear_model/class_indicator/weights/accumulator',\n",
       " 'training/Ftrl/linear/linear_model/class_indicator/weights/linear',\n",
       " 'training/Ftrl/linear/linear_model/deck_indicator/weights/accumulator',\n",
       " 'training/Ftrl/linear/linear_model/deck_indicator/weights/linear',\n",
       " 'training/Ftrl/linear/linear_model/embark_town_indicator/weights/accumulator',\n",
       " 'training/Ftrl/linear/linear_model/embark_town_indicator/weights/linear',\n",
       " 'training/Ftrl/linear/linear_model/fare/weights/accumulator',\n",
       " 'training/Ftrl/linear/linear_model/fare/weights/linear',\n",
       " 'training/Ftrl/linear/linear_model/n_siblings_spouses_indicator/weights/accumulator',\n",
       " 'training/Ftrl/linear/linear_model/n_siblings_spouses_indicator/weights/linear',\n",
       " 'training/Ftrl/linear/linear_model/parch_indicator/weights/accumulator',\n",
       " 'training/Ftrl/linear/linear_model/parch_indicator/weights/linear',\n",
       " 'training/Ftrl/linear/linear_model/sex_indicator/weights/accumulator',\n",
       " 'training/Ftrl/linear/linear_model/sex_indicator/weights/linear']"
      ]
     },
     "execution_count": 52,
     "metadata": {},
     "output_type": "execute_result"
    }
   ],
   "source": [
    "linear_estimator.get_variable_names()"
   ]
  },
  {
   "cell_type": "code",
   "execution_count": 53,
   "id": "86de7041",
   "metadata": {},
   "outputs": [
    {
     "data": {
      "text/plain": [
       "1960"
      ]
     },
     "execution_count": 53,
     "metadata": {},
     "output_type": "execute_result"
    }
   ],
   "source": [
    "linear_estimator.get_variable_value('global_step')"
   ]
  },
  {
   "cell_type": "code",
   "execution_count": 54,
   "id": "65036e13",
   "metadata": {},
   "outputs": [
    {
     "data": {
      "text/plain": [
       "array([[-1.2676529],\n",
       "       [-2.926952 ],\n",
       "       [-1.4845878],\n",
       "       [ 1.1337913],\n",
       "       [-0.9145758],\n",
       "       [ 2.1332996]], dtype=float32)"
      ]
     },
     "execution_count": 54,
     "metadata": {},
     "output_type": "execute_result"
    }
   ],
   "source": [
    "\n",
    "linear_estimator.get_variable_value('training/Ftrl/linear/linear_model/parch_indicator/weights/linear')\n"
   ]
  },
  {
   "cell_type": "code",
   "execution_count": 55,
   "id": "8e75e969",
   "metadata": {},
   "outputs": [
    {
     "name": "stdout",
     "output_type": "stream",
     "text": [
      "total 4883\n",
      "-rw-r--r-- 1 娣辩埍涓讳箟 197121     130  7鏈� 30 11:56 checkpoint\n",
      "-rw-r--r-- 1 娣辩埍涓讳箟 197121 1369067  7鏈� 30 11:56 events.out.tfevents.1659153357.DESKTOP-D5RCLAE\n",
      "-rw-r--r-- 1 娣辩埍涓讳箟 197121  948896  7鏈� 30 11:55 graph.pbtxt\n",
      "-rw-r--r-- 1 娣辩埍涓讳箟 197121     452  7鏈� 30 11:55 model.ckpt-0.data-00000-of-00001\n",
      "-rw-r--r-- 1 娣辩埍涓讳箟 197121    1749  7鏈� 30 11:55 model.ckpt-0.index\n",
      "-rw-r--r-- 1 娣辩埍涓讳箟 197121  380781  7鏈� 30 11:55 model.ckpt-0.meta\n",
      "-rw-r--r-- 1 娣辩埍涓讳箟 197121     452  7鏈� 30 11:56 model.ckpt-1960.data-00000-of-00001\n",
      "-rw-r--r-- 1 娣辩埍涓讳箟 197121    1749  7鏈� 30 11:56 model.ckpt-1960.index\n",
      "-rw-r--r-- 1 娣辩埍涓讳箟 197121  380781  7鏈� 30 11:56 model.ckpt-1960.meta\n"
     ]
    }
   ],
   "source": [
    "!ls -l linear_model\n"
   ]
  },
  {
   "cell_type": "code",
   "execution_count": 56,
   "id": "d285a658",
   "metadata": {},
   "outputs": [
    {
     "name": "stdout",
     "output_type": "stream",
     "text": [
      "INFO:tensorflow:Calling model_fn.\n",
      "INFO:tensorflow:Done calling model_fn.\n",
      "INFO:tensorflow:Starting evaluation at 2022-07-30T11:57:36\n",
      "INFO:tensorflow:Graph was finalized.\n",
      "INFO:tensorflow:Restoring parameters from linear_model\\model.ckpt-1960\n",
      "INFO:tensorflow:Running local_init_op.\n",
      "INFO:tensorflow:Done running local_init_op.\n",
      "INFO:tensorflow:Inference Time : 0.87471s\n",
      "INFO:tensorflow:Finished evaluation at 2022-07-30-11:57:37\n",
      "INFO:tensorflow:Saving dict for global step 1960: accuracy = 0.780303, accuracy_baseline = 0.625, auc = 0.8390266, auc_precision_recall = 0.7885479, average_loss = 0.47160357, global_step = 1960, label/mean = 0.375, loss = 0.4552045, precision = 0.69902915, prediction/mean = 0.40700546, recall = 0.72727275\n",
      "INFO:tensorflow:Saving 'checkpoint_path' summary for global step 1960: linear_model\\model.ckpt-1960\n"
     ]
    },
    {
     "data": {
      "text/plain": [
       "{'accuracy': 0.780303,\n",
       " 'accuracy_baseline': 0.625,\n",
       " 'auc': 0.8390266,\n",
       " 'auc_precision_recall': 0.7885479,\n",
       " 'average_loss': 0.47160357,\n",
       " 'label/mean': 0.375,\n",
       " 'loss': 0.4552045,\n",
       " 'precision': 0.69902915,\n",
       " 'prediction/mean': 0.40700546,\n",
       " 'recall': 0.72727275,\n",
       " 'global_step': 1960}"
      ]
     },
     "execution_count": 56,
     "metadata": {},
     "output_type": "execute_result"
    }
   ],
   "source": [
    "linear_estimator.evaluate(input_fn = lambda : make_dataset(\n",
    "    eval_df, y_eval, epochs = 1, shuffle = False))\n"
   ]
  },
  {
   "cell_type": "code",
   "execution_count": 82,
   "id": "098392af",
   "metadata": {},
   "outputs": [],
   "source": [
    "!rm -rf dnn_model"
   ]
  },
  {
   "cell_type": "code",
   "execution_count": 83,
   "id": "93fef4b6",
   "metadata": {},
   "outputs": [],
   "source": [
    "dnn_output_dir = './dnn_model'\n",
    "if not os.path.exists(dnn_output_dir):\n",
    "    os.mkdir(dnn_output_dir)\n"
   ]
  },
  {
   "cell_type": "code",
   "execution_count": 84,
   "id": "160bd8d0",
   "metadata": {},
   "outputs": [
    {
     "name": "stdout",
     "output_type": "stream",
     "text": [
      "INFO:tensorflow:Using default config.\n",
      "INFO:tensorflow:Using config: {'_model_dir': './dnn_model', '_tf_random_seed': None, '_save_summary_steps': 100, '_save_checkpoints_steps': None, '_save_checkpoints_secs': 600, '_session_config': allow_soft_placement: true\n",
      "graph_options {\n",
      "  rewrite_options {\n",
      "    meta_optimizer_iterations: ONE\n",
      "  }\n",
      "}\n",
      ", '_keep_checkpoint_max': 5, '_keep_checkpoint_every_n_hours': 10000, '_log_step_count_steps': 100, '_train_distribute': None, '_device_fn': None, '_protocol': None, '_eval_distribute': None, '_experimental_distribute': None, '_experimental_max_worker_delay_secs': None, '_session_creation_timeout_secs': 7200, '_checkpoint_save_graph_def': True, '_service': None, '_cluster_spec': ClusterSpec({}), '_task_type': 'worker', '_task_id': 0, '_global_id_in_cluster': 0, '_master': '', '_evaluation_master': '', '_is_chief': True, '_num_ps_replicas': 0, '_num_worker_replicas': 1}\n",
      "INFO:tensorflow:Calling model_fn.\n",
      "INFO:tensorflow:Done calling model_fn.\n",
      "INFO:tensorflow:Create CheckpointSaverHook.\n",
      "INFO:tensorflow:Graph was finalized.\n",
      "INFO:tensorflow:Running local_init_op.\n",
      "INFO:tensorflow:Done running local_init_op.\n",
      "INFO:tensorflow:Calling checkpoint listeners before saving checkpoint 0...\n",
      "INFO:tensorflow:Saving checkpoints for 0 into ./dnn_model\\model.ckpt.\n"
     ]
    },
    {
     "ename": "UnicodeDecodeError",
     "evalue": "'utf-8' codec can't decode byte 0xd5 in position 143: invalid continuation byte",
     "output_type": "error",
     "traceback": [
      "\u001b[1;31m---------------------------------------------------------------------------\u001b[0m",
      "\u001b[1;31mUnicodeDecodeError\u001b[0m                        Traceback (most recent call last)",
      "\u001b[1;32m~\\AppData\\Local\\Temp/ipykernel_4368/588530867.py\u001b[0m in \u001b[0;36m<module>\u001b[1;34m\u001b[0m\n\u001b[0;32m      1\u001b[0m \u001b[0mdnn_estimator\u001b[0m \u001b[1;33m=\u001b[0m \u001b[0mtf\u001b[0m\u001b[1;33m.\u001b[0m\u001b[0mestimator\u001b[0m\u001b[1;33m.\u001b[0m\u001b[0mDNNClassifier\u001b[0m\u001b[1;33m(\u001b[0m\u001b[0mmodel_dir\u001b[0m \u001b[1;33m=\u001b[0m \u001b[0mdnn_output_dir\u001b[0m\u001b[1;33m,\u001b[0m\u001b[0mn_classes\u001b[0m \u001b[1;33m=\u001b[0m \u001b[1;36m2\u001b[0m\u001b[1;33m,\u001b[0m\u001b[0mfeature_columns\u001b[0m\u001b[1;33m=\u001b[0m\u001b[0mfeature_columns\u001b[0m\u001b[1;33m,\u001b[0m\u001b[0mhidden_units\u001b[0m \u001b[1;33m=\u001b[0m \u001b[1;33m[\u001b[0m\u001b[1;36m128\u001b[0m\u001b[1;33m,\u001b[0m \u001b[1;36m128\u001b[0m\u001b[1;33m,\u001b[0m\u001b[1;36m128\u001b[0m\u001b[1;33m]\u001b[0m\u001b[1;33m,\u001b[0m\u001b[0mactivation_fn\u001b[0m \u001b[1;33m=\u001b[0m \u001b[0mtf\u001b[0m\u001b[1;33m.\u001b[0m\u001b[0mnn\u001b[0m\u001b[1;33m.\u001b[0m\u001b[0mrelu\u001b[0m\u001b[1;33m,\u001b[0m\u001b[0moptimizer\u001b[0m \u001b[1;33m=\u001b[0m \u001b[1;34m'Adam'\u001b[0m\u001b[1;33m)\u001b[0m\u001b[1;33m\u001b[0m\u001b[1;33m\u001b[0m\u001b[0m\n\u001b[1;32m----> 2\u001b[1;33m \u001b[0mdnn_estimator\u001b[0m\u001b[1;33m.\u001b[0m\u001b[0mtrain\u001b[0m\u001b[1;33m(\u001b[0m\u001b[0minput_fn\u001b[0m \u001b[1;33m=\u001b[0m \u001b[1;32mlambda\u001b[0m \u001b[1;33m:\u001b[0m \u001b[0mmake_dataset\u001b[0m\u001b[1;33m(\u001b[0m\u001b[0mtrain_df\u001b[0m\u001b[1;33m,\u001b[0m \u001b[0my_train\u001b[0m\u001b[1;33m,\u001b[0m \u001b[0mepochs\u001b[0m \u001b[1;33m=\u001b[0m \u001b[1;36m100\u001b[0m\u001b[1;33m)\u001b[0m\u001b[1;33m)\u001b[0m\u001b[1;33m\u001b[0m\u001b[1;33m\u001b[0m\u001b[0m\n\u001b[0m",
      "\u001b[1;32m~\\anaconda3\\lib\\site-packages\\tensorflow_estimator\\python\\estimator\\estimator.py\u001b[0m in \u001b[0;36mtrain\u001b[1;34m(self, input_fn, hooks, steps, max_steps, saving_listeners)\u001b[0m\n\u001b[0;32m    358\u001b[0m \u001b[1;33m\u001b[0m\u001b[0m\n\u001b[0;32m    359\u001b[0m       \u001b[0msaving_listeners\u001b[0m \u001b[1;33m=\u001b[0m \u001b[0m_check_listeners_type\u001b[0m\u001b[1;33m(\u001b[0m\u001b[0msaving_listeners\u001b[0m\u001b[1;33m)\u001b[0m\u001b[1;33m\u001b[0m\u001b[1;33m\u001b[0m\u001b[0m\n\u001b[1;32m--> 360\u001b[1;33m       \u001b[0mloss\u001b[0m \u001b[1;33m=\u001b[0m \u001b[0mself\u001b[0m\u001b[1;33m.\u001b[0m\u001b[0m_train_model\u001b[0m\u001b[1;33m(\u001b[0m\u001b[0minput_fn\u001b[0m\u001b[1;33m,\u001b[0m \u001b[0mhooks\u001b[0m\u001b[1;33m,\u001b[0m \u001b[0msaving_listeners\u001b[0m\u001b[1;33m)\u001b[0m\u001b[1;33m\u001b[0m\u001b[1;33m\u001b[0m\u001b[0m\n\u001b[0m\u001b[0;32m    361\u001b[0m       \u001b[0mlogging\u001b[0m\u001b[1;33m.\u001b[0m\u001b[0minfo\u001b[0m\u001b[1;33m(\u001b[0m\u001b[1;34m'Loss for final step: %s.'\u001b[0m\u001b[1;33m,\u001b[0m \u001b[0mloss\u001b[0m\u001b[1;33m)\u001b[0m\u001b[1;33m\u001b[0m\u001b[1;33m\u001b[0m\u001b[0m\n\u001b[0;32m    362\u001b[0m       \u001b[1;32mreturn\u001b[0m \u001b[0mself\u001b[0m\u001b[1;33m\u001b[0m\u001b[1;33m\u001b[0m\u001b[0m\n",
      "\u001b[1;32m~\\anaconda3\\lib\\site-packages\\tensorflow_estimator\\python\\estimator\\estimator.py\u001b[0m in \u001b[0;36m_train_model\u001b[1;34m(self, input_fn, hooks, saving_listeners)\u001b[0m\n\u001b[0;32m   1184\u001b[0m       \u001b[1;32mreturn\u001b[0m \u001b[0mself\u001b[0m\u001b[1;33m.\u001b[0m\u001b[0m_train_model_distributed\u001b[0m\u001b[1;33m(\u001b[0m\u001b[0minput_fn\u001b[0m\u001b[1;33m,\u001b[0m \u001b[0mhooks\u001b[0m\u001b[1;33m,\u001b[0m \u001b[0msaving_listeners\u001b[0m\u001b[1;33m)\u001b[0m\u001b[1;33m\u001b[0m\u001b[1;33m\u001b[0m\u001b[0m\n\u001b[0;32m   1185\u001b[0m     \u001b[1;32melse\u001b[0m\u001b[1;33m:\u001b[0m\u001b[1;33m\u001b[0m\u001b[1;33m\u001b[0m\u001b[0m\n\u001b[1;32m-> 1186\u001b[1;33m       \u001b[1;32mreturn\u001b[0m \u001b[0mself\u001b[0m\u001b[1;33m.\u001b[0m\u001b[0m_train_model_default\u001b[0m\u001b[1;33m(\u001b[0m\u001b[0minput_fn\u001b[0m\u001b[1;33m,\u001b[0m \u001b[0mhooks\u001b[0m\u001b[1;33m,\u001b[0m \u001b[0msaving_listeners\u001b[0m\u001b[1;33m)\u001b[0m\u001b[1;33m\u001b[0m\u001b[1;33m\u001b[0m\u001b[0m\n\u001b[0m\u001b[0;32m   1187\u001b[0m \u001b[1;33m\u001b[0m\u001b[0m\n\u001b[0;32m   1188\u001b[0m   \u001b[1;32mdef\u001b[0m \u001b[0m_train_model_default\u001b[0m\u001b[1;33m(\u001b[0m\u001b[0mself\u001b[0m\u001b[1;33m,\u001b[0m \u001b[0minput_fn\u001b[0m\u001b[1;33m,\u001b[0m \u001b[0mhooks\u001b[0m\u001b[1;33m,\u001b[0m \u001b[0msaving_listeners\u001b[0m\u001b[1;33m)\u001b[0m\u001b[1;33m:\u001b[0m\u001b[1;33m\u001b[0m\u001b[1;33m\u001b[0m\u001b[0m\n",
      "\u001b[1;32m~\\anaconda3\\lib\\site-packages\\tensorflow_estimator\\python\\estimator\\estimator.py\u001b[0m in \u001b[0;36m_train_model_default\u001b[1;34m(self, input_fn, hooks, saving_listeners)\u001b[0m\n\u001b[0;32m   1215\u001b[0m                                            self.config)\n\u001b[0;32m   1216\u001b[0m       \u001b[0mglobal_step_tensor\u001b[0m \u001b[1;33m=\u001b[0m \u001b[0mtf\u001b[0m\u001b[1;33m.\u001b[0m\u001b[0mcompat\u001b[0m\u001b[1;33m.\u001b[0m\u001b[0mv1\u001b[0m\u001b[1;33m.\u001b[0m\u001b[0mtrain\u001b[0m\u001b[1;33m.\u001b[0m\u001b[0mget_global_step\u001b[0m\u001b[1;33m(\u001b[0m\u001b[0mg\u001b[0m\u001b[1;33m)\u001b[0m\u001b[1;33m\u001b[0m\u001b[1;33m\u001b[0m\u001b[0m\n\u001b[1;32m-> 1217\u001b[1;33m       return self._train_with_estimator_spec(estimator_spec, worker_hooks,\n\u001b[0m\u001b[0;32m   1218\u001b[0m                                              \u001b[0mhooks\u001b[0m\u001b[1;33m,\u001b[0m \u001b[0mglobal_step_tensor\u001b[0m\u001b[1;33m,\u001b[0m\u001b[1;33m\u001b[0m\u001b[1;33m\u001b[0m\u001b[0m\n\u001b[0;32m   1219\u001b[0m                                              saving_listeners)\n",
      "\u001b[1;32m~\\anaconda3\\lib\\site-packages\\tensorflow_estimator\\python\\estimator\\estimator.py\u001b[0m in \u001b[0;36m_train_with_estimator_spec\u001b[1;34m(self, estimator_spec, worker_hooks, hooks, global_step_tensor, saving_listeners)\u001b[0m\n\u001b[0;32m   1510\u001b[0m                   output_dir=self._config.model_dir))\n\u001b[0;32m   1511\u001b[0m \u001b[1;33m\u001b[0m\u001b[0m\n\u001b[1;32m-> 1512\u001b[1;33m     with training.MonitoredTrainingSession(\n\u001b[0m\u001b[0;32m   1513\u001b[0m         \u001b[0mmaster\u001b[0m\u001b[1;33m=\u001b[0m\u001b[0mself\u001b[0m\u001b[1;33m.\u001b[0m\u001b[0m_config\u001b[0m\u001b[1;33m.\u001b[0m\u001b[0mmaster\u001b[0m\u001b[1;33m,\u001b[0m\u001b[1;33m\u001b[0m\u001b[1;33m\u001b[0m\u001b[0m\n\u001b[0;32m   1514\u001b[0m         \u001b[0mis_chief\u001b[0m\u001b[1;33m=\u001b[0m\u001b[0mself\u001b[0m\u001b[1;33m.\u001b[0m\u001b[0m_config\u001b[0m\u001b[1;33m.\u001b[0m\u001b[0mis_chief\u001b[0m\u001b[1;33m,\u001b[0m\u001b[1;33m\u001b[0m\u001b[1;33m\u001b[0m\u001b[0m\n",
      "\u001b[1;32m~\\anaconda3\\lib\\site-packages\\tensorflow\\python\\training\\monitored_session.py\u001b[0m in \u001b[0;36mMonitoredTrainingSession\u001b[1;34m(master, is_chief, checkpoint_dir, scaffold, hooks, chief_only_hooks, save_checkpoint_secs, save_summaries_steps, save_summaries_secs, config, stop_grace_period_secs, log_step_count_steps, max_wait_secs, save_checkpoint_steps, summary_dir, save_graph_def)\u001b[0m\n\u001b[0;32m    607\u001b[0m   \u001b[1;32mif\u001b[0m \u001b[0mhooks\u001b[0m\u001b[1;33m:\u001b[0m\u001b[1;33m\u001b[0m\u001b[1;33m\u001b[0m\u001b[0m\n\u001b[0;32m    608\u001b[0m     \u001b[0mall_hooks\u001b[0m\u001b[1;33m.\u001b[0m\u001b[0mextend\u001b[0m\u001b[1;33m(\u001b[0m\u001b[0mhooks\u001b[0m\u001b[1;33m)\u001b[0m\u001b[1;33m\u001b[0m\u001b[1;33m\u001b[0m\u001b[0m\n\u001b[1;32m--> 609\u001b[1;33m   return MonitoredSession(\n\u001b[0m\u001b[0;32m    610\u001b[0m       \u001b[0msession_creator\u001b[0m\u001b[1;33m=\u001b[0m\u001b[0msession_creator\u001b[0m\u001b[1;33m,\u001b[0m\u001b[1;33m\u001b[0m\u001b[1;33m\u001b[0m\u001b[0m\n\u001b[0;32m    611\u001b[0m       \u001b[0mhooks\u001b[0m\u001b[1;33m=\u001b[0m\u001b[0mall_hooks\u001b[0m\u001b[1;33m,\u001b[0m\u001b[1;33m\u001b[0m\u001b[1;33m\u001b[0m\u001b[0m\n",
      "\u001b[1;32m~\\anaconda3\\lib\\site-packages\\tensorflow\\python\\training\\monitored_session.py\u001b[0m in \u001b[0;36m__init__\u001b[1;34m(self, session_creator, hooks, stop_grace_period_secs)\u001b[0m\n\u001b[0;32m   1052\u001b[0m                \u001b[0mhooks\u001b[0m\u001b[1;33m=\u001b[0m\u001b[1;32mNone\u001b[0m\u001b[1;33m,\u001b[0m\u001b[1;33m\u001b[0m\u001b[1;33m\u001b[0m\u001b[0m\n\u001b[0;32m   1053\u001b[0m                stop_grace_period_secs=120):\n\u001b[1;32m-> 1054\u001b[1;33m     super(MonitoredSession, self).__init__(\n\u001b[0m\u001b[0;32m   1055\u001b[0m         \u001b[0msession_creator\u001b[0m\u001b[1;33m,\u001b[0m\u001b[1;33m\u001b[0m\u001b[1;33m\u001b[0m\u001b[0m\n\u001b[0;32m   1056\u001b[0m         \u001b[0mhooks\u001b[0m\u001b[1;33m,\u001b[0m\u001b[1;33m\u001b[0m\u001b[1;33m\u001b[0m\u001b[0m\n",
      "\u001b[1;32m~\\anaconda3\\lib\\site-packages\\tensorflow\\python\\training\\monitored_session.py\u001b[0m in \u001b[0;36m__init__\u001b[1;34m(self, session_creator, hooks, should_recover, stop_grace_period_secs)\u001b[0m\n\u001b[0;32m    755\u001b[0m         stop_grace_period_secs=stop_grace_period_secs)\n\u001b[0;32m    756\u001b[0m     \u001b[1;32mif\u001b[0m \u001b[0mshould_recover\u001b[0m\u001b[1;33m:\u001b[0m\u001b[1;33m\u001b[0m\u001b[1;33m\u001b[0m\u001b[0m\n\u001b[1;32m--> 757\u001b[1;33m       \u001b[0mself\u001b[0m\u001b[1;33m.\u001b[0m\u001b[0m_sess\u001b[0m \u001b[1;33m=\u001b[0m \u001b[0m_RecoverableSession\u001b[0m\u001b[1;33m(\u001b[0m\u001b[0mself\u001b[0m\u001b[1;33m.\u001b[0m\u001b[0m_coordinated_creator\u001b[0m\u001b[1;33m)\u001b[0m\u001b[1;33m\u001b[0m\u001b[1;33m\u001b[0m\u001b[0m\n\u001b[0m\u001b[0;32m    758\u001b[0m     \u001b[1;32melse\u001b[0m\u001b[1;33m:\u001b[0m\u001b[1;33m\u001b[0m\u001b[1;33m\u001b[0m\u001b[0m\n\u001b[0;32m    759\u001b[0m       \u001b[0mself\u001b[0m\u001b[1;33m.\u001b[0m\u001b[0m_sess\u001b[0m \u001b[1;33m=\u001b[0m \u001b[0mself\u001b[0m\u001b[1;33m.\u001b[0m\u001b[0m_coordinated_creator\u001b[0m\u001b[1;33m.\u001b[0m\u001b[0mcreate_session\u001b[0m\u001b[1;33m(\u001b[0m\u001b[1;33m)\u001b[0m\u001b[1;33m\u001b[0m\u001b[1;33m\u001b[0m\u001b[0m\n",
      "\u001b[1;32m~\\anaconda3\\lib\\site-packages\\tensorflow\\python\\training\\monitored_session.py\u001b[0m in \u001b[0;36m__init__\u001b[1;34m(self, sess_creator)\u001b[0m\n\u001b[0;32m   1261\u001b[0m     \"\"\"\n\u001b[0;32m   1262\u001b[0m     \u001b[0mself\u001b[0m\u001b[1;33m.\u001b[0m\u001b[0m_sess_creator\u001b[0m \u001b[1;33m=\u001b[0m \u001b[0msess_creator\u001b[0m\u001b[1;33m\u001b[0m\u001b[1;33m\u001b[0m\u001b[0m\n\u001b[1;32m-> 1263\u001b[1;33m     \u001b[0m_WrappedSession\u001b[0m\u001b[1;33m.\u001b[0m\u001b[0m__init__\u001b[0m\u001b[1;33m(\u001b[0m\u001b[0mself\u001b[0m\u001b[1;33m,\u001b[0m \u001b[0mself\u001b[0m\u001b[1;33m.\u001b[0m\u001b[0m_create_session\u001b[0m\u001b[1;33m(\u001b[0m\u001b[1;33m)\u001b[0m\u001b[1;33m)\u001b[0m\u001b[1;33m\u001b[0m\u001b[1;33m\u001b[0m\u001b[0m\n\u001b[0m\u001b[0;32m   1264\u001b[0m \u001b[1;33m\u001b[0m\u001b[0m\n\u001b[0;32m   1265\u001b[0m   \u001b[1;32mdef\u001b[0m \u001b[0m_create_session\u001b[0m\u001b[1;33m(\u001b[0m\u001b[0mself\u001b[0m\u001b[1;33m)\u001b[0m\u001b[1;33m:\u001b[0m\u001b[1;33m\u001b[0m\u001b[1;33m\u001b[0m\u001b[0m\n",
      "\u001b[1;32m~\\anaconda3\\lib\\site-packages\\tensorflow\\python\\training\\monitored_session.py\u001b[0m in \u001b[0;36m_create_session\u001b[1;34m(self)\u001b[0m\n\u001b[0;32m   1266\u001b[0m     \u001b[1;32mwhile\u001b[0m \u001b[1;32mTrue\u001b[0m\u001b[1;33m:\u001b[0m\u001b[1;33m\u001b[0m\u001b[1;33m\u001b[0m\u001b[0m\n\u001b[0;32m   1267\u001b[0m       \u001b[1;32mtry\u001b[0m\u001b[1;33m:\u001b[0m\u001b[1;33m\u001b[0m\u001b[1;33m\u001b[0m\u001b[0m\n\u001b[1;32m-> 1268\u001b[1;33m         \u001b[1;32mreturn\u001b[0m \u001b[0mself\u001b[0m\u001b[1;33m.\u001b[0m\u001b[0m_sess_creator\u001b[0m\u001b[1;33m.\u001b[0m\u001b[0mcreate_session\u001b[0m\u001b[1;33m(\u001b[0m\u001b[1;33m)\u001b[0m\u001b[1;33m\u001b[0m\u001b[1;33m\u001b[0m\u001b[0m\n\u001b[0m\u001b[0;32m   1269\u001b[0m       \u001b[1;32mexcept\u001b[0m \u001b[0m_PREEMPTION_ERRORS\u001b[0m \u001b[1;32mas\u001b[0m \u001b[0me\u001b[0m\u001b[1;33m:\u001b[0m\u001b[1;33m\u001b[0m\u001b[1;33m\u001b[0m\u001b[0m\n\u001b[0;32m   1270\u001b[0m         logging.info(\n",
      "\u001b[1;32m~\\anaconda3\\lib\\site-packages\\tensorflow\\python\\training\\monitored_session.py\u001b[0m in \u001b[0;36mcreate_session\u001b[1;34m(self)\u001b[0m\n\u001b[0;32m    915\u001b[0m       \u001b[1;31m# Inform the hooks that a new session has been created.\u001b[0m\u001b[1;33m\u001b[0m\u001b[1;33m\u001b[0m\u001b[0m\n\u001b[0;32m    916\u001b[0m       \u001b[1;32mfor\u001b[0m \u001b[0mhook\u001b[0m \u001b[1;32min\u001b[0m \u001b[0mself\u001b[0m\u001b[1;33m.\u001b[0m\u001b[0m_hooks\u001b[0m\u001b[1;33m:\u001b[0m\u001b[1;33m\u001b[0m\u001b[1;33m\u001b[0m\u001b[0m\n\u001b[1;32m--> 917\u001b[1;33m         \u001b[0mhook\u001b[0m\u001b[1;33m.\u001b[0m\u001b[0mafter_create_session\u001b[0m\u001b[1;33m(\u001b[0m\u001b[0mself\u001b[0m\u001b[1;33m.\u001b[0m\u001b[0mtf_sess\u001b[0m\u001b[1;33m,\u001b[0m \u001b[0mself\u001b[0m\u001b[1;33m.\u001b[0m\u001b[0mcoord\u001b[0m\u001b[1;33m)\u001b[0m\u001b[1;33m\u001b[0m\u001b[1;33m\u001b[0m\u001b[0m\n\u001b[0m\u001b[0;32m    918\u001b[0m       return _CoordinatedSession(\n\u001b[0;32m    919\u001b[0m           \u001b[0m_HookedSession\u001b[0m\u001b[1;33m(\u001b[0m\u001b[0mself\u001b[0m\u001b[1;33m.\u001b[0m\u001b[0mtf_sess\u001b[0m\u001b[1;33m,\u001b[0m \u001b[0mself\u001b[0m\u001b[1;33m.\u001b[0m\u001b[0m_hooks\u001b[0m\u001b[1;33m)\u001b[0m\u001b[1;33m,\u001b[0m \u001b[0mself\u001b[0m\u001b[1;33m.\u001b[0m\u001b[0mcoord\u001b[0m\u001b[1;33m,\u001b[0m\u001b[1;33m\u001b[0m\u001b[1;33m\u001b[0m\u001b[0m\n",
      "\u001b[1;32m~\\anaconda3\\lib\\site-packages\\tensorflow\\python\\training\\basic_session_run_hooks.py\u001b[0m in \u001b[0;36mafter_create_session\u001b[1;34m(self, session, coord)\u001b[0m\n\u001b[0;32m    600\u001b[0m     \u001b[0mself\u001b[0m\u001b[1;33m.\u001b[0m\u001b[0m_summary_writer\u001b[0m\u001b[1;33m.\u001b[0m\u001b[0madd_meta_graph\u001b[0m\u001b[1;33m(\u001b[0m\u001b[0mmeta_graph_def\u001b[0m\u001b[1;33m)\u001b[0m\u001b[1;33m\u001b[0m\u001b[1;33m\u001b[0m\u001b[0m\n\u001b[0;32m    601\u001b[0m     \u001b[1;31m# The checkpoint saved here is the state at step \"global_step\".\u001b[0m\u001b[1;33m\u001b[0m\u001b[1;33m\u001b[0m\u001b[0m\n\u001b[1;32m--> 602\u001b[1;33m     \u001b[0mself\u001b[0m\u001b[1;33m.\u001b[0m\u001b[0m_save\u001b[0m\u001b[1;33m(\u001b[0m\u001b[0msession\u001b[0m\u001b[1;33m,\u001b[0m \u001b[0mglobal_step\u001b[0m\u001b[1;33m)\u001b[0m\u001b[1;33m\u001b[0m\u001b[1;33m\u001b[0m\u001b[0m\n\u001b[0m\u001b[0;32m    603\u001b[0m     \u001b[0mself\u001b[0m\u001b[1;33m.\u001b[0m\u001b[0m_timer\u001b[0m\u001b[1;33m.\u001b[0m\u001b[0mupdate_last_triggered_step\u001b[0m\u001b[1;33m(\u001b[0m\u001b[0mglobal_step\u001b[0m\u001b[1;33m)\u001b[0m\u001b[1;33m\u001b[0m\u001b[1;33m\u001b[0m\u001b[0m\n\u001b[0;32m    604\u001b[0m \u001b[1;33m\u001b[0m\u001b[0m\n",
      "\u001b[1;32m~\\anaconda3\\lib\\site-packages\\tensorflow\\python\\training\\basic_session_run_hooks.py\u001b[0m in \u001b[0;36m_save\u001b[1;34m(self, session, step)\u001b[0m\n\u001b[0;32m    632\u001b[0m \u001b[1;33m\u001b[0m\u001b[0m\n\u001b[0;32m    633\u001b[0m     \u001b[0mlogging\u001b[0m\u001b[1;33m.\u001b[0m\u001b[0minfo\u001b[0m\u001b[1;33m(\u001b[0m\u001b[1;34m\"Saving checkpoints for %d into %s.\"\u001b[0m\u001b[1;33m,\u001b[0m \u001b[0mstep\u001b[0m\u001b[1;33m,\u001b[0m \u001b[0mself\u001b[0m\u001b[1;33m.\u001b[0m\u001b[0m_save_path\u001b[0m\u001b[1;33m)\u001b[0m\u001b[1;33m\u001b[0m\u001b[1;33m\u001b[0m\u001b[0m\n\u001b[1;32m--> 634\u001b[1;33m     self._get_saver().save(session, self._save_path, global_step=step,\n\u001b[0m\u001b[0;32m    635\u001b[0m                            write_meta_graph=self._save_graph_def)\n\u001b[0;32m    636\u001b[0m     self._summary_writer.add_session_log(\n",
      "\u001b[1;32m~\\anaconda3\\lib\\site-packages\\tensorflow\\python\\training\\saver.py\u001b[0m in \u001b[0;36msave\u001b[1;34m(self, sess, save_path, global_step, latest_filename, meta_graph_suffix, write_meta_graph, write_state, strip_default_attrs, save_debug_info)\u001b[0m\n\u001b[0;32m   1284\u001b[0m           \u001b[0mmodel_checkpoint_path\u001b[0m \u001b[1;33m=\u001b[0m \u001b[0mself\u001b[0m\u001b[1;33m.\u001b[0m\u001b[0msaver_def\u001b[0m\u001b[1;33m.\u001b[0m\u001b[0msave_tensor_name\u001b[0m\u001b[1;33m\u001b[0m\u001b[1;33m\u001b[0m\u001b[0m\n\u001b[0;32m   1285\u001b[0m         \u001b[1;32melse\u001b[0m\u001b[1;33m:\u001b[0m\u001b[1;33m\u001b[0m\u001b[1;33m\u001b[0m\u001b[0m\n\u001b[1;32m-> 1286\u001b[1;33m           model_checkpoint_path = sess.run(\n\u001b[0m\u001b[0;32m   1287\u001b[0m               \u001b[0mself\u001b[0m\u001b[1;33m.\u001b[0m\u001b[0msaver_def\u001b[0m\u001b[1;33m.\u001b[0m\u001b[0msave_tensor_name\u001b[0m\u001b[1;33m,\u001b[0m\u001b[1;33m\u001b[0m\u001b[1;33m\u001b[0m\u001b[0m\n\u001b[0;32m   1288\u001b[0m               {self.saver_def.filename_tensor_name: checkpoint_file})\n",
      "\u001b[1;32m~\\anaconda3\\lib\\site-packages\\tensorflow\\python\\client\\session.py\u001b[0m in \u001b[0;36mrun\u001b[1;34m(self, fetches, feed_dict, options, run_metadata)\u001b[0m\n\u001b[0;32m    965\u001b[0m \u001b[1;33m\u001b[0m\u001b[0m\n\u001b[0;32m    966\u001b[0m     \u001b[1;32mtry\u001b[0m\u001b[1;33m:\u001b[0m\u001b[1;33m\u001b[0m\u001b[1;33m\u001b[0m\u001b[0m\n\u001b[1;32m--> 967\u001b[1;33m       result = self._run(None, fetches, feed_dict, options_ptr,\n\u001b[0m\u001b[0;32m    968\u001b[0m                          run_metadata_ptr)\n\u001b[0;32m    969\u001b[0m       \u001b[1;32mif\u001b[0m \u001b[0mrun_metadata\u001b[0m\u001b[1;33m:\u001b[0m\u001b[1;33m\u001b[0m\u001b[1;33m\u001b[0m\u001b[0m\n",
      "\u001b[1;32m~\\anaconda3\\lib\\site-packages\\tensorflow\\python\\client\\session.py\u001b[0m in \u001b[0;36m_run\u001b[1;34m(self, handle, fetches, feed_dict, options, run_metadata)\u001b[0m\n\u001b[0;32m   1188\u001b[0m     \u001b[1;31m# or if the call is a partial run that specifies feeds.\u001b[0m\u001b[1;33m\u001b[0m\u001b[1;33m\u001b[0m\u001b[0m\n\u001b[0;32m   1189\u001b[0m     \u001b[1;32mif\u001b[0m \u001b[0mfinal_fetches\u001b[0m \u001b[1;32mor\u001b[0m \u001b[0mfinal_targets\u001b[0m \u001b[1;32mor\u001b[0m \u001b[1;33m(\u001b[0m\u001b[0mhandle\u001b[0m \u001b[1;32mand\u001b[0m \u001b[0mfeed_dict_tensor\u001b[0m\u001b[1;33m)\u001b[0m\u001b[1;33m:\u001b[0m\u001b[1;33m\u001b[0m\u001b[1;33m\u001b[0m\u001b[0m\n\u001b[1;32m-> 1190\u001b[1;33m       results = self._do_run(handle, final_targets, final_fetches,\n\u001b[0m\u001b[0;32m   1191\u001b[0m                              feed_dict_tensor, options, run_metadata)\n\u001b[0;32m   1192\u001b[0m     \u001b[1;32melse\u001b[0m\u001b[1;33m:\u001b[0m\u001b[1;33m\u001b[0m\u001b[1;33m\u001b[0m\u001b[0m\n",
      "\u001b[1;32m~\\anaconda3\\lib\\site-packages\\tensorflow\\python\\client\\session.py\u001b[0m in \u001b[0;36m_do_run\u001b[1;34m(self, handle, target_list, fetch_list, feed_dict, options, run_metadata)\u001b[0m\n\u001b[0;32m   1368\u001b[0m \u001b[1;33m\u001b[0m\u001b[0m\n\u001b[0;32m   1369\u001b[0m     \u001b[1;32mif\u001b[0m \u001b[0mhandle\u001b[0m \u001b[1;32mis\u001b[0m \u001b[1;32mNone\u001b[0m\u001b[1;33m:\u001b[0m\u001b[1;33m\u001b[0m\u001b[1;33m\u001b[0m\u001b[0m\n\u001b[1;32m-> 1370\u001b[1;33m       return self._do_call(_run_fn, feeds, fetches, targets, options,\n\u001b[0m\u001b[0;32m   1371\u001b[0m                            run_metadata)\n\u001b[0;32m   1372\u001b[0m     \u001b[1;32melse\u001b[0m\u001b[1;33m:\u001b[0m\u001b[1;33m\u001b[0m\u001b[1;33m\u001b[0m\u001b[0m\n",
      "\u001b[1;32m~\\anaconda3\\lib\\site-packages\\tensorflow\\python\\client\\session.py\u001b[0m in \u001b[0;36m_do_call\u001b[1;34m(self, fn, *args)\u001b[0m\n\u001b[0;32m   1375\u001b[0m   \u001b[1;32mdef\u001b[0m \u001b[0m_do_call\u001b[0m\u001b[1;33m(\u001b[0m\u001b[0mself\u001b[0m\u001b[1;33m,\u001b[0m \u001b[0mfn\u001b[0m\u001b[1;33m,\u001b[0m \u001b[1;33m*\u001b[0m\u001b[0margs\u001b[0m\u001b[1;33m)\u001b[0m\u001b[1;33m:\u001b[0m\u001b[1;33m\u001b[0m\u001b[1;33m\u001b[0m\u001b[0m\n\u001b[0;32m   1376\u001b[0m     \u001b[1;32mtry\u001b[0m\u001b[1;33m:\u001b[0m\u001b[1;33m\u001b[0m\u001b[1;33m\u001b[0m\u001b[0m\n\u001b[1;32m-> 1377\u001b[1;33m       \u001b[1;32mreturn\u001b[0m \u001b[0mfn\u001b[0m\u001b[1;33m(\u001b[0m\u001b[1;33m*\u001b[0m\u001b[0margs\u001b[0m\u001b[1;33m)\u001b[0m\u001b[1;33m\u001b[0m\u001b[1;33m\u001b[0m\u001b[0m\n\u001b[0m\u001b[0;32m   1378\u001b[0m     \u001b[1;32mexcept\u001b[0m \u001b[0merrors\u001b[0m\u001b[1;33m.\u001b[0m\u001b[0mOpError\u001b[0m \u001b[1;32mas\u001b[0m \u001b[0me\u001b[0m\u001b[1;33m:\u001b[0m\u001b[1;33m\u001b[0m\u001b[1;33m\u001b[0m\u001b[0m\n\u001b[0;32m   1379\u001b[0m       \u001b[0mmessage\u001b[0m \u001b[1;33m=\u001b[0m \u001b[0mcompat\u001b[0m\u001b[1;33m.\u001b[0m\u001b[0mas_text\u001b[0m\u001b[1;33m(\u001b[0m\u001b[0me\u001b[0m\u001b[1;33m.\u001b[0m\u001b[0mmessage\u001b[0m\u001b[1;33m)\u001b[0m\u001b[1;33m\u001b[0m\u001b[1;33m\u001b[0m\u001b[0m\n",
      "\u001b[1;32m~\\anaconda3\\lib\\site-packages\\tensorflow\\python\\client\\session.py\u001b[0m in \u001b[0;36m_run_fn\u001b[1;34m(feed_dict, fetch_list, target_list, options, run_metadata)\u001b[0m\n\u001b[0;32m   1358\u001b[0m       \u001b[1;31m# Ensure any changes to the graph are reflected in the runtime.\u001b[0m\u001b[1;33m\u001b[0m\u001b[1;33m\u001b[0m\u001b[0m\n\u001b[0;32m   1359\u001b[0m       \u001b[0mself\u001b[0m\u001b[1;33m.\u001b[0m\u001b[0m_extend_graph\u001b[0m\u001b[1;33m(\u001b[0m\u001b[1;33m)\u001b[0m\u001b[1;33m\u001b[0m\u001b[1;33m\u001b[0m\u001b[0m\n\u001b[1;32m-> 1360\u001b[1;33m       return self._call_tf_sessionrun(options, feed_dict, fetch_list,\n\u001b[0m\u001b[0;32m   1361\u001b[0m                                       target_list, run_metadata)\n\u001b[0;32m   1362\u001b[0m \u001b[1;33m\u001b[0m\u001b[0m\n",
      "\u001b[1;32m~\\anaconda3\\lib\\site-packages\\tensorflow\\python\\client\\session.py\u001b[0m in \u001b[0;36m_call_tf_sessionrun\u001b[1;34m(self, options, feed_dict, fetch_list, target_list, run_metadata)\u001b[0m\n\u001b[0;32m   1451\u001b[0m   def _call_tf_sessionrun(self, options, feed_dict, fetch_list, target_list,\n\u001b[0;32m   1452\u001b[0m                           run_metadata):\n\u001b[1;32m-> 1453\u001b[1;33m     return tf_session.TF_SessionRun_wrapper(self._session, options, feed_dict,\n\u001b[0m\u001b[0;32m   1454\u001b[0m                                             \u001b[0mfetch_list\u001b[0m\u001b[1;33m,\u001b[0m \u001b[0mtarget_list\u001b[0m\u001b[1;33m,\u001b[0m\u001b[1;33m\u001b[0m\u001b[1;33m\u001b[0m\u001b[0m\n\u001b[0;32m   1455\u001b[0m                                             run_metadata)\n",
      "\u001b[1;31mUnicodeDecodeError\u001b[0m: 'utf-8' codec can't decode byte 0xd5 in position 143: invalid continuation byte"
     ]
    }
   ],
   "source": [
    "dnn_estimator = tf.estimator.DNNClassifier(\n",
    "    model_dir = dnn_output_dir,\n",
    "    n_classes = 2,\n",
    "    feature_columns=feature_columns,\n",
    "    hidden_units = [128, 128,128],\n",
    "    activation_fn = tf.nn.relu,\n",
    "    optimizer = 'Adam')\n",
    "dnn_estimator.train(input_fn = lambda : make_dataset(train_df, y_train, epochs = 100))\n"
   ]
  },
  {
   "cell_type": "code",
   "execution_count": null,
   "id": "8e1d040f",
   "metadata": {},
   "outputs": [],
   "source": []
  }
 ],
 "metadata": {
  "kernelspec": {
   "display_name": "PyCharm (day32)",
   "language": "python",
   "name": "pycharm-a7ca9fd6"
  },
  "language_info": {
   "codemirror_mode": {
    "name": "ipython",
    "version": 3
   },
   "file_extension": ".py",
   "mimetype": "text/x-python",
   "name": "python",
   "nbconvert_exporter": "python",
   "pygments_lexer": "ipython3",
   "version": "3.9.7"
  }
 },
 "nbformat": 4,
 "nbformat_minor": 5
}
