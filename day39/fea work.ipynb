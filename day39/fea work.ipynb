{
 "cells": [
  {
   "cell_type": "code",
   "execution_count": 2,
   "metadata": {
    "collapsed": true
   },
   "outputs": [],
   "source": [
    "from sklearn.feature_extraction import DictVectorizer\n",
    "from sklearn.feature_extraction.text import CountVectorizer, TfidfVectorizer\n",
    "from sklearn.preprocessing import MinMaxScaler, StandardScaler\n",
    "from sklearn.feature_selection import VarianceThreshold\n",
    "from sklearn.decomposition import PCA\n",
    "import jieba\n",
    "import numpy as np\n",
    "from sklearn.impute import SimpleImputer"
   ]
  },
  {
   "cell_type": "code",
   "execution_count": 14,
   "outputs": [
    {
     "name": "stdout",
     "output_type": "stream",
     "text": [
      "['like', 'you']\n",
      "  (0, 0)\t1\n",
      "  (0, 1)\t1\n",
      "  (1, 0)\t1\n",
      "  (1, 1)\t1\n",
      "  (2, 0)\t1\n",
      "  (2, 1)\t2\n",
      "<class 'scipy.sparse.csr.csr_matrix'>\n",
      "[[1 1]\n",
      " [1 1]\n",
      " [1 2]]\n",
      "[array(['like', 'you'], dtype='<U4'), array(['like', 'you'], dtype='<U4'), array(['like', 'you'], dtype='<U4')]\n"
     ]
    }
   ],
   "source": [
    "def couvec():\n",
    "    #实例化类\n",
    "    vector=CountVectorizer(min_df=2)\n",
    "    #res是一个稀疏矩阵的表达\n",
    "    res=vector.fit_transform([\n",
    "        \"i like you\",\n",
    "        \"you like me\",\n",
    "        \"i like you,and you?\"\n",
    "    ])\n",
    "    print(vector.get_feature_names())\n",
    "    print(res)\n",
    "    print(type(res))\n",
    "    #稀疏矩阵toarray后变为正常矩阵\n",
    "    print(res.toarray())\n",
    "    #不会返回原句而是特征单词\n",
    "    print(vector.inverse_transform(res))\n",
    "couvec()"
   ],
   "metadata": {
    "collapsed": false,
    "pycharm": {
     "name": "#%%\n"
    }
   }
  },
  {
   "cell_type": "code",
   "execution_count": 5,
   "outputs": [
    {
     "name": "stdout",
     "output_type": "stream",
     "text": [
      "['answer', 'don', '不要回', '不要回答']\n",
      "  (0, 3)\t2\n",
      "  (0, 2)\t1\n",
      "  (0, 1)\t1\n",
      "  (0, 0)\t1\n",
      "[[1 1 1 2]]\n"
     ]
    }
   ],
   "source": [
    "def countvec():\n",
    "    cv=CountVectorizer()\n",
    "    #本身是矩阵\n",
    "    character=cv.fit_transform(['不要回答！不要回答！ 不要回 答！don‘t answer！'])\n",
    "    print(cv.get_feature_names())\n",
    "    print(character)\n",
    "    print((character.toarray()))\n",
    "    return None\n",
    "countvec()"
   ],
   "metadata": {
    "collapsed": false,
    "pycharm": {
     "name": "#%%\n"
    }
   }
  },
  {
   "cell_type": "code",
   "execution_count": 11,
   "outputs": [
    {
     "name": "stdout",
     "output_type": "stream",
     "text": [
      "<class 'generator'>\n",
      "['我们', '只是', '微小', '尘埃', '中', '的', '一员'] ['明天', '的', '事', '就', '留到', '明天', '去', '做', '吧'] ['金风玉露', '一', '相逢', ',', '便胜', '却', '人间', '无数']\n",
      "<class 'str'>\n",
      "('我们 只是 微小 尘埃 中 的 一员', '明天 的 事 就 留到 明天 去 做 吧', '金风玉露 一 相逢 , 便胜 却 人间 无数')\n",
      "<class 'tuple'>\n"
     ]
    }
   ],
   "source": [
    "def cutchar():\n",
    "    character1=jieba.cut(\"我们只是微小尘埃中的一员\")\n",
    "    character2=jieba.cut(\"明天的事就留到明天去做吧\")\n",
    "    character3=jieba.cut(\"金风玉露一相逢,便胜却人间无数\")\n",
    "    # character1是一个生成器\n",
    "    print(type(character1))\n",
    "    #用list将生成器转为列表\n",
    "    content1=list(character1)\n",
    "    content2=list(character2)\n",
    "    content3=list(character3)\n",
    "    print(content1,content2,content3)\n",
    "    #变为字符串\n",
    "    t1=' '.join(content1)\n",
    "    t2=' '.join(content2)\n",
    "    t3=' '.join(content3)\n",
    "    print(type(t1))\n",
    "    return t1,t2,t3\n",
    "s=cutchar()\n",
    "print(s)\n",
    "print(type(s))"
   ],
   "metadata": {
    "collapsed": false,
    "pycharm": {
     "name": "#%%\n"
    }
   }
  },
  {
   "cell_type": "code",
   "execution_count": 16,
   "outputs": [
    {
     "name": "stdout",
     "output_type": "stream",
     "text": [
      "<class 'generator'>\n",
      "['我们', '只是', '微小', '尘埃', '中', '的', '一员'] ['明天', '的', '事', '就', '留到', '明天', '去', '做', '吧'] ['金风玉露', '一', '相逢', ',', '便胜', '却', '人间', '无数']\n",
      "<class 'str'>\n",
      "['一员', '人间', '便胜', '只是', '尘埃', '微小', '我们', '无数', '明天', '留到', '相逢', '金风玉露']\n",
      "[[1 0 0 1 1 1 1 0 0 0 0 0]\n",
      " [0 0 0 0 0 0 0 0 2 1 0 0]\n",
      " [0 1 1 0 0 0 0 1 0 0 1 1]]\n"
     ]
    }
   ],
   "source": [
    "def charvec():\n",
    "    c1,c2,c3=cutchar()\n",
    "    cv=CountVectorizer()\n",
    "    data=cv.fit_transform([c1,c2,c3])\n",
    "    #%%用实例化的类来得到特征各项\n",
    "    print(cv.get_feature_names())\n",
    "    # print(cv.__getattribute__())\n",
    "    print(data.toarray())\n",
    "    return None\n",
    "charvec()"
   ],
   "metadata": {
    "collapsed": false,
    "pycharm": {
     "name": "#%%\n"
    }
   }
  },
  {
   "cell_type": "code",
   "execution_count": 21,
   "outputs": [
    {
     "name": "stdout",
     "output_type": "stream",
     "text": [
      "<class 'generator'>\n",
      "['我们', '只是', '微小', '尘埃', '中', '的', '一员'] ['明天', '的', '事', '就', '留到', '明天', '去', '做', '吧'] ['金风玉露', '一', '相逢', ',', '便胜', '却', '人间', '无数']\n",
      "<class 'str'>\n",
      "['一员', '人间', '便胜', '只是', '尘埃', '微小', '我们', '无数', '明天', '留到', '相逢', '金风玉露']\n",
      "<class 'scipy.sparse.csr.csr_matrix'>\n",
      "  (0, 0)\t0.4472135954999579\n",
      "  (0, 4)\t0.4472135954999579\n",
      "  (0, 5)\t0.4472135954999579\n",
      "  (0, 3)\t0.4472135954999579\n",
      "  (0, 6)\t0.4472135954999579\n",
      "  (1, 9)\t0.4472135954999579\n",
      "  (1, 8)\t0.8944271909999159\n",
      "  (2, 7)\t0.4472135954999579\n",
      "  (2, 1)\t0.4472135954999579\n",
      "  (2, 2)\t0.4472135954999579\n",
      "  (2, 10)\t0.4472135954999579\n",
      "  (2, 11)\t0.4472135954999579\n",
      "[[0.4472136  0.         0.         0.4472136  0.4472136  0.4472136\n",
      "  0.4472136  0.         0.         0.         0.         0.        ]\n",
      " [0.         0.         0.         0.         0.         0.\n",
      "  0.         0.         0.89442719 0.4472136  0.         0.        ]\n",
      " [0.         0.4472136  0.4472136  0.         0.         0.\n",
      "  0.         0.4472136  0.         0.         0.4472136  0.4472136 ]]\n"
     ]
    }
   ],
   "source": [
    "def tfidfvec():\n",
    "    c1,c2,c3=cutchar()\n",
    "    tf=TfidfVectorizer()\n",
    "    data=tf.fit_transform([c1,c2,c3])\n",
    "    print(tf.get_feature_names())\n",
    "    print(type(data))\n",
    "    print(data)\n",
    "    print(data.toarray())\n",
    "tfidfvec()"
   ],
   "metadata": {
    "collapsed": false,
    "pycharm": {
     "name": "#%%\n"
    }
   }
  },
  {
   "cell_type": "code",
   "execution_count": 23,
   "outputs": [
    {
     "name": "stdout",
     "output_type": "stream",
     "text": [
      "[[ 1.         -1.         -1.         -1.        ]\n",
      " [-1.          1.          1.          0.66666667]\n",
      " [ 0.          0.          0.2         1.        ]]\n"
     ]
    }
   ],
   "source": [
    "def toone():\n",
    "    mm=MinMaxScaler(feature_range=(-1,1))\n",
    "    data=mm.fit_transform([[90, 2, 10, 40], [60, 4, 15, 45], [75, 3, 13, 46]] )\n",
    "    print(data)\n",
    "    return None\n",
    "toone()"
   ],
   "metadata": {
    "collapsed": false,
    "pycharm": {
     "name": "#%%\n"
    }
   }
  },
  {
   "cell_type": "code",
   "execution_count": 27,
   "outputs": [
    {
     "name": "stdout",
     "output_type": "stream",
     "text": [
      "[[-1.06904497 -1.35873244  0.98058068]\n",
      " [-0.26726124  0.33968311  0.39223227]\n",
      " [ 1.33630621  1.01904933 -1.37281295]]\n",
      "[2.33333333 3.         1.33333333]\n",
      "[1.55555556 8.66666667 2.88888889]\n",
      "3\n",
      "[0. 0. 0.]\n",
      "[1.         1.         1.00000001]\n"
     ]
    }
   ],
   "source": [
    "def standard():\n",
    "    std=StandardScaler()\n",
    "    data=std.fit_transform([[1., -1., 3.], [2., 4., 2.], [4., 6., -1.]])\n",
    "    print(data)\n",
    "    #用实例化的类来取而不是数据本身\n",
    "    #转成的data方差为1均值为0\n",
    "    print(std.mean_)\n",
    "    print(std.var_)\n",
    "    print(std.n_samples_seen_)\n",
    "    data1=std.fit_transform([[-1.06904497,-1.35873244,0.98058068],\n",
    "    [-0.26726124,0.33968311,0.39223227],\n",
    "    [ 1.33630621,1.01904933,-1.37281295]])\n",
    "    print(std.mean_)\n",
    "    print(std.var_)\n",
    "standard()"
   ],
   "metadata": {
    "collapsed": false,
    "pycharm": {
     "name": "#%%\n"
    }
   }
  },
  {
   "cell_type": "code",
   "execution_count": 29,
   "outputs": [
    {
     "name": "stdout",
     "output_type": "stream",
     "text": [
      "[[1. 2.]\n",
      " [3. 3.]\n",
      " [7. 6.]\n",
      " [3. 2.]]\n"
     ]
    }
   ],
   "source": [
    "def fillmissing():\n",
    "    fm=SimpleImputer(missing_values=np.nan,strategy='median')\n",
    "    data=fm.fit_transform([[1, 2], [np.nan, 3], [7, 6], [3, 2]])\n",
    "    print(data)\n",
    "fillmissing()\n"
   ],
   "metadata": {
    "collapsed": false,
    "pycharm": {
     "name": "#%%\n"
    }
   }
  },
  {
   "cell_type": "code",
   "execution_count": 32,
   "outputs": [
    {
     "name": "stdout",
     "output_type": "stream",
     "text": [
      "[[0 2 0]\n",
      " [0 1 4]\n",
      " [1 1 1]]\n",
      "[ True  True  True False]\n"
     ]
    }
   ],
   "source": [
    "def var_low_out():\n",
    "    var=VarianceThreshold(threshold=0)\n",
    "    data=var.fit_transform([[0, 2, 0, 3],\n",
    "                              [0, 1, 4, 3],\n",
    "                              [1, 1, 1, 3]])\n",
    "    print(data)\n",
    "    print(var.get_support())\n",
    "var_low_out()"
   ],
   "metadata": {
    "collapsed": false,
    "pycharm": {
     "name": "#%%\n"
    }
   }
  }
 ],
 "metadata": {
  "kernelspec": {
   "name": "pycharm-a7ca9fd6",
   "language": "python",
   "display_name": "PyCharm (day32)"
  },
  "language_info": {
   "codemirror_mode": {
    "name": "ipython",
    "version": 2
   },
   "file_extension": ".py",
   "mimetype": "text/x-python",
   "name": "python",
   "nbconvert_exporter": "python",
   "pygments_lexer": "ipython2",
   "version": "2.7.6"
  }
 },
 "nbformat": 4,
 "nbformat_minor": 0
}