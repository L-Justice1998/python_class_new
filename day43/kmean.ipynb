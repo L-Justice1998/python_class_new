{
 "cells": [
  {
   "cell_type": "code",
   "execution_count": 12,
   "metadata": {
    "collapsed": true
   },
   "outputs": [],
   "source": [
    "import numpy as np\n",
    "import pandas as pd\n",
    "from sklearn.decomposition import PCA\n",
    "from sklearn.cluster import KMeans\n",
    "import matplotlib.pyplot as plt\n",
    "from sklearn.metrics import silhouette_score\n"
   ]
  },
  {
   "cell_type": "code",
   "execution_count": 13,
   "outputs": [],
   "source": [
    "prior=pd.read_csv('./instacart/order_products__prior.csv')"
   ],
   "metadata": {
    "collapsed": false,
    "pycharm": {
     "name": "#%%\n"
    }
   }
  },
  {
   "cell_type": "code",
   "execution_count": 14,
   "outputs": [
    {
     "name": "stdout",
     "output_type": "stream",
     "text": [
      "(32434489, 4)\n",
      "      order_id  product_id  add_to_cart_order  reordered\n",
      "0            2       33120                  1          1\n",
      "1            2       28985                  2          1\n",
      "2            2        9327                  3          0\n",
      "3            2       45918                  4          1\n",
      "4            2       30035                  5          0\n",
      "...        ...         ...                ...        ...\n",
      "9995      1022       21903                  1          1\n",
      "9996      1022       38689                  2          1\n",
      "9997      1022       30391                  3          1\n",
      "9998      1022       18670                  4          1\n",
      "9999      1022       10761                  5          1\n",
      "\n",
      "[10000 rows x 4 columns]\n"
     ]
    }
   ],
   "source": [
    "print(prior.shape)\n",
    "prior=prior[0:100000]\n",
    "print(prior)"
   ],
   "metadata": {
    "collapsed": false,
    "pycharm": {
     "name": "#%%\n"
    }
   }
  },
  {
   "cell_type": "code",
   "execution_count": 15,
   "outputs": [],
   "source": [
    "products=pd.read_csv('./instacart/products.csv')\n",
    "orders=pd.read_csv('./instacart/orders.csv')\n",
    "orders=orders[0:100000]\n",
    "aisles=pd.read_csv('./instacart/aisles.csv')"
   ],
   "metadata": {
    "collapsed": false,
    "pycharm": {
     "name": "#%%\n"
    }
   }
  },
  {
   "cell_type": "code",
   "execution_count": 16,
   "outputs": [
    {
     "name": "stdout",
     "output_type": "stream",
     "text": [
      "    order_id  product_id  add_to_cart_order  reordered  \\\n",
      "0        214       24852                  4          1   \n",
      "1        214       25890                  8          1   \n",
      "2        214       40545                  9          0   \n",
      "3        214        8424                  2          0   \n",
      "4        214        5499                  1          0   \n",
      "5        214       21329                  5          0   \n",
      "6        214       37053                  3          0   \n",
      "7        214       25093                  6          1   \n",
      "8        214       25043                  7          0   \n",
      "9         40       33198                  3          1   \n",
      "10        40       10070                  1          1   \n",
      "11        40       34866                  4          1   \n",
      "12        40       42450                  2          1   \n",
      "\n",
      "                                   product_name  aisle_id  department_id  \\\n",
      "0                                        Banana        24              4   \n",
      "1             Boneless Skinless Chicken Breasts        49             12   \n",
      "2                                  Berry Medley       116              1   \n",
      "3                                Broccoli Crown        83              4   \n",
      "4       Organic Cream Of Chicken Condensed Soup        69             15   \n",
      "5   Organic Hearty Split Pea & Uncured Ham Soup        69             15   \n",
      "6                                     Just Mayo        72             13   \n",
      "7                             Colby Jack Cheese        21             16   \n",
      "8                  Instant Oatmeal Variety Pack       130             14   \n",
      "9               Sparkling Natural Mineral Water       115              7   \n",
      "10                      Organic 1% Low Fat Milk        84             16   \n",
      "11                    Chocolate Milk 1% Milkfat        84             16   \n",
      "12                            Macaroni & Cheese        38              1   \n",
      "\n",
      "    user_id eval_set  order_number  order_dow  order_hour_of_day  \\\n",
      "0       503    prior             5          0                 16   \n",
      "1       503    prior             5          0                 16   \n",
      "2       503    prior             5          0                 16   \n",
      "3       503    prior             5          0                 16   \n",
      "4       503    prior             5          0                 16   \n",
      "5       503    prior             5          0                 16   \n",
      "6       503    prior             5          0                 16   \n",
      "7       503    prior             5          0                 16   \n",
      "8       503    prior             5          0                 16   \n",
      "9       382    prior            29          1                 15   \n",
      "10      382    prior            29          1                 15   \n",
      "11      382    prior            29          1                 15   \n",
      "12      382    prior            29          1                 15   \n",
      "\n",
      "    days_since_prior_order                          aisle  \n",
      "0                      9.0                   fresh fruits  \n",
      "1                      9.0               packaged poultry  \n",
      "2                      9.0                 frozen produce  \n",
      "3                      9.0               fresh vegetables  \n",
      "4                      9.0            soup broth bouillon  \n",
      "5                      9.0            soup broth bouillon  \n",
      "6                      9.0                     condiments  \n",
      "7                      9.0                packaged cheese  \n",
      "8                      9.0       hot cereal pancake mixes  \n",
      "9                     23.0  water seltzer sparkling water  \n",
      "10                    23.0                           milk  \n",
      "11                    23.0                           milk  \n",
      "12                    23.0                   frozen meals  \n"
     ]
    }
   ],
   "source": [
    "_mg=pd.merge(prior,products,on=['product_id','product_id'])\n",
    "_mg=pd.merge(_mg,orders,on=['order_id','order_id'])\n",
    "mt=pd.merge(_mg,aisles,on=['aisle_id','aisle_id'])\n",
    "print(mt)\n"
   ],
   "metadata": {
    "collapsed": false,
    "pycharm": {
     "name": "#%%\n"
    }
   }
  },
  {
   "cell_type": "code",
   "execution_count": 17,
   "outputs": [
    {
     "name": "stdout",
     "output_type": "stream",
     "text": [
      "(13, 14)\n"
     ]
    }
   ],
   "source": [
    "print(mt.shape)"
   ],
   "metadata": {
    "collapsed": false,
    "pycharm": {
     "name": "#%%\n"
    }
   }
  },
  {
   "cell_type": "code",
   "execution_count": 18,
   "outputs": [
    {
     "data": {
      "text/plain": "aisle    condiments  fresh fruits  fresh vegetables  frozen meals  \\\nuser_id                                                             \n382               0             0                 0             1   \n503               1             1                 1             0   \n\naisle    frozen produce  hot cereal pancake mixes  milk  packaged cheese  \\\nuser_id                                                                    \n382                   0                         0     2                0   \n503                   1                         1     0                1   \n\naisle    packaged poultry  soup broth bouillon  water seltzer sparkling water  \nuser_id                                                                        \n382                     0                    0                              1  \n503                     1                    2                              0  ",
      "text/html": "<div>\n<style scoped>\n    .dataframe tbody tr th:only-of-type {\n        vertical-align: middle;\n    }\n\n    .dataframe tbody tr th {\n        vertical-align: top;\n    }\n\n    .dataframe thead th {\n        text-align: right;\n    }\n</style>\n<table border=\"1\" class=\"dataframe\">\n  <thead>\n    <tr style=\"text-align: right;\">\n      <th>aisle</th>\n      <th>condiments</th>\n      <th>fresh fruits</th>\n      <th>fresh vegetables</th>\n      <th>frozen meals</th>\n      <th>frozen produce</th>\n      <th>hot cereal pancake mixes</th>\n      <th>milk</th>\n      <th>packaged cheese</th>\n      <th>packaged poultry</th>\n      <th>soup broth bouillon</th>\n      <th>water seltzer sparkling water</th>\n    </tr>\n    <tr>\n      <th>user_id</th>\n      <th></th>\n      <th></th>\n      <th></th>\n      <th></th>\n      <th></th>\n      <th></th>\n      <th></th>\n      <th></th>\n      <th></th>\n      <th></th>\n      <th></th>\n    </tr>\n  </thead>\n  <tbody>\n    <tr>\n      <th>382</th>\n      <td>0</td>\n      <td>0</td>\n      <td>0</td>\n      <td>1</td>\n      <td>0</td>\n      <td>0</td>\n      <td>2</td>\n      <td>0</td>\n      <td>0</td>\n      <td>0</td>\n      <td>1</td>\n    </tr>\n    <tr>\n      <th>503</th>\n      <td>1</td>\n      <td>1</td>\n      <td>1</td>\n      <td>0</td>\n      <td>1</td>\n      <td>1</td>\n      <td>0</td>\n      <td>1</td>\n      <td>1</td>\n      <td>2</td>\n      <td>0</td>\n    </tr>\n  </tbody>\n</table>\n</div>"
     },
     "execution_count": 18,
     "metadata": {},
     "output_type": "execute_result"
    }
   ],
   "source": [
    "cross=pd.crosstab(mt['user_id'],mt['aisle'])\n",
    "cross.head(5)"
   ],
   "metadata": {
    "collapsed": false,
    "pycharm": {
     "name": "#%%\n"
    }
   }
  },
  {
   "cell_type": "code",
   "execution_count": null,
   "outputs": [],
   "source": [
    "print(cross.shape)"
   ],
   "metadata": {
    "collapsed": false,
    "pycharm": {
     "name": "#%%\n"
    }
   }
  },
  {
   "cell_type": "code",
   "execution_count": null,
   "outputs": [],
   "source": [
    "pca=PCA(n_components=0.9)\n",
    "data=pca.fit_transform(cross)\n",
    "print(data.shape)"
   ],
   "metadata": {
    "collapsed": false,
    "pycharm": {
     "name": "#%%\n"
    }
   }
  },
  {
   "cell_type": "code",
   "execution_count": null,
   "outputs": [],
   "source": [
    "x=data[:500]\n",
    "print(x.max(),x.min())"
   ],
   "metadata": {
    "collapsed": false,
    "pycharm": {
     "name": "#%%\n"
    }
   }
  },
  {
   "cell_type": "code",
   "execution_count": 11,
   "outputs": [
    {
     "ename": "NameError",
     "evalue": "name 'x' is not defined",
     "output_type": "error",
     "traceback": [
      "\u001B[1;31m---------------------------------------------------------------------------\u001B[0m",
      "\u001B[1;31mNameError\u001B[0m                                 Traceback (most recent call last)",
      "\u001B[1;32m~\\AppData\\Local\\Temp/ipykernel_21368/4179376214.py\u001B[0m in \u001B[0;36m<module>\u001B[1;34m\u001B[0m\n\u001B[0;32m      1\u001B[0m \u001B[0mkm\u001B[0m\u001B[1;33m=\u001B[0m\u001B[0mKMeans\u001B[0m\u001B[1;33m(\u001B[0m\u001B[0mn_clusters\u001B[0m\u001B[1;33m=\u001B[0m\u001B[1;36m4\u001B[0m\u001B[1;33m)\u001B[0m\u001B[1;33m\u001B[0m\u001B[1;33m\u001B[0m\u001B[0m\n\u001B[1;32m----> 2\u001B[1;33m \u001B[0mkm\u001B[0m\u001B[1;33m.\u001B[0m\u001B[0mfit\u001B[0m\u001B[1;33m(\u001B[0m\u001B[0mx\u001B[0m\u001B[1;33m)\u001B[0m\u001B[1;33m\u001B[0m\u001B[1;33m\u001B[0m\u001B[0m\n\u001B[0m\u001B[0;32m      3\u001B[0m \u001B[0mpredict\u001B[0m\u001B[1;33m=\u001B[0m\u001B[0mkm\u001B[0m\u001B[1;33m.\u001B[0m\u001B[0mpredict\u001B[0m\u001B[1;33m(\u001B[0m\u001B[0mx\u001B[0m\u001B[1;33m)\u001B[0m\u001B[1;33m\u001B[0m\u001B[1;33m\u001B[0m\u001B[0m\n\u001B[0;32m      4\u001B[0m \u001B[1;33m\u001B[0m\u001B[0m\n\u001B[0;32m      5\u001B[0m \u001B[0msilhouette_score\u001B[0m\u001B[1;33m(\u001B[0m\u001B[0mx\u001B[0m\u001B[1;33m,\u001B[0m\u001B[0mpredict\u001B[0m\u001B[1;33m)\u001B[0m\u001B[1;33m\u001B[0m\u001B[1;33m\u001B[0m\u001B[0m\n",
      "\u001B[1;31mNameError\u001B[0m: name 'x' is not defined"
     ]
    }
   ],
   "source": [
    "km=KMeans(n_clusters=4)\n",
    "km.fit(x)\n",
    "predict=km.predict(x)\n"
   ],
   "metadata": {
    "collapsed": false,
    "pycharm": {
     "name": "#%%\n"
    }
   }
  },
  {
   "cell_type": "code",
   "execution_count": null,
   "outputs": [],
   "source": [
    "plt.figure(figsize=(20,20))\n",
    "colored=['orange','green','blue','purple']\n",
    "colr=[colored[i] for i in predict]\n",
    "plt.scatter(x[:,2],x[:,20],colored=colr)\n",
    "plt.xlabel('1')\n",
    "plt.ylabel('20')\n",
    "plt.show()"
   ],
   "metadata": {
    "collapsed": false,
    "pycharm": {
     "name": "#%%\n"
    }
   }
  },
  {
   "cell_type": "code",
   "execution_count": null,
   "outputs": [],
   "source": [
    "silhouette_score(x,predict)"
   ],
   "metadata": {
    "collapsed": false,
    "pycharm": {
     "name": "#%%\n"
    }
   }
  },
  {
   "cell_type": "code",
   "execution_count": null,
   "outputs": [],
   "source": [
    "km=KMeans(n_clusters=2)\n",
    "km.fit(x)\n",
    "predict=km.predict(x)\n",
    "silhouette_score(x,predict)"
   ],
   "metadata": {
    "collapsed": false,
    "pycharm": {
     "name": "#%%\n"
    }
   }
  },
  {
   "cell_type": "code",
   "execution_count": null,
   "outputs": [],
   "source": [
    "km = KMeans(n_clusters=3)\n",
    "km.fit(x)  #开始训练\n",
    "predict = km.predict(x)\n",
    "silhouette_score(x, predict)\n"
   ],
   "metadata": {
    "collapsed": false,
    "pycharm": {
     "name": "#%%\n"
    }
   }
  }
 ],
 "metadata": {
  "kernelspec": {
   "name": "pycharm-a7ca9fd6",
   "language": "python",
   "display_name": "PyCharm (day32)"
  },
  "language_info": {
   "codemirror_mode": {
    "name": "ipython",
    "version": 2
   },
   "file_extension": ".py",
   "mimetype": "text/x-python",
   "name": "python",
   "nbconvert_exporter": "python",
   "pygments_lexer": "ipython2",
   "version": "2.7.6"
  }
 },
 "nbformat": 4,
 "nbformat_minor": 0
}