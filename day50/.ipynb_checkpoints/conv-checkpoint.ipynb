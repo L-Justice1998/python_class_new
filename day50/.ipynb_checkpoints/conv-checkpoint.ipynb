{
 "cells": [
  {
   "cell_type": "code",
   "execution_count": 1,
   "id": "a0ece2f5",
   "metadata": {},
   "outputs": [
    {
     "name": "stdout",
     "output_type": "stream",
     "text": [
      "2.9.1\n",
      "sys.version_info(major=3, minor=9, micro=7, releaselevel='final', serial=0)\n",
      "matplotlib 3.4.3\n",
      "numpy 1.20.3\n",
      "pandas 1.3.4\n",
      "sklearn 0.24.2\n",
      "tensorflow 2.9.1\n",
      "keras.api._v2.keras 2.9.0\n"
     ]
    }
   ],
   "source": [
    "import matplotlib as mpl\n",
    "import matplotlib.pyplot as plt\n",
    "%matplotlib inline\n",
    "import numpy as np\n",
    "import sklearn\n",
    "import pandas as pd\n",
    "import os\n",
    "import sys\n",
    "import time\n",
    "import tensorflow as tf\n",
    "\n",
    "from tensorflow import keras\n",
    "\n",
    "print(tf.__version__)\n",
    "print(sys.version_info)\n",
    "for module in mpl, np, pd, sklearn, tf, keras:\n",
    "    print(module.__name__, module.__version__)\n"
   ]
  },
  {
   "cell_type": "code",
   "execution_count": 2,
   "id": "831c2ae0",
   "metadata": {},
   "outputs": [
    {
     "name": "stdout",
     "output_type": "stream",
     "text": [
      "Sun Jul 31 13:11:13 2022       \n",
      "+-----------------------------------------------------------------------------+\n",
      "| NVIDIA-SMI 496.13       Driver Version: 496.13       CUDA Version: 11.5     |\n",
      "|-------------------------------+----------------------+----------------------+\n",
      "| GPU  Name            TCC/WDDM | Bus-Id        Disp.A | Volatile Uncorr. ECC |\n",
      "| Fan  Temp  Perf  Pwr:Usage/Cap|         Memory-Usage | GPU-Util  Compute M. |\n",
      "|                               |                      |               MIG M. |\n",
      "|===============================+======================+======================|\n",
      "|   0  NVIDIA GeForce ... WDDM  | 00000000:01:00.0 Off |                  N/A |\n",
      "| N/A    0C    P8    N/A /  N/A |     37MiB /  2048MiB |      0%      Default |\n",
      "|                               |                      |                  N/A |\n",
      "+-------------------------------+----------------------+----------------------+\n",
      "                                                                               \n",
      "+-----------------------------------------------------------------------------+\n",
      "| Processes:                                                                  |\n",
      "|  GPU   GI   CI        PID   Type   Process name                  GPU Memory |\n",
      "|        ID   ID                                                   Usage      |\n",
      "|=============================================================================|\n",
      "|  No running processes found                                                 |\n",
      "+-----------------------------------------------------------------------------+\n"
     ]
    }
   ],
   "source": [
    "!nvidia-smi"
   ]
  },
  {
   "cell_type": "code",
   "execution_count": 3,
   "id": "c4c10235",
   "metadata": {},
   "outputs": [
    {
     "name": "stdout",
     "output_type": "stream",
     "text": [
      "(5000, 28, 28) (5000,)\n",
      "(55000, 28, 28) (55000,)\n",
      "(10000, 28, 28) (10000,)\n"
     ]
    }
   ],
   "source": [
    "fashion_mnist = keras.datasets.fashion_mnist\n",
    "(x_train_all, y_train_all), (x_test, y_test) = fashion_mnist.load_data()\n",
    "x_valid, x_train = x_train_all[:5000], x_train_all[5000:]\n",
    "y_valid, y_train = y_train_all[:5000], y_train_all[5000:]\n",
    "\n",
    "print(x_valid.shape, y_valid.shape)\n",
    "print(x_train.shape, y_train.shape)\n",
    "print(x_test.shape, y_test.shape)"
   ]
  },
  {
   "cell_type": "code",
   "execution_count": 4,
   "id": "9e69f460",
   "metadata": {},
   "outputs": [],
   "source": [
    "from sklearn.preprocessing import StandardScaler\n",
    "\n",
    "scaler = StandardScaler()\n",
    "x_train_scaled = scaler.fit_transform(\n",
    "    x_train.astype(np.float32).reshape(-1, 1)).reshape(-1, 28, 28, 1)\n",
    "x_valid_scaled = scaler.transform(\n",
    "    x_valid.astype(np.float32).reshape(-1, 1)).reshape(-1, 28, 28, 1)\n",
    "x_test_scaled = scaler.transform(\n",
    "    x_test.astype(np.float32).reshape(-1, 1)).reshape(-1, 28, 28, 1)"
   ]
  },
  {
   "cell_type": "code",
   "execution_count": 5,
   "id": "747bd760",
   "metadata": {},
   "outputs": [],
   "source": [
    "model = keras.models.Sequential()\n",
    "\n",
    "model.add(keras.layers.Conv2D(filters=32, kernel_size=3,\n",
    "                              padding='same',\n",
    "                              activation='relu',\n",
    "                              input_shape=(28, 28, 1)))\n",
    "model.add(keras.layers.Conv2D(filters=32, kernel_size=3,\n",
    "                              padding='same',\n",
    "                              activation='relu'))\n",
    "#添加池化层，pool_size是窗口大小，步长默认和窗口大小相等\n",
    "model.add(keras.layers.MaxPool2D(pool_size=2))\n",
    "#为了缓解前面池化带来的损失，所以filters翻倍\n",
    "model.add(keras.layers.Conv2D(filters=64, kernel_size=3,\n",
    "                              padding='same',\n",
    "                              activation='relu'))\n",
    "model.add(keras.layers.Conv2D(filters=64, kernel_size=3,\n",
    "                              padding='same',\n",
    "                              activation='relu'))\n",
    "model.add(keras.layers.MaxPool2D(pool_size=(2,2)))\n",
    "model.add(keras.layers.Conv2D(filters=128, kernel_size=3,\n",
    "                              padding='same',\n",
    "                              activation='relu'))\n",
    "model.add(keras.layers.Conv2D(filters=128, kernel_size=3,\n",
    "                              padding='same',\n",
    "                              activation='relu'))\n",
    "model.add(keras.layers.MaxPool2D(pool_size=2))\n",
    "model.add(keras.layers.Flatten())\n",
    "model.add(keras.layers.Dense(128, activation='relu'))\n",
    "model.add(keras.layers.Dense(10, activation=\"softmax\"))\n",
    "\n",
    "model.compile(loss=\"sparse_categorical_crossentropy\",\n",
    "              optimizer = \"sgd\",\n",
    "              metrics = [\"accuracy\"])\n"
   ]
  },
  {
   "cell_type": "code",
   "execution_count": 6,
   "id": "e7b22dee",
   "metadata": {},
   "outputs": [
    {
     "name": "stdout",
     "output_type": "stream",
     "text": [
      "Model: \"sequential\"\n",
      "_________________________________________________________________\n",
      " Layer (type)                Output Shape              Param #   \n",
      "=================================================================\n",
      " conv2d (Conv2D)             (None, 28, 28, 32)        320       \n",
      "                                                                 \n",
      " conv2d_1 (Conv2D)           (None, 28, 28, 32)        9248      \n",
      "                                                                 \n",
      " max_pooling2d (MaxPooling2D  (None, 14, 14, 32)       0         \n",
      " )                                                               \n",
      "                                                                 \n",
      " conv2d_2 (Conv2D)           (None, 14, 14, 64)        18496     \n",
      "                                                                 \n",
      " conv2d_3 (Conv2D)           (None, 14, 14, 64)        36928     \n",
      "                                                                 \n",
      " max_pooling2d_1 (MaxPooling  (None, 7, 7, 64)         0         \n",
      " 2D)                                                             \n",
      "                                                                 \n",
      " conv2d_4 (Conv2D)           (None, 7, 7, 128)         73856     \n",
      "                                                                 \n",
      " conv2d_5 (Conv2D)           (None, 7, 7, 128)         147584    \n",
      "                                                                 \n",
      " max_pooling2d_2 (MaxPooling  (None, 3, 3, 128)        0         \n",
      " 2D)                                                             \n",
      "                                                                 \n",
      " flatten (Flatten)           (None, 1152)              0         \n",
      "                                                                 \n",
      " dense (Dense)               (None, 128)               147584    \n",
      "                                                                 \n",
      " dense_1 (Dense)             (None, 10)                1290      \n",
      "                                                                 \n",
      "=================================================================\n",
      "Total params: 435,306\n",
      "Trainable params: 435,306\n",
      "Non-trainable params: 0\n",
      "_________________________________________________________________\n"
     ]
    }
   ],
   "source": [
    "model.summary()"
   ]
  },
  {
   "cell_type": "code",
   "execution_count": 7,
   "id": "6d9d8a64",
   "metadata": {},
   "outputs": [
    {
     "name": "stdout",
     "output_type": "stream",
     "text": [
      "conv.ipynb\n"
     ]
    }
   ],
   "source": [
    "!ls"
   ]
  },
  {
   "cell_type": "code",
   "execution_count": 10,
   "id": "b07a1da6",
   "metadata": {},
   "outputs": [],
   "source": [
    "!rm -rf cnn-relu-callbacks"
   ]
  },
  {
   "cell_type": "code",
   "execution_count": 11,
   "id": "29f76396",
   "metadata": {},
   "outputs": [
    {
     "name": "stdout",
     "output_type": "stream",
     "text": [
      "Epoch 1/10\n",
      "1719/1719 [==============================] - 241s 140ms/step - loss: 0.4944 - accuracy: 0.8170 - val_loss: 0.4039 - val_accuracy: 0.8552\n",
      "Epoch 2/10\n",
      "1719/1719 [==============================] - 245s 143ms/step - loss: 0.3703 - accuracy: 0.8638 - val_loss: 0.3524 - val_accuracy: 0.8726\n",
      "Epoch 3/10\n",
      "1719/1719 [==============================] - 243s 141ms/step - loss: 0.3214 - accuracy: 0.8817 - val_loss: 0.3200 - val_accuracy: 0.8822\n",
      "Epoch 4/10\n",
      "1719/1719 [==============================] - 249s 145ms/step - loss: 0.2933 - accuracy: 0.8920 - val_loss: 0.2881 - val_accuracy: 0.8912\n",
      "Epoch 5/10\n",
      "1719/1719 [==============================] - 252s 146ms/step - loss: 0.2704 - accuracy: 0.9008 - val_loss: 0.2933 - val_accuracy: 0.8922\n",
      "Epoch 6/10\n",
      "1719/1719 [==============================] - 252s 147ms/step - loss: 0.2503 - accuracy: 0.9085 - val_loss: 0.2636 - val_accuracy: 0.9032\n",
      "Epoch 7/10\n",
      "1719/1719 [==============================] - 244s 142ms/step - loss: 0.2353 - accuracy: 0.9148 - val_loss: 0.2797 - val_accuracy: 0.8972\n",
      "Epoch 8/10\n",
      "1719/1719 [==============================] - 243s 141ms/step - loss: 0.2213 - accuracy: 0.9181 - val_loss: 0.2561 - val_accuracy: 0.9040\n",
      "Epoch 9/10\n",
      "1719/1719 [==============================] - 248s 144ms/step - loss: 0.2076 - accuracy: 0.9228 - val_loss: 0.2471 - val_accuracy: 0.9100\n",
      "Epoch 10/10\n",
      "1719/1719 [==============================] - 245s 143ms/step - loss: 0.1955 - accuracy: 0.9273 - val_loss: 0.2455 - val_accuracy: 0.9106\n",
      "using time 2461.35041308403\n"
     ]
    }
   ],
   "source": [
    "import time\n",
    "\n",
    "logdir = './cnn-relu-callbacks'\n",
    "if not os.path.exists(logdir):\n",
    "    os.mkdir(logdir)\n",
    "output_model_file = os.path.join(logdir,\n",
    "                                 \"fashion_mnist_model.h5\")\n",
    "\n",
    "callbacks = [\n",
    "    keras.callbacks.TensorBoard(logdir),\n",
    "    keras.callbacks.ModelCheckpoint(output_model_file,\n",
    "                                    save_best_only = True),\n",
    "    keras.callbacks.EarlyStopping(patience=5, min_delta=1e-3),\n",
    "]\n",
    "start=time.time()\n",
    "history = model.fit(x_train_scaled, y_train, epochs=10,\n",
    "                    validation_data=(x_valid_scaled, y_valid),\n",
    "                    callbacks = callbacks)\n",
    "end=time.time()\n",
    "print('using time',end-start)"
   ]
  },
  {
   "cell_type": "code",
   "execution_count": 12,
   "id": "b1ccdbe0",
   "metadata": {},
   "outputs": [
    {
     "data": {
      "image/png": "[encoded data removed]",
      "text/plain": [
       "<Figure size 576x360 with 1 Axes>"
      ]
     },
     "metadata": {
      "needs_background": "light"
     },
     "output_type": "display_data"
    }
   ],
   "source": [
    "def plot_learning_curves(history):\n",
    "    pd.DataFrame(history.history).plot(figsize=(8, 5))\n",
    "    plt.grid(True)\n",
    "    plt.gca().set_ylim(0, 1)\n",
    "    plt.show()\n",
    "plot_learning_curves(history)\n"
   ]
  },
  {
   "cell_type": "code",
   "execution_count": 13,
   "id": "8c2abc0f",
   "metadata": {},
   "outputs": [
    {
     "data": {
      "text/plain": [
       "[0.26661282777786255, 0.902899980545044]"
      ]
     },
     "execution_count": 13,
     "metadata": {},
     "output_type": "execute_result"
    }
   ],
   "source": [
    "model.evaluate(x_test_scaled, y_test, verbose = 0)\n"
   ]
  },
  {
   "cell_type": "code",
   "execution_count": 15,
   "id": "ad7c9dfd",
   "metadata": {},
   "outputs": [],
   "source": [
    "model_selu = keras.models.Sequential()\n",
    "model_selu.add(keras.layers.Conv2D(filters=32, kernel_size=3,\n",
    "                              padding='same',\n",
    "                              activation='selu',\n",
    "                              input_shape=(28, 28, 1)))\n",
    "model_selu.add(keras.layers.Conv2D(filters=32, kernel_size=3,\n",
    "                              padding='same',\n",
    "                              activation='selu'))\n",
    "model_selu.add(keras.layers.MaxPool2D(pool_size=2))\n",
    "model_selu.add(keras.layers.Conv2D(filters=64, kernel_size=3,\n",
    "                              padding='same',\n",
    "                              activation='selu'))\n",
    "model_selu.add(keras.layers.Conv2D(filters=64, kernel_size=3,\n",
    "                              padding='same',\n",
    "                              activation='selu'))\n",
    "model_selu.add(keras.layers.MaxPool2D(pool_size=2))\n",
    "model_selu.add(keras.layers.Conv2D(filters=128, kernel_size=3,\n",
    "                              padding='same',\n",
    "                              activation='selu'))\n",
    "model_selu.add(keras.layers.Conv2D(filters=128, kernel_size=3,\n",
    "                              padding='same',\n",
    "                              activation='selu'))\n",
    "model_selu.add(keras.layers.MaxPool2D(pool_size=2))\n",
    "model_selu.add(keras.layers.Flatten())\n",
    "model_selu.add(keras.layers.Dense(128, activation='selu'))\n",
    "model_selu.add(keras.layers.Dense(10, activation=\"softmax\"))\n",
    "model_selu.compile(loss=\"sparse_categorical_crossentropy\",\n",
    "              optimizer = \"sgd\",\n",
    "              metrics = [\"accuracy\"])\n"
   ]
  },
  {
   "cell_type": "code",
   "execution_count": 16,
   "id": "20e63ad2",
   "metadata": {},
   "outputs": [
    {
     "name": "stdout",
     "output_type": "stream",
     "text": [
      "Model: \"sequential\"\n",
      "_________________________________________________________________\n",
      " Layer (type)                Output Shape              Param #   \n",
      "=================================================================\n",
      " conv2d (Conv2D)             (None, 28, 28, 32)        320       \n",
      "                                                                 \n",
      " conv2d_1 (Conv2D)           (None, 28, 28, 32)        9248      \n",
      "                                                                 \n",
      " max_pooling2d (MaxPooling2D  (None, 14, 14, 32)       0         \n",
      " )                                                               \n",
      "                                                                 \n",
      " conv2d_2 (Conv2D)           (None, 14, 14, 64)        18496     \n",
      "                                                                 \n",
      " conv2d_3 (Conv2D)           (None, 14, 14, 64)        36928     \n",
      "                                                                 \n",
      " max_pooling2d_1 (MaxPooling  (None, 7, 7, 64)         0         \n",
      " 2D)                                                             \n",
      "                                                                 \n",
      " conv2d_4 (Conv2D)           (None, 7, 7, 128)         73856     \n",
      "                                                                 \n",
      " conv2d_5 (Conv2D)           (None, 7, 7, 128)         147584    \n",
      "                                                                 \n",
      " max_pooling2d_2 (MaxPooling  (None, 3, 3, 128)        0         \n",
      " 2D)                                                             \n",
      "                                                                 \n",
      " flatten (Flatten)           (None, 1152)              0         \n",
      "                                                                 \n",
      " dense (Dense)               (None, 128)               147584    \n",
      "                                                                 \n",
      " dense_1 (Dense)             (None, 10)                1290      \n",
      "                                                                 \n",
      "=================================================================\n",
      "Total params: 435,306\n",
      "Trainable params: 435,306\n",
      "Non-trainable params: 0\n",
      "_________________________________________________________________\n"
     ]
    }
   ],
   "source": [
    "model.summary()"
   ]
  },
  {
   "cell_type": "code",
   "execution_count": 17,
   "id": "65036dd6",
   "metadata": {},
   "outputs": [
    {
     "name": "stdout",
     "output_type": "stream",
     "text": [
      "Epoch 1/10\n",
      "1719/1719 [==============================] - 271s 156ms/step - loss: 0.4321 - accuracy: 0.8434 - val_loss: 0.3309 - val_accuracy: 0.8830\n",
      "Epoch 2/10\n",
      "1719/1719 [==============================] - 315s 183ms/step - loss: 0.2845 - accuracy: 0.8973 - val_loss: 0.2595 - val_accuracy: 0.9094\n",
      "Epoch 3/10\n",
      "1719/1719 [==============================] - 355s 207ms/step - loss: 0.2351 - accuracy: 0.9149 - val_loss: 0.2621 - val_accuracy: 0.9080\n",
      "Epoch 4/10\n",
      "1719/1719 [==============================] - 330s 192ms/step - loss: 0.1996 - accuracy: 0.9292 - val_loss: 0.2854 - val_accuracy: 0.8932\n",
      "Epoch 5/10\n",
      "1719/1719 [==============================] - 309s 180ms/step - loss: 0.1728 - accuracy: 0.9372 - val_loss: 0.2576 - val_accuracy: 0.9070\n",
      "Epoch 6/10\n",
      "1719/1719 [==============================] - 273s 159ms/step - loss: 0.1463 - accuracy: 0.9478 - val_loss: 0.2552 - val_accuracy: 0.9090\n",
      "Epoch 7/10\n",
      "1719/1719 [==============================] - 309s 180ms/step - loss: 0.1244 - accuracy: 0.9558 - val_loss: 0.2510 - val_accuracy: 0.9108\n",
      "Epoch 8/10\n",
      "1719/1719 [==============================] - 356s 207ms/step - loss: 0.1025 - accuracy: 0.9650 - val_loss: 0.2515 - val_accuracy: 0.9182\n",
      "Epoch 9/10\n",
      "1719/1719 [==============================] - 303s 176ms/step - loss: 0.0846 - accuracy: 0.9713 - val_loss: 0.2781 - val_accuracy: 0.9118\n",
      "Epoch 10/10\n",
      "1719/1719 [==============================] - 302s 176ms/step - loss: 0.0680 - accuracy: 0.9772 - val_loss: 0.2742 - val_accuracy: 0.9160\n",
      "using time 3123.23384809494\n"
     ]
    }
   ],
   "source": [
    "logdir = './cnn-selu-callbacks'\n",
    "if not os.path.exists(logdir):\n",
    "    os.mkdir(logdir)\n",
    "output_model_file = os.path.join(logdir,\n",
    "                                 \"fashion_mnist_model.h5\")\n",
    "\n",
    "callbacks = [\n",
    "    keras.callbacks.TensorBoard(logdir),\n",
    "    keras.callbacks.ModelCheckpoint(output_model_file,\n",
    "                                    save_best_only = True),\n",
    "    keras.callbacks.EarlyStopping(patience=5, min_delta=1e-3),\n",
    "]\n",
    "start=time.time()\n",
    "history_selu = model_selu.fit(x_train_scaled, y_train, epochs=10,\n",
    "                    validation_data=(x_valid_scaled, y_valid),\n",
    "                    callbacks = callbacks)\n",
    "end=time.time()\n",
    "print('using time',end-start)"
   ]
  },
  {
   "cell_type": "code",
   "execution_count": 18,
   "id": "5a7aa5a9",
   "metadata": {},
   "outputs": [
    {
     "data": {
      "image/png": "[encoded data removed]",
      "text/plain": [
       "<Figure size 576x360 with 1 Axes>"
      ]
     },
     "metadata": {
      "needs_background": "light"
     },
     "output_type": "display_data"
    }
   ],
   "source": [
    "plot_learning_curves(history_selu)"
   ]
  },
  {
   "cell_type": "code",
   "execution_count": 19,
   "id": "43d89715",
   "metadata": {},
   "outputs": [
    {
     "data": {
      "text/plain": [
       "[0.29809093475341797, 0.9079999923706055]"
      ]
     },
     "execution_count": 19,
     "metadata": {},
     "output_type": "execute_result"
    }
   ],
   "source": [
    "model_selu.evaluate(x_test_scaled, y_test, verbose = 0)"
   ]
  },
  {
   "cell_type": "code",
   "execution_count": 20,
   "id": "541c5df7",
   "metadata": {},
   "outputs": [
    {
     "name": "stdout",
     "output_type": "stream",
     "text": [
      "Model: \"sequential_3\"\n",
      "_________________________________________________________________\n",
      " Layer (type)                Output Shape              Param #   \n",
      "=================================================================\n",
      " conv2d_18 (Conv2D)          (None, 28, 28, 32)        320       \n",
      "                                                                 \n",
      " separable_conv2d (Separable  (None, 28, 28, 32)       1344      \n",
      " Conv2D)                                                         \n",
      "                                                                 \n",
      " max_pooling2d_8 (MaxPooling  (None, 14, 14, 32)       0         \n",
      " 2D)                                                             \n",
      "                                                                 \n",
      " separable_conv2d_1 (Separab  (None, 14, 14, 64)       2400      \n",
      " leConv2D)                                                       \n",
      "                                                                 \n",
      " separable_conv2d_2 (Separab  (None, 14, 14, 64)       4736      \n",
      " leConv2D)                                                       \n",
      "                                                                 \n",
      " max_pooling2d_9 (MaxPooling  (None, 7, 7, 64)         0         \n",
      " 2D)                                                             \n",
      "                                                                 \n",
      " separable_conv2d_3 (Separab  (None, 7, 7, 128)        8896      \n",
      " leConv2D)                                                       \n",
      "                                                                 \n",
      " separable_conv2d_4 (Separab  (None, 7, 7, 128)        17664     \n",
      " leConv2D)                                                       \n",
      "                                                                 \n",
      " max_pooling2d_10 (MaxPoolin  (None, 3, 3, 128)        0         \n",
      " g2D)                                                            \n",
      "                                                                 \n",
      " flatten_2 (Flatten)         (None, 1152)              0         \n",
      "                                                                 \n",
      " dense_4 (Dense)             (None, 128)               147584    \n",
      "                                                                 \n",
      " dense_5 (Dense)             (None, 10)                1290      \n",
      "                                                                 \n",
      "=================================================================\n",
      "Total params: 184,234\n",
      "Trainable params: 184,234\n",
      "Non-trainable params: 0\n",
      "_________________________________________________________________\n"
     ]
    }
   ],
   "source": [
    "model_sep=keras.models.Sequential()\n",
    "model_sep.add(keras.layers.Conv2D(filters=32,kernel_size=3,\n",
    "                                 padding='same',\n",
    "                                 activation='selu',\n",
    "                                  input_shape=(28,28,1)))\n",
    "\n",
    "model_sep.add(keras.layers.SeparableConv2D(filters=32,kernel_size=3,\n",
    "                                          padding='same',\n",
    "                                          activation='selu',\n",
    "                                          input_shape=(28,28,1)))\n",
    "model_sep.add(keras.layers.MaxPool2D(pool_size=2))\n",
    "\n",
    "model_sep.add(keras.layers.SeparableConv2D(filters=64,kernel_size=3,\n",
    "                                          padding='same',\n",
    "                                          activation='selu',\n",
    "                                          input_shape=(28,28,1)))\n",
    "model_sep.add(keras.layers.SeparableConv2D(filters=64,kernel_size=3,\n",
    "                                          padding='same',\n",
    "                                          activation='selu',\n",
    "                                          input_shape=(28,28,1)))\n",
    "model_sep.add(keras.layers.MaxPool2D(pool_size=2))\n",
    "\n",
    "model_sep.add(keras.layers.SeparableConv2D(filters=128,kernel_size=3,\n",
    "                                          padding='same',\n",
    "                                          activation='selu',\n",
    "                                          input_shape=(28,28,1)))\n",
    "model_sep.add(keras.layers.SeparableConv2D(filters=128,kernel_size=3,\n",
    "                                          padding='same',\n",
    "                                          activation='selu',\n",
    "                                          input_shape=(28,28,1)))\n",
    "model_sep.add(keras.layers.MaxPool2D(pool_size=2))\n",
    "\n",
    "model_sep.add(keras.layers.Flatten())\n",
    "model_sep.add(keras.layers.Dense(128,activation='selu'))\n",
    "model_sep.add(keras.layers.Dense(10,activation='softmax'))\n",
    "model_sep.compile(loss='sparse_categorical_crossentropy',\n",
    "                 optimizer='sgd',\n",
    "                 metrics=['accuracy'])\n",
    "model_sep.summary()"
   ]
  },
  {
   "cell_type": "code",
   "execution_count": 21,
   "id": "73af208c",
   "metadata": {},
   "outputs": [
    {
     "name": "stdout",
     "output_type": "stream",
     "text": [
      "Epoch 1/100\n",
      "1719/1719 [==============================] - 147s 84ms/step - loss: 2.3031 - accuracy: 0.1010 - val_loss: 2.3018 - val_accuracy: 0.0986\n",
      "Epoch 2/100\n",
      "1719/1719 [==============================] - 129s 75ms/step - loss: 2.2999 - accuracy: 0.1125 - val_loss: 2.2859 - val_accuracy: 0.2658\n",
      "Epoch 3/100\n",
      "1719/1719 [==============================] - 162s 94ms/step - loss: 1.1517 - accuracy: 0.5961 - val_loss: 0.7402 - val_accuracy: 0.7090\n",
      "Epoch 4/100\n",
      "1719/1719 [==============================] - 169s 99ms/step - loss: 0.7115 - accuracy: 0.7327 - val_loss: 0.6392 - val_accuracy: 0.7678\n",
      "Epoch 5/100\n",
      "1719/1719 [==============================] - 115s 67ms/step - loss: 0.6330 - accuracy: 0.7624 - val_loss: 0.5823 - val_accuracy: 0.7872\n",
      "Epoch 6/100\n",
      "1719/1719 [==============================] - 138s 80ms/step - loss: 0.5844 - accuracy: 0.7794 - val_loss: 0.5251 - val_accuracy: 0.8052\n",
      "Epoch 7/100\n",
      "1719/1719 [==============================] - 116s 68ms/step - loss: 0.5401 - accuracy: 0.7966 - val_loss: 0.5085 - val_accuracy: 0.8084\n",
      "Epoch 8/100\n",
      "1719/1719 [==============================] - 121s 70ms/step - loss: 0.5059 - accuracy: 0.8089 - val_loss: 0.4716 - val_accuracy: 0.8196\n",
      "Epoch 9/100\n",
      "1719/1719 [==============================] - 119s 69ms/step - loss: 0.4759 - accuracy: 0.8224 - val_loss: 0.4517 - val_accuracy: 0.8386\n",
      "Epoch 10/100\n",
      "1719/1719 [==============================] - 118s 69ms/step - loss: 0.4458 - accuracy: 0.8354 - val_loss: 0.4212 - val_accuracy: 0.8456\n",
      "Epoch 11/100\n",
      "1719/1719 [==============================] - 117s 68ms/step - loss: 0.4202 - accuracy: 0.8446 - val_loss: 0.4190 - val_accuracy: 0.8492\n",
      "Epoch 12/100\n",
      "1719/1719 [==============================] - 117s 68ms/step - loss: 0.3988 - accuracy: 0.8536 - val_loss: 0.3651 - val_accuracy: 0.8676\n",
      "Epoch 13/100\n",
      "1719/1719 [==============================] - 117s 68ms/step - loss: 0.3791 - accuracy: 0.8613 - val_loss: 0.3739 - val_accuracy: 0.8660\n",
      "Epoch 14/100\n",
      "1719/1719 [==============================] - 117s 68ms/step - loss: 0.3633 - accuracy: 0.8671 - val_loss: 0.3533 - val_accuracy: 0.8724\n",
      "Epoch 15/100\n",
      "1719/1719 [==============================] - 117s 68ms/step - loss: 0.3480 - accuracy: 0.8723 - val_loss: 0.3332 - val_accuracy: 0.8794\n",
      "Epoch 16/100\n",
      "1719/1719 [==============================] - 118s 68ms/step - loss: 0.3378 - accuracy: 0.8766 - val_loss: 0.3473 - val_accuracy: 0.8744\n",
      "Epoch 17/100\n",
      "1719/1719 [==============================] - 117s 68ms/step - loss: 0.3275 - accuracy: 0.8794 - val_loss: 0.3333 - val_accuracy: 0.8806\n",
      "Epoch 18/100\n",
      "1719/1719 [==============================] - 117s 68ms/step - loss: 0.3179 - accuracy: 0.8829 - val_loss: 0.3578 - val_accuracy: 0.8676\n",
      "Epoch 19/100\n",
      "1719/1719 [==============================] - 117s 68ms/step - loss: 0.3093 - accuracy: 0.8859 - val_loss: 0.3446 - val_accuracy: 0.8758\n",
      "Epoch 20/100\n",
      "1719/1719 [==============================] - 117s 68ms/step - loss: 0.3016 - accuracy: 0.8889 - val_loss: 0.3063 - val_accuracy: 0.8882\n",
      "Epoch 21/100\n",
      "1719/1719 [==============================] - 119s 69ms/step - loss: 0.2925 - accuracy: 0.8914 - val_loss: 0.2989 - val_accuracy: 0.8872\n",
      "Epoch 22/100\n",
      "1719/1719 [==============================] - 117s 68ms/step - loss: 0.2871 - accuracy: 0.8945 - val_loss: 0.2878 - val_accuracy: 0.8900\n",
      "Epoch 23/100\n",
      "1719/1719 [==============================] - 118s 69ms/step - loss: 0.2797 - accuracy: 0.8959 - val_loss: 0.2958 - val_accuracy: 0.8926\n",
      "Epoch 24/100\n",
      "1719/1719 [==============================] - 118s 68ms/step - loss: 0.2750 - accuracy: 0.8990 - val_loss: 0.3055 - val_accuracy: 0.8840\n",
      "Epoch 25/100\n",
      "1719/1719 [==============================] - 117s 68ms/step - loss: 0.2698 - accuracy: 0.9005 - val_loss: 0.2764 - val_accuracy: 0.8962\n",
      "Epoch 26/100\n",
      "1719/1719 [==============================] - 118s 69ms/step - loss: 0.2642 - accuracy: 0.9019 - val_loss: 0.2737 - val_accuracy: 0.8988\n",
      "Epoch 27/100\n",
      "1719/1719 [==============================] - 117s 68ms/step - loss: 0.2595 - accuracy: 0.9050 - val_loss: 0.2734 - val_accuracy: 0.8968\n",
      "Epoch 28/100\n",
      "1719/1719 [==============================] - 120s 70ms/step - loss: 0.2555 - accuracy: 0.9060 - val_loss: 0.2662 - val_accuracy: 0.9016\n",
      "Epoch 29/100\n",
      "1719/1719 [==============================] - 118s 69ms/step - loss: 0.2501 - accuracy: 0.9070 - val_loss: 0.2656 - val_accuracy: 0.9010\n",
      "Epoch 30/100\n",
      "1719/1719 [==============================] - 118s 69ms/step - loss: 0.2466 - accuracy: 0.9087 - val_loss: 0.2647 - val_accuracy: 0.9014\n",
      "Epoch 31/100\n",
      "1719/1719 [==============================] - 122s 71ms/step - loss: 0.2414 - accuracy: 0.9105 - val_loss: 0.2531 - val_accuracy: 0.9090\n",
      "Epoch 32/100\n",
      "1719/1719 [==============================] - 126s 74ms/step - loss: 0.2385 - accuracy: 0.9118 - val_loss: 0.2552 - val_accuracy: 0.9046\n",
      "Epoch 33/100\n",
      "1719/1719 [==============================] - 123s 72ms/step - loss: 0.2342 - accuracy: 0.9134 - val_loss: 0.2672 - val_accuracy: 0.9002\n",
      "Epoch 34/100\n",
      "1719/1719 [==============================] - 124s 72ms/step - loss: 0.2294 - accuracy: 0.9155 - val_loss: 0.2506 - val_accuracy: 0.9058\n",
      "Epoch 35/100\n",
      "1719/1719 [==============================] - 124s 72ms/step - loss: 0.2269 - accuracy: 0.9159 - val_loss: 0.2521 - val_accuracy: 0.9080\n",
      "Epoch 36/100\n",
      "1719/1719 [==============================] - 125s 73ms/step - loss: 0.2226 - accuracy: 0.9177 - val_loss: 0.2590 - val_accuracy: 0.9060\n",
      "Epoch 37/100\n",
      "1719/1719 [==============================] - 120s 70ms/step - loss: 0.2203 - accuracy: 0.9191 - val_loss: 0.2421 - val_accuracy: 0.9108\n",
      "Epoch 38/100\n",
      "1719/1719 [==============================] - 119s 69ms/step - loss: 0.2167 - accuracy: 0.9203 - val_loss: 0.2396 - val_accuracy: 0.9120\n",
      "Epoch 39/100\n",
      "1719/1719 [==============================] - 124s 72ms/step - loss: 0.2123 - accuracy: 0.9224 - val_loss: 0.2385 - val_accuracy: 0.9124\n",
      "Epoch 40/100\n",
      "1719/1719 [==============================] - 124s 72ms/step - loss: 0.2099 - accuracy: 0.9225 - val_loss: 0.2515 - val_accuracy: 0.9052\n",
      "Epoch 41/100\n",
      "1719/1719 [==============================] - 123s 72ms/step - loss: 0.2065 - accuracy: 0.9236 - val_loss: 0.2582 - val_accuracy: 0.9056\n",
      "Epoch 42/100\n",
      "1719/1719 [==============================] - 120s 70ms/step - loss: 0.2034 - accuracy: 0.9249 - val_loss: 0.2351 - val_accuracy: 0.9128\n",
      "Epoch 43/100\n",
      "1719/1719 [==============================] - 121s 70ms/step - loss: 0.2002 - accuracy: 0.9256 - val_loss: 0.2466 - val_accuracy: 0.9092\n",
      "Epoch 44/100\n",
      "1719/1719 [==============================] - 130s 76ms/step - loss: 0.1973 - accuracy: 0.9276 - val_loss: 0.2319 - val_accuracy: 0.9112\n",
      "Epoch 45/100\n",
      "1719/1719 [==============================] - 122s 71ms/step - loss: 0.1922 - accuracy: 0.9292 - val_loss: 0.2285 - val_accuracy: 0.9144\n",
      "Epoch 46/100\n",
      "1719/1719 [==============================] - 119s 69ms/step - loss: 0.1905 - accuracy: 0.9302 - val_loss: 0.2272 - val_accuracy: 0.9144\n",
      "Epoch 47/100\n",
      "1719/1719 [==============================] - 118s 69ms/step - loss: 0.1868 - accuracy: 0.9305 - val_loss: 0.2417 - val_accuracy: 0.9142\n",
      "Epoch 48/100\n",
      "1719/1719 [==============================] - 118s 69ms/step - loss: 0.1839 - accuracy: 0.9310 - val_loss: 0.2286 - val_accuracy: 0.9156\n",
      "Epoch 49/100\n",
      "1719/1719 [==============================] - 119s 69ms/step - loss: 0.1818 - accuracy: 0.9319 - val_loss: 0.2452 - val_accuracy: 0.9086\n",
      "Epoch 50/100\n",
      "1719/1719 [==============================] - 137s 80ms/step - loss: 0.1785 - accuracy: 0.9331 - val_loss: 0.2466 - val_accuracy: 0.9088\n",
      "Epoch 51/100\n",
      "1719/1719 [==============================] - 119s 69ms/step - loss: 0.1756 - accuracy: 0.9351 - val_loss: 0.2510 - val_accuracy: 0.9084\n",
      "using time 6263.377686262131\n"
     ]
    }
   ],
   "source": [
    "logdir = './separable-cnn-selu-callbacks'\n",
    "if not os.path.exists(logdir):\n",
    "    os.mkdir(logdir)\n",
    "output_model_file = os.path.join(logdir,\n",
    "                                 \"fashion_mnist_model.h5\")\n",
    "\n",
    "callbacks = [\n",
    "    keras.callbacks.TensorBoard(logdir),\n",
    "    keras.callbacks.ModelCheckpoint(output_model_file,\n",
    "                                    save_best_only = True),\n",
    "    keras.callbacks.EarlyStopping(patience=5, min_delta=1e-3),\n",
    "]\n",
    "start=time.time()\n",
    "history_sep = model_sep.fit(x_train_scaled, y_train, epochs=100,\n",
    "                    validation_data=(x_valid_scaled, y_valid),\n",
    "                    callbacks = callbacks)\n",
    "end=time.time()\n",
    "print('using time',end-start)"
   ]
  },
  {
   "cell_type": "code",
   "execution_count": 22,
   "id": "df47f9af",
   "metadata": {},
   "outputs": [
    {
     "data": {
      "image/png": "[encoded data removed]",
      "text/plain": [
       "<Figure size 576x360 with 1 Axes>"
      ]
     },
     "metadata": {
      "needs_background": "light"
     },
     "output_type": "display_data"
    }
   ],
   "source": [
    "plot_learning_curves(history_sep)"
   ]
  },
  {
   "cell_type": "code",
   "execution_count": 23,
   "id": "7fa72355",
   "metadata": {},
   "outputs": [
    {
     "data": {
      "text/plain": [
       "[0.2774184048175812, 0.8986999988555908]"
      ]
     },
     "execution_count": 23,
     "metadata": {},
     "output_type": "execute_result"
    }
   ],
   "source": [
    "model_sep.evaluate(x_test_scaled, y_test, verbose = 0)"
   ]
  }
 ],
 "metadata": {
  "kernelspec": {
   "display_name": "PyCharm (day32)",
   "language": "python",
   "name": "pycharm-a7ca9fd6"
  },
  "language_info": {
   "codemirror_mode": {
    "name": "ipython",
    "version": 3
   },
   "file_extension": ".py",
   "mimetype": "text/x-python",
   "name": "python",
   "nbconvert_exporter": "python",
   "pygments_lexer": "ipython3",
   "version": "3.9.7"
  }
 },
 "nbformat": 4,
 "nbformat_minor": 5
}
