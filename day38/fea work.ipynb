{
 "cells": [
  {
   "cell_type": "code",
   "execution_count": 5,
   "outputs": [],
   "source": [
    "from sklearn.feature_extraction import DictVectorizer\n",
    "from sklearn.feature_extraction.text import CountVectorizer,TfidfVectorizer\n",
    "from sklearn.preprocessing import  MinMaxScaler,StandardScaler\n",
    "from sklearn.feature_selection import  VarianceThreshold\n",
    "from sklearn.decomposition import PCA\n",
    "import jieba\n",
    "import numpy as np\n",
    "from sklearn.impute import SimpleImputer"
   ],
   "metadata": {
    "collapsed": false,
    "pycharm": {
     "name": "#%%\n"
    }
   }
  },
  {
   "cell_type": "code",
   "execution_count": 8,
   "metadata": {
    "collapsed": true,
    "pycharm": {
     "name": "#%%\n"
    }
   },
   "outputs": [
    {
     "name": "stdout",
     "output_type": "stream",
     "text": [
      "[[ 0.  1.  0. 30.]\n",
      " [ 1.  0.  0. 40.]\n",
      " [ 0.  0.  1. 35.]]\n",
      "['city=上海', 'city=北京', 'city=深圳', 'temperature']\n",
      "[{'city=北京': 1.0, 'temperature': 30.0}, {'city=上海': 1.0, 'temperature': 40.0}, {'city=深圳': 1.0, 'temperature': 35.0}]\n"
     ]
    }
   ],
   "source": [
    "def dictvec():\n",
    "    dict=DictVectorizer(sparse=False)\n",
    "    data=dict.fit_transform([{'city': '北京', 'temperature': 30},\n",
    "                               {'city': '上海', 'temperature': 40},\n",
    "                               {'city': '深圳', 'temperature': 35}])\n",
    "    print(data)\n",
    "    print(dict.get_feature_names())\n",
    "    print(dict.inverse_transform(data))\n",
    "    return None\n",
    "\n",
    "dictvec()"
   ]
  }
 ],
 "metadata": {
  "kernelspec": {
   "name": "pycharm-a7ca9fd6",
   "language": "python",
   "display_name": "PyCharm (day32)"
  },
  "language_info": {
   "codemirror_mode": {
    "name": "ipython",
    "version": 2
   },
   "file_extension": ".py",
   "mimetype": "text/x-python",
   "name": "python",
   "nbconvert_exporter": "python",
   "pygments_lexer": "ipython2",
   "version": "2.7.6"
  }
 },
 "nbformat": 4,
 "nbformat_minor": 0
}