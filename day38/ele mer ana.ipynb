{
 "cells": [
  {
   "cell_type": "code",
   "execution_count": 2,
   "metadata": {
    "collapsed": true
   },
   "outputs": [],
   "source": [
    "import os\n",
    "import pandas as pd\n",
    "import numpy as np\n",
    "import matplotlib.pyplot as plt\n",
    "import seaborn as sns\n",
    "sns.set(style='darkgrid',font_scale=1.5)"
   ]
  },
  {
   "cell_type": "code",
   "execution_count": 3,
   "outputs": [
    {
     "name": "stdout",
     "output_type": "stream",
     "text": [
      "<class 'pandas.core.frame.DataFrame'>\n",
      "RangeIndex: 12256906 entries, 0 to 12256905\n",
      "Data columns (total 6 columns):\n",
      " #   Column         Dtype \n",
      "---  ------         ----- \n",
      " 0   user_id        object\n",
      " 1   item_id        object\n",
      " 2   behavior_type  object\n",
      " 3   user_geohash   object\n",
      " 4   item_category  object\n",
      " 5   time           object\n",
      "dtypes: object(6)\n",
      "memory usage: 561.1+ MB\n",
      "None\n",
      "    user_id    item_id behavior_type user_geohash item_category           time\n",
      "0  98047837  232431562             1          NaN          4245  2014-12-06 02\n"
     ]
    }
   ],
   "source": [
    "data=pd.read_csv('tianchi_mobile_recommend_train_user.csv',dtype=str)\n",
    "print(data.info())\n",
    "print(data.head(1))"
   ],
   "metadata": {
    "collapsed": false,
    "pycharm": {
     "name": "#%%\n"
    }
   }
  },
  {
   "cell_type": "code",
   "execution_count": 4,
   "outputs": [
    {
     "name": "stdout",
     "output_type": "stream",
     "text": [
      "(12256906, 6)\n",
      "(1000000, 6)\n"
     ]
    }
   ],
   "source": [
    "print(data.shape)\n",
    "data=data[0:1000000]\n",
    "print(data.shape)"
   ],
   "metadata": {
    "collapsed": false,
    "pycharm": {
     "name": "#%%\n"
    }
   }
  },
  {
   "cell_type": "code",
   "execution_count": 5,
   "outputs": [
    {
     "name": "stdout",
     "output_type": "stream",
     "text": [
      "user_id          0.000000\n",
      "item_id          0.000000\n",
      "behavior_type    0.000000\n",
      "user_geohash     0.684227\n",
      "item_category    0.000000\n",
      "time             0.000000\n",
      "dtype: float64\n"
     ]
    }
   ],
   "source": [
    "missing_rate=data.apply(lambda x:sum(x.isnull())/len(x))\n",
    "print(missing_rate)"
   ],
   "metadata": {
    "collapsed": false,
    "pycharm": {
     "name": "#%%\n"
    }
   }
  },
  {
   "cell_type": "code",
   "execution_count": 6,
   "outputs": [],
   "source": [
    "data['date']=data['time'].str[0:10]\n",
    "data['hour']=data['time'].str[11:]"
   ],
   "metadata": {
    "collapsed": false,
    "pycharm": {
     "name": "#%%\n"
    }
   }
  },
  {
   "cell_type": "code",
   "execution_count": 7,
   "outputs": [],
   "source": [
    "data['date']=pd.to_datetime(data['date'])\n",
    "data['time']=pd.to_datetime(data['time'])\n",
    "data['hour']=data['hour'].astype(np.int8)"
   ],
   "metadata": {
    "collapsed": false,
    "pycharm": {
     "name": "#%%\n"
    }
   }
  },
  {
   "cell_type": "code",
   "execution_count": 8,
   "outputs": [
    {
     "name": "stdout",
     "output_type": "stream",
     "text": [
      "    user_id    item_id behavior_type user_geohash item_category  \\\n",
      "0  98047837  232431562             1          NaN          4245   \n",
      "\n",
      "                 time       date  hour  \n",
      "0 2014-12-06 02:00:00 2014-12-06     2  \n",
      "<class 'pandas.core.frame.DataFrame'>\n",
      "RangeIndex: 1000000 entries, 0 to 999999\n",
      "Data columns (total 8 columns):\n",
      " #   Column         Non-Null Count    Dtype         \n",
      "---  ------         --------------    -----         \n",
      " 0   user_id        1000000 non-null  object        \n",
      " 1   item_id        1000000 non-null  object        \n",
      " 2   behavior_type  1000000 non-null  object        \n",
      " 3   user_geohash   315773 non-null   object        \n",
      " 4   item_category  1000000 non-null  object        \n",
      " 5   time           1000000 non-null  datetime64[ns]\n",
      " 6   date           1000000 non-null  datetime64[ns]\n",
      " 7   hour           1000000 non-null  int8          \n",
      "dtypes: datetime64[ns](2), int8(1), object(5)\n",
      "memory usage: 54.4+ MB\n",
      "None\n"
     ]
    }
   ],
   "source": [
    "print(data.head(1))\n",
    "print(data.info())"
   ],
   "metadata": {
    "collapsed": false,
    "pycharm": {
     "name": "#%%\n"
    }
   }
  },
  {
   "cell_type": "code",
   "execution_count": 9,
   "outputs": [
    {
     "name": "stdout",
     "output_type": "stream",
     "text": [
      "          user_id    item_id behavior_type user_geohash item_category  \\\n",
      "482581   34424883  386722637             1          NaN         10392   \n",
      "523218   48830771  173074466             1          NaN         12919   \n",
      "168831   53080199  205050656             1          NaN          5894   \n",
      "554876  120594609  290300635             1          NaN          8901   \n",
      "162578   73278658  366342762             1          NaN         12161   \n",
      "381052   77965060   71531708             1          NaN          1230   \n",
      "63868    39544337  123041948             1          NaN          3064   \n",
      "336372  121000384  107610729             1          NaN         10984   \n",
      "6892    117903708  182627801             1          NaN         10725   \n",
      "427987   31190628  304724023             1          NaN          8877   \n",
      "\n",
      "             time       date  hour  \n",
      "482581 2014-11-18 2014-11-18     0  \n",
      "523218 2014-11-18 2014-11-18     0  \n",
      "168831 2014-11-18 2014-11-18     0  \n",
      "554876 2014-11-18 2014-11-18     0  \n",
      "162578 2014-11-18 2014-11-18     0  \n",
      "381052 2014-11-18 2014-11-18     0  \n",
      "63868  2014-11-18 2014-11-18     0  \n",
      "336372 2014-11-18 2014-11-18     0  \n",
      "6892   2014-11-18 2014-11-18     0  \n",
      "427987 2014-11-18 2014-11-18     0  \n"
     ]
    }
   ],
   "source": [
    "data.sort_values(by='time',ascending=True,inplace=True)\n",
    "print(data.head(10))"
   ],
   "metadata": {
    "collapsed": false,
    "pycharm": {
     "name": "#%%\n"
    }
   }
  },
  {
   "cell_type": "code",
   "execution_count": 10,
   "outputs": [
    {
     "name": "stdout",
     "output_type": "stream",
     "text": [
      "<class 'pandas.core.frame.DataFrame'>\n",
      "Int64Index: 1000000 entries, 482581 to 246017\n",
      "Data columns (total 8 columns):\n",
      " #   Column         Non-Null Count    Dtype         \n",
      "---  ------         --------------    -----         \n",
      " 0   user_id        1000000 non-null  object        \n",
      " 1   item_id        1000000 non-null  object        \n",
      " 2   behavior_type  1000000 non-null  object        \n",
      " 3   user_geohash   315773 non-null   object        \n",
      " 4   item_category  1000000 non-null  object        \n",
      " 5   time           1000000 non-null  datetime64[ns]\n",
      " 6   date           1000000 non-null  datetime64[ns]\n",
      " 7   hour           1000000 non-null  int8          \n",
      "dtypes: datetime64[ns](2), int8(1), object(5)\n",
      "memory usage: 62.0+ MB\n",
      "None\n",
      "          user_id    item_id behavior_type user_geohash item_category  \\\n",
      "616585   68961612  235412606             1          NaN          7572   \n",
      "206750   47551029  238563775             1          NaN          6344   \n",
      "381714   25330254  179987399             1          NaN          3381   \n",
      "616482   65373436  103934135             1          NaN          7350   \n",
      "616450   65373436  287355148             1          NaN          7350   \n",
      "745464   53621147   31277979             1      9rf5bcu         10392   \n",
      "745461  131573117  351544146             1          NaN          2825   \n",
      "806643    2489487  398877598             1          NaN          5395   \n",
      "745478   53621147  286862903             1      9rf5bai         10392   \n",
      "246017  130739831   77506167             1      9rna30o           989   \n",
      "\n",
      "                      time       date  hour  \n",
      "616585 2014-12-18 23:00:00 2014-12-18    23  \n",
      "206750 2014-12-18 23:00:00 2014-12-18    23  \n",
      "381714 2014-12-18 23:00:00 2014-12-18    23  \n",
      "616482 2014-12-18 23:00:00 2014-12-18    23  \n",
      "616450 2014-12-18 23:00:00 2014-12-18    23  \n",
      "745464 2014-12-18 23:00:00 2014-12-18    23  \n",
      "745461 2014-12-18 23:00:00 2014-12-18    23  \n",
      "806643 2014-12-18 23:00:00 2014-12-18    23  \n",
      "745478 2014-12-18 23:00:00 2014-12-18    23  \n",
      "246017 2014-12-18 23:00:00 2014-12-18    23  \n"
     ]
    }
   ],
   "source": [
    "print(data.info())\n",
    "print(data.tail(10))"
   ],
   "metadata": {
    "collapsed": false,
    "pycharm": {
     "name": "#%%\n"
    }
   }
  },
  {
   "cell_type": "code",
   "execution_count": 11,
   "outputs": [
    {
     "name": "stderr",
     "output_type": "stream",
     "text": [
      "C:\\Users\\gdmmx\\AppData\\Local\\Temp/ipykernel_6820/575933638.py:1: FutureWarning: Treating datetime data as categorical rather than numeric in `.describe` is deprecated and will be removed in a future version of pandas. Specify `datetime_is_numeric=True` to silence this warning and adopt the future behavior now.\n",
      "  print(data.describe(include='all'))\n"
     ]
    },
    {
     "name": "stdout",
     "output_type": "stream",
     "text": [
      "         user_id    item_id behavior_type user_geohash item_category  \\\n",
      "count    1000000    1000000       1000000       315773       1000000   \n",
      "unique      8058     673013             4       165011          7034   \n",
      "top     36233277  112921337             1      94ek6lw          1863   \n",
      "freq        3117        126        942230          101         32445   \n",
      "first        NaN        NaN           NaN          NaN           NaN   \n",
      "last         NaN        NaN           NaN          NaN           NaN   \n",
      "mean         NaN        NaN           NaN          NaN           NaN   \n",
      "std          NaN        NaN           NaN          NaN           NaN   \n",
      "min          NaN        NaN           NaN          NaN           NaN   \n",
      "25%          NaN        NaN           NaN          NaN           NaN   \n",
      "50%          NaN        NaN           NaN          NaN           NaN   \n",
      "75%          NaN        NaN           NaN          NaN           NaN   \n",
      "max          NaN        NaN           NaN          NaN           NaN   \n",
      "\n",
      "                       time                 date            hour  \n",
      "count               1000000              1000000  1000000.000000  \n",
      "unique                  744                   31             NaN  \n",
      "top     2014-12-11 22:00:00  2014-12-12 00:00:00             NaN  \n",
      "freq                   4366                56611             NaN  \n",
      "first   2014-11-18 00:00:00  2014-11-18 00:00:00             NaN  \n",
      "last    2014-12-18 23:00:00  2014-12-18 00:00:00             NaN  \n",
      "mean                    NaN                  NaN       14.787483  \n",
      "std                     NaN                  NaN        6.503919  \n",
      "min                     NaN                  NaN        0.000000  \n",
      "25%                     NaN                  NaN       10.000000  \n",
      "50%                     NaN                  NaN       16.000000  \n",
      "75%                     NaN                  NaN       20.000000  \n",
      "max                     NaN                  NaN       23.000000  \n"
     ]
    }
   ],
   "source": [
    "print(data.describe(include='all'))"
   ],
   "metadata": {
    "collapsed": false,
    "pycharm": {
     "name": "#%%\n"
    }
   }
  },
  {
   "cell_type": "code",
   "execution_count": 12,
   "outputs": [],
   "source": [
    "data.reset_index(drop=True,inplace=True)"
   ],
   "metadata": {
    "collapsed": false,
    "pycharm": {
     "name": "#%%\n"
    }
   }
  },
  {
   "cell_type": "code",
   "execution_count": 13,
   "outputs": [
    {
     "name": "stdout",
     "output_type": "stream",
     "text": [
      "date\n",
      "2014-11-18    30026\n",
      "2014-11-19    29135\n",
      "2014-11-20    29209\n",
      "2014-11-21    26787\n",
      "2014-11-22    29831\n",
      "2014-11-23    30908\n",
      "2014-11-24    30850\n",
      "2014-11-25    29944\n",
      "2014-11-26    29283\n",
      "2014-11-27    29812\n",
      "2014-11-28    28553\n",
      "2014-11-29    30191\n",
      "2014-11-30    33342\n",
      "2014-12-01    32210\n",
      "2014-12-02    33002\n",
      "2014-12-03    33467\n",
      "2014-12-04    32642\n",
      "2014-12-05    29888\n",
      "2014-12-06    31658\n",
      "2014-12-07    32657\n",
      "2014-12-08    31296\n",
      "2014-12-09    32242\n",
      "2014-12-10    34039\n",
      "2014-12-11    39687\n",
      "2014-12-12    56611\n",
      "2014-12-13    33241\n",
      "2014-12-14    33134\n",
      "2014-12-15    32842\n",
      "2014-12-16    32438\n",
      "2014-12-17    31358\n",
      "2014-12-18    29717\n",
      "Name: user_id, dtype: int64\n"
     ]
    }
   ],
   "source": [
    "#pv是page view  uv是unique visitor\n",
    "pv_daily=data.groupby('date').count()['user_id']\n",
    "print(pv_daily)"
   ],
   "metadata": {
    "collapsed": false,
    "pycharm": {
     "name": "#%%\n"
    }
   }
  },
  {
   "cell_type": "code",
   "execution_count": 14,
   "outputs": [],
   "source": [
    "pv_daily=pv_daily.rename(('user_id1'))"
   ],
   "metadata": {
    "collapsed": false,
    "pycharm": {
     "name": "#%%\n"
    }
   }
  },
  {
   "cell_type": "code",
   "execution_count": 15,
   "outputs": [
    {
     "name": "stdout",
     "output_type": "stream",
     "text": [
      "date\n",
      "2014-11-18    4078\n",
      "2014-11-19    4078\n",
      "2014-11-20    4087\n",
      "2014-11-21    3957\n",
      "2014-11-22    3931\n",
      "2014-11-23    4101\n",
      "2014-11-24    4184\n",
      "2014-11-25    4087\n",
      "2014-11-26    4076\n",
      "2014-11-27    4061\n",
      "2014-11-28    3945\n",
      "2014-11-29    4043\n",
      "2014-11-30    4202\n",
      "2014-12-01    4219\n",
      "2014-12-02    4274\n",
      "2014-12-03    4343\n",
      "2014-12-04    4252\n",
      "2014-12-05    4091\n",
      "2014-12-06    4160\n",
      "2014-12-07    4222\n",
      "2014-12-08    4267\n",
      "2014-12-09    4258\n",
      "2014-12-10    4340\n",
      "2014-12-11    4682\n",
      "2014-12-12    5431\n",
      "2014-12-13    4409\n",
      "2014-12-14    4319\n",
      "2014-12-15    4386\n",
      "2014-12-16    4378\n",
      "2014-12-17    4281\n",
      "2014-12-18    4185\n",
      "Name: user_id, dtype: int64\n"
     ]
    }
   ],
   "source": [
    "uv_daily=data.groupby('date')['user_id'].apply(lambda x:x.drop_duplicates().count())\n",
    "print(uv_daily)"
   ],
   "metadata": {
    "collapsed": false,
    "pycharm": {
     "name": "#%%\n"
    }
   }
  },
  {
   "cell_type": "code",
   "execution_count": 16,
   "outputs": [
    {
     "name": "stdout",
     "output_type": "stream",
     "text": [
      "date\n",
      "2014-11-18    4078\n",
      "2014-11-19    4078\n",
      "2014-11-20    4087\n",
      "2014-11-21    3957\n",
      "2014-11-22    3931\n",
      "2014-11-23    4101\n",
      "2014-11-24    4184\n",
      "2014-11-25    4087\n",
      "2014-11-26    4076\n",
      "2014-11-27    4061\n",
      "2014-11-28    3945\n",
      "2014-11-29    4043\n",
      "2014-11-30    4202\n",
      "2014-12-01    4219\n",
      "2014-12-02    4274\n",
      "2014-12-03    4343\n",
      "2014-12-04    4252\n",
      "2014-12-05    4091\n",
      "2014-12-06    4160\n",
      "2014-12-07    4222\n",
      "2014-12-08    4267\n",
      "2014-12-09    4258\n",
      "2014-12-10    4340\n",
      "2014-12-11    4682\n",
      "2014-12-12    5431\n",
      "2014-12-13    4409\n",
      "2014-12-14    4319\n",
      "2014-12-15    4386\n",
      "2014-12-16    4378\n",
      "2014-12-17    4281\n",
      "2014-12-18    4185\n",
      "Name: user_id, dtype: int64\n"
     ]
    }
   ],
   "source": [
    "uv_daily=data.groupby(by='date').nunique('user_id')['user_id']\n",
    "print(uv_daily)"
   ],
   "metadata": {
    "collapsed": false,
    "pycharm": {
     "name": "#%%\n"
    }
   }
  },
  {
   "cell_type": "code",
   "execution_count": 17,
   "outputs": [
    {
     "name": "stdout",
     "output_type": "stream",
     "text": [
      "               pv    uv\n",
      "date                   \n",
      "2014-11-18  30026  4078\n",
      "2014-11-19  29135  4078\n",
      "2014-11-20  29209  4087\n",
      "2014-11-21  26787  3957\n",
      "2014-11-22  29831  3931\n"
     ]
    }
   ],
   "source": [
    "pv_uv_daily=pd.concat([pv_daily,uv_daily],axis=1)\n",
    "pv_uv_daily.rename(columns={'user_id1':'pv','user_id':'uv'},inplace=True)\n",
    "print(pv_uv_daily.head())"
   ],
   "metadata": {
    "collapsed": false,
    "pycharm": {
     "name": "#%%\n"
    }
   }
  },
  {
   "cell_type": "code",
   "execution_count": 18,
   "outputs": [
    {
     "data": {
      "text/plain": "<Figure size 1600x800 with 2 Axes>",
      "image/png": "[encoded data removed]"
     },
     "metadata": {},
     "output_type": "display_data"
    }
   ],
   "source": [
    "plt.figure(figsize=(20,10),dpi=80)\n",
    "plt.subplot(211)\n",
    "plt.plot(pv_daily,color='r')\n",
    "plt.title('visits per day')\n",
    "plt.subplot(212)\n",
    "plt.plot(uv_daily,color='g')\n",
    "plt.title('visitors per day')\n",
    "plt.suptitle('trends of uv and pv')\n",
    "plt.show()"
   ],
   "metadata": {
    "collapsed": false,
    "pycharm": {
     "name": "#%%\n"
    }
   }
  },
  {
   "cell_type": "code",
   "execution_count": null,
   "outputs": [],
   "source": [
    "pv_hour=data.groupby(by='hour').count()['user_id']\n",
    "uv_hour=data.groupby(by='hour').nunique('user_id')['user_id']\n",
    "print(pv_hour.head())\n",
    "print(uv_hour.head())"
   ],
   "metadata": {
    "collapsed": false,
    "pycharm": {
     "name": "#%%\n",
     "is_executing": true
    }
   }
  },
  {
   "cell_type": "code",
   "execution_count": null,
   "outputs": [],
   "source": [
    "pv_uv_hour=pd.concat([pv_hour,uv_hour],axis=1)\n",
    "pv_uv_hour.columns=['pv_hour','uv_hour']"
   ],
   "metadata": {
    "collapsed": false,
    "pycharm": {
     "name": "#%%\n",
     "is_executing": true
    }
   }
  },
  {
   "cell_type": "code",
   "execution_count": null,
   "outputs": [],
   "source": [
    "plt.figure(figsize=(16,9))\n",
    "pv_uv_hour['pv_hour'].plot(color= 'steelblue', label ='pv per hour')\n",
    "plt.legend(loc ='upper center')\n",
    "plt.ylabel('visits number')\n",
    "pv_uv_hour['uv_hour'].plot(color= 'red', label='uv per hour',secondary_y =True)\n",
    "plt.ylabel('visitor number')\n",
    "plt.xticks(range(0,24),pv_uv_hour.index)\n",
    "plt.legend(loc ='upper center')\n",
    "plt.grid(True)\n",
    "plt.show()"
   ],
   "metadata": {
    "collapsed": false,
    "pycharm": {
     "name": "#%%\n",
     "is_executing": true
    }
   }
  },
  {
   "cell_type": "code",
   "execution_count": null,
   "outputs": [],
   "source": [
    "pv_detail=pd.pivot_table(columns='behavior_type',index='hour',data=data,\n",
    "                         values='user_id',aggfunc=np.size)\n",
    "print(pv_detail)"
   ],
   "metadata": {
    "collapsed": false,
    "pycharm": {
     "name": "#%%\n",
     "is_executing": true
    }
   }
  },
  {
   "cell_type": "code",
   "execution_count": null,
   "outputs": [],
   "source": [
    "plt.figure(figsize=(20,10))\n",
    "sns.lineplot(data=pv_detail.iloc[:,1:])\n",
    "plt.show()"
   ],
   "metadata": {
    "collapsed": false,
    "pycharm": {
     "name": "#%%\n",
     "is_executing": true
    }
   }
  },
  {
   "cell_type": "code",
   "execution_count": null,
   "outputs": [],
   "source": [
    "#average revenue per unit=ARPU\n",
    "#average revenue per paying unit=ARPPU\n",
    "user_buy=data[data.behavior_type=='4'].groupby('user_id').size()\n",
    "print(user_buy)\n",
    "print(user_buy.describe())"
   ],
   "metadata": {
    "collapsed": false,
    "pycharm": {
     "name": "#%%\n",
     "is_executing": true
    }
   }
  },
  {
   "cell_type": "code",
   "execution_count": null,
   "outputs": [],
   "source": [
    "plt.hist(x=user_buy,bins=30)\n",
    "plt.show()"
   ],
   "metadata": {
    "collapsed": false,
    "pycharm": {
     "name": "#%%\n",
     "is_executing": true
    }
   }
  },
  {
   "cell_type": "code",
   "execution_count": null,
   "outputs": [],
   "source": [
    "plt.hist(x=user_buy[user_buy<=10],bins=10)\n",
    "plt.show()"
   ],
   "metadata": {
    "collapsed": false,
    "pycharm": {
     "name": "#%%\n",
     "is_executing": true
    }
   }
  },
  {
   "cell_type": "code",
   "execution_count": null,
   "outputs": [],
   "source": [
    "arpu=user_buy.sum()*100/1000000\n",
    "print(arpu)"
   ],
   "metadata": {
    "collapsed": false,
    "pycharm": {
     "name": "#%%\n",
     "is_executing": true
    }
   }
  },
  {
   "cell_type": "code",
   "execution_count": null,
   "outputs": [],
   "source": [
    "arppu=user_buy.sum()*100/user_buy.shape[0]\n",
    "print(arppu)"
   ],
   "metadata": {
    "collapsed": false,
    "pycharm": {
     "name": "#%%\n",
     "is_executing": true
    }
   }
  },
  {
   "cell_type": "code",
   "execution_count": null,
   "outputs": [],
   "source": [
    "user_buy1=data[data.behavior_type=='4'].groupby(['date','user_id']).count()['behavior_type']\\\n",
    "    .reset_index().rename(columns={'behavior_type':'total'})\n",
    "print(user_buy1)"
   ],
   "metadata": {
    "collapsed": false,
    "pycharm": {
     "name": "#%%\n",
     "is_executing": true
    }
   }
  },
  {
   "cell_type": "code",
   "execution_count": null,
   "outputs": [],
   "source": [
    "user_buy2=user_buy1.groupby('date').sum()['total']/user_buy1.groupby('date').count()['total']\n",
    "print(user_buy2)\n",
    "user_buy2.plot()\n",
    "plt.show()"
   ],
   "metadata": {
    "collapsed": false,
    "pycharm": {
     "name": "#%%\n",
     "is_executing": true
    }
   }
  },
  {
   "cell_type": "code",
   "execution_count": null,
   "outputs": [],
   "source": [
    "user_buy2.describe()"
   ],
   "metadata": {
    "collapsed": false,
    "pycharm": {
     "name": "#%%\n",
     "is_executing": true
    }
   }
  },
  {
   "cell_type": "code",
   "execution_count": null,
   "outputs": [],
   "source": [
    "data['operation']=1\n"
   ],
   "metadata": {
    "collapsed": false,
    "pycharm": {
     "name": "#%%\n",
     "is_executing": true
    }
   }
  },
  {
   "cell_type": "code",
   "execution_count": null,
   "outputs": [],
   "source": [
    "user_buy2 = data.groupby(['date' , 'user_id' , 'behavior_type'])['operation'].count().reset_index().rename(columns ={'operation':'total'})\n",
    "print(user_buy2)"
   ],
   "metadata": {
    "collapsed": false,
    "pycharm": {
     "name": "#%%\n",
     "is_executing": true
    }
   }
  },
  {
   "cell_type": "code",
   "execution_count": null,
   "outputs": [],
   "source": [
    "user_buy2.groupby('date').apply(lambda x:x[x.behavior_type=='4'].total.sum()/len(x.user_id.unique()))"
   ],
   "metadata": {
    "collapsed": false,
    "pycharm": {
     "name": "#%%\n",
     "is_executing": true
    }
   }
  },
  {
   "cell_type": "code",
   "execution_count": null,
   "outputs": [],
   "source": [
    "user_buy2.groupby('date').apply(lambda x:x[x.behavior_type=='4'].total.sum()/len(x.user_id.unique())).plot()"
   ],
   "metadata": {
    "collapsed": false,
    "pycharm": {
     "name": "#%%\n",
     "is_executing": true
    }
   }
  },
  {
   "cell_type": "code",
   "execution_count": null,
   "outputs": [],
   "source": [
    "user_buy2.groupby('date').apply(lambda x:x[x.behavior_type=='4'].total.count()/len(x.user_id.unique())).plot()"
   ],
   "metadata": {
    "collapsed": false,
    "pycharm": {
     "name": "#%%\n",
     "is_executing": true
    }
   }
  },
  {
   "cell_type": "code",
   "execution_count": null,
   "outputs": [],
   "source": [
    "user_buy3=data[data['behavior_type']=='4'].groupby(['date','hour'])['operation'].sum()\n",
    "print(user_buy3)"
   ],
   "metadata": {
    "collapsed": false,
    "pycharm": {
     "name": "#%%\n",
     "is_executing": true
    }
   }
  },
  {
   "cell_type": "code",
   "execution_count": null,
   "outputs": [],
   "source": [
    "user_buy4=user_buy3['2014-11-18']\n",
    "print(user_buy4)"
   ],
   "metadata": {
    "collapsed": false,
    "pycharm": {
     "name": "#%%\n",
     "is_executing": true
    }
   }
  },
  {
   "cell_type": "code",
   "execution_count": null,
   "outputs": [],
   "source": [
    "plt.plot(user_buy4.index,user_buy4.values)\n",
    "plt.show()"
   ],
   "metadata": {
    "collapsed": false,
    "pycharm": {
     "name": "#%%\n",
     "is_executing": true
    }
   }
  },
  {
   "cell_type": "code",
   "execution_count": null,
   "outputs": [],
   "source": [
    "for i in data[data.behavior_type=='4'].groupby('user_id')['date']:\n",
    "    print(i)\n",
    "    break"
   ],
   "metadata": {
    "collapsed": false,
    "pycharm": {
     "name": "#%%\n",
     "is_executing": true
    }
   }
  },
  {
   "cell_type": "code",
   "execution_count": null,
   "outputs": [],
   "source": [
    "data_rebuy=data[data.behavior_type =='4' ].groupby('user_id')['date'].apply(lambda x: len(x.unique()))\n",
    "print(data_rebuy)\n",
    "data_rebuy.describe()\n",
    "rebuy_rate=data_rebuy[data_rebuy>1].count()/data_rebuy.count()\n",
    "print(rebuy_rate)"
   ],
   "metadata": {
    "collapsed": false,
    "pycharm": {
     "name": "#%%\n",
     "is_executing": true
    }
   }
  },
  {
   "cell_type": "code",
   "execution_count": null,
   "outputs": [],
   "source": [
    "data_day_buy=data[data.behavior_type=='4'].groupby('user_id').date.apply(lambda x:x.sort_values()).diff(1).dropna()\n",
    "print(data_day_buy)"
   ],
   "metadata": {
    "collapsed": false,
    "pycharm": {
     "name": "#%%\n",
     "is_executing": true
    }
   }
  },
  {
   "cell_type": "code",
   "execution_count": null,
   "outputs": [],
   "source": [
    "user_count=data.groupby('behavior_type').size()\n",
    "print(user_count)"
   ],
   "metadata": {
    "collapsed": false,
    "pycharm": {
     "name": "#%%\n",
     "is_executing": true
    }
   }
  },
  {
   "cell_type": "code",
   "execution_count": null,
   "outputs": [],
   "source": [
    "pv_all=data['user_id'].count()\n",
    "print(pv_all)"
   ],
   "metadata": {
    "collapsed": false,
    "pycharm": {
     "name": "#%%\n",
     "is_executing": true
    }
   }
  },
  {
   "cell_type": "code",
   "execution_count": null,
   "outputs": [],
   "source": [
    "click_rate=(user_count[0]-user_count[2])/pv_all\n",
    "print(click_rate)"
   ],
   "metadata": {
    "collapsed": false,
    "pycharm": {
     "name": "#%%\n",
     "is_executing": true
    }
   }
  },
  {
   "cell_type": "code",
   "execution_count": null,
   "outputs": [],
   "source": [
    "print(data.head())"
   ],
   "metadata": {
    "collapsed": false,
    "pycharm": {
     "name": "#%%\n",
     "is_executing": true
    }
   }
  }
 ],
 "metadata": {
  "kernelspec": {
   "name": "pycharm-a7ca9fd6",
   "language": "python",
   "display_name": "PyCharm (day32)"
  },
  "language_info": {
   "codemirror_mode": {
    "name": "ipython",
    "version": 2
   },
   "file_extension": ".py",
   "mimetype": "text/x-python",
   "name": "python",
   "nbconvert_exporter": "python",
   "pygments_lexer": "ipython2",
   "version": "2.7.6"
  }
 },
 "nbformat": 4,
 "nbformat_minor": 0
}