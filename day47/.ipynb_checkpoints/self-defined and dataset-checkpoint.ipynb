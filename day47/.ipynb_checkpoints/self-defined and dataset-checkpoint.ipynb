{
 "cells": [
  {
   "cell_type": "code",
   "execution_count": 1,
   "id": "d782da85",
   "metadata": {},
   "outputs": [],
   "source": [
    "import matplotlib as mpl\n",
    "import matplotlib.pyplot as plt\n",
    "%matplotlib inline\n",
    "import numpy as np\n",
    "import sklearn\n",
    "import pandas as pd\n",
    "import os\n",
    "import sys\n",
    "import time\n",
    "import tensorflow as tf\n",
    "\n",
    "from tensorflow import keras\n"
   ]
  },
  {
   "cell_type": "code",
   "execution_count": 2,
   "id": "611b54c0",
   "metadata": {},
   "outputs": [],
   "source": [
    "t=tf.constant([[1.,2.,3.],[4.,5.,6.]])"
   ]
  },
  {
   "cell_type": "code",
   "execution_count": 3,
   "id": "3047baa4",
   "metadata": {},
   "outputs": [
    {
     "data": {
      "text/plain": [
       "<tf.Tensor: shape=(2, 3), dtype=float32, numpy=\n",
       "array([[1., 2., 3.],\n",
       "       [4., 5., 6.]], dtype=float32)>"
      ]
     },
     "execution_count": 3,
     "metadata": {},
     "output_type": "execute_result"
    }
   ],
   "source": [
    "t"
   ]
  },
  {
   "cell_type": "code",
   "execution_count": 6,
   "id": "ae72695a",
   "metadata": {},
   "outputs": [
    {
     "data": {
      "text/plain": [
       "<tf.Tensor: shape=(2,), dtype=float32, numpy=array([2., 5.], dtype=float32)>"
      ]
     },
     "execution_count": 6,
     "metadata": {},
     "output_type": "execute_result"
    }
   ],
   "source": [
    "t[:,1]"
   ]
  },
  {
   "cell_type": "code",
   "execution_count": 7,
   "id": "efc27921",
   "metadata": {},
   "outputs": [
    {
     "data": {
      "text/plain": [
       "tensorflow.python.framework.ops.EagerTensor"
      ]
     },
     "execution_count": 7,
     "metadata": {},
     "output_type": "execute_result"
    }
   ],
   "source": [
    "type(t)"
   ]
  },
  {
   "cell_type": "code",
   "execution_count": 8,
   "id": "748b7fdb",
   "metadata": {},
   "outputs": [],
   "source": [
    "q=t.numpy()"
   ]
  },
  {
   "cell_type": "code",
   "execution_count": 9,
   "id": "b3a0d45b",
   "metadata": {},
   "outputs": [
    {
     "data": {
      "text/plain": [
       "array([[1., 2., 3.],\n",
       "       [4., 5., 6.]], dtype=float32)"
      ]
     },
     "execution_count": 9,
     "metadata": {},
     "output_type": "execute_result"
    }
   ],
   "source": [
    "q"
   ]
  },
  {
   "cell_type": "code",
   "execution_count": 10,
   "id": "b52a9c3c",
   "metadata": {},
   "outputs": [
    {
     "data": {
      "text/plain": [
       "numpy.ndarray"
      ]
     },
     "execution_count": 10,
     "metadata": {},
     "output_type": "execute_result"
    }
   ],
   "source": [
    "type(q)"
   ]
  },
  {
   "cell_type": "code",
   "execution_count": 11,
   "id": "00cf3fe5",
   "metadata": {},
   "outputs": [
    {
     "data": {
      "text/plain": [
       "<tf.Tensor: shape=(2, 3), dtype=float32, numpy=\n",
       "array([[11., 12., 13.],\n",
       "       [14., 15., 16.]], dtype=float32)>"
      ]
     },
     "execution_count": 11,
     "metadata": {},
     "output_type": "execute_result"
    }
   ],
   "source": [
    "t+10"
   ]
  },
  {
   "cell_type": "code",
   "execution_count": 13,
   "id": "5efe15ce",
   "metadata": {},
   "outputs": [
    {
     "data": {
      "text/plain": [
       "<tf.Tensor: shape=(2, 3), dtype=float32, numpy=\n",
       "array([[ 1.,  4.,  9.],\n",
       "       [16., 25., 36.]], dtype=float32)>"
      ]
     },
     "execution_count": 13,
     "metadata": {},
     "output_type": "execute_result"
    }
   ],
   "source": [
    "tf.square(t)"
   ]
  },
  {
   "cell_type": "code",
   "execution_count": 14,
   "id": "3e8260c7",
   "metadata": {},
   "outputs": [
    {
     "data": {
      "text/plain": [
       "<tf.Tensor: shape=(3, 2), dtype=float32, numpy=\n",
       "array([[1., 4.],\n",
       "       [2., 5.],\n",
       "       [3., 6.]], dtype=float32)>"
      ]
     },
     "execution_count": 14,
     "metadata": {},
     "output_type": "execute_result"
    }
   ],
   "source": [
    "tf.transpose(t)"
   ]
  },
  {
   "cell_type": "code",
   "execution_count": 15,
   "id": "f364ed7e",
   "metadata": {},
   "outputs": [
    {
     "data": {
      "text/plain": [
       "<tf.Tensor: shape=(2, 2), dtype=float32, numpy=\n",
       "array([[14., 32.],\n",
       "       [32., 77.]], dtype=float32)>"
      ]
     },
     "execution_count": 15,
     "metadata": {},
     "output_type": "execute_result"
    }
   ],
   "source": [
    "t@tf.transpose(t)"
   ]
  },
  {
   "cell_type": "code",
   "execution_count": 16,
   "id": "fcaaea64",
   "metadata": {},
   "outputs": [
    {
     "data": {
      "text/plain": [
       "<tf.Tensor: shape=(2, 3), dtype=float32, numpy=\n",
       "array([[ 1.,  4.,  9.],\n",
       "       [16., 25., 36.]], dtype=float32)>"
      ]
     },
     "execution_count": 16,
     "metadata": {},
     "output_type": "execute_result"
    }
   ],
   "source": [
    "t*t"
   ]
  },
  {
   "cell_type": "code",
   "execution_count": 17,
   "id": "452992c4",
   "metadata": {},
   "outputs": [
    {
     "data": {
      "text/plain": [
       "<tf.Tensor: shape=(2, 3), dtype=float32, numpy=\n",
       "array([[1.       , 1.4142135, 1.7320508],\n",
       "       [2.       , 2.236068 , 2.4494898]], dtype=float32)>"
      ]
     },
     "execution_count": 17,
     "metadata": {},
     "output_type": "execute_result"
    }
   ],
   "source": [
    "tf.math.sqrt(t)"
   ]
  },
  {
   "cell_type": "code",
   "execution_count": 18,
   "id": "90bb6843",
   "metadata": {},
   "outputs": [
    {
     "data": {
      "text/plain": [
       "<tf.Tensor: shape=(2, 3), dtype=float32, numpy=\n",
       "array([[1.       , 1.4142135, 1.7320508],\n",
       "       [2.       , 2.236068 , 2.4494898]], dtype=float32)>"
      ]
     },
     "execution_count": 18,
     "metadata": {},
     "output_type": "execute_result"
    }
   ],
   "source": [
    "tf.sqrt(t)"
   ]
  },
  {
   "cell_type": "code",
   "execution_count": 19,
   "id": "4615989e",
   "metadata": {},
   "outputs": [
    {
     "data": {
      "text/plain": [
       "<tf.Tensor: shape=(2, 3), dtype=float32, numpy=\n",
       "array([[0.       , 0.6931472, 1.0986123],\n",
       "       [1.3862944, 1.609438 , 1.7917595]], dtype=float32)>"
      ]
     },
     "execution_count": 19,
     "metadata": {},
     "output_type": "execute_result"
    }
   ],
   "source": [
    "tf.math.log(t)"
   ]
  },
  {
   "cell_type": "code",
   "execution_count": 20,
   "id": "0187cabe",
   "metadata": {},
   "outputs": [
    {
     "data": {
      "text/plain": [
       "array([[1., 2., 3.],\n",
       "       [4., 5., 6.]], dtype=float32)"
      ]
     },
     "execution_count": 20,
     "metadata": {},
     "output_type": "execute_result"
    }
   ],
   "source": [
    "t.numpy()"
   ]
  },
  {
   "cell_type": "code",
   "execution_count": 21,
   "id": "2a79e3fe",
   "metadata": {},
   "outputs": [
    {
     "data": {
      "text/plain": [
       "[[1.0, 2.0, 3.0], [4.0, 5.0, 6.0]]"
      ]
     },
     "execution_count": 21,
     "metadata": {},
     "output_type": "execute_result"
    }
   ],
   "source": [
    "t.numpy().tolist()"
   ]
  },
  {
   "cell_type": "code",
   "execution_count": 22,
   "id": "39cec06d",
   "metadata": {},
   "outputs": [
    {
     "data": {
      "text/plain": [
       "array([[ 1.,  4.,  9.],\n",
       "       [16., 25., 36.]], dtype=float32)"
      ]
     },
     "execution_count": 22,
     "metadata": {},
     "output_type": "execute_result"
    }
   ],
   "source": [
    "np.square(q)"
   ]
  },
  {
   "cell_type": "code",
   "execution_count": 24,
   "id": "05c229fc",
   "metadata": {},
   "outputs": [],
   "source": [
    "t=tf.constant(2.718)"
   ]
  },
  {
   "cell_type": "code",
   "execution_count": 25,
   "id": "5493c208",
   "metadata": {},
   "outputs": [
    {
     "data": {
      "text/plain": [
       "2.718"
      ]
     },
     "execution_count": 25,
     "metadata": {},
     "output_type": "execute_result"
    }
   ],
   "source": [
    "t.numpy()"
   ]
  },
  {
   "cell_type": "code",
   "execution_count": 26,
   "id": "50f16d71",
   "metadata": {},
   "outputs": [
    {
     "data": {
      "text/plain": [
       "TensorShape([])"
      ]
     },
     "execution_count": 26,
     "metadata": {},
     "output_type": "execute_result"
    }
   ],
   "source": [
    "t.shape"
   ]
  },
  {
   "cell_type": "code",
   "execution_count": 27,
   "id": "419cb7ce",
   "metadata": {},
   "outputs": [
    {
     "data": {
      "text/plain": [
       "<tf.Tensor: shape=(), dtype=string, numpy=b'justice'>"
      ]
     },
     "execution_count": 27,
     "metadata": {},
     "output_type": "execute_result"
    }
   ],
   "source": [
    "t=tf.constant('justice')\n",
    "t"
   ]
  },
  {
   "cell_type": "code",
   "execution_count": 28,
   "id": "0dece875",
   "metadata": {},
   "outputs": [
    {
     "data": {
      "text/plain": [
       "<tf.Tensor: shape=(), dtype=int32, numpy=7>"
      ]
     },
     "execution_count": 28,
     "metadata": {},
     "output_type": "execute_result"
    }
   ],
   "source": [
    "tf.strings.length(t)"
   ]
  },
  {
   "cell_type": "code",
   "execution_count": 30,
   "id": "770afaf6",
   "metadata": {},
   "outputs": [
    {
     "data": {
      "text/plain": [
       "<tf.Tensor: shape=(), dtype=int32, numpy=7>"
      ]
     },
     "execution_count": 30,
     "metadata": {},
     "output_type": "execute_result"
    }
   ],
   "source": [
    "tf.strings.length(t,unit='UTF8_CHAR')"
   ]
  },
  {
   "cell_type": "code",
   "execution_count": 32,
   "id": "c45b735f",
   "metadata": {},
   "outputs": [
    {
     "data": {
      "text/plain": [
       "<tf.Tensor: shape=(2,), dtype=int32, numpy=array([7, 2])>"
      ]
     },
     "execution_count": 32,
     "metadata": {},
     "output_type": "execute_result"
    }
   ],
   "source": [
    "t=tf.constant(['justice','正义'])\n",
    "tf.strings.length(t,unit='UTF8_CHAR')"
   ]
  },
  {
   "cell_type": "code",
   "execution_count": 33,
   "id": "faf30739",
   "metadata": {},
   "outputs": [
    {
     "data": {
      "text/plain": [
       "<tf.Tensor: shape=(2,), dtype=int32, numpy=array([7, 6])>"
      ]
     },
     "execution_count": 33,
     "metadata": {},
     "output_type": "execute_result"
    }
   ],
   "source": [
    "tf.strings.length(t)"
   ]
  },
  {
   "cell_type": "code",
   "execution_count": 34,
   "id": "7a5dcf67",
   "metadata": {},
   "outputs": [
    {
     "data": {
      "text/plain": [
       "<tf.Tensor: shape=(2,), dtype=int32, numpy=array([7, 6])>"
      ]
     },
     "execution_count": 34,
     "metadata": {},
     "output_type": "execute_result"
    }
   ],
   "source": [
    "tf.strings.length(t,unit='BYTE')"
   ]
  },
  {
   "cell_type": "code",
   "execution_count": 35,
   "id": "2a9e3889",
   "metadata": {},
   "outputs": [
    {
     "data": {
      "text/plain": [
       "<tf.RaggedTensor [[106, 117, 115, 116, 105, 99, 101], [27491, 20041]]>"
      ]
     },
     "execution_count": 35,
     "metadata": {},
     "output_type": "execute_result"
    }
   ],
   "source": [
    "r=tf.strings.unicode_decode(t,'UTF8')\n",
    "r"
   ]
  },
  {
   "cell_type": "code",
   "execution_count": 36,
   "id": "c65151ba",
   "metadata": {},
   "outputs": [
    {
     "data": {
      "text/plain": [
       "<tf.RaggedTensor [[1, 2], [3, 4, 5], [], [6]]>"
      ]
     },
     "execution_count": 36,
     "metadata": {},
     "output_type": "execute_result"
    }
   ],
   "source": [
    "r=tf.ragged.constant([[1,2],[3,4,5],[],[6]])\n",
    "r"
   ]
  },
  {
   "cell_type": "code",
   "execution_count": 37,
   "id": "74e783cd",
   "metadata": {},
   "outputs": [
    {
     "data": {
      "text/plain": [
       "TensorShape([4, None])"
      ]
     },
     "execution_count": 37,
     "metadata": {},
     "output_type": "execute_result"
    }
   ],
   "source": [
    "r.shape"
   ]
  },
  {
   "cell_type": "code",
   "execution_count": 38,
   "id": "d92cad4c",
   "metadata": {},
   "outputs": [
    {
     "data": {
      "text/plain": [
       "<tf.Tensor: shape=(3,), dtype=int32, numpy=array([3, 4, 5])>"
      ]
     },
     "execution_count": 38,
     "metadata": {},
     "output_type": "execute_result"
    }
   ],
   "source": [
    "r[1]"
   ]
  },
  {
   "cell_type": "code",
   "execution_count": 39,
   "id": "5a90c174",
   "metadata": {},
   "outputs": [
    {
     "data": {
      "text/plain": [
       "<tf.RaggedTensor [[3, 4, 5], []]>"
      ]
     },
     "execution_count": 39,
     "metadata": {},
     "output_type": "execute_result"
    }
   ],
   "source": [
    "r[1:3]"
   ]
  },
  {
   "cell_type": "code",
   "execution_count": 40,
   "id": "c9d53256",
   "metadata": {},
   "outputs": [
    {
     "data": {
      "text/plain": [
       "<tf.RaggedTensor [[1, 2], [3, 4, 5], [], [6], [11, 12], [], [], [13]]>"
      ]
     },
     "execution_count": 40,
     "metadata": {},
     "output_type": "execute_result"
    }
   ],
   "source": [
    "r2=tf.ragged.constant([[11,12],[],[],[13]])\n",
    "tf.concat([r,r2],axis=0)"
   ]
  },
  {
   "cell_type": "code",
   "execution_count": 41,
   "id": "18bc7e8d",
   "metadata": {},
   "outputs": [
    {
     "data": {
      "text/plain": [
       "<tf.RaggedTensor [[1, 2, 11, 12], [3, 4, 5], [], [6, 13]]>"
      ]
     },
     "execution_count": 41,
     "metadata": {},
     "output_type": "execute_result"
    }
   ],
   "source": [
    "tf.concat([r,r2],axis=1)"
   ]
  },
  {
   "cell_type": "code",
   "execution_count": 42,
   "id": "6ff2e3ce",
   "metadata": {},
   "outputs": [
    {
     "data": {
      "text/plain": [
       "<tf.Tensor: shape=(4, 3), dtype=int32, numpy=\n",
       "array([[1, 2, 0],\n",
       "       [3, 4, 5],\n",
       "       [0, 0, 0],\n",
       "       [6, 0, 0]])>"
      ]
     },
     "execution_count": 42,
     "metadata": {},
     "output_type": "execute_result"
    }
   ],
   "source": [
    "r.to_tensor()"
   ]
  },
  {
   "cell_type": "code",
   "execution_count": 46,
   "id": "52099408",
   "metadata": {},
   "outputs": [
    {
     "data": {
      "text/plain": [
       "<tensorflow.python.framework.sparse_tensor.SparseTensor at 0x2370a345670>"
      ]
     },
     "execution_count": 46,
     "metadata": {},
     "output_type": "execute_result"
    }
   ],
   "source": [
    "s=tf.SparseTensor(indices=[[0,1],[1,0],[2,3],[3,2]],values=[1.,2.,3.,5.],dense_shape=[4,4])\n",
    "s"
   ]
  },
  {
   "cell_type": "code",
   "execution_count": 47,
   "id": "fbadae87",
   "metadata": {},
   "outputs": [
    {
     "name": "stdout",
     "output_type": "stream",
     "text": [
      "SparseTensor(indices=tf.Tensor(\n",
      "[[0 1]\n",
      " [1 0]\n",
      " [2 3]\n",
      " [3 2]], shape=(4, 2), dtype=int64), values=tf.Tensor([1. 2. 3. 5.], shape=(4,), dtype=float32), dense_shape=tf.Tensor([4 4], shape=(2,), dtype=int64))\n"
     ]
    }
   ],
   "source": [
    "print(s)"
   ]
  },
  {
   "cell_type": "code",
   "execution_count": 48,
   "id": "ccf4c29a",
   "metadata": {},
   "outputs": [
    {
     "data": {
      "text/plain": [
       "<tensorflow.python.framework.sparse_tensor.SparseTensor at 0x2370a345b80>"
      ]
     },
     "execution_count": 48,
     "metadata": {},
     "output_type": "execute_result"
    }
   ],
   "source": [
    "s=tf.sqrt(s)\n",
    "s"
   ]
  },
  {
   "cell_type": "code",
   "execution_count": 49,
   "id": "9ab77b87",
   "metadata": {},
   "outputs": [
    {
     "name": "stdout",
     "output_type": "stream",
     "text": [
      "SparseTensor(indices=tf.Tensor(\n",
      "[[0 1]\n",
      " [1 0]\n",
      " [2 3]\n",
      " [3 2]], shape=(4, 2), dtype=int64), values=tf.Tensor([1.        1.4142135 1.7320508 2.236068 ], shape=(4,), dtype=float32), dense_shape=tf.Tensor([4 4], shape=(2,), dtype=int64))\n"
     ]
    }
   ],
   "source": [
    "print(s)"
   ]
  },
  {
   "cell_type": "code",
   "execution_count": 51,
   "id": "f3668122",
   "metadata": {},
   "outputs": [
    {
     "data": {
      "text/plain": [
       "<tf.Tensor: shape=(4, 4), dtype=float32, numpy=\n",
       "array([[0., 1., 0., 0.],\n",
       "       [2., 0., 0., 0.],\n",
       "       [0., 0., 0., 3.],\n",
       "       [0., 0., 5., 0.]], dtype=float32)>"
      ]
     },
     "execution_count": 51,
     "metadata": {},
     "output_type": "execute_result"
    }
   ],
   "source": [
    "s=tf.SparseTensor(indices=[[0,1],[1,0],[2,3],[3,2]],values=[1.,2.,3.,5.],dense_shape=[4,4])\n",
    "tt=tf.sparse.to_dense(s)\n",
    "tt"
   ]
  },
  {
   "cell_type": "code",
   "execution_count": 52,
   "id": "d9f242bd",
   "metadata": {},
   "outputs": [
    {
     "data": {
      "text/plain": [
       "<tensorflow.python.framework.sparse_tensor.SparseTensor at 0x23709803610>"
      ]
     },
     "execution_count": 52,
     "metadata": {},
     "output_type": "execute_result"
    }
   ],
   "source": [
    "s2=s*2.0\n",
    "s2"
   ]
  },
  {
   "cell_type": "code",
   "execution_count": 53,
   "id": "cc6844c9",
   "metadata": {},
   "outputs": [
    {
     "name": "stdout",
     "output_type": "stream",
     "text": [
      "SparseTensor(indices=tf.Tensor(\n",
      "[[0 1]\n",
      " [1 0]\n",
      " [2 3]\n",
      " [3 2]], shape=(4, 2), dtype=int64), values=tf.Tensor([ 2.  4.  6. 10.], shape=(4,), dtype=float32), dense_shape=tf.Tensor([4 4], shape=(2,), dtype=int64))\n"
     ]
    }
   ],
   "source": [
    "print(s2)"
   ]
  },
  {
   "cell_type": "code",
   "execution_count": 54,
   "id": "05cdd0e6",
   "metadata": {},
   "outputs": [
    {
     "ename": "TypeError",
     "evalue": "unsupported operand type(s) for +: 'SparseTensor' and 'float'",
     "output_type": "error",
     "traceback": [
      "\u001b[1;31m---------------------------------------------------------------------------\u001b[0m",
      "\u001b[1;31mTypeError\u001b[0m                                 Traceback (most recent call last)",
      "\u001b[1;32m~\\AppData\\Local\\Temp/ipykernel_13044/1060693957.py\u001b[0m in \u001b[0;36m<module>\u001b[1;34m\u001b[0m\n\u001b[1;32m----> 1\u001b[1;33m \u001b[0ms3\u001b[0m\u001b[1;33m=\u001b[0m\u001b[0ms\u001b[0m\u001b[1;33m+\u001b[0m\u001b[1;36m1.0\u001b[0m\u001b[1;33m\u001b[0m\u001b[1;33m\u001b[0m\u001b[0m\n\u001b[0m\u001b[0;32m      2\u001b[0m \u001b[0mprint\u001b[0m\u001b[1;33m(\u001b[0m\u001b[0ms3\u001b[0m\u001b[1;33m)\u001b[0m\u001b[1;33m\u001b[0m\u001b[1;33m\u001b[0m\u001b[0m\n",
      "\u001b[1;31mTypeError\u001b[0m: unsupported operand type(s) for +: 'SparseTensor' and 'float'"
     ]
    }
   ],
   "source": [
    "s3=s+1.0\n",
    "print(s3)"
   ]
  },
  {
   "cell_type": "code",
   "execution_count": 56,
   "id": "ee06dc60",
   "metadata": {},
   "outputs": [
    {
     "data": {
      "text/plain": [
       "<tf.Tensor: shape=(4, 2), dtype=float32, numpy=\n",
       "array([[ 30.,  40.],\n",
       "       [ 20.,  40.],\n",
       "       [210., 240.],\n",
       "       [250., 300.]], dtype=float32)>"
      ]
     },
     "execution_count": 56,
     "metadata": {},
     "output_type": "execute_result"
    }
   ],
   "source": [
    "s4=tf.constant([[10.,20.],[30.,40.],[50.,60.],[70.,80.]])\n",
    "tf.sparse.sparse_dense_matmul(s,s4)"
   ]
  },
  {
   "cell_type": "code",
   "execution_count": 62,
   "id": "96233933",
   "metadata": {},
   "outputs": [
    {
     "name": "stdout",
     "output_type": "stream",
     "text": [
      "SparseTensor(indices=tf.Tensor(\n",
      "[[0 2]\n",
      " [2 3]\n",
      " [0 1]], shape=(3, 2), dtype=int64), values=tf.Tensor([1. 2. 3.], shape=(3,), dtype=float32), dense_shape=tf.Tensor([3 4], shape=(2,), dtype=int64))\n"
     ]
    }
   ],
   "source": [
    "s5=tf.SparseTensor(indices=[[0,2],[2,3],[0,1]],values=[1.,2.,3.],dense_shape=[3,4])\n",
    "print(s5)"
   ]
  },
  {
   "cell_type": "code",
   "execution_count": 63,
   "id": "443df7f5",
   "metadata": {},
   "outputs": [
    {
     "ename": "InvalidArgumentError",
     "evalue": "indices[2] = [0,1] is out of order. Many sparse ops require sorted indices.\n    Use `tf.sparse.reorder` to create a correctly ordered copy.\n\n [Op:SparseToDense]",
     "output_type": "error",
     "traceback": [
      "\u001b[1;31m---------------------------------------------------------------------------\u001b[0m",
      "\u001b[1;31mInvalidArgumentError\u001b[0m                      Traceback (most recent call last)",
      "\u001b[1;32m~\\AppData\\Local\\Temp/ipykernel_13044/2703589346.py\u001b[0m in \u001b[0;36m<module>\u001b[1;34m\u001b[0m\n\u001b[1;32m----> 1\u001b[1;33m \u001b[0mtf\u001b[0m\u001b[1;33m.\u001b[0m\u001b[0msparse\u001b[0m\u001b[1;33m.\u001b[0m\u001b[0mto_dense\u001b[0m\u001b[1;33m(\u001b[0m\u001b[0ms5\u001b[0m\u001b[1;33m)\u001b[0m\u001b[1;33m\u001b[0m\u001b[1;33m\u001b[0m\u001b[0m\n\u001b[0m",
      "\u001b[1;32m~\\anaconda3\\lib\\site-packages\\tensorflow\\python\\ops\\sparse_ops.py\u001b[0m in \u001b[0;36msparse_tensor_to_dense\u001b[1;34m(sp_input, default_value, validate_indices, name)\u001b[0m\n\u001b[0;32m   1709\u001b[0m     \u001b[0mdefault_value\u001b[0m \u001b[1;33m=\u001b[0m \u001b[0marray_ops\u001b[0m\u001b[1;33m.\u001b[0m\u001b[0mzeros\u001b[0m\u001b[1;33m(\u001b[0m\u001b[1;33m[\u001b[0m\u001b[1;33m]\u001b[0m\u001b[1;33m,\u001b[0m \u001b[0mdtype\u001b[0m\u001b[1;33m=\u001b[0m\u001b[0msp_input\u001b[0m\u001b[1;33m.\u001b[0m\u001b[0mdtype\u001b[0m\u001b[1;33m)\u001b[0m\u001b[1;33m\u001b[0m\u001b[1;33m\u001b[0m\u001b[0m\n\u001b[0;32m   1710\u001b[0m \u001b[1;33m\u001b[0m\u001b[0m\n\u001b[1;32m-> 1711\u001b[1;33m   return gen_sparse_ops.sparse_to_dense(\n\u001b[0m\u001b[0;32m   1712\u001b[0m       \u001b[0msp_input\u001b[0m\u001b[1;33m.\u001b[0m\u001b[0mindices\u001b[0m\u001b[1;33m,\u001b[0m\u001b[1;33m\u001b[0m\u001b[1;33m\u001b[0m\u001b[0m\n\u001b[0;32m   1713\u001b[0m       \u001b[0msp_input\u001b[0m\u001b[1;33m.\u001b[0m\u001b[0mdense_shape\u001b[0m\u001b[1;33m,\u001b[0m\u001b[1;33m\u001b[0m\u001b[1;33m\u001b[0m\u001b[0m\n",
      "\u001b[1;32m~\\anaconda3\\lib\\site-packages\\tensorflow\\python\\ops\\gen_sparse_ops.py\u001b[0m in \u001b[0;36msparse_to_dense\u001b[1;34m(sparse_indices, output_shape, sparse_values, default_value, validate_indices, name)\u001b[0m\n\u001b[0;32m   3159\u001b[0m       \u001b[1;32mreturn\u001b[0m \u001b[0m_result\u001b[0m\u001b[1;33m\u001b[0m\u001b[1;33m\u001b[0m\u001b[0m\n\u001b[0;32m   3160\u001b[0m     \u001b[1;32mexcept\u001b[0m \u001b[0m_core\u001b[0m\u001b[1;33m.\u001b[0m\u001b[0m_NotOkStatusException\u001b[0m \u001b[1;32mas\u001b[0m \u001b[0me\u001b[0m\u001b[1;33m:\u001b[0m\u001b[1;33m\u001b[0m\u001b[1;33m\u001b[0m\u001b[0m\n\u001b[1;32m-> 3161\u001b[1;33m       \u001b[0m_ops\u001b[0m\u001b[1;33m.\u001b[0m\u001b[0mraise_from_not_ok_status\u001b[0m\u001b[1;33m(\u001b[0m\u001b[0me\u001b[0m\u001b[1;33m,\u001b[0m \u001b[0mname\u001b[0m\u001b[1;33m)\u001b[0m\u001b[1;33m\u001b[0m\u001b[1;33m\u001b[0m\u001b[0m\n\u001b[0m\u001b[0;32m   3162\u001b[0m     \u001b[1;32mexcept\u001b[0m \u001b[0m_core\u001b[0m\u001b[1;33m.\u001b[0m\u001b[0m_FallbackException\u001b[0m\u001b[1;33m:\u001b[0m\u001b[1;33m\u001b[0m\u001b[1;33m\u001b[0m\u001b[0m\n\u001b[0;32m   3163\u001b[0m       \u001b[1;32mpass\u001b[0m\u001b[1;33m\u001b[0m\u001b[1;33m\u001b[0m\u001b[0m\n",
      "\u001b[1;32m~\\anaconda3\\lib\\site-packages\\tensorflow\\python\\framework\\ops.py\u001b[0m in \u001b[0;36mraise_from_not_ok_status\u001b[1;34m(e, name)\u001b[0m\n\u001b[0;32m   7162\u001b[0m \u001b[1;32mdef\u001b[0m \u001b[0mraise_from_not_ok_status\u001b[0m\u001b[1;33m(\u001b[0m\u001b[0me\u001b[0m\u001b[1;33m,\u001b[0m \u001b[0mname\u001b[0m\u001b[1;33m)\u001b[0m\u001b[1;33m:\u001b[0m\u001b[1;33m\u001b[0m\u001b[1;33m\u001b[0m\u001b[0m\n\u001b[0;32m   7163\u001b[0m   \u001b[0me\u001b[0m\u001b[1;33m.\u001b[0m\u001b[0mmessage\u001b[0m \u001b[1;33m+=\u001b[0m \u001b[1;33m(\u001b[0m\u001b[1;34m\" name: \"\u001b[0m \u001b[1;33m+\u001b[0m \u001b[0mname\u001b[0m \u001b[1;32mif\u001b[0m \u001b[0mname\u001b[0m \u001b[1;32mis\u001b[0m \u001b[1;32mnot\u001b[0m \u001b[1;32mNone\u001b[0m \u001b[1;32melse\u001b[0m \u001b[1;34m\"\"\u001b[0m\u001b[1;33m)\u001b[0m\u001b[1;33m\u001b[0m\u001b[1;33m\u001b[0m\u001b[0m\n\u001b[1;32m-> 7164\u001b[1;33m   \u001b[1;32mraise\u001b[0m \u001b[0mcore\u001b[0m\u001b[1;33m.\u001b[0m\u001b[0m_status_to_exception\u001b[0m\u001b[1;33m(\u001b[0m\u001b[0me\u001b[0m\u001b[1;33m)\u001b[0m \u001b[1;32mfrom\u001b[0m \u001b[1;32mNone\u001b[0m  \u001b[1;31m# pylint: disable=protected-access\u001b[0m\u001b[1;33m\u001b[0m\u001b[1;33m\u001b[0m\u001b[0m\n\u001b[0m\u001b[0;32m   7165\u001b[0m \u001b[1;33m\u001b[0m\u001b[0m\n\u001b[0;32m   7166\u001b[0m \u001b[1;33m\u001b[0m\u001b[0m\n",
      "\u001b[1;31mInvalidArgumentError\u001b[0m: indices[2] = [0,1] is out of order. Many sparse ops require sorted indices.\n    Use `tf.sparse.reorder` to create a correctly ordered copy.\n\n [Op:SparseToDense]"
     ]
    }
   ],
   "source": [
    "tf.sparse.to_dense(s5)"
   ]
  },
  {
   "cell_type": "code",
   "execution_count": 65,
   "id": "fcf840e8",
   "metadata": {},
   "outputs": [
    {
     "data": {
      "text/plain": [
       "<tf.Tensor: shape=(3, 4), dtype=float32, numpy=\n",
       "array([[0., 3., 1., 0.],\n",
       "       [0., 0., 0., 0.],\n",
       "       [0., 0., 0., 2.]], dtype=float32)>"
      ]
     },
     "execution_count": 65,
     "metadata": {},
     "output_type": "execute_result"
    }
   ],
   "source": [
    "s6=tf.sparse.reorder(s5)\n",
    "tf.sparse.to_dense(s6)\n"
   ]
  },
  {
   "cell_type": "code",
   "execution_count": 67,
   "id": "d4d0ea8b",
   "metadata": {},
   "outputs": [
    {
     "data": {
      "text/plain": [
       "<tf.Variable 'Variable:0' shape=(2, 3) dtype=float32, numpy=\n",
       "array([[1., 2., 3.],\n",
       "       [4., 5., 6.]], dtype=float32)>"
      ]
     },
     "execution_count": 67,
     "metadata": {},
     "output_type": "execute_result"
    }
   ],
   "source": [
    "v=tf.Variable([[1.,2.,3.],[4.,5.,6.]])\n",
    "v"
   ]
  },
  {
   "cell_type": "code",
   "execution_count": 68,
   "id": "c43a418c",
   "metadata": {},
   "outputs": [
    {
     "data": {
      "text/plain": [
       "tensorflow.python.ops.resource_variable_ops.ResourceVariable"
      ]
     },
     "execution_count": 68,
     "metadata": {},
     "output_type": "execute_result"
    }
   ],
   "source": [
    "type(v)"
   ]
  },
  {
   "cell_type": "code",
   "execution_count": 69,
   "id": "d11108cd",
   "metadata": {},
   "outputs": [
    {
     "data": {
      "text/plain": [
       "<tf.Tensor: shape=(2, 3), dtype=float32, numpy=\n",
       "array([[1., 2., 3.],\n",
       "       [4., 5., 6.]], dtype=float32)>"
      ]
     },
     "execution_count": 69,
     "metadata": {},
     "output_type": "execute_result"
    }
   ],
   "source": [
    "v.value()"
   ]
  },
  {
   "cell_type": "code",
   "execution_count": 70,
   "id": "5e2c65d3",
   "metadata": {},
   "outputs": [
    {
     "data": {
      "text/plain": [
       "array([[1., 2., 3.],\n",
       "       [4., 5., 6.]], dtype=float32)"
      ]
     },
     "execution_count": 70,
     "metadata": {},
     "output_type": "execute_result"
    }
   ],
   "source": [
    "v.numpy()"
   ]
  },
  {
   "cell_type": "code",
   "execution_count": 71,
   "id": "66df0ec4",
   "metadata": {},
   "outputs": [
    {
     "data": {
      "text/plain": [
       "2435510949776"
      ]
     },
     "execution_count": 71,
     "metadata": {},
     "output_type": "execute_result"
    }
   ],
   "source": [
    "id(v)"
   ]
  },
  {
   "cell_type": "code",
   "execution_count": 72,
   "id": "f06c1a8b",
   "metadata": {},
   "outputs": [
    {
     "data": {
      "text/plain": [
       "<tf.Variable 'Variable:0' shape=(2, 3) dtype=float32, numpy=\n",
       "array([[ 2.,  4.,  6.],\n",
       "       [ 8., 10., 12.]], dtype=float32)>"
      ]
     },
     "execution_count": 72,
     "metadata": {},
     "output_type": "execute_result"
    }
   ],
   "source": [
    "v.assign(2*v)\n",
    "v"
   ]
  },
  {
   "cell_type": "code",
   "execution_count": 73,
   "id": "05c6c0de",
   "metadata": {},
   "outputs": [
    {
     "data": {
      "text/plain": [
       "2435510949776"
      ]
     },
     "execution_count": 73,
     "metadata": {},
     "output_type": "execute_result"
    }
   ],
   "source": [
    "id(v)"
   ]
  },
  {
   "cell_type": "code",
   "execution_count": 74,
   "id": "4b8372ad",
   "metadata": {},
   "outputs": [
    {
     "data": {
      "text/plain": [
       "<tf.Variable 'Variable:0' shape=(2, 3) dtype=float32, numpy=\n",
       "array([[ 2., 42.,  6.],\n",
       "       [ 8., 10., 12.]], dtype=float32)>"
      ]
     },
     "execution_count": 74,
     "metadata": {},
     "output_type": "execute_result"
    }
   ],
   "source": [
    "v[0,1].assign(42)\n",
    "v"
   ]
  },
  {
   "cell_type": "code",
   "execution_count": 75,
   "id": "8acd56d6",
   "metadata": {},
   "outputs": [
    {
     "data": {
      "text/plain": [
       "<tf.Variable 'Variable:0' shape=(2, 3) dtype=float32, numpy=\n",
       "array([[ 2., 42.,  6.],\n",
       "       [ 7.,  8.,  9.]], dtype=float32)>"
      ]
     },
     "execution_count": 75,
     "metadata": {},
     "output_type": "execute_result"
    }
   ],
   "source": [
    "v[1].assign([7.,8.,9.])\n",
    "v"
   ]
  },
  {
   "cell_type": "code",
   "execution_count": 76,
   "id": "e5de7548",
   "metadata": {},
   "outputs": [
    {
     "data": {
      "text/plain": [
       "2435510949776"
      ]
     },
     "execution_count": 76,
     "metadata": {},
     "output_type": "execute_result"
    }
   ],
   "source": [
    "id(v)"
   ]
  },
  {
   "cell_type": "code",
   "execution_count": 77,
   "id": "25874951",
   "metadata": {},
   "outputs": [
    {
     "ename": "TypeError",
     "evalue": "'ResourceVariable' object does not support item assignment",
     "output_type": "error",
     "traceback": [
      "\u001b[1;31m---------------------------------------------------------------------------\u001b[0m",
      "\u001b[1;31mTypeError\u001b[0m                                 Traceback (most recent call last)",
      "\u001b[1;32m~\\AppData\\Local\\Temp/ipykernel_13044/3724746089.py\u001b[0m in \u001b[0;36m<module>\u001b[1;34m\u001b[0m\n\u001b[1;32m----> 1\u001b[1;33m \u001b[0mv\u001b[0m\u001b[1;33m[\u001b[0m\u001b[1;36m0\u001b[0m\u001b[1;33m,\u001b[0m\u001b[1;36m1\u001b[0m\u001b[1;33m]\u001b[0m\u001b[1;33m=\u001b[0m\u001b[1;36m4\u001b[0m\u001b[1;33m\u001b[0m\u001b[1;33m\u001b[0m\u001b[0m\n\u001b[0m\u001b[0;32m      2\u001b[0m \u001b[0mv\u001b[0m\u001b[1;33m\u001b[0m\u001b[1;33m\u001b[0m\u001b[0m\n",
      "\u001b[1;31mTypeError\u001b[0m: 'ResourceVariable' object does not support item assignment"
     ]
    }
   ],
   "source": [
    "v[0,1]=4\n",
    "v"
   ]
  },
  {
   "cell_type": "code",
   "execution_count": 78,
   "id": "db8958bb",
   "metadata": {},
   "outputs": [
    {
     "data": {
      "text/plain": [
       "2435512867824"
      ]
     },
     "execution_count": 78,
     "metadata": {},
     "output_type": "execute_result"
    }
   ],
   "source": [
    "v=2*v\n",
    "id(v)"
   ]
  },
  {
   "cell_type": "code",
   "execution_count": 79,
   "id": "538652d4",
   "metadata": {},
   "outputs": [
    {
     "data": {
      "text/plain": [
       "<tf.Tensor: shape=(2, 3), dtype=float32, numpy=\n",
       "array([[ 4., 84., 12.],\n",
       "       [14., 16., 18.]], dtype=float32)>"
      ]
     },
     "execution_count": 79,
     "metadata": {},
     "output_type": "execute_result"
    }
   ],
   "source": [
    "v"
   ]
  },
  {
   "cell_type": "code",
   "execution_count": 81,
   "id": "d52b6acd",
   "metadata": {},
   "outputs": [
    {
     "data": {
      "text/plain": [
       "<tf.Tensor: shape=(2,), dtype=float32, numpy=array([1.5, 3.5], dtype=float32)>"
      ]
     },
     "execution_count": 81,
     "metadata": {},
     "output_type": "execute_result"
    }
   ],
   "source": [
    "x=tf.constant([[1.,2.],[3.,4.]])\n",
    "tf.reduce_mean(x,axis=1)\n"
   ]
  },
  {
   "cell_type": "code",
   "execution_count": 82,
   "id": "dcce27ce",
   "metadata": {},
   "outputs": [
    {
     "data": {
      "text/plain": [
       "<tf.Tensor: shape=(2,), dtype=float32, numpy=array([2., 3.], dtype=float32)>"
      ]
     },
     "execution_count": 82,
     "metadata": {},
     "output_type": "execute_result"
    }
   ],
   "source": [
    "tf.reduce_mean(x,axis=0)"
   ]
  },
  {
   "cell_type": "code",
   "execution_count": 84,
   "id": "2b66a943",
   "metadata": {},
   "outputs": [],
   "source": [
    "from sklearn.datasets import fetch_california_housing\n",
    "from sklearn.model_selection import train_test_split\n",
    "housing=fetch_california_housing()\n",
    "x_train_all,x_test,y_train_all,y_test=train_test_split(housing.data,housing.target,random_state=7)\n",
    "x_train,x_valid,y_train,y_valid=train_test_split(x_train_all,y_train_all,random_state=11)\n"
   ]
  },
  {
   "cell_type": "code",
   "execution_count": 85,
   "id": "211d0145",
   "metadata": {},
   "outputs": [],
   "source": [
    "from sklearn.preprocessing import StandardScaler\n",
    "scaler=StandardScaler()\n",
    "x_train_scaled=scaler.fit_transform(x_train)\n",
    "x_valid_scaled=scaler.transform(x_valid)\n",
    "x_test_scaled=scaler.transform(x_test)"
   ]
  },
  {
   "cell_type": "code",
   "execution_count": 91,
   "id": "334cd347",
   "metadata": {},
   "outputs": [],
   "source": [
    "def customized_mse(y_true,y_pred):\n",
    "    #reduce_mean func turn the vector into its average num\n",
    "    return tf.reduce_mean(tf.square(y_pred-y_true))"
   ]
  },
  {
   "cell_type": "code",
   "execution_count": 92,
   "id": "8e63e5b3",
   "metadata": {},
   "outputs": [
    {
     "name": "stdout",
     "output_type": "stream",
     "text": [
      "Epoch 1/100\n",
      "363/363 [==============================] - 2s 3ms/step - loss: 1.0041 - mse: 1.0041 - val_loss: 0.6309 - val_mse: 0.6309\n",
      "Epoch 2/100\n",
      "363/363 [==============================] - 1s 2ms/step - loss: 0.6349 - mse: 0.6349 - val_loss: 0.4908 - val_mse: 0.4908\n",
      "Epoch 3/100\n",
      "363/363 [==============================] - 1s 2ms/step - loss: 0.4409 - mse: 0.4409 - val_loss: 0.4491 - val_mse: 0.4491\n",
      "Epoch 4/100\n",
      "363/363 [==============================] - 1s 2ms/step - loss: 0.4215 - mse: 0.4215 - val_loss: 0.4341 - val_mse: 0.4341\n",
      "Epoch 5/100\n",
      "363/363 [==============================] - 1s 2ms/step - loss: 0.4088 - mse: 0.4088 - val_loss: 0.4179 - val_mse: 0.4179\n",
      "Epoch 6/100\n",
      "363/363 [==============================] - 1s 2ms/step - loss: 0.4000 - mse: 0.4000 - val_loss: 0.4130 - val_mse: 0.4130\n",
      "Epoch 7/100\n",
      "363/363 [==============================] - 1s 2ms/step - loss: 0.4001 - mse: 0.4001 - val_loss: 0.4107 - val_mse: 0.4107\n",
      "Epoch 8/100\n",
      "363/363 [==============================] - 1s 3ms/step - loss: 0.3925 - mse: 0.3925 - val_loss: 0.4048 - val_mse: 0.4048\n",
      "Epoch 9/100\n",
      "363/363 [==============================] - 1s 2ms/step - loss: 0.3866 - mse: 0.3866 - val_loss: 0.3994 - val_mse: 0.3994\n",
      "Epoch 10/100\n",
      "363/363 [==============================] - 1s 2ms/step - loss: 0.3847 - mse: 0.3847 - val_loss: 0.3973 - val_mse: 0.3973\n",
      "Epoch 11/100\n",
      "363/363 [==============================] - 1s 2ms/step - loss: 0.3870 - mse: 0.3870 - val_loss: 0.3931 - val_mse: 0.3931\n",
      "Epoch 12/100\n",
      "363/363 [==============================] - 1s 2ms/step - loss: 0.3814 - mse: 0.3814 - val_loss: 0.3918 - val_mse: 0.3918\n",
      "Epoch 13/100\n",
      "363/363 [==============================] - 1s 2ms/step - loss: 0.3772 - mse: 0.3772 - val_loss: 0.3867 - val_mse: 0.3867\n",
      "Epoch 14/100\n",
      "363/363 [==============================] - 1s 2ms/step - loss: 0.3751 - mse: 0.3751 - val_loss: 0.3859 - val_mse: 0.3859\n",
      "Epoch 15/100\n",
      "363/363 [==============================] - 1s 2ms/step - loss: 0.3732 - mse: 0.3732 - val_loss: 0.3775 - val_mse: 0.3775\n",
      "Epoch 16/100\n",
      "363/363 [==============================] - 1s 2ms/step - loss: 0.3710 - mse: 0.3710 - val_loss: 0.3807 - val_mse: 0.3807\n",
      "Epoch 17/100\n",
      "363/363 [==============================] - 1s 2ms/step - loss: 0.3704 - mse: 0.3704 - val_loss: 0.3799 - val_mse: 0.3799\n",
      "Epoch 18/100\n",
      "363/363 [==============================] - 1s 2ms/step - loss: 0.3691 - mse: 0.3691 - val_loss: 0.3740 - val_mse: 0.3740\n",
      "Epoch 19/100\n",
      "363/363 [==============================] - 1s 2ms/step - loss: 0.3663 - mse: 0.3663 - val_loss: 0.3735 - val_mse: 0.3735\n",
      "Epoch 20/100\n",
      "363/363 [==============================] - 1s 3ms/step - loss: 0.3669 - mse: 0.3669 - val_loss: 0.3707 - val_mse: 0.3707\n"
     ]
    }
   ],
   "source": [
    "model=keras.models.Sequential([keras.layers.Dense(30,activation='relu',input_shape=x_train.shape[1:]),keras.layers.Dense(1)])\n",
    "model.compile(loss=customized_mse,optimizer='sgd',metrics=['mse'])\n",
    "callbacks=[keras.callbacks.EarlyStopping(patience=5,min_delta=1e-2)]\n",
    "history=model.fit(x_train_scaled,y_train,validation_data=(x_valid_scaled,y_valid),epochs=100,callbacks=callbacks)\n"
   ]
  },
  {
   "cell_type": "code",
   "execution_count": 96,
   "id": "90c28fc3",
   "metadata": {},
   "outputs": [
    {
     "data": {
      "image/png": "[encoded data removed]",
      "text/plain": [
       "<Figure size 576x360 with 1 Axes>"
      ]
     },
     "metadata": {
      "needs_background": "light"
     },
     "output_type": "display_data"
    }
   ],
   "source": [
    "def plot_learning_curves(history):\n",
    "    pd.DataFrame(history.history).plot(figsize=(8,5))\n",
    "    plt.grid(True)\n",
    "    plt.gca().set_ylim(0,1)\n",
    "    plt.show()\n",
    "plot_learning_curves(history)"
   ]
  },
  {
   "cell_type": "code",
   "execution_count": 97,
   "id": "7d9d9352",
   "metadata": {},
   "outputs": [
    {
     "data": {
      "text/plain": [
       "[0.3802063465118408, 0.3802063465118408]"
      ]
     },
     "execution_count": 97,
     "metadata": {},
     "output_type": "execute_result"
    }
   ],
   "source": [
    "model.evaluate(x_test_scaled,y_test,verbose=0)"
   ]
  },
  {
   "cell_type": "code",
   "execution_count": 98,
   "id": "d3d3e628",
   "metadata": {},
   "outputs": [
    {
     "name": "stdout",
     "output_type": "stream",
     "text": [
      "Epoch 1/100\n",
      "363/363 [==============================] - 1s 3ms/step - loss: 1.5484 - accuracy: 0.0031 - val_loss: 0.6951 - val_accuracy: 0.0023\n",
      "Epoch 2/100\n",
      "363/363 [==============================] - 1s 3ms/step - loss: 0.5357 - accuracy: 0.0031 - val_loss: 0.5068 - val_accuracy: 0.0023\n",
      "Epoch 3/100\n",
      "363/363 [==============================] - 1s 2ms/step - loss: 0.4499 - accuracy: 0.0031 - val_loss: 0.4565 - val_accuracy: 0.0023\n",
      "Epoch 4/100\n",
      "363/363 [==============================] - 1s 2ms/step - loss: 0.4181 - accuracy: 0.0031 - val_loss: 0.4214 - val_accuracy: 0.0023\n",
      "Epoch 5/100\n",
      "363/363 [==============================] - 1s 2ms/step - loss: 0.4105 - accuracy: 0.0031 - val_loss: 0.4127 - val_accuracy: 0.0023\n",
      "Epoch 6/100\n",
      "363/363 [==============================] - 1s 2ms/step - loss: 0.4014 - accuracy: 0.0031 - val_loss: 0.3907 - val_accuracy: 0.0023\n",
      "Epoch 7/100\n",
      "363/363 [==============================] - 1s 2ms/step - loss: 0.3804 - accuracy: 0.0031 - val_loss: 0.3834 - val_accuracy: 0.0023\n",
      "Epoch 8/100\n",
      "363/363 [==============================] - 1s 2ms/step - loss: 0.3724 - accuracy: 0.0031 - val_loss: 0.3869 - val_accuracy: 0.0021\n",
      "Epoch 9/100\n",
      "363/363 [==============================] - 1s 2ms/step - loss: 0.3851 - accuracy: 0.0031 - val_loss: 0.4238 - val_accuracy: 0.0021\n",
      "Epoch 10/100\n",
      "363/363 [==============================] - 1s 2ms/step - loss: 0.3712 - accuracy: 0.0031 - val_loss: 0.5365 - val_accuracy: 0.0021\n",
      "Epoch 11/100\n",
      "363/363 [==============================] - 1s 2ms/step - loss: 0.3852 - accuracy: 0.0031 - val_loss: 0.3755 - val_accuracy: 0.0021\n",
      "Epoch 12/100\n",
      "363/363 [==============================] - 1s 2ms/step - loss: 0.3718 - accuracy: 0.0031 - val_loss: 0.3748 - val_accuracy: 0.0023\n",
      "Epoch 13/100\n",
      "363/363 [==============================] - 1s 2ms/step - loss: 0.3664 - accuracy: 0.0031 - val_loss: 0.3696 - val_accuracy: 0.0021\n",
      "Epoch 14/100\n",
      "363/363 [==============================] - 1s 2ms/step - loss: 0.3630 - accuracy: 0.0031 - val_loss: 0.3692 - val_accuracy: 0.0023\n",
      "Epoch 15/100\n",
      "363/363 [==============================] - 1s 2ms/step - loss: 0.3667 - accuracy: 0.0031 - val_loss: 0.3663 - val_accuracy: 0.0023\n",
      "Epoch 16/100\n",
      "363/363 [==============================] - 1s 2ms/step - loss: 0.3596 - accuracy: 0.0031 - val_loss: 0.3669 - val_accuracy: 0.0021\n"
     ]
    },
    {
     "data": {
      "image/png": "[encoded data removed]",
      "text/plain": [
       "<Figure size 576x360 with 1 Axes>"
      ]
     },
     "metadata": {
      "needs_background": "light"
     },
     "output_type": "display_data"
    }
   ],
   "source": [
    "model=keras.models.Sequential([keras.layers.Dense(30,activation='relu',input_shape=x_train.shape[1:]),keras.layers.Dense(1)])\n",
    "model.compile(loss=customized_mse,optimizer='sgd',metrics=['accuracy'])\n",
    "callbacks=[keras.callbacks.EarlyStopping(patience=5,min_delta=1e-2)]\n",
    "history=model.fit(x_train_scaled,y_train,validation_data=(x_valid_scaled,y_valid),epochs=100,callbacks=callbacks)\n",
    "plot_learning_curves(history)"
   ]
  },
  {
   "cell_type": "code",
   "execution_count": 99,
   "id": "6d3e93d2",
   "metadata": {},
   "outputs": [
    {
     "data": {
      "text/plain": [
       "[0.37509769201278687, 0.0032945736311376095]"
      ]
     },
     "execution_count": 99,
     "metadata": {},
     "output_type": "execute_result"
    }
   ],
   "source": [
    "model.evaluate(x_test_scaled,y_test,verbose=0)"
   ]
  },
  {
   "cell_type": "code",
   "execution_count": 100,
   "id": "59d7ecd0",
   "metadata": {},
   "outputs": [
    {
     "name": "stdout",
     "output_type": "stream",
     "text": [
      "<class 'keras.layers.core.dense.Dense'>\n"
     ]
    }
   ],
   "source": [
    "layer=tf.keras.layers.Dense(100,input_shape=(None,5))\n",
    "print(type(layer))"
   ]
  },
  {
   "cell_type": "code",
   "execution_count": 101,
   "id": "a3de404d",
   "metadata": {},
   "outputs": [
    {
     "data": {
      "text/plain": [
       "<tf.Tensor: shape=(10, 100), dtype=float32, numpy=\n",
       "array([[-0.36676472, -0.20198646,  0.03396976,  0.0205608 ,  0.02275743,\n",
       "         0.37340516, -0.3962965 , -0.14960435,  0.13771719, -0.22414507,\n",
       "         0.06590635, -0.12520967, -0.28632298, -0.03254201, -0.25873917,\n",
       "        -0.3983692 , -0.28942162,  0.3751254 , -0.28385526,  0.48155618,\n",
       "        -0.31643325, -0.18245442,  0.43680704,  0.19753936,  0.21941617,\n",
       "        -0.40689802, -0.4212563 ,  0.12711805, -0.27807474, -0.00829698,\n",
       "        -0.02418983, -0.05296287, -0.43273532,  0.24109766, -0.14811684,\n",
       "         0.1364979 ,  0.38248014, -0.3308938 ,  0.15191506,  0.2827758 ,\n",
       "        -0.24942501, -0.19823882,  0.11956617,  0.29086983, -0.04199186,\n",
       "         0.22925203, -0.26852816, -0.05021507,  0.57352394, -0.3898821 ,\n",
       "        -0.04785599, -0.11154595,  0.13377254,  0.07541512, -0.13169925,\n",
       "        -0.15097842, -0.41231573, -0.13679068, -0.4344393 , -0.35372186,\n",
       "         0.12510626, -0.28661382, -0.31162566,  0.12949367, -0.03338529,\n",
       "        -0.11197954, -0.13514186,  0.05912538,  0.3552929 ,  0.43493152,\n",
       "        -0.03647649, -0.01222363, -0.0253886 , -0.4726957 , -0.24359973,\n",
       "        -0.09678711, -0.58652043,  0.12525329, -0.22454141, -0.21680325,\n",
       "        -0.34622842, -0.00169764, -0.24413486, -0.11595623, -0.05646358,\n",
       "         0.3183775 ,  0.11586896,  0.02890106, -0.29993677,  0.26715773,\n",
       "        -0.3185297 , -0.19345963, -0.20443578,  0.2817031 , -0.06877898,\n",
       "         0.14294353,  0.18174607,  0.0315645 ,  0.14021982, -0.11399128],\n",
       "       [-0.36676472, -0.20198646,  0.03396976,  0.0205608 ,  0.02275743,\n",
       "         0.37340516, -0.3962965 , -0.14960435,  0.13771719, -0.22414507,\n",
       "         0.06590635, -0.12520967, -0.28632298, -0.03254201, -0.25873917,\n",
       "        -0.3983692 , -0.28942162,  0.3751254 , -0.28385526,  0.48155618,\n",
       "        -0.31643325, -0.18245442,  0.43680704,  0.19753936,  0.21941617,\n",
       "        -0.40689802, -0.4212563 ,  0.12711805, -0.27807474, -0.00829698,\n",
       "        -0.02418983, -0.05296287, -0.43273532,  0.24109766, -0.14811684,\n",
       "         0.1364979 ,  0.38248014, -0.3308938 ,  0.15191506,  0.2827758 ,\n",
       "        -0.24942501, -0.19823882,  0.11956617,  0.29086983, -0.04199186,\n",
       "         0.22925203, -0.26852816, -0.05021507,  0.57352394, -0.3898821 ,\n",
       "        -0.04785599, -0.11154595,  0.13377254,  0.07541512, -0.13169925,\n",
       "        -0.15097842, -0.41231573, -0.13679068, -0.4344393 , -0.35372186,\n",
       "         0.12510626, -0.28661382, -0.31162566,  0.12949367, -0.03338529,\n",
       "        -0.11197954, -0.13514186,  0.05912538,  0.3552929 ,  0.43493152,\n",
       "        -0.03647649, -0.01222363, -0.0253886 , -0.4726957 , -0.24359973,\n",
       "        -0.09678711, -0.58652043,  0.12525329, -0.22454141, -0.21680325,\n",
       "        -0.34622842, -0.00169764, -0.24413486, -0.11595623, -0.05646358,\n",
       "         0.3183775 ,  0.11586896,  0.02890106, -0.29993677,  0.26715773,\n",
       "        -0.3185297 , -0.19345963, -0.20443578,  0.2817031 , -0.06877898,\n",
       "         0.14294353,  0.18174607,  0.0315645 ,  0.14021982, -0.11399128],\n",
       "       [-0.36676472, -0.20198646,  0.03396976,  0.0205608 ,  0.02275743,\n",
       "         0.37340516, -0.3962965 , -0.14960435,  0.13771719, -0.22414507,\n",
       "         0.06590635, -0.12520967, -0.28632298, -0.03254201, -0.25873917,\n",
       "        -0.3983692 , -0.28942162,  0.3751254 , -0.28385526,  0.48155618,\n",
       "        -0.31643325, -0.18245442,  0.43680704,  0.19753936,  0.21941617,\n",
       "        -0.40689802, -0.4212563 ,  0.12711805, -0.27807474, -0.00829698,\n",
       "        -0.02418983, -0.05296287, -0.43273532,  0.24109766, -0.14811684,\n",
       "         0.1364979 ,  0.38248014, -0.3308938 ,  0.15191506,  0.2827758 ,\n",
       "        -0.24942501, -0.19823882,  0.11956617,  0.29086983, -0.04199186,\n",
       "         0.22925203, -0.26852816, -0.05021507,  0.57352394, -0.3898821 ,\n",
       "        -0.04785599, -0.11154595,  0.13377254,  0.07541512, -0.13169925,\n",
       "        -0.15097842, -0.41231573, -0.13679068, -0.4344393 , -0.35372186,\n",
       "         0.12510626, -0.28661382, -0.31162566,  0.12949367, -0.03338529,\n",
       "        -0.11197954, -0.13514186,  0.05912538,  0.3552929 ,  0.43493152,\n",
       "        -0.03647649, -0.01222363, -0.0253886 , -0.4726957 , -0.24359973,\n",
       "        -0.09678711, -0.58652043,  0.12525329, -0.22454141, -0.21680325,\n",
       "        -0.34622842, -0.00169764, -0.24413486, -0.11595623, -0.05646358,\n",
       "         0.3183775 ,  0.11586896,  0.02890106, -0.29993677,  0.26715773,\n",
       "        -0.3185297 , -0.19345963, -0.20443578,  0.2817031 , -0.06877898,\n",
       "         0.14294353,  0.18174607,  0.0315645 ,  0.14021982, -0.11399128],\n",
       "       [-0.36676472, -0.20198646,  0.03396976,  0.0205608 ,  0.02275743,\n",
       "         0.37340516, -0.3962965 , -0.14960435,  0.13771719, -0.22414507,\n",
       "         0.06590635, -0.12520967, -0.28632298, -0.03254201, -0.25873917,\n",
       "        -0.3983692 , -0.28942162,  0.3751254 , -0.28385526,  0.48155618,\n",
       "        -0.31643325, -0.18245442,  0.43680704,  0.19753936,  0.21941617,\n",
       "        -0.40689802, -0.4212563 ,  0.12711805, -0.27807474, -0.00829698,\n",
       "        -0.02418983, -0.05296287, -0.43273532,  0.24109766, -0.14811684,\n",
       "         0.1364979 ,  0.38248014, -0.3308938 ,  0.15191506,  0.2827758 ,\n",
       "        -0.24942501, -0.19823882,  0.11956617,  0.29086983, -0.04199186,\n",
       "         0.22925203, -0.26852816, -0.05021507,  0.57352394, -0.3898821 ,\n",
       "        -0.04785599, -0.11154595,  0.13377254,  0.07541512, -0.13169925,\n",
       "        -0.15097842, -0.41231573, -0.13679068, -0.4344393 , -0.35372186,\n",
       "         0.12510626, -0.28661382, -0.31162566,  0.12949367, -0.03338529,\n",
       "        -0.11197954, -0.13514186,  0.05912538,  0.3552929 ,  0.43493152,\n",
       "        -0.03647649, -0.01222363, -0.0253886 , -0.4726957 , -0.24359973,\n",
       "        -0.09678711, -0.58652043,  0.12525329, -0.22454141, -0.21680325,\n",
       "        -0.34622842, -0.00169764, -0.24413486, -0.11595623, -0.05646358,\n",
       "         0.3183775 ,  0.11586896,  0.02890106, -0.29993677,  0.26715773,\n",
       "        -0.3185297 , -0.19345963, -0.20443578,  0.2817031 , -0.06877898,\n",
       "         0.14294353,  0.18174607,  0.0315645 ,  0.14021982, -0.11399128],\n",
       "       [-0.36676472, -0.20198646,  0.03396976,  0.0205608 ,  0.02275743,\n",
       "         0.37340516, -0.3962965 , -0.14960435,  0.13771719, -0.22414507,\n",
       "         0.06590635, -0.12520967, -0.28632298, -0.03254201, -0.25873917,\n",
       "        -0.3983692 , -0.28942162,  0.3751254 , -0.28385526,  0.48155618,\n",
       "        -0.31643325, -0.18245442,  0.43680704,  0.19753936,  0.21941617,\n",
       "        -0.40689802, -0.4212563 ,  0.12711805, -0.27807474, -0.00829698,\n",
       "        -0.02418983, -0.05296287, -0.43273532,  0.24109766, -0.14811684,\n",
       "         0.1364979 ,  0.38248014, -0.3308938 ,  0.15191506,  0.2827758 ,\n",
       "        -0.24942501, -0.19823882,  0.11956617,  0.29086983, -0.04199186,\n",
       "         0.22925203, -0.26852816, -0.05021507,  0.57352394, -0.3898821 ,\n",
       "        -0.04785599, -0.11154595,  0.13377254,  0.07541512, -0.13169925,\n",
       "        -0.15097842, -0.41231573, -0.13679068, -0.4344393 , -0.35372186,\n",
       "         0.12510626, -0.28661382, -0.31162566,  0.12949367, -0.03338529,\n",
       "        -0.11197954, -0.13514186,  0.05912538,  0.3552929 ,  0.43493152,\n",
       "        -0.03647649, -0.01222363, -0.0253886 , -0.4726957 , -0.24359973,\n",
       "        -0.09678711, -0.58652043,  0.12525329, -0.22454141, -0.21680325,\n",
       "        -0.34622842, -0.00169764, -0.24413486, -0.11595623, -0.05646358,\n",
       "         0.3183775 ,  0.11586896,  0.02890106, -0.29993677,  0.26715773,\n",
       "        -0.3185297 , -0.19345963, -0.20443578,  0.2817031 , -0.06877898,\n",
       "         0.14294353,  0.18174607,  0.0315645 ,  0.14021982, -0.11399128],\n",
       "       [-0.36676472, -0.20198646,  0.03396976,  0.0205608 ,  0.02275743,\n",
       "         0.37340516, -0.3962965 , -0.14960435,  0.13771719, -0.22414507,\n",
       "         0.06590635, -0.12520967, -0.28632298, -0.03254201, -0.25873917,\n",
       "        -0.3983692 , -0.28942162,  0.3751254 , -0.28385526,  0.48155618,\n",
       "        -0.31643325, -0.18245442,  0.43680704,  0.19753936,  0.21941617,\n",
       "        -0.40689802, -0.4212563 ,  0.12711805, -0.27807474, -0.00829698,\n",
       "        -0.02418983, -0.05296287, -0.43273532,  0.24109766, -0.14811684,\n",
       "         0.1364979 ,  0.38248014, -0.3308938 ,  0.15191506,  0.2827758 ,\n",
       "        -0.24942501, -0.19823882,  0.11956617,  0.29086983, -0.04199186,\n",
       "         0.22925203, -0.26852816, -0.05021507,  0.57352394, -0.3898821 ,\n",
       "        -0.04785599, -0.11154595,  0.13377254,  0.07541512, -0.13169925,\n",
       "        -0.15097842, -0.41231573, -0.13679068, -0.4344393 , -0.35372186,\n",
       "         0.12510626, -0.28661382, -0.31162566,  0.12949367, -0.03338529,\n",
       "        -0.11197954, -0.13514186,  0.05912538,  0.3552929 ,  0.43493152,\n",
       "        -0.03647649, -0.01222363, -0.0253886 , -0.4726957 , -0.24359973,\n",
       "        -0.09678711, -0.58652043,  0.12525329, -0.22454141, -0.21680325,\n",
       "        -0.34622842, -0.00169764, -0.24413486, -0.11595623, -0.05646358,\n",
       "         0.3183775 ,  0.11586896,  0.02890106, -0.29993677,  0.26715773,\n",
       "        -0.3185297 , -0.19345963, -0.20443578,  0.2817031 , -0.06877898,\n",
       "         0.14294353,  0.18174607,  0.0315645 ,  0.14021982, -0.11399128],\n",
       "       [-0.36676472, -0.20198646,  0.03396976,  0.0205608 ,  0.02275743,\n",
       "         0.37340516, -0.3962965 , -0.14960435,  0.13771719, -0.22414507,\n",
       "         0.06590635, -0.12520967, -0.28632298, -0.03254201, -0.25873917,\n",
       "        -0.3983692 , -0.28942162,  0.3751254 , -0.28385526,  0.48155618,\n",
       "        -0.31643325, -0.18245442,  0.43680704,  0.19753936,  0.21941617,\n",
       "        -0.40689802, -0.4212563 ,  0.12711805, -0.27807474, -0.00829698,\n",
       "        -0.02418983, -0.05296287, -0.43273532,  0.24109766, -0.14811684,\n",
       "         0.1364979 ,  0.38248014, -0.3308938 ,  0.15191506,  0.2827758 ,\n",
       "        -0.24942501, -0.19823882,  0.11956617,  0.29086983, -0.04199186,\n",
       "         0.22925203, -0.26852816, -0.05021507,  0.57352394, -0.3898821 ,\n",
       "        -0.04785599, -0.11154595,  0.13377254,  0.07541512, -0.13169925,\n",
       "        -0.15097842, -0.41231573, -0.13679068, -0.4344393 , -0.35372186,\n",
       "         0.12510626, -0.28661382, -0.31162566,  0.12949367, -0.03338529,\n",
       "        -0.11197954, -0.13514186,  0.05912538,  0.3552929 ,  0.43493152,\n",
       "        -0.03647649, -0.01222363, -0.0253886 , -0.4726957 , -0.24359973,\n",
       "        -0.09678711, -0.58652043,  0.12525329, -0.22454141, -0.21680325,\n",
       "        -0.34622842, -0.00169764, -0.24413486, -0.11595623, -0.05646358,\n",
       "         0.3183775 ,  0.11586896,  0.02890106, -0.29993677,  0.26715773,\n",
       "        -0.3185297 , -0.19345963, -0.20443578,  0.2817031 , -0.06877898,\n",
       "         0.14294353,  0.18174607,  0.0315645 ,  0.14021982, -0.11399128],\n",
       "       [-0.36676472, -0.20198646,  0.03396976,  0.0205608 ,  0.02275743,\n",
       "         0.37340516, -0.3962965 , -0.14960435,  0.13771719, -0.22414507,\n",
       "         0.06590635, -0.12520967, -0.28632298, -0.03254201, -0.25873917,\n",
       "        -0.3983692 , -0.28942162,  0.3751254 , -0.28385526,  0.48155618,\n",
       "        -0.31643325, -0.18245442,  0.43680704,  0.19753936,  0.21941617,\n",
       "        -0.40689802, -0.4212563 ,  0.12711805, -0.27807474, -0.00829698,\n",
       "        -0.02418983, -0.05296287, -0.43273532,  0.24109766, -0.14811684,\n",
       "         0.1364979 ,  0.38248014, -0.3308938 ,  0.15191506,  0.2827758 ,\n",
       "        -0.24942501, -0.19823882,  0.11956617,  0.29086983, -0.04199186,\n",
       "         0.22925203, -0.26852816, -0.05021507,  0.57352394, -0.3898821 ,\n",
       "        -0.04785599, -0.11154595,  0.13377254,  0.07541512, -0.13169925,\n",
       "        -0.15097842, -0.41231573, -0.13679068, -0.4344393 , -0.35372186,\n",
       "         0.12510626, -0.28661382, -0.31162566,  0.12949367, -0.03338529,\n",
       "        -0.11197954, -0.13514186,  0.05912538,  0.3552929 ,  0.43493152,\n",
       "        -0.03647649, -0.01222363, -0.0253886 , -0.4726957 , -0.24359973,\n",
       "        -0.09678711, -0.58652043,  0.12525329, -0.22454141, -0.21680325,\n",
       "        -0.34622842, -0.00169764, -0.24413486, -0.11595623, -0.05646358,\n",
       "         0.3183775 ,  0.11586896,  0.02890106, -0.29993677,  0.26715773,\n",
       "        -0.3185297 , -0.19345963, -0.20443578,  0.2817031 , -0.06877898,\n",
       "         0.14294353,  0.18174607,  0.0315645 ,  0.14021982, -0.11399128],\n",
       "       [-0.36676472, -0.20198646,  0.03396976,  0.0205608 ,  0.02275743,\n",
       "         0.37340516, -0.3962965 , -0.14960435,  0.13771719, -0.22414507,\n",
       "         0.06590635, -0.12520967, -0.28632298, -0.03254201, -0.25873917,\n",
       "        -0.3983692 , -0.28942162,  0.3751254 , -0.28385526,  0.48155618,\n",
       "        -0.31643325, -0.18245442,  0.43680704,  0.19753936,  0.21941617,\n",
       "        -0.40689802, -0.4212563 ,  0.12711805, -0.27807474, -0.00829698,\n",
       "        -0.02418983, -0.05296287, -0.43273532,  0.24109766, -0.14811684,\n",
       "         0.1364979 ,  0.38248014, -0.3308938 ,  0.15191506,  0.2827758 ,\n",
       "        -0.24942501, -0.19823882,  0.11956617,  0.29086983, -0.04199186,\n",
       "         0.22925203, -0.26852816, -0.05021507,  0.57352394, -0.3898821 ,\n",
       "        -0.04785599, -0.11154595,  0.13377254,  0.07541512, -0.13169925,\n",
       "        -0.15097842, -0.41231573, -0.13679068, -0.4344393 , -0.35372186,\n",
       "         0.12510626, -0.28661382, -0.31162566,  0.12949367, -0.03338529,\n",
       "        -0.11197954, -0.13514186,  0.05912538,  0.3552929 ,  0.43493152,\n",
       "        -0.03647649, -0.01222363, -0.0253886 , -0.4726957 , -0.24359973,\n",
       "        -0.09678711, -0.58652043,  0.12525329, -0.22454141, -0.21680325,\n",
       "        -0.34622842, -0.00169764, -0.24413486, -0.11595623, -0.05646358,\n",
       "         0.3183775 ,  0.11586896,  0.02890106, -0.29993677,  0.26715773,\n",
       "        -0.3185297 , -0.19345963, -0.20443578,  0.2817031 , -0.06877898,\n",
       "         0.14294353,  0.18174607,  0.0315645 ,  0.14021982, -0.11399128],\n",
       "       [-0.36676472, -0.20198646,  0.03396976,  0.0205608 ,  0.02275743,\n",
       "         0.37340516, -0.3962965 , -0.14960435,  0.13771719, -0.22414507,\n",
       "         0.06590635, -0.12520967, -0.28632298, -0.03254201, -0.25873917,\n",
       "        -0.3983692 , -0.28942162,  0.3751254 , -0.28385526,  0.48155618,\n",
       "        -0.31643325, -0.18245442,  0.43680704,  0.19753936,  0.21941617,\n",
       "        -0.40689802, -0.4212563 ,  0.12711805, -0.27807474, -0.00829698,\n",
       "        -0.02418983, -0.05296287, -0.43273532,  0.24109766, -0.14811684,\n",
       "         0.1364979 ,  0.38248014, -0.3308938 ,  0.15191506,  0.2827758 ,\n",
       "        -0.24942501, -0.19823882,  0.11956617,  0.29086983, -0.04199186,\n",
       "         0.22925203, -0.26852816, -0.05021507,  0.57352394, -0.3898821 ,\n",
       "        -0.04785599, -0.11154595,  0.13377254,  0.07541512, -0.13169925,\n",
       "        -0.15097842, -0.41231573, -0.13679068, -0.4344393 , -0.35372186,\n",
       "         0.12510626, -0.28661382, -0.31162566,  0.12949367, -0.03338529,\n",
       "        -0.11197954, -0.13514186,  0.05912538,  0.3552929 ,  0.43493152,\n",
       "        -0.03647649, -0.01222363, -0.0253886 , -0.4726957 , -0.24359973,\n",
       "        -0.09678711, -0.58652043,  0.12525329, -0.22454141, -0.21680325,\n",
       "        -0.34622842, -0.00169764, -0.24413486, -0.11595623, -0.05646358,\n",
       "         0.3183775 ,  0.11586896,  0.02890106, -0.29993677,  0.26715773,\n",
       "        -0.3185297 , -0.19345963, -0.20443578,  0.2817031 , -0.06877898,\n",
       "         0.14294353,  0.18174607,  0.0315645 ,  0.14021982, -0.11399128]],\n",
       "      dtype=float32)>"
      ]
     },
     "execution_count": 101,
     "metadata": {},
     "output_type": "execute_result"
    }
   ],
   "source": [
    "layer(tf.ones([10,5]))"
   ]
  },
  {
   "cell_type": "code",
   "execution_count": 102,
   "id": "abab7047",
   "metadata": {},
   "outputs": [
    {
     "data": {
      "text/plain": [
       "[<tf.Variable 'dense_10/kernel:0' shape=(5, 100) dtype=float32, numpy=\n",
       " array([[-0.23318458,  0.13221313,  0.01791795,  0.07587345, -0.182641  ,\n",
       "         -0.03691222, -0.13469501, -0.21251038,  0.12855242, -0.02809849,\n",
       "         -0.0154676 , -0.21110459,  0.05109908,  0.01771273,  0.12068261,\n",
       "         -0.1142134 ,  0.09002395,  0.06635188,  0.18733288,  0.00838166,\n",
       "         -0.15435684, -0.04801895,  0.06938674,  0.05856596, -0.12957117,\n",
       "          0.13670532, -0.09621605,  0.21322827,  0.12403716,  0.04484038,\n",
       "         -0.12933755,  0.00796682, -0.17165476,  0.12634145,  0.14156272,\n",
       "         -0.1602332 ,  0.18857421, -0.17412621,  0.16696532,  0.01959769,\n",
       "         -0.13943636,  0.13754888,  0.07185329,  0.21451859,  0.1528105 ,\n",
       "         -0.21268341, -0.05046394, -0.15287057,  0.03697263,  0.06869702,\n",
       "         -0.207737  , -0.19134195, -0.16405937, -0.11996182, -0.09622015,\n",
       "         -0.11481564, -0.18412231,  0.04093109, -0.16855308, -0.04578009,\n",
       "          0.14272316, -0.00810155, -0.12016084,  0.08552413,  0.13859896,\n",
       "          0.14693026,  0.18538882, -0.0068925 ,  0.21034805, -0.09565856,\n",
       "          0.03369139, -0.03311136, -0.23249102, -0.03427806, -0.15905847,\n",
       "         -0.17751187, -0.02031171, -0.07374904, -0.09642863, -0.13817197,\n",
       "          0.00928649,  0.08786865, -0.1261679 , -0.15509261, -0.07132815,\n",
       "         -0.18479945,  0.01963292,  0.0815662 , -0.2303348 ,  0.20932083,\n",
       "         -0.12714037, -0.13482837, -0.08802354,  0.16596572, -0.10675912,\n",
       "          0.07614718, -0.04730135, -0.08677329, -0.15485907, -0.12503722],\n",
       "        [-0.22665705, -0.23470628,  0.1870343 ,  0.01863514,  0.06928842,\n",
       "          0.19453458, -0.2030932 , -0.08456101,  0.17812283, -0.21300302,\n",
       "          0.10201161,  0.10579367, -0.07151127, -0.10024437, -0.2259695 ,\n",
       "         -0.08540826,  0.03723742, -0.07511538,  0.12682007,  0.21385644,\n",
       "         -0.1530004 ,  0.02563719,  0.06682433, -0.01735048,  0.07398738,\n",
       "         -0.19516298, -0.1702655 , -0.17022195, -0.04758854, -0.21535832,\n",
       "          0.22526963,  0.14866619, -0.1426458 , -0.10436143, -0.05933501,\n",
       "         -0.19547695,  0.17833598,  0.00576615,  0.01548572,  0.20673113,\n",
       "          0.02423163, -0.22043325,  0.03282838, -0.23331377, -0.21091366,\n",
       "          0.19880946,  0.03467064,  0.15757813,  0.17678766, -0.05868785,\n",
       "         -0.21725635, -0.10550362,  0.1053433 , -0.15215434, -0.13566789,\n",
       "         -0.13437608, -0.23747495,  0.08882327, -0.10904232, -0.18170376,\n",
       "          0.15732862, -0.11081998,  0.23575996,  0.1956277 , -0.11128972,\n",
       "         -0.12447309,  0.04893954,  0.10272355,  0.11700325,  0.08727176,\n",
       "          0.03676529,  0.0601887 , -0.19813944,  0.06341632, -0.04623838,\n",
       "          0.15828417, -0.19790126,  0.19521178,  0.23483287, -0.09966692,\n",
       "         -0.11663942,  0.18507005,  0.00516801, -0.17350322, -0.06428388,\n",
       "          0.21807928, -0.23724052,  0.00044574,  0.1754383 ,  0.22927879,\n",
       "          0.2309456 ,  0.00592043, -0.16859823,  0.23760055, -0.19210747,\n",
       "         -0.02685969,  0.21326612,  0.10768382,  0.10925554,  0.08205537],\n",
       "        [-0.00032435, -0.14106306, -0.06935135, -0.18874997,  0.05316694,\n",
       "          0.10718052, -0.15906161,  0.08494513, -0.04838689, -0.21015418,\n",
       "          0.09125088, -0.22628187, -0.17757559,  0.13757469, -0.09678707,\n",
       "         -0.17196348, -0.10826869,  0.06492601, -0.23389134,  0.05609645,\n",
       "          0.21376108, -0.07473867, -0.02721818,  0.14948188,  0.09672238,\n",
       "         -0.02866124, -0.13648026, -0.06831636, -0.07295114,  0.1280017 ,\n",
       "         -0.08650406, -0.10521901,  0.20080893,  0.12895082, -0.19898453,\n",
       "          0.15895276,  0.09578644,  0.07909538,  0.0804029 ,  0.11647756,\n",
       "          0.11170371, -0.11401786,  0.08488415,  0.05938123, -0.00965899,\n",
       "          0.18374912,  0.0016467 ,  0.14191173,  0.13104685, -0.17873938,\n",
       "          0.20252208,  0.14936431,  0.18832509,  0.18861295,  0.12184782,\n",
       "          0.02122252,  0.00393257, -0.22903326,  0.14823489, -0.01389021,\n",
       "         -0.10496846, -0.05708203, -0.20796913, -0.13859777, -0.00999531,\n",
       "          0.18318124,  0.04703851, -0.1700018 , -0.2146532 ,  0.1117595 ,\n",
       "          0.00225629,  0.05453677,  0.13486774, -0.15775384, -0.04505868,\n",
       "          0.07715647, -0.237475  , -0.09423412,  0.10145365,  0.08386268,\n",
       "         -0.2254329 , -0.03264908, -0.03844841,  0.23382716,  0.07392503,\n",
       "         -0.00381112,  0.2124934 ,  0.15925993,  0.10264303, -0.1951004 ,\n",
       "         -0.21400537,  0.10842873,  0.00277692, -0.1661778 ,  0.05098276,\n",
       "         -0.20073861, -0.1734982 ,  0.1205485 , -0.1542999 , -0.0374402 ],\n",
       "        [ 0.04703565,  0.13356166, -0.04290076, -0.06981026, -0.07490873,\n",
       "         -0.09075744, -0.11085434,  0.18073629, -0.01505475,  0.18353938,\n",
       "         -0.00078741, -0.02599044,  0.03761242, -0.00461894, -0.19346271,\n",
       "         -0.1815207 , -0.16606997,  0.18756293, -0.15656969,  0.04965885,\n",
       "         -0.23551735,  0.13916199,  0.21177797, -0.18191326,  0.0011002 ,\n",
       "         -0.21041834, -0.04514262,  0.17016868, -0.0569021 ,  0.23742132,\n",
       "         -0.22705702,  0.09558122, -0.20546804, -0.07230648, -0.19322562,\n",
       "          0.17850508, -0.19870447, -0.10135077, -0.12517536, -0.03445491,\n",
       "         -0.0809509 ,  0.14640735, -0.14552104,  0.22598858, -0.15774882,\n",
       "         -0.16353008, -0.12037103, -0.20882858,  0.13097896, -0.06048918,\n",
       "         -0.0013134 , -0.10061562,  0.10454513,  0.17353456, -0.07059944,\n",
       "         -0.00332525,  0.13427143, -0.13897711, -0.09576176,  0.09821348,\n",
       "         -0.16899678, -0.16125622, -0.03837477,  0.02880298, -0.02638677,\n",
       "         -0.16629058, -0.21071185,  0.05782767,  0.01763897,  0.15234236,\n",
       "          0.12429951, -0.18538983,  0.0883895 , -0.11633154, -0.13865283,\n",
       "         -0.18069333, -0.00894931,  0.15740134, -0.23673028,  0.17505158,\n",
       "         -0.2232365 , -0.13927343, -0.02117163, -0.12986167,  0.11261691,\n",
       "          0.06086965, -0.04811765, -0.19055277, -0.1746811 , -0.19859259,\n",
       "         -0.04947621,  0.0607274 , -0.11053725,  0.12289406, -0.01822925,\n",
       "          0.08281867,  0.21711929, -0.00088988,  0.10228597,  0.13322745],\n",
       "        [ 0.04636563, -0.0919919 , -0.05873038,  0.18461244,  0.1578518 ,\n",
       "          0.19935973,  0.21140768, -0.11821436, -0.10551645,  0.04357122,\n",
       "         -0.11110114,  0.23237355, -0.12594762, -0.0829661 ,  0.13679747,\n",
       "          0.15473662, -0.14234433,  0.13139997, -0.2075472 ,  0.1535628 ,\n",
       "          0.01268031, -0.22449599,  0.11603619,  0.18875526,  0.17717738,\n",
       "         -0.1093608 ,  0.02684812, -0.01774059, -0.22467011, -0.20320207,\n",
       "          0.19343917, -0.19995809, -0.11377564,  0.1624733 ,  0.1618656 ,\n",
       "          0.15475021,  0.11848803, -0.14027838,  0.01423649, -0.0255757 ,\n",
       "         -0.16497308, -0.14774394,  0.07552139,  0.02429523,  0.18351911,\n",
       "          0.22290693, -0.13401052,  0.01199423,  0.09773783, -0.16066271,\n",
       "          0.17592867,  0.13655092, -0.10038161, -0.01461624,  0.04894041,\n",
       "          0.08031605, -0.12892248,  0.10146533, -0.20931701, -0.21056128,\n",
       "          0.09901972,  0.05064593, -0.18088089, -0.04186337, -0.02431245,\n",
       "         -0.15132737, -0.2057969 ,  0.07546847,  0.22495581,  0.17921646,\n",
       "         -0.23348898,  0.09155209,  0.18198462, -0.22774859,  0.14540865,\n",
       "          0.02597745, -0.12188317, -0.05937667, -0.22766902, -0.23787862,\n",
       "          0.20979394, -0.10271382, -0.06351493,  0.10867409, -0.1073935 ,\n",
       "          0.22803913,  0.1691008 , -0.02181804, -0.17300218,  0.2222511 ,\n",
       "         -0.15885335, -0.23370782,  0.15994631, -0.07857941,  0.19733407,\n",
       "          0.21157597, -0.02783979, -0.10900465,  0.2378373 , -0.16679668]],\n",
       "       dtype=float32)>,\n",
       " <tf.Variable 'dense_10/bias:0' shape=(100,) dtype=float32, numpy=\n",
       " array([0., 0., 0., 0., 0., 0., 0., 0., 0., 0., 0., 0., 0., 0., 0., 0., 0.,\n",
       "        0., 0., 0., 0., 0., 0., 0., 0., 0., 0., 0., 0., 0., 0., 0., 0., 0.,\n",
       "        0., 0., 0., 0., 0., 0., 0., 0., 0., 0., 0., 0., 0., 0., 0., 0., 0.,\n",
       "        0., 0., 0., 0., 0., 0., 0., 0., 0., 0., 0., 0., 0., 0., 0., 0., 0.,\n",
       "        0., 0., 0., 0., 0., 0., 0., 0., 0., 0., 0., 0., 0., 0., 0., 0., 0.,\n",
       "        0., 0., 0., 0., 0., 0., 0., 0., 0., 0., 0., 0., 0., 0., 0.],\n",
       "       dtype=float32)>]"
      ]
     },
     "execution_count": 102,
     "metadata": {},
     "output_type": "execute_result"
    }
   ],
   "source": [
    "layer.variables"
   ]
  },
  {
   "cell_type": "code",
   "execution_count": 103,
   "id": "879990b4",
   "metadata": {},
   "outputs": [
    {
     "data": {
      "text/plain": [
       "[<tf.Variable 'dense_10/kernel:0' shape=(5, 100) dtype=float32, numpy=\n",
       " array([[-0.23318458,  0.13221313,  0.01791795,  0.07587345, -0.182641  ,\n",
       "         -0.03691222, -0.13469501, -0.21251038,  0.12855242, -0.02809849,\n",
       "         -0.0154676 , -0.21110459,  0.05109908,  0.01771273,  0.12068261,\n",
       "         -0.1142134 ,  0.09002395,  0.06635188,  0.18733288,  0.00838166,\n",
       "         -0.15435684, -0.04801895,  0.06938674,  0.05856596, -0.12957117,\n",
       "          0.13670532, -0.09621605,  0.21322827,  0.12403716,  0.04484038,\n",
       "         -0.12933755,  0.00796682, -0.17165476,  0.12634145,  0.14156272,\n",
       "         -0.1602332 ,  0.18857421, -0.17412621,  0.16696532,  0.01959769,\n",
       "         -0.13943636,  0.13754888,  0.07185329,  0.21451859,  0.1528105 ,\n",
       "         -0.21268341, -0.05046394, -0.15287057,  0.03697263,  0.06869702,\n",
       "         -0.207737  , -0.19134195, -0.16405937, -0.11996182, -0.09622015,\n",
       "         -0.11481564, -0.18412231,  0.04093109, -0.16855308, -0.04578009,\n",
       "          0.14272316, -0.00810155, -0.12016084,  0.08552413,  0.13859896,\n",
       "          0.14693026,  0.18538882, -0.0068925 ,  0.21034805, -0.09565856,\n",
       "          0.03369139, -0.03311136, -0.23249102, -0.03427806, -0.15905847,\n",
       "         -0.17751187, -0.02031171, -0.07374904, -0.09642863, -0.13817197,\n",
       "          0.00928649,  0.08786865, -0.1261679 , -0.15509261, -0.07132815,\n",
       "         -0.18479945,  0.01963292,  0.0815662 , -0.2303348 ,  0.20932083,\n",
       "         -0.12714037, -0.13482837, -0.08802354,  0.16596572, -0.10675912,\n",
       "          0.07614718, -0.04730135, -0.08677329, -0.15485907, -0.12503722],\n",
       "        [-0.22665705, -0.23470628,  0.1870343 ,  0.01863514,  0.06928842,\n",
       "          0.19453458, -0.2030932 , -0.08456101,  0.17812283, -0.21300302,\n",
       "          0.10201161,  0.10579367, -0.07151127, -0.10024437, -0.2259695 ,\n",
       "         -0.08540826,  0.03723742, -0.07511538,  0.12682007,  0.21385644,\n",
       "         -0.1530004 ,  0.02563719,  0.06682433, -0.01735048,  0.07398738,\n",
       "         -0.19516298, -0.1702655 , -0.17022195, -0.04758854, -0.21535832,\n",
       "          0.22526963,  0.14866619, -0.1426458 , -0.10436143, -0.05933501,\n",
       "         -0.19547695,  0.17833598,  0.00576615,  0.01548572,  0.20673113,\n",
       "          0.02423163, -0.22043325,  0.03282838, -0.23331377, -0.21091366,\n",
       "          0.19880946,  0.03467064,  0.15757813,  0.17678766, -0.05868785,\n",
       "         -0.21725635, -0.10550362,  0.1053433 , -0.15215434, -0.13566789,\n",
       "         -0.13437608, -0.23747495,  0.08882327, -0.10904232, -0.18170376,\n",
       "          0.15732862, -0.11081998,  0.23575996,  0.1956277 , -0.11128972,\n",
       "         -0.12447309,  0.04893954,  0.10272355,  0.11700325,  0.08727176,\n",
       "          0.03676529,  0.0601887 , -0.19813944,  0.06341632, -0.04623838,\n",
       "          0.15828417, -0.19790126,  0.19521178,  0.23483287, -0.09966692,\n",
       "         -0.11663942,  0.18507005,  0.00516801, -0.17350322, -0.06428388,\n",
       "          0.21807928, -0.23724052,  0.00044574,  0.1754383 ,  0.22927879,\n",
       "          0.2309456 ,  0.00592043, -0.16859823,  0.23760055, -0.19210747,\n",
       "         -0.02685969,  0.21326612,  0.10768382,  0.10925554,  0.08205537],\n",
       "        [-0.00032435, -0.14106306, -0.06935135, -0.18874997,  0.05316694,\n",
       "          0.10718052, -0.15906161,  0.08494513, -0.04838689, -0.21015418,\n",
       "          0.09125088, -0.22628187, -0.17757559,  0.13757469, -0.09678707,\n",
       "         -0.17196348, -0.10826869,  0.06492601, -0.23389134,  0.05609645,\n",
       "          0.21376108, -0.07473867, -0.02721818,  0.14948188,  0.09672238,\n",
       "         -0.02866124, -0.13648026, -0.06831636, -0.07295114,  0.1280017 ,\n",
       "         -0.08650406, -0.10521901,  0.20080893,  0.12895082, -0.19898453,\n",
       "          0.15895276,  0.09578644,  0.07909538,  0.0804029 ,  0.11647756,\n",
       "          0.11170371, -0.11401786,  0.08488415,  0.05938123, -0.00965899,\n",
       "          0.18374912,  0.0016467 ,  0.14191173,  0.13104685, -0.17873938,\n",
       "          0.20252208,  0.14936431,  0.18832509,  0.18861295,  0.12184782,\n",
       "          0.02122252,  0.00393257, -0.22903326,  0.14823489, -0.01389021,\n",
       "         -0.10496846, -0.05708203, -0.20796913, -0.13859777, -0.00999531,\n",
       "          0.18318124,  0.04703851, -0.1700018 , -0.2146532 ,  0.1117595 ,\n",
       "          0.00225629,  0.05453677,  0.13486774, -0.15775384, -0.04505868,\n",
       "          0.07715647, -0.237475  , -0.09423412,  0.10145365,  0.08386268,\n",
       "         -0.2254329 , -0.03264908, -0.03844841,  0.23382716,  0.07392503,\n",
       "         -0.00381112,  0.2124934 ,  0.15925993,  0.10264303, -0.1951004 ,\n",
       "         -0.21400537,  0.10842873,  0.00277692, -0.1661778 ,  0.05098276,\n",
       "         -0.20073861, -0.1734982 ,  0.1205485 , -0.1542999 , -0.0374402 ],\n",
       "        [ 0.04703565,  0.13356166, -0.04290076, -0.06981026, -0.07490873,\n",
       "         -0.09075744, -0.11085434,  0.18073629, -0.01505475,  0.18353938,\n",
       "         -0.00078741, -0.02599044,  0.03761242, -0.00461894, -0.19346271,\n",
       "         -0.1815207 , -0.16606997,  0.18756293, -0.15656969,  0.04965885,\n",
       "         -0.23551735,  0.13916199,  0.21177797, -0.18191326,  0.0011002 ,\n",
       "         -0.21041834, -0.04514262,  0.17016868, -0.0569021 ,  0.23742132,\n",
       "         -0.22705702,  0.09558122, -0.20546804, -0.07230648, -0.19322562,\n",
       "          0.17850508, -0.19870447, -0.10135077, -0.12517536, -0.03445491,\n",
       "         -0.0809509 ,  0.14640735, -0.14552104,  0.22598858, -0.15774882,\n",
       "         -0.16353008, -0.12037103, -0.20882858,  0.13097896, -0.06048918,\n",
       "         -0.0013134 , -0.10061562,  0.10454513,  0.17353456, -0.07059944,\n",
       "         -0.00332525,  0.13427143, -0.13897711, -0.09576176,  0.09821348,\n",
       "         -0.16899678, -0.16125622, -0.03837477,  0.02880298, -0.02638677,\n",
       "         -0.16629058, -0.21071185,  0.05782767,  0.01763897,  0.15234236,\n",
       "          0.12429951, -0.18538983,  0.0883895 , -0.11633154, -0.13865283,\n",
       "         -0.18069333, -0.00894931,  0.15740134, -0.23673028,  0.17505158,\n",
       "         -0.2232365 , -0.13927343, -0.02117163, -0.12986167,  0.11261691,\n",
       "          0.06086965, -0.04811765, -0.19055277, -0.1746811 , -0.19859259,\n",
       "         -0.04947621,  0.0607274 , -0.11053725,  0.12289406, -0.01822925,\n",
       "          0.08281867,  0.21711929, -0.00088988,  0.10228597,  0.13322745],\n",
       "        [ 0.04636563, -0.0919919 , -0.05873038,  0.18461244,  0.1578518 ,\n",
       "          0.19935973,  0.21140768, -0.11821436, -0.10551645,  0.04357122,\n",
       "         -0.11110114,  0.23237355, -0.12594762, -0.0829661 ,  0.13679747,\n",
       "          0.15473662, -0.14234433,  0.13139997, -0.2075472 ,  0.1535628 ,\n",
       "          0.01268031, -0.22449599,  0.11603619,  0.18875526,  0.17717738,\n",
       "         -0.1093608 ,  0.02684812, -0.01774059, -0.22467011, -0.20320207,\n",
       "          0.19343917, -0.19995809, -0.11377564,  0.1624733 ,  0.1618656 ,\n",
       "          0.15475021,  0.11848803, -0.14027838,  0.01423649, -0.0255757 ,\n",
       "         -0.16497308, -0.14774394,  0.07552139,  0.02429523,  0.18351911,\n",
       "          0.22290693, -0.13401052,  0.01199423,  0.09773783, -0.16066271,\n",
       "          0.17592867,  0.13655092, -0.10038161, -0.01461624,  0.04894041,\n",
       "          0.08031605, -0.12892248,  0.10146533, -0.20931701, -0.21056128,\n",
       "          0.09901972,  0.05064593, -0.18088089, -0.04186337, -0.02431245,\n",
       "         -0.15132737, -0.2057969 ,  0.07546847,  0.22495581,  0.17921646,\n",
       "         -0.23348898,  0.09155209,  0.18198462, -0.22774859,  0.14540865,\n",
       "          0.02597745, -0.12188317, -0.05937667, -0.22766902, -0.23787862,\n",
       "          0.20979394, -0.10271382, -0.06351493,  0.10867409, -0.1073935 ,\n",
       "          0.22803913,  0.1691008 , -0.02181804, -0.17300218,  0.2222511 ,\n",
       "         -0.15885335, -0.23370782,  0.15994631, -0.07857941,  0.19733407,\n",
       "          0.21157597, -0.02783979, -0.10900465,  0.2378373 , -0.16679668]],\n",
       "       dtype=float32)>,\n",
       " <tf.Variable 'dense_10/bias:0' shape=(100,) dtype=float32, numpy=\n",
       " array([0., 0., 0., 0., 0., 0., 0., 0., 0., 0., 0., 0., 0., 0., 0., 0., 0.,\n",
       "        0., 0., 0., 0., 0., 0., 0., 0., 0., 0., 0., 0., 0., 0., 0., 0., 0.,\n",
       "        0., 0., 0., 0., 0., 0., 0., 0., 0., 0., 0., 0., 0., 0., 0., 0., 0.,\n",
       "        0., 0., 0., 0., 0., 0., 0., 0., 0., 0., 0., 0., 0., 0., 0., 0., 0.,\n",
       "        0., 0., 0., 0., 0., 0., 0., 0., 0., 0., 0., 0., 0., 0., 0., 0., 0.,\n",
       "        0., 0., 0., 0., 0., 0., 0., 0., 0., 0., 0., 0., 0., 0., 0.],\n",
       "       dtype=float32)>]"
      ]
     },
     "execution_count": 103,
     "metadata": {},
     "output_type": "execute_result"
    }
   ],
   "source": [
    "layer.trainable_variables"
   ]
  },
  {
   "cell_type": "code",
   "execution_count": 104,
   "id": "1894291b",
   "metadata": {},
   "outputs": [
    {
     "data": {
      "text/plain": [
       "<tf.Tensor: shape=(2, 5), dtype=float32, numpy=\n",
       "array([[4.5417706e-05, 6.7153494e-03, 6.9314718e-01, 5.0067153e+00,\n",
       "        1.0000046e+01],\n",
       "       [4.5417706e-05, 6.7153494e-03, 6.9314718e-01, 5.0067153e+00,\n",
       "        1.0000046e+01]], dtype=float32)>"
      ]
     },
     "execution_count": 104,
     "metadata": {},
     "output_type": "execute_result"
    }
   ],
   "source": [
    "customized_softplus=keras.layers.Lambda(lambda x:tf.math.log(1+tf.math.exp(x)))\n",
    "customized_softplus([[-10., -5., 0., 5., 10.],[-10., -5., 0., 5., 10.]])"
   ]
  },
  {
   "cell_type": "code",
   "execution_count": 105,
   "id": "c223ea1b",
   "metadata": {},
   "outputs": [],
   "source": [
    "class CustomizedDenseLayer(keras.layers.Layer):\n",
    "    def __init__(self,units,activation=None,**kwargs):\n",
    "        self.units=units\n",
    "        self.activation=keras.layers.Activation(activation)\n",
    "        super(CustomizedDenseLayer,self).__init__(**kwargs)\n",
    "    def build(self,input_shape):\n",
    "        print('-'*50)\n",
    "        print(input_shape)\n",
    "        self.kernel=self.add_weight(name='kernel',shape=(input_shape[1],self.units),initializer='uniform',trainable=True)\n",
    "        self.bias=self.add_weight(name='bias',shape=(self.units,),initializer='zeros',trainable=True)\n",
    "        super(CustomizedDenseLayer,self).build(input_shape)\n",
    "    def call(self,x):\n",
    "        return self.activation(x@self.kernel+self.bias)\n"
   ]
  },
  {
   "cell_type": "code",
   "execution_count": 108,
   "id": "ed2a8ae0",
   "metadata": {},
   "outputs": [
    {
     "name": "stdout",
     "output_type": "stream",
     "text": [
      "--------------------------------------------------\n",
      "(None, 8)\n",
      "--------------------------------------------------\n",
      "(None, 30)\n",
      "Model: \"sequential_5\"\n",
      "_________________________________________________________________\n",
      " Layer (type)                Output Shape              Param #   \n",
      "=================================================================\n",
      " customized_dense_layer (Cus  (None, 30)               270       \n",
      " tomizedDenseLayer)                                              \n",
      "                                                                 \n",
      " customized_dense_layer_1 (C  (None, 1)                31        \n",
      " ustomizedDenseLayer)                                            \n",
      "                                                                 \n",
      "=================================================================\n",
      "Total params: 301\n",
      "Trainable params: 301\n",
      "Non-trainable params: 0\n",
      "_________________________________________________________________\n"
     ]
    }
   ],
   "source": [
    "model=keras.models.Sequential([CustomizedDenseLayer(30,activation='relu',input_shape=x_train.shape[1:]),\n",
    "                               CustomizedDenseLayer(1,activation=customized_softplus)])\n",
    "model.summary()"
   ]
  },
  {
   "cell_type": "code",
   "execution_count": 110,
   "id": "3dcf96e1",
   "metadata": {},
   "outputs": [
    {
     "name": "stdout",
     "output_type": "stream",
     "text": [
      "Epoch 1/100\n",
      "363/363 [==============================] - 2s 3ms/step - loss: 1.1825 - val_loss: 0.6744\n",
      "Epoch 2/100\n",
      "363/363 [==============================] - 1s 3ms/step - loss: 0.5880 - val_loss: 0.5874\n",
      "Epoch 3/100\n",
      "363/363 [==============================] - 1s 2ms/step - loss: 0.5199 - val_loss: 0.5274\n",
      "Epoch 4/100\n",
      "363/363 [==============================] - 1s 2ms/step - loss: 0.4787 - val_loss: 0.4871\n",
      "Epoch 5/100\n",
      "363/363 [==============================] - 1s 2ms/step - loss: 0.4667 - val_loss: 0.4906\n",
      "Epoch 6/100\n",
      "363/363 [==============================] - 2s 4ms/step - loss: 0.4525 - val_loss: 0.4670\n",
      "Epoch 7/100\n",
      "363/363 [==============================] - 1s 2ms/step - loss: 0.4414 - val_loss: 0.4488\n",
      "Epoch 8/100\n",
      "363/363 [==============================] - 1s 3ms/step - loss: 0.4366 - val_loss: 0.4650\n",
      "Epoch 9/100\n",
      "363/363 [==============================] - 1s 3ms/step - loss: 0.4401 - val_loss: 0.4423\n",
      "Epoch 10/100\n",
      "363/363 [==============================] - 1s 3ms/step - loss: 0.4141 - val_loss: 0.4238\n",
      "Epoch 11/100\n",
      "363/363 [==============================] - 1s 2ms/step - loss: 0.4041 - val_loss: 0.4159\n",
      "Epoch 12/100\n",
      "363/363 [==============================] - 1s 2ms/step - loss: 0.4183 - val_loss: 0.4211\n",
      "Epoch 13/100\n",
      "363/363 [==============================] - 1s 2ms/step - loss: 0.4082 - val_loss: 0.4184\n",
      "Epoch 14/100\n",
      "363/363 [==============================] - 1s 2ms/step - loss: 0.3902 - val_loss: 0.4004\n",
      "Epoch 15/100\n",
      "363/363 [==============================] - 1s 2ms/step - loss: 0.3852 - val_loss: 0.3968\n",
      "Epoch 16/100\n",
      "363/363 [==============================] - 1s 2ms/step - loss: 0.3822 - val_loss: 0.3934\n",
      "Epoch 17/100\n",
      "363/363 [==============================] - 1s 2ms/step - loss: 0.3798 - val_loss: 0.3944\n",
      "Epoch 18/100\n",
      "363/363 [==============================] - 1s 3ms/step - loss: 0.3773 - val_loss: 0.3880\n",
      "Epoch 19/100\n",
      "363/363 [==============================] - 1s 2ms/step - loss: 0.3751 - val_loss: 0.3872\n",
      "Epoch 20/100\n",
      "363/363 [==============================] - 1s 2ms/step - loss: 0.3739 - val_loss: 0.3842\n",
      "Epoch 21/100\n",
      "363/363 [==============================] - 1s 2ms/step - loss: 0.3710 - val_loss: 0.3854\n",
      "Epoch 22/100\n",
      "363/363 [==============================] - 1s 2ms/step - loss: 0.3710 - val_loss: 0.3926\n",
      "Epoch 23/100\n",
      "363/363 [==============================] - 1s 2ms/step - loss: 0.3692 - val_loss: 0.3848\n",
      "Epoch 24/100\n",
      "363/363 [==============================] - 1s 2ms/step - loss: 0.3674 - val_loss: 0.3805\n",
      "Epoch 25/100\n",
      "363/363 [==============================] - 1s 2ms/step - loss: 0.3661 - val_loss: 0.3843\n",
      "Epoch 26/100\n",
      "363/363 [==============================] - 1s 2ms/step - loss: 0.3653 - val_loss: 0.3826\n",
      "Epoch 27/100\n",
      "363/363 [==============================] - 1s 2ms/step - loss: 0.3643 - val_loss: 0.3782\n",
      "Epoch 28/100\n",
      "363/363 [==============================] - 1s 2ms/step - loss: 0.3640 - val_loss: 0.3791\n",
      "Epoch 29/100\n",
      "363/363 [==============================] - 1s 2ms/step - loss: 0.3624 - val_loss: 0.3750\n",
      "Epoch 30/100\n",
      "363/363 [==============================] - 1s 2ms/step - loss: 0.3623 - val_loss: 0.3742\n",
      "Epoch 31/100\n",
      "363/363 [==============================] - 1s 2ms/step - loss: 0.3609 - val_loss: 0.3806\n",
      "Epoch 32/100\n",
      "363/363 [==============================] - 1s 2ms/step - loss: 0.3609 - val_loss: 0.3740\n",
      "Epoch 33/100\n",
      "363/363 [==============================] - 1s 2ms/step - loss: 0.3596 - val_loss: 0.3717\n",
      "Epoch 34/100\n",
      "363/363 [==============================] - 1s 3ms/step - loss: 0.3599 - val_loss: 0.3734\n",
      "Epoch 35/100\n",
      "363/363 [==============================] - 1s 2ms/step - loss: 0.3590 - val_loss: 0.3698\n",
      "Epoch 36/100\n",
      "363/363 [==============================] - 1s 2ms/step - loss: 0.3587 - val_loss: 0.3746\n",
      "Epoch 37/100\n",
      "363/363 [==============================] - 1s 3ms/step - loss: 0.3587 - val_loss: 0.3704\n",
      "Epoch 38/100\n",
      "363/363 [==============================] - 1s 2ms/step - loss: 0.3568 - val_loss: 0.3727\n",
      "Epoch 39/100\n",
      "363/363 [==============================] - 1s 3ms/step - loss: 0.3565 - val_loss: 0.3680\n",
      "Epoch 40/100\n",
      "363/363 [==============================] - 1s 2ms/step - loss: 0.3561 - val_loss: 0.3677\n",
      "Epoch 41/100\n",
      "363/363 [==============================] - 1s 2ms/step - loss: 0.3551 - val_loss: 0.3651\n",
      "Epoch 42/100\n",
      "363/363 [==============================] - 1s 2ms/step - loss: 0.3555 - val_loss: 0.3657\n",
      "Epoch 43/100\n",
      "363/363 [==============================] - 1s 2ms/step - loss: 0.3536 - val_loss: 0.3660\n",
      "Epoch 44/100\n",
      "363/363 [==============================] - 1s 2ms/step - loss: 0.3534 - val_loss: 0.3669\n",
      "Epoch 45/100\n",
      "363/363 [==============================] - 1s 2ms/step - loss: 0.3538 - val_loss: 0.3670\n",
      "Epoch 46/100\n",
      "363/363 [==============================] - 1s 2ms/step - loss: 0.3528 - val_loss: 0.3638\n",
      "Epoch 47/100\n",
      "363/363 [==============================] - 1s 2ms/step - loss: 0.3520 - val_loss: 0.3695\n",
      "Epoch 48/100\n",
      "363/363 [==============================] - 1s 2ms/step - loss: 0.3523 - val_loss: 0.3624\n",
      "Epoch 49/100\n",
      "363/363 [==============================] - 1s 2ms/step - loss: 0.3520 - val_loss: 0.3666\n",
      "Epoch 50/100\n",
      "363/363 [==============================] - 1s 3ms/step - loss: 0.3514 - val_loss: 0.3614\n",
      "Epoch 51/100\n",
      "363/363 [==============================] - 1s 3ms/step - loss: 0.3508 - val_loss: 0.3660\n",
      "Epoch 52/100\n",
      "363/363 [==============================] - 1s 2ms/step - loss: 0.3505 - val_loss: 0.3594\n",
      "Epoch 53/100\n",
      "363/363 [==============================] - 1s 2ms/step - loss: 0.3503 - val_loss: 0.3628\n",
      "Epoch 54/100\n",
      "363/363 [==============================] - 1s 2ms/step - loss: 0.3497 - val_loss: 0.3726\n",
      "Epoch 55/100\n",
      "363/363 [==============================] - 1s 2ms/step - loss: 0.3497 - val_loss: 0.3703\n",
      "Epoch 56/100\n",
      "363/363 [==============================] - 1s 2ms/step - loss: 0.3482 - val_loss: 0.3597\n",
      "Epoch 57/100\n",
      "363/363 [==============================] - 1s 2ms/step - loss: 0.3479 - val_loss: 0.3619\n"
     ]
    },
    {
     "data": {
      "image/png": "[encoded data removed]",
      "text/plain": [
       "<Figure size 576x360 with 1 Axes>"
      ]
     },
     "metadata": {
      "needs_background": "light"
     },
     "output_type": "display_data"
    }
   ],
   "source": [
    "model.compile(loss='mse',optimizer='sgd')\n",
    "callbacks=[keras.callbacks.EarlyStopping(patience=5,min_delta=1e-3)]\n",
    "history=model.fit(x_train_scaled,y_train,validation_data=(x_valid_scaled,y_valid),epochs=100,callbacks=callbacks)\n",
    "plot_learning_curves(history)\n"
   ]
  },
  {
   "cell_type": "code",
   "execution_count": 111,
   "id": "d40126e8",
   "metadata": {},
   "outputs": [
    {
     "name": "stdout",
     "output_type": "stream",
     "text": [
      "162/162 [==============================] - 0s 2ms/step - loss: 0.3682\n"
     ]
    },
    {
     "data": {
      "text/plain": [
       "0.36819830536842346"
      ]
     },
     "execution_count": 111,
     "metadata": {},
     "output_type": "execute_result"
    }
   ],
   "source": [
    "model.evaluate(x_test_scaled,y_test,verbose=1)"
   ]
  },
  {
   "cell_type": "code",
   "execution_count": 113,
   "id": "d9010540",
   "metadata": {},
   "outputs": [
    {
     "data": {
      "text/plain": [
       "0.36819830536842346"
      ]
     },
     "execution_count": 113,
     "metadata": {},
     "output_type": "execute_result"
    }
   ],
   "source": [
    "model.evaluate(x_test_scaled,y_test,verbose=0)"
   ]
  },
  {
   "cell_type": "code",
   "execution_count": 114,
   "id": "2a97331f",
   "metadata": {},
   "outputs": [],
   "source": [
    "def scaled_elu(z,scale=1.0,alpha=1.0):\n",
    "    is_positive=tf.greater_equal(z,0.0)\n",
    "    return scale*tf.where(is_positive,z,alpha*(tf.math.exp(z)-1))\n"
   ]
  },
  {
   "cell_type": "code",
   "execution_count": 115,
   "id": "e1a9109b",
   "metadata": {},
   "outputs": [
    {
     "data": {
      "text/plain": [
       "<tf.Tensor: shape=(), dtype=float32, numpy=-0.95021296>"
      ]
     },
     "execution_count": 115,
     "metadata": {},
     "output_type": "execute_result"
    }
   ],
   "source": [
    "scaled_elu(tf.constant(-3.))"
   ]
  },
  {
   "cell_type": "code",
   "execution_count": 120,
   "id": "9e227af9",
   "metadata": {},
   "outputs": [
    {
     "data": {
      "text/plain": [
       "<tf.Tensor: shape=(2,), dtype=float32, numpy=array([-0.95021296, -0.95021296], dtype=float32)>"
      ]
     },
     "execution_count": 120,
     "metadata": {},
     "output_type": "execute_result"
    }
   ],
   "source": [
    "scaled_elu(tf.constant([-3.,-3.]),2.,.5)"
   ]
  },
  {
   "cell_type": "code",
   "execution_count": 121,
   "id": "0e63bb19",
   "metadata": {},
   "outputs": [
    {
     "data": {
      "text/plain": [
       "<tf.Tensor: shape=(), dtype=float32, numpy=-0.95021296>"
      ]
     },
     "execution_count": 121,
     "metadata": {},
     "output_type": "execute_result"
    }
   ],
   "source": [
    "scaled_elu_tf=tf.function(scaled_elu)\n",
    "scaled_elu_tf(tf.constant(-3.))"
   ]
  },
  {
   "cell_type": "code",
   "execution_count": 122,
   "id": "6efc4d77",
   "metadata": {},
   "outputs": [
    {
     "data": {
      "text/plain": [
       "True"
      ]
     },
     "execution_count": 122,
     "metadata": {},
     "output_type": "execute_result"
    }
   ],
   "source": [
    "scaled_elu_tf.python_function is scaled_elu"
   ]
  },
  {
   "cell_type": "code",
   "execution_count": 123,
   "id": "a3e35a4d",
   "metadata": {},
   "outputs": [
    {
     "data": {
      "text/plain": [
       "<function __main__.scaled_elu(z, scale=1.0, alpha=1.0)>"
      ]
     },
     "execution_count": 123,
     "metadata": {},
     "output_type": "execute_result"
    }
   ],
   "source": [
    "scaled_elu"
   ]
  },
  {
   "cell_type": "code",
   "execution_count": 125,
   "id": "1b5bd820",
   "metadata": {},
   "outputs": [
    {
     "name": "stdout",
     "output_type": "stream",
     "text": [
      "<function scaled_elu at 0x00000237147F9700>\n"
     ]
    }
   ],
   "source": [
    "print(scaled_elu)"
   ]
  },
  {
   "cell_type": "code",
   "execution_count": 126,
   "id": "319c9735",
   "metadata": {},
   "outputs": [
    {
     "name": "stdout",
     "output_type": "stream",
     "text": [
      "<tensorflow.python.eager.def_function.Function object at 0x000002371A755820>\n"
     ]
    }
   ],
   "source": [
    "print(scaled_elu_tf)"
   ]
  },
  {
   "cell_type": "code",
   "execution_count": 127,
   "id": "65eedd9f",
   "metadata": {},
   "outputs": [
    {
     "name": "stdout",
     "output_type": "stream",
     "text": [
      "32.6 ms ± 626 µs per loop (mean ± std. dev. of 7 runs, 10 loops each)\n",
      "29.9 ms ± 1.54 ms per loop (mean ± std. dev. of 7 runs, 10 loops each)\n"
     ]
    }
   ],
   "source": [
    "%timeit scaled_elu(tf.random.normal((1000,1000)))\n",
    "%timeit scaled_elu_tf(tf.random.normal((1000,1000)))"
   ]
  },
  {
   "cell_type": "code",
   "execution_count": 128,
   "id": "b7f2534c",
   "metadata": {},
   "outputs": [],
   "source": [
    "@tf.function\n",
    "def converge_to_2(n_iters):\n",
    "    total=tf.constant(0.)\n",
    "    increment=tf.constant(1.)\n",
    "    for _ in range(n_iters):\n",
    "        total+=increment\n",
    "        increment/=2.0\n",
    "    return total\n"
   ]
  },
  {
   "cell_type": "code",
   "execution_count": 129,
   "id": "de1fe36a",
   "metadata": {},
   "outputs": [
    {
     "name": "stdout",
     "output_type": "stream",
     "text": [
      "<tensorflow.python.eager.def_function.Function object at 0x00000237166AAF70>\n"
     ]
    }
   ],
   "source": [
    "print(converge_to_2)"
   ]
  },
  {
   "cell_type": "code",
   "execution_count": 130,
   "id": "4fa2dca8",
   "metadata": {},
   "outputs": [
    {
     "data": {
      "text/plain": [
       "<tf.Tensor: shape=(), dtype=float32, numpy=1.9999981>"
      ]
     },
     "execution_count": 130,
     "metadata": {},
     "output_type": "execute_result"
    }
   ],
   "source": [
    "converge_to_2(20)"
   ]
  },
  {
   "cell_type": "code",
   "execution_count": 132,
   "id": "be414dc5",
   "metadata": {},
   "outputs": [
    {
     "data": {
      "text/markdown": [
       "```python\n",
       "def tf__scaled_elu(z, scale=None, alpha=None):\n",
       "    with ag__.FunctionScope('scaled_elu', 'fscope', ag__.ConversionOptions(recursive=True, user_requested=True, optional_features=(), internal_convert_user_code=True)) as fscope:\n",
       "        do_return = False\n",
       "        retval_ = ag__.UndefinedReturnValue()\n",
       "        is_positive = ag__.converted_call(ag__.ld(tf).greater_equal, (ag__.ld(z), 0.0), None, fscope)\n",
       "        try:\n",
       "            do_return = True\n",
       "            retval_ = ag__.ld(scale) * ag__.converted_call(ag__.ld(tf).where, (ag__.ld(is_positive), ag__.ld(z), ag__.ld(alpha) * (ag__.converted_call(ag__.ld(tf).math.exp, (ag__.ld(z),), None, fscope) - 1)), None, fscope)\n",
       "        except:\n",
       "            do_return = False\n",
       "            raise\n",
       "        return fscope.ret(retval_, do_return)\n",
       "\n",
       "```"
      ],
      "text/plain": [
       "<IPython.core.display.Markdown object>"
      ]
     },
     "metadata": {},
     "output_type": "display_data"
    }
   ],
   "source": [
    "def display_tf_code(func):\n",
    "    code=tf.autograph.to_code(func)\n",
    "    from IPython.display import display,Markdown\n",
    "    display(Markdown('```python\\n{}\\n```'.format(code)))\n",
    "display_tf_code(scaled_elu)"
   ]
  },
  {
   "cell_type": "code",
   "execution_count": 133,
   "id": "71ed3d4f",
   "metadata": {},
   "outputs": [
    {
     "data": {
      "text/markdown": [
       "```python\n",
       "def tf__converge_to(n_iters):\n",
       "    with ag__.FunctionScope('converge_to_2', 'fscope', ag__.ConversionOptions(recursive=True, user_requested=True, optional_features=(), internal_convert_user_code=True)) as fscope:\n",
       "        do_return = False\n",
       "        retval_ = ag__.UndefinedReturnValue()\n",
       "        total = ag__.converted_call(ag__.ld(tf).constant, (0.0,), None, fscope)\n",
       "        increment = ag__.converted_call(ag__.ld(tf).constant, (1.0,), None, fscope)\n",
       "\n",
       "        def get_state():\n",
       "            return (total, increment)\n",
       "\n",
       "        def set_state(vars_):\n",
       "            nonlocal total, increment\n",
       "            (total, increment) = vars_\n",
       "\n",
       "        def loop_body(itr):\n",
       "            nonlocal total, increment\n",
       "            _ = itr\n",
       "            total = ag__.ld(total)\n",
       "            total += increment\n",
       "            increment = ag__.ld(increment)\n",
       "            increment /= 2.0\n",
       "        _ = ag__.Undefined('_')\n",
       "        ag__.for_stmt(ag__.converted_call(ag__.ld(range), (ag__.ld(n_iters),), None, fscope), None, loop_body, get_state, set_state, ('total', 'increment'), {'iterate_names': '_'})\n",
       "        try:\n",
       "            do_return = True\n",
       "            retval_ = ag__.ld(total)\n",
       "        except:\n",
       "            do_return = False\n",
       "            raise\n",
       "        return fscope.ret(retval_, do_return)\n",
       "\n",
       "```"
      ],
      "text/plain": [
       "<IPython.core.display.Markdown object>"
      ]
     },
     "metadata": {},
     "output_type": "display_data"
    }
   ],
   "source": [
    "display_tf_code(converge_to_2.python_function)"
   ]
  },
  {
   "cell_type": "code",
   "execution_count": 134,
   "id": "3e549af0",
   "metadata": {},
   "outputs": [
    {
     "name": "stdout",
     "output_type": "stream",
     "text": [
      "tf.Tensor(21.0, shape=(), dtype=float32)\n"
     ]
    }
   ],
   "source": [
    "var=tf.Variable(0.)\n",
    "@tf.function\n",
    "def add_21():\n",
    "    return var.assign_add(21)\n",
    "print(add_21())"
   ]
  },
  {
   "cell_type": "code",
   "execution_count": 145,
   "id": "da3a1dc1",
   "metadata": {},
   "outputs": [
    {
     "name": "stdout",
     "output_type": "stream",
     "text": [
      "tf.Tensor([ 1.  8. 27.], shape=(3,), dtype=float32)\n"
     ]
    }
   ],
   "source": [
    "@tf.function\n",
    "def cube(z):\n",
    "    return tf.pow(z,3)\n",
    "try:\n",
    "    print(cube(tf.constant([1.,2.,3.])))\n",
    "except ValueError as ex:\n",
    "    print(ex)"
   ]
  },
  {
   "cell_type": "code",
   "execution_count": 146,
   "id": "b34db637",
   "metadata": {},
   "outputs": [
    {
     "name": "stdout",
     "output_type": "stream",
     "text": [
      "WARNING:tensorflow:5 out of the last 7 calls to <function cube at 0x000002371A5920D0> triggered tf.function retracing. Tracing is expensive and the excessive number of tracings could be due to (1) creating @tf.function repeatedly in a loop, (2) passing tensors with different shapes, (3) passing Python objects instead of tensors. For (1), please define your @tf.function outside of the loop. For (2), @tf.function has reduce_retracing=True option that can avoid unnecessary retracing. For (3), please refer to https://www.tensorflow.org/guide/function#controlling_retracing and https://www.tensorflow.org/api_docs/python/tf/function for  more details.\n",
      "tf.Tensor([ 1  8 27], shape=(3,), dtype=int32)\n"
     ]
    }
   ],
   "source": [
    "print(cube(tf.constant([1,2,3])))"
   ]
  },
  {
   "cell_type": "code",
   "execution_count": 147,
   "id": "787af235",
   "metadata": {},
   "outputs": [],
   "source": [
    "cube_func_int32=cube.get_concrete_function(tf.TensorSpec([None],tf.int32))\n"
   ]
  },
  {
   "cell_type": "code",
   "execution_count": 150,
   "id": "d9692997",
   "metadata": {},
   "outputs": [
    {
     "name": "stdout",
     "output_type": "stream",
     "text": [
      "tf.Tensor([ 1  8 27], shape=(3,), dtype=int32)\n"
     ]
    }
   ],
   "source": [
    "\n",
    "print(cube_func_int32(tf.constant([1,2,3])))"
   ]
  },
  {
   "cell_type": "code",
   "execution_count": 153,
   "id": "e51842f3",
   "metadata": {},
   "outputs": [
    {
     "name": "stdout",
     "output_type": "stream",
     "text": [
      "ConcreteFunction cube(z)\n",
      "  Args:\n",
      "    z: int32 Tensor, shape=(None,)\n",
      "  Returns:\n",
      "    int32 Tensor, shape=(None,)\n"
     ]
    }
   ],
   "source": [
    "print(cube.get_concrete_function(tf.TensorSpec([None],tf.int32)))"
   ]
  },
  {
   "cell_type": "code",
   "execution_count": 154,
   "id": "7a469c6a",
   "metadata": {},
   "outputs": [
    {
     "name": "stdout",
     "output_type": "stream",
     "text": [
      "ConcreteFunction cube(z)\n",
      "  Args:\n",
      "    z: int32 Tensor, shape=(None,)\n",
      "  Returns:\n",
      "    int32 Tensor, shape=(None,)\n"
     ]
    }
   ],
   "source": [
    "print(cube_func_int32)"
   ]
  },
  {
   "cell_type": "code",
   "execution_count": 156,
   "id": "c1db5143",
   "metadata": {},
   "outputs": [
    {
     "name": "stdout",
     "output_type": "stream",
     "text": [
      "True\n"
     ]
    }
   ],
   "source": [
    "print(cube_func_int32 is cube.get_concrete_function(tf.TensorSpec([None],tf.int32)))"
   ]
  },
  {
   "cell_type": "code",
   "execution_count": 157,
   "id": "40781411",
   "metadata": {},
   "outputs": [
    {
     "data": {
      "text/plain": [
       "<tensorflow.python.framework.func_graph.FuncGraph at 0x2371ab75610>"
      ]
     },
     "execution_count": 157,
     "metadata": {},
     "output_type": "execute_result"
    }
   ],
   "source": [
    "cube_func_int32.graph"
   ]
  },
  {
   "cell_type": "code",
   "execution_count": 158,
   "id": "8e800d8f",
   "metadata": {},
   "outputs": [
    {
     "data": {
      "text/plain": [
       "[<tf.Operation 'z' type=Placeholder>,\n",
       " <tf.Operation 'Pow/y' type=Const>,\n",
       " <tf.Operation 'Pow' type=Pow>,\n",
       " <tf.Operation 'Identity' type=Identity>]"
      ]
     },
     "execution_count": 158,
     "metadata": {},
     "output_type": "execute_result"
    }
   ],
   "source": [
    "cube_func_int32.graph.get_operations()"
   ]
  },
  {
   "cell_type": "code",
   "execution_count": 159,
   "id": "04dad92e",
   "metadata": {},
   "outputs": [
    {
     "name": "stdout",
     "output_type": "stream",
     "text": [
      "name: \"z\"\n",
      "op: \"Placeholder\"\n",
      "attr {\n",
      "  key: \"_user_specified_name\"\n",
      "  value {\n",
      "    s: \"z\"\n",
      "  }\n",
      "}\n",
      "attr {\n",
      "  key: \"dtype\"\n",
      "  value {\n",
      "    type: DT_INT32\n",
      "  }\n",
      "}\n",
      "attr {\n",
      "  key: \"shape\"\n",
      "  value {\n",
      "    shape {\n",
      "      dim {\n",
      "        size: -1\n",
      "      }\n",
      "    }\n",
      "  }\n",
      "}\n",
      "\n"
     ]
    }
   ],
   "source": [
    "pow_op=cube_func_int32.graph.get_operations()[0]\n",
    "print(pow_op)"
   ]
  },
  {
   "cell_type": "code",
   "execution_count": 160,
   "id": "64a6bfa8",
   "metadata": {},
   "outputs": [
    {
     "name": "stdout",
     "output_type": "stream",
     "text": [
      "7.999999999994678\n"
     ]
    }
   ],
   "source": [
    "def f(x):\n",
    "    return 3.*x**2+2.*x-1\n",
    "def approximate_derivative(f,x,eps=1e-4):\n",
    "    return (f(x+eps)-f(x-eps))/(2.*eps)\n",
    "print(approximate_derivative(f,1.))"
   ]
  },
  {
   "cell_type": "code",
   "execution_count": 161,
   "id": "578917e2",
   "metadata": {},
   "outputs": [
    {
     "data": {
      "text/plain": [
       "8.000000000230045"
      ]
     },
     "execution_count": 161,
     "metadata": {},
     "output_type": "execute_result"
    }
   ],
   "source": [
    "approximate_derivative(f,1.,1e-7)"
   ]
  },
  {
   "cell_type": "code",
   "execution_count": 163,
   "id": "a251de67",
   "metadata": {},
   "outputs": [
    {
     "data": {
      "text/plain": [
       "(8.999999999993236, 41.999999999994486)"
      ]
     },
     "execution_count": 163,
     "metadata": {},
     "output_type": "execute_result"
    }
   ],
   "source": [
    "def g(x1,x2):\n",
    "    return (x1+5)*(x2**2)\n",
    "def approximate_gradient(g,x1,x2,eps=1e-3):\n",
    "    dg_x1=approximate_derivative(lambda x:g(x,x2),x1,eps)\n",
    "    dg_x2=approximate_derivative(lambda x:g(x1,x),x2,eps)\n",
    "    return dg_x1,dg_x2\n",
    "approximate_gradient(g,2.,3.)"
   ]
  },
  {
   "cell_type": "code",
   "execution_count": 164,
   "id": "1f48e73b",
   "metadata": {},
   "outputs": [
    {
     "name": "stdout",
     "output_type": "stream",
     "text": [
      "tf.Tensor(9.0, shape=(), dtype=float32)\n",
      "A non-persistent GradientTape can only be used to compute one set of gradients (or jacobians)\n"
     ]
    }
   ],
   "source": [
    "x1=tf.Variable(2.)\n",
    "x2=tf.Variable(3.)\n",
    "with tf.GradientTape() as tape:\n",
    "    z=g(x1,x2)\n",
    "dz_x1=tape.gradient(z,x1)\n",
    "print(dz_x1)\n",
    "try:\n",
    "    dz_x2=tape.gradient(z,x2)\n",
    "except RuntimeError as ex:\n",
    "    print(ex)"
   ]
  },
  {
   "cell_type": "code",
   "execution_count": 165,
   "id": "7aca1b2f",
   "metadata": {},
   "outputs": [
    {
     "name": "stdout",
     "output_type": "stream",
     "text": [
      "tf.Tensor(9.0, shape=(), dtype=float32) tf.Tensor(42.0, shape=(), dtype=float32)\n"
     ]
    }
   ],
   "source": [
    "x1=tf.Variable(2.)\n",
    "x2=tf.Variable(3.)\n",
    "with tf.GradientTape(persistent=True) as tape:\n",
    "    z=g(x1,x2)\n",
    "dz_x1=tape.gradient(z,x1)\n",
    "dz_x2=tape.gradient(z,x2)\n",
    "print(dz_x1,dz_x2)"
   ]
  },
  {
   "cell_type": "code",
   "execution_count": 167,
   "id": "30df8adb",
   "metadata": {},
   "outputs": [],
   "source": [
    "del tape"
   ]
  },
  {
   "cell_type": "code",
   "execution_count": 168,
   "id": "b13adf6b",
   "metadata": {},
   "outputs": [
    {
     "data": {
      "text/plain": [
       "[<tf.Tensor: shape=(), dtype=float32, numpy=9.0>,\n",
       " <tf.Tensor: shape=(), dtype=float32, numpy=42.0>]"
      ]
     },
     "execution_count": 168,
     "metadata": {},
     "output_type": "execute_result"
    }
   ],
   "source": [
    "x1=tf.Variable(2.)\n",
    "x2=tf.Variable(3.)\n",
    "with tf.GradientTape() as tape:\n",
    "    z=g(x1,x2)\n",
    "dz_x1x2=tape.gradient(z,[x1,x2])\n",
    "dz_x1x2"
   ]
  },
  {
   "cell_type": "code",
   "execution_count": 170,
   "id": "3bd73fa0",
   "metadata": {},
   "outputs": [
    {
     "ename": "NameError",
     "evalue": "name 'tape' is not defined",
     "output_type": "error",
     "traceback": [
      "\u001b[1;31m---------------------------------------------------------------------------\u001b[0m",
      "\u001b[1;31mNameError\u001b[0m                                 Traceback (most recent call last)",
      "\u001b[1;32m~\\AppData\\Local\\Temp/ipykernel_13044/2532602195.py\u001b[0m in \u001b[0;36m<module>\u001b[1;34m\u001b[0m\n\u001b[1;32m----> 1\u001b[1;33m \u001b[1;32mdel\u001b[0m \u001b[0mtape\u001b[0m\u001b[1;33m\u001b[0m\u001b[1;33m\u001b[0m\u001b[0m\n\u001b[0m",
      "\u001b[1;31mNameError\u001b[0m: name 'tape' is not defined"
     ]
    }
   ],
   "source": [
    "del tape"
   ]
  },
  {
   "cell_type": "code",
   "execution_count": 171,
   "id": "fe1c72a3",
   "metadata": {},
   "outputs": [
    {
     "data": {
      "text/plain": [
       "<tf.Tensor: shape=(), dtype=float32, numpy=1134.0>"
      ]
     },
     "execution_count": 171,
     "metadata": {},
     "output_type": "execute_result"
    }
   ],
   "source": [
    "x1=tf.Variable(2.)\n",
    "x2=tf.Variable(3.)\n",
    "with tf.GradientTape() as tape:\n",
    "    z=g(x1,x2)\n",
    "    z1=z*z\n",
    "dz1_x1=tape.gradient(z1,x1)\n",
    "dz1_x1"
   ]
  },
  {
   "cell_type": "code",
   "execution_count": 172,
   "id": "3e22fc22",
   "metadata": {},
   "outputs": [
    {
     "name": "stdout",
     "output_type": "stream",
     "text": [
      "None\n",
      "tf.Tensor(42.0, shape=(), dtype=float32)\n"
     ]
    }
   ],
   "source": [
    "x1=tf.constant(2.0)\n",
    "x2=tf.Variable(3.0)\n",
    "with tf.GradientTape(persistent=True) as tape:\n",
    "    z=g(x1,x2)\n",
    "dz_x1=tape.gradient(z,x1)\n",
    "dz_x2=tape.gradient(z,x2)\n",
    "print(dz_x1)\n",
    "print(dz_x2)\n",
    "del tapex"
   ]
  },
  {
   "cell_type": "code",
   "execution_count": 173,
   "id": "c824d29e",
   "metadata": {},
   "outputs": [
    {
     "name": "stdout",
     "output_type": "stream",
     "text": [
      "tf.Tensor(9.0, shape=(), dtype=float32)\n",
      "tf.Tensor(42.0, shape=(), dtype=float32)\n"
     ]
    }
   ],
   "source": [
    "x1=tf.constant(2.0)\n",
    "x2=tf.Variable(3.0)\n",
    "with tf.GradientTape(persistent=True) as tape:\n",
    "    tape.watch(x1)\n",
    "    z=g(x1,x2)\n",
    "dz_x1=tape.gradient(z,x1)\n",
    "dz_x2=tape.gradient(z,x2)\n",
    "print(dz_x1)\n",
    "print(dz_x2)\n",
    "del tape"
   ]
  },
  {
   "cell_type": "code",
   "execution_count": 174,
   "id": "d47ff273",
   "metadata": {},
   "outputs": [
    {
     "data": {
      "text/plain": [
       "<tf.Tensor: shape=(), dtype=float32, numpy=36.0>"
      ]
     },
     "execution_count": 174,
     "metadata": {},
     "output_type": "execute_result"
    }
   ],
   "source": [
    "x=tf.Variable(3.0)\n",
    "with tf.GradientTape() as tape:\n",
    "    z1=3*x\n",
    "    z2=x**2\n",
    "    z3=x**3.0\n",
    "tape.gradient([z1,z2,z3],x)"
   ]
  },
  {
   "cell_type": "code",
   "execution_count": 177,
   "id": "1ee8e5e1",
   "metadata": {},
   "outputs": [
    {
     "name": "stdout",
     "output_type": "stream",
     "text": [
      "[[None, <tf.Tensor: shape=(), dtype=float32, numpy=6.0>], [<tf.Tensor: shape=(), dtype=float32, numpy=6.0>, <tf.Tensor: shape=(), dtype=float32, numpy=14.0>]]\n"
     ]
    }
   ],
   "source": [
    "x1=tf.Variable(2.)\n",
    "x2=tf.Variable(3.)\n",
    "with tf.GradientTape(persistent=True) as outer_tape:\n",
    "    with tf.GradientTape(persistent=True) as inner_tape:\n",
    "        z=g(x1,x2)\n",
    "    inner_grads=inner_tape.gradient(z,[x1,x2])\n",
    "outer_grads=[outer_tape.gradient(inner_grad,[x1,x2])for inner_grad in inner_grads]\n",
    "print(outer_grads)\n",
    "del inner_grads\n",
    "del outer_grads"
   ]
  },
  {
   "cell_type": "code",
   "execution_count": 178,
   "id": "49dfbc4f",
   "metadata": {},
   "outputs": [
    {
     "data": {
      "text/plain": [
       "<tf.Variable 'Variable:0' shape=() dtype=float32, numpy=-0.3333333>"
      ]
     },
     "execution_count": 178,
     "metadata": {},
     "output_type": "execute_result"
    }
   ],
   "source": [
    "learning_rate=0.1\n",
    "x=tf.Variable(2.)\n",
    "for _ in range(100):\n",
    "    with tf.GradientTape() as tape:\n",
    "        z=f(x)\n",
    "    dz_dx=tape.gradient(z,x)\n",
    "    x.assign_sub(learning_rate*dz_dx)\n",
    "x"
   ]
  },
  {
   "cell_type": "code",
   "execution_count": 181,
   "id": "700c3400",
   "metadata": {},
   "outputs": [
    {
     "data": {
      "text/plain": [
       "<tf.Variable 'Variable:0' shape=() dtype=float32, numpy=-0.3333333>"
      ]
     },
     "execution_count": 181,
     "metadata": {},
     "output_type": "execute_result"
    }
   ],
   "source": [
    "optimizer=keras.optimizers.SGD(learning_rate=learning_rate)\n",
    "for _ in range(100):\n",
    "    with tf.GradientTape() as tape:\n",
    "        z=f(x)\n",
    "    dz_dx=tape.gradient(z,x)\n",
    "    optimizer.apply_gradients([(dz_dx,x)])\n",
    "x"
   ]
  },
  {
   "cell_type": "code",
   "execution_count": 182,
   "id": "ed2ac5d9",
   "metadata": {},
   "outputs": [
    {
     "data": {
      "text/plain": [
       "<tf.Tensor: shape=(), dtype=float32, numpy=9.0>"
      ]
     },
     "execution_count": 182,
     "metadata": {},
     "output_type": "execute_result"
    }
   ],
   "source": [
    "metric=keras.metrics.MeanSquaredError()\n",
    "metric([5.],[2.])"
   ]
  },
  {
   "cell_type": "code",
   "execution_count": 183,
   "id": "9331e719",
   "metadata": {},
   "outputs": [
    {
     "data": {
      "text/plain": [
       "<tf.Tensor: shape=(), dtype=float32, numpy=5.0>"
      ]
     },
     "execution_count": 183,
     "metadata": {},
     "output_type": "execute_result"
    }
   ],
   "source": [
    "metric([0.],[1.])"
   ]
  },
  {
   "cell_type": "code",
   "execution_count": 184,
   "id": "33a5ee02",
   "metadata": {},
   "outputs": [
    {
     "data": {
      "text/plain": [
       "<tf.Tensor: shape=(), dtype=float32, numpy=5.0>"
      ]
     },
     "execution_count": 184,
     "metadata": {},
     "output_type": "execute_result"
    }
   ],
   "source": [
    "metric.result()"
   ]
  },
  {
   "cell_type": "code",
   "execution_count": 185,
   "id": "b50744d9",
   "metadata": {},
   "outputs": [
    {
     "data": {
      "text/plain": [
       "<keras.metrics.metrics.MeanSquaredError at 0x237160baee0>"
      ]
     },
     "execution_count": 185,
     "metadata": {},
     "output_type": "execute_result"
    }
   ],
   "source": [
    "metric.reset_state()\n",
    "metric"
   ]
  },
  {
   "cell_type": "code",
   "execution_count": 186,
   "id": "7ee38850",
   "metadata": {},
   "outputs": [
    {
     "name": "stdout",
     "output_type": "stream",
     "text": [
      "MeanSquaredError(name=mean_squared_error,dtype=float32)\n"
     ]
    }
   ],
   "source": [
    "print(metric)"
   ]
  },
  {
   "cell_type": "code",
   "execution_count": 187,
   "id": "bd61fc32",
   "metadata": {},
   "outputs": [
    {
     "data": {
      "text/plain": [
       "<tf.Tensor: shape=(), dtype=float32, numpy=0.0>"
      ]
     },
     "execution_count": 187,
     "metadata": {},
     "output_type": "execute_result"
    }
   ],
   "source": [
    "metric.result()"
   ]
  },
  {
   "cell_type": "code",
   "execution_count": 188,
   "id": "89b88bf7",
   "metadata": {},
   "outputs": [
    {
     "data": {
      "text/plain": [
       "11610"
      ]
     },
     "execution_count": 188,
     "metadata": {},
     "output_type": "execute_result"
    }
   ],
   "source": [
    "len(x_train_scaled)"
   ]
  },
  {
   "cell_type": "code",
   "execution_count": 189,
   "id": "68d97990",
   "metadata": {},
   "outputs": [
    {
     "data": {
      "text/plain": [
       "<tf.Tensor: shape=(3, 1), dtype=int32, numpy=\n",
       "array([[1],\n",
       "       [2],\n",
       "       [3]])>"
      ]
     },
     "execution_count": 189,
     "metadata": {},
     "output_type": "execute_result"
    }
   ],
   "source": [
    "t=tf.constant([[1],[2],[3]])\n",
    "tf.squeeze(t)\n",
    "t"
   ]
  },
  {
   "cell_type": "code",
   "execution_count": 191,
   "id": "77a17ce0",
   "metadata": {},
   "outputs": [
    {
     "data": {
      "text/plain": [
       "<tf.Tensor: shape=(3,), dtype=int32, numpy=array([1, 2, 3])>"
      ]
     },
     "execution_count": 191,
     "metadata": {},
     "output_type": "execute_result"
    }
   ],
   "source": [
    "tf.squeeze(t,1)\n"
   ]
  },
  {
   "cell_type": "code",
   "execution_count": 196,
   "id": "b656979f",
   "metadata": {},
   "outputs": [],
   "source": [
    "epochs=100\n",
    "batch_size=32\n",
    "steps_per_epoch=len(x_test_scaled)//batch_size\n",
    "optimizer=keras.optimizers.SGD()\n"
   ]
  },
  {
   "cell_type": "code",
   "execution_count": 197,
   "id": "e9578a1a",
   "metadata": {},
   "outputs": [],
   "source": [
    "def random_batch(x,y,batch_size=32):\n",
    "    idx=np.random.randint(0,len(x),size=batch_size)\n",
    "    return x[idx],y[idx]"
   ]
  },
  {
   "cell_type": "code",
   "execution_count": 198,
   "id": "293ea20b",
   "metadata": {},
   "outputs": [
    {
     "data": {
      "text/plain": [
       "[<tf.Variable 'dense_11/kernel:0' shape=(8, 30) dtype=float32, numpy=\n",
       " array([[-0.38965106, -0.00242227,  0.09615123,  0.31530866,  0.02144364,\n",
       "         -0.23063922,  0.3428327 ,  0.03705922,  0.30670622, -0.23104773,\n",
       "          0.29448405, -0.31318307, -0.30132812, -0.07744703,  0.12411544,\n",
       "         -0.26993802, -0.08510345,  0.36702576,  0.03726128,  0.32877937,\n",
       "          0.04570621, -0.26811177,  0.02583221, -0.01016262, -0.1020551 ,\n",
       "          0.19973502, -0.0446749 , -0.14237633,  0.05902904,  0.36460248],\n",
       "        [ 0.00426197,  0.11873981,  0.33155665,  0.21085975, -0.00484377,\n",
       "         -0.19865294, -0.02179551,  0.24285445,  0.3548555 , -0.38147083,\n",
       "          0.06160042, -0.12389827, -0.12416363, -0.17251845,  0.03050581,\n",
       "          0.03210658, -0.34887037,  0.08991653, -0.19209282,  0.3097596 ,\n",
       "         -0.33041644,  0.32251588,  0.15879253,  0.18394676, -0.2958405 ,\n",
       "         -0.17527133, -0.06773791, -0.28371283, -0.06501201, -0.21671729],\n",
       "        [ 0.37869254,  0.14568356,  0.05689543, -0.1602981 , -0.03557855,\n",
       "          0.37970397,  0.28711882, -0.37769192,  0.05918837,  0.19929281,\n",
       "          0.28782   ,  0.07301244,  0.2841892 ,  0.02548271,  0.37489346,\n",
       "         -0.34375224, -0.13627172,  0.0970754 , -0.14772089,  0.09427571,\n",
       "          0.32235608, -0.31406412, -0.06068847, -0.26248682,  0.05027762,\n",
       "         -0.24508467, -0.30066314, -0.03593817,  0.05091748,  0.15189674],\n",
       "        [ 0.21599993,  0.29739717,  0.34903154,  0.12162957,  0.30709824,\n",
       "         -0.10099044, -0.1630761 , -0.24295524,  0.088864  , -0.11467934,\n",
       "         -0.26934043,  0.32264015, -0.04365277, -0.14219245,  0.34563854,\n",
       "         -0.12563416,  0.17747608,  0.0535692 ,  0.18727663, -0.10824955,\n",
       "         -0.2727491 , -0.3021589 , -0.23519877,  0.17960581, -0.17588675,\n",
       "         -0.01377574, -0.38741127, -0.10585639, -0.08627754, -0.20187753],\n",
       "        [-0.30149278, -0.1541209 , -0.17030253, -0.34446162, -0.33991772,\n",
       "          0.27830252, -0.1086033 ,  0.24667373, -0.09492266,  0.00391534,\n",
       "         -0.27364397,  0.19669935,  0.28543177,  0.19166955,  0.18210033,\n",
       "         -0.25346926,  0.14299998, -0.11352485,  0.01948485, -0.11309463,\n",
       "          0.29615834,  0.19880643, -0.23450774,  0.04960072,  0.06482092,\n",
       "          0.35303804,  0.14772448, -0.37139583, -0.01057267,  0.08840472],\n",
       "        [ 0.19395092,  0.08858168,  0.0174028 , -0.19990131,  0.33593372,\n",
       "         -0.17070828, -0.00716275, -0.24613626, -0.10748968,  0.3599101 ,\n",
       "          0.23385474,  0.03905836, -0.35051197,  0.34446493,  0.2140294 ,\n",
       "          0.09882152,  0.01756603,  0.24032548,  0.05442989,  0.20288518,\n",
       "         -0.0609594 ,  0.28547314,  0.02885604, -0.17753254, -0.34741774,\n",
       "         -0.1116477 , -0.07737428,  0.06113335, -0.05997375, -0.09366134],\n",
       "        [ 0.2358757 , -0.2625279 ,  0.07095662,  0.06552425, -0.07263717,\n",
       "         -0.07963708,  0.23584148,  0.20143321,  0.17858818,  0.31537965,\n",
       "         -0.24455982,  0.16570005,  0.3168644 ,  0.27854034, -0.37997916,\n",
       "          0.39304587,  0.21864793, -0.20346051, -0.2611882 , -0.09494448,\n",
       "         -0.16399118, -0.32705846, -0.33076376,  0.07861012, -0.14817287,\n",
       "         -0.37843505, -0.16142775, -0.35450727, -0.26493245,  0.3008624 ],\n",
       "        [-0.24009179, -0.17129007, -0.291414  ,  0.25610486,  0.23155835,\n",
       "          0.3253118 , -0.32093358,  0.38093194,  0.29620174, -0.33538443,\n",
       "         -0.0314095 ,  0.3200322 ,  0.39049318,  0.11835489,  0.2652643 ,\n",
       "          0.05605927, -0.04865095,  0.327661  , -0.23835808, -0.34896216,\n",
       "         -0.24582969, -0.08654729, -0.30387658,  0.3880644 ,  0.01944646,\n",
       "         -0.20245175, -0.07647863, -0.23978058,  0.2807807 , -0.25812298]],\n",
       "       dtype=float32)>,\n",
       " <tf.Variable 'dense_11/bias:0' shape=(30,) dtype=float32, numpy=\n",
       " array([0., 0., 0., 0., 0., 0., 0., 0., 0., 0., 0., 0., 0., 0., 0., 0., 0.,\n",
       "        0., 0., 0., 0., 0., 0., 0., 0., 0., 0., 0., 0., 0.], dtype=float32)>,\n",
       " <tf.Variable 'dense_12/kernel:0' shape=(30, 1) dtype=float32, numpy=\n",
       " array([[ 0.27095413],\n",
       "        [-0.24717803],\n",
       "        [ 0.02443752],\n",
       "        [ 0.4271989 ],\n",
       "        [-0.35897315],\n",
       "        [-0.1076957 ],\n",
       "        [ 0.2420615 ],\n",
       "        [-0.06374502],\n",
       "        [-0.19929388],\n",
       "        [ 0.29270625],\n",
       "        [-0.2950688 ],\n",
       "        [-0.37011993],\n",
       "        [ 0.1356718 ],\n",
       "        [-0.28874308],\n",
       "        [-0.0591349 ],\n",
       "        [ 0.41186476],\n",
       "        [-0.16604537],\n",
       "        [-0.4332263 ],\n",
       "        [ 0.03268337],\n",
       "        [-0.2484213 ],\n",
       "        [-0.31437206],\n",
       "        [ 0.23647463],\n",
       "        [ 0.11530387],\n",
       "        [ 0.21195412],\n",
       "        [ 0.21220398],\n",
       "        [ 0.04197118],\n",
       "        [ 0.1663416 ],\n",
       "        [ 0.3305477 ],\n",
       "        [ 0.29656756],\n",
       "        [-0.361904  ]], dtype=float32)>,\n",
       " <tf.Variable 'dense_12/bias:0' shape=(1,) dtype=float32, numpy=array([0.], dtype=float32)>]"
      ]
     },
     "execution_count": 198,
     "metadata": {},
     "output_type": "execute_result"
    }
   ],
   "source": [
    "model=keras.models.Sequential([keras.layers.Dense(30,activation='relu',input_shape=x_train.shape[1:]),keras.layers.Dense(1)])\n",
    "model.variables"
   ]
  },
  {
   "cell_type": "code",
   "execution_count": 199,
   "id": "50bf5dd9",
   "metadata": {},
   "outputs": [
    {
     "name": "stdout",
     "output_type": "stream",
     "text": [
      "Epoch0train mse:1.0454208\n",
      "\t valid mse: 0.7028216069826394\n",
      "Epoch1train mse:0.59577035\n",
      "\t valid mse: 0.6799721826394848\n",
      "Epoch2train mse:0.56138185\n",
      "\t valid mse: 0.5872896093027608\n",
      "Epoch3train mse:1.48571854\n",
      "\t valid mse: 0.9234878729517981\n",
      "Epoch4train mse:0.50036685\n",
      "\t valid mse: 0.4986353746642227\n",
      "Epoch5train mse:0.48020154\n",
      "\t valid mse: 0.47038902520672676\n",
      "Epoch6train mse:0.43935603\n",
      "\t valid mse: 0.4582229451290102\n",
      "Epoch7train mse:0.42116642\n",
      "\t valid mse: 0.4576244048557036\n",
      "Epoch8train mse:0.40968582\n",
      "\t valid mse: 0.4342109939036434\n",
      "Epoch9train mse:0.43349613\n",
      "\t valid mse: 0.4187126508783324\n",
      "Epoch10train mse:0.39253417\n",
      "\t valid mse: 0.41674756763586523\n",
      "Epoch11train mse:0.40296653\n",
      "\t valid mse: 0.42283126980929947\n",
      "Epoch12train mse:0.39291444\n",
      "\t valid mse: 0.4020607629350561\n",
      "Epoch13train mse:0.38230163\n",
      "\t valid mse: 0.40076621774106586\n",
      "Epoch14train mse:0.36701775\n",
      "\t valid mse: 0.39116211889503105\n",
      "Epoch15train mse:0.39290825\n",
      "\t valid mse: 0.3951355552830664\n",
      "Epoch16train mse:0.38067663\n",
      "\t valid mse: 0.3886092403899162\n",
      "Epoch17train mse:0.37850633\n",
      "\t valid mse: 0.39031191423703404\n",
      "Epoch18train mse:0.39042717\n",
      "\t valid mse: 0.3834796888240199\n",
      "Epoch19train mse:0.36429858\n",
      "\t valid mse: 0.3814327316586367\n",
      "Epoch20train mse:0.36349097\n",
      "\t valid mse: 0.38326781399274173\n",
      "Epoch21train mse:0.34629083\n",
      "\t valid mse: 0.3857868237738354\n",
      "Epoch22train mse:0.37818894\n",
      "\t valid mse: 0.38184502568706274\n",
      "Epoch23train mse:0.37432885\n",
      "\t valid mse: 0.37787082774177994\n",
      "Epoch24train mse:0.49490887\n",
      "\t valid mse: 0.4016063349285364\n",
      "Epoch25train mse:0.93596487\n",
      "\t valid mse: 0.436134098976053\n",
      "Epoch26train mse:0.39100835\n",
      "\t valid mse: 0.41144739023306776\n",
      "Epoch27train mse:0.37656152\n",
      "\t valid mse: 0.4038170702976533\n",
      "Epoch28train mse:0.40548953\n",
      "\t valid mse: 0.38679174329616867\n",
      "Epoch29train mse:0.38370982\n",
      "\t valid mse: 0.38548469781440775\n",
      "Epoch30train mse:0.35241988\n",
      "\t valid mse: 0.38299079448341006\n",
      "Epoch31train mse:0.37833607\n",
      "\t valid mse: 0.38118054154406\n",
      "Epoch32train mse:0.37063217\n",
      "\t valid mse: 0.37996088005882606\n",
      "Epoch33train mse:0.39467462\n",
      "\t valid mse: 0.37623675454684835\n",
      "Epoch34train mse:0.37756604\n",
      "\t valid mse: 0.37368733728981723\n",
      "Epoch35train mse:0.36316146\n",
      "\t valid mse: 0.3730313238791047\n",
      "Epoch36train mse:0.34206175\n",
      "\t valid mse: 0.3797187620399067\n",
      "Epoch37train mse:0.35012573\n",
      "\t valid mse: 0.37289895588105093\n",
      "Epoch38train mse:0.36061913\n",
      "\t valid mse: 0.3740244954898446\n",
      "Epoch39train mse:0.35816217\n",
      "\t valid mse: 0.3737324240017177\n",
      "Epoch40train mse:0.35842836\n",
      "\t valid mse: 0.36997069358092216\n",
      "Epoch41train mse:0.37595218\n",
      "\t valid mse: 0.3702535038117288\n",
      "Epoch42train mse:0.34940968\n",
      "\t valid mse: 0.4092935569908235\n",
      "Epoch43train mse:0.37812182\n",
      "\t valid mse: 0.3642757571788379\n",
      "Epoch44train mse:0.36230454\n",
      "\t valid mse: 0.3689269677266481\n",
      "Epoch45train mse:0.35528097\n",
      "\t valid mse: 0.36595018212394853\n",
      "Epoch46train mse:0.37169218\n",
      "\t valid mse: 0.3636932904002862\n",
      "Epoch47train mse:0.36043727\n",
      "\t valid mse: 0.3608563532207394\n",
      "Epoch48train mse:0.38419366\n",
      "\t valid mse: 0.36054025914401405\n",
      "Epoch49train mse:0.34887126\n",
      "\t valid mse: 0.35994543602230866\n",
      "Epoch50train mse:0.37148842\n",
      "\t valid mse: 0.3630875369355337\n",
      "Epoch51train mse:0.34700152\n",
      "\t valid mse: 0.360779751017614\n",
      "Epoch52train mse:0.35176185\n",
      "\t valid mse: 0.3575330625829768\n",
      "Epoch53train mse:0.34138393\n",
      "\t valid mse: 0.3548796893617049\n",
      "Epoch54train mse:0.33491596\n",
      "\t valid mse: 0.35955218151031554\n",
      "Epoch55train mse:0.35182458\n",
      "\t valid mse: 0.35680362040596403\n",
      "Epoch56train mse:0.35281318\n",
      "\t valid mse: 0.37565112139848067\n",
      "Epoch57train mse:0.35482082\n",
      "\t valid mse: 0.36413255117164317\n",
      "Epoch58train mse:0.31994102\n",
      "\t valid mse: 0.35511326641416086\n",
      "Epoch59train mse:0.34537517\n",
      "\t valid mse: 0.35705263781462193\n",
      "Epoch60train mse:0.33473256\n",
      "\t valid mse: 0.3524520513989937\n",
      "Epoch61train mse:0.32237643\n",
      "\t valid mse: 0.35282642711917006\n",
      "Epoch62train mse:0.34426975\n",
      "\t valid mse: 0.3516722429992655\n",
      "Epoch63train mse:0.33882412\n",
      "\t valid mse: 0.3516194973390359\n",
      "Epoch64train mse:0.33377323\n",
      "\t valid mse: 0.36099347064548476\n",
      "Epoch65train mse:0.35125265\n",
      "\t valid mse: 0.35802144316559337\n",
      "Epoch66train mse:0.36822549\n",
      "\t valid mse: 0.34851468089757376\n",
      "Epoch67train mse:0.34433404\n",
      "\t valid mse: 0.34835643457850773\n",
      "Epoch68train mse:0.33112085\n",
      "\t valid mse: 0.360246634074393\n",
      "Epoch69train mse:0.34792173\n",
      "\t valid mse: 0.3495470793269123\n",
      "Epoch70train mse:0.35508626\n",
      "\t valid mse: 0.35270888052675525\n",
      "Epoch71train mse:0.34828728\n",
      "\t valid mse: 0.35552548539647416\n",
      "Epoch72train mse:0.33478236\n",
      "\t valid mse: 0.35572798530211563\n",
      "Epoch73train mse:0.34733286\n",
      "\t valid mse: 0.3472132689736399\n",
      "Epoch74train mse:0.32888567\n",
      "\t valid mse: 0.3503787724954692\n",
      "Epoch75train mse:0.36328828\n",
      "\t valid mse: 0.34611912623222163\n",
      "Epoch76train mse:0.33024144\n",
      "\t valid mse: 0.3521829074999769\n",
      "Epoch77train mse:0.33788687\n",
      "\t valid mse: 0.3472360591432132\n",
      "Epoch78train mse:0.32518646\n",
      "\t valid mse: 0.3454762024548315\n",
      "Epoch79train mse:0.32860867\n",
      "\t valid mse: 0.34503559632091746\n",
      "Epoch80train mse:0.32329774\n",
      "\t valid mse: 0.3463192513419569\n",
      "Epoch81train mse:0.31695414\n",
      "\t valid mse: 0.34631276118283155\n",
      "Epoch82train mse:0.32623604\n",
      "\t valid mse: 0.3457463368189673\n",
      "Epoch83train mse:0.40898848\n",
      "\t valid mse: 0.35334586291613757\n",
      "Epoch84train mse:0.31010545\n",
      "\t valid mse: 0.34269563154804755\n",
      "Epoch85train mse:0.32950366\n",
      "\t valid mse: 0.34416474060143776\n",
      "Epoch86train mse:0.32128203\n",
      "\t valid mse: 0.34021261233212513\n",
      "Epoch87train mse:0.34180593\n",
      "\t valid mse: 0.3456447529674377\n",
      "Epoch88train mse:0.32918864\n",
      "\t valid mse: 0.34253884098433046\n",
      "Epoch89train mse:0.32909527\n",
      "\t valid mse: 0.34889824215261644\n",
      "Epoch90train mse:0.32475585\n",
      "\t valid mse: 0.3402336693906683\n",
      "Epoch91train mse:0.32037735\n",
      "\t valid mse: 0.34494159380909245\n",
      "Epoch92train mse:0.31230842\n",
      "\t valid mse: 0.34825385995773833\n",
      "Epoch93train mse:0.32744813\n",
      "\t valid mse: 0.3440907053483681\n",
      "Epoch94train mse:0.36152693\n",
      "\t valid mse: 0.3403351395499412\n",
      "Epoch95train mse:0.32724353\n",
      "\t valid mse: 0.34254448781676644\n",
      "Epoch96train mse:0.31761655\n",
      "\t valid mse: 0.33710271683984516\n",
      "Epoch97train mse:0.33440447\n",
      "\t valid mse: 0.3382335494588567\n",
      "Epoch98train mse:0.32792273\n",
      "\t valid mse: 0.34266887356154796\n",
      "Epoch99train mse:0.30844215\n",
      "\t valid mse: 0.3393757142802887\n"
     ]
    }
   ],
   "source": [
    "for epoch in range(epochs):\n",
    "    metric.reset_state()\n",
    "    for step in range(steps_per_epoch):\n",
    "        x_batch,y_batch=random_batch(x_train_scaled,y_train,batch_size)\n",
    "        with tf.GradientTape() as tape:\n",
    "            y_pred=model(x_batch)\n",
    "            y_pred=tf.squeeze(y_pred,1)\n",
    "            loss=keras.losses.mean_squared_error(y_batch,y_pred)\n",
    "            metric(y_batch,y_pred)\n",
    "        grads=tape.gradient(loss,model.variables)\n",
    "        grads_and_vars=zip(grads,model.variables)\n",
    "        optimizer.apply_gradients(grads_and_vars)\n",
    "        p='Epoch'+str(epoch)+\"train mse:\"+str(metric.result().numpy())\n",
    "        print(p,end='\\r')\n",
    "    print('')\n",
    "    y_valid_pred=model(x_valid_scaled)\n",
    "    y_valid_pred=tf.squeeze(y_valid_pred,1)\n",
    "    valid_loss=keras.losses.mean_squared_error(y_valid_pred,y_valid)\n",
    "    print('\\t','valid mse:',valid_loss.numpy())"
   ]
  },
  {
   "cell_type": "code",
   "execution_count": 201,
   "id": "b66282ae",
   "metadata": {},
   "outputs": [
    {
     "data": {
      "text/plain": [
       "<TensorSliceDataset element_spec=TensorSpec(shape=(), dtype=tf.int32, name=None)>"
      ]
     },
     "execution_count": 201,
     "metadata": {},
     "output_type": "execute_result"
    }
   ],
   "source": [
    "dataset=tf.data.Dataset.from_tensor_slices(np.arange(10))\n",
    "dataset"
   ]
  },
  {
   "cell_type": "code",
   "execution_count": 202,
   "id": "2cbd810c",
   "metadata": {},
   "outputs": [
    {
     "name": "stdout",
     "output_type": "stream",
     "text": [
      "tf.Tensor(0, shape=(), dtype=int32)\n",
      "tf.Tensor(1, shape=(), dtype=int32)\n",
      "tf.Tensor(2, shape=(), dtype=int32)\n",
      "tf.Tensor(3, shape=(), dtype=int32)\n",
      "tf.Tensor(4, shape=(), dtype=int32)\n",
      "tf.Tensor(5, shape=(), dtype=int32)\n",
      "tf.Tensor(6, shape=(), dtype=int32)\n",
      "tf.Tensor(7, shape=(), dtype=int32)\n",
      "tf.Tensor(8, shape=(), dtype=int32)\n",
      "tf.Tensor(9, shape=(), dtype=int32)\n"
     ]
    }
   ],
   "source": [
    "for item in dataset:\n",
    "    print(item)"
   ]
  },
  {
   "cell_type": "code",
   "execution_count": 203,
   "id": "2a8cdf68",
   "metadata": {},
   "outputs": [
    {
     "name": "stdout",
     "output_type": "stream",
     "text": [
      "tf.Tensor(0, shape=(), dtype=int32)\n",
      "tf.Tensor(1, shape=(), dtype=int32)\n",
      "tf.Tensor(2, shape=(), dtype=int32)\n",
      "tf.Tensor(3, shape=(), dtype=int32)\n",
      "tf.Tensor(4, shape=(), dtype=int32)\n",
      "tf.Tensor(5, shape=(), dtype=int32)\n",
      "tf.Tensor(6, shape=(), dtype=int32)\n",
      "tf.Tensor(7, shape=(), dtype=int32)\n",
      "tf.Tensor(8, shape=(), dtype=int32)\n",
      "tf.Tensor(9, shape=(), dtype=int32)\n",
      "tf.Tensor(0, shape=(), dtype=int32)\n",
      "tf.Tensor(1, shape=(), dtype=int32)\n",
      "tf.Tensor(2, shape=(), dtype=int32)\n",
      "tf.Tensor(3, shape=(), dtype=int32)\n",
      "tf.Tensor(4, shape=(), dtype=int32)\n",
      "tf.Tensor(5, shape=(), dtype=int32)\n",
      "tf.Tensor(6, shape=(), dtype=int32)\n",
      "tf.Tensor(7, shape=(), dtype=int32)\n",
      "tf.Tensor(8, shape=(), dtype=int32)\n",
      "tf.Tensor(9, shape=(), dtype=int32)\n",
      "tf.Tensor(0, shape=(), dtype=int32)\n",
      "tf.Tensor(1, shape=(), dtype=int32)\n",
      "tf.Tensor(2, shape=(), dtype=int32)\n",
      "tf.Tensor(3, shape=(), dtype=int32)\n",
      "tf.Tensor(4, shape=(), dtype=int32)\n",
      "tf.Tensor(5, shape=(), dtype=int32)\n",
      "tf.Tensor(6, shape=(), dtype=int32)\n",
      "tf.Tensor(7, shape=(), dtype=int32)\n",
      "tf.Tensor(8, shape=(), dtype=int32)\n",
      "tf.Tensor(9, shape=(), dtype=int32)\n"
     ]
    }
   ],
   "source": [
    "dataset1=dataset.repeat(3)\n",
    "for item in dataset1:\n",
    "    print(item)"
   ]
  },
  {
   "cell_type": "code",
   "execution_count": 204,
   "id": "d807d515",
   "metadata": {},
   "outputs": [
    {
     "data": {
      "text/plain": [
       "<BatchDataset element_spec=TensorSpec(shape=(None,), dtype=tf.int32, name=None)>"
      ]
     },
     "execution_count": 204,
     "metadata": {},
     "output_type": "execute_result"
    }
   ],
   "source": [
    "dataset=dataset.repeat(3).batch(7)\n",
    "dataset"
   ]
  },
  {
   "cell_type": "code",
   "execution_count": 205,
   "id": "560799c6",
   "metadata": {},
   "outputs": [
    {
     "name": "stdout",
     "output_type": "stream",
     "text": [
      "<BatchDataset element_spec=TensorSpec(shape=(None,), dtype=tf.int32, name=None)>\n"
     ]
    }
   ],
   "source": [
    "print(dataset)"
   ]
  },
  {
   "cell_type": "code",
   "execution_count": 206,
   "id": "04eadd0c",
   "metadata": {},
   "outputs": [
    {
     "name": "stdout",
     "output_type": "stream",
     "text": [
      "tf.Tensor([0 1 2 3 4 5 6], shape=(7,), dtype=int32)\n",
      "tf.Tensor([7 8 9 0 1 2 3], shape=(7,), dtype=int32)\n",
      "tf.Tensor([4 5 6 7 8 9 0], shape=(7,), dtype=int32)\n",
      "tf.Tensor([1 2 3 4 5 6 7], shape=(7,), dtype=int32)\n",
      "tf.Tensor([8 9], shape=(2,), dtype=int32)\n"
     ]
    }
   ],
   "source": [
    "i=0\n",
    "for item in dataset:\n",
    "    i+=1\n",
    "    print(item)"
   ]
  },
  {
   "cell_type": "code",
   "execution_count": 207,
   "id": "4b9b0d7b",
   "metadata": {},
   "outputs": [
    {
     "name": "stdout",
     "output_type": "stream",
     "text": [
      "tf.Tensor([0 1 2 3 4 5 6], shape=(7,), dtype=int32)\n",
      "tf.Tensor([7 8 9 0 1 2 3], shape=(7,), dtype=int32)\n",
      "tf.Tensor([4 5 6 7 8 9 0], shape=(7,), dtype=int32)\n",
      "tf.Tensor([1 2 3 4 5 6 7], shape=(7,), dtype=int32)\n",
      "tf.Tensor([8 9], shape=(2,), dtype=int32)\n"
     ]
    }
   ],
   "source": [
    "for i in dataset:\n",
    "    print(i)"
   ]
  },
  {
   "cell_type": "code",
   "execution_count": 214,
   "id": "85506928",
   "metadata": {},
   "outputs": [
    {
     "data": {
      "text/plain": [
       "<InterleaveDataset element_spec=TensorSpec(shape=(), dtype=tf.int32, name=None)>"
      ]
     },
     "execution_count": 214,
     "metadata": {},
     "output_type": "execute_result"
    }
   ],
   "source": [
    "dataset2=dataset.interleave(lambda v:tf.data.Dataset.from_tensor_slices(v),cycle_length=3,block_length=6)\n",
    "dataset2"
   ]
  },
  {
   "cell_type": "code",
   "execution_count": 215,
   "id": "e8a4ea07",
   "metadata": {},
   "outputs": [
    {
     "name": "stdout",
     "output_type": "stream",
     "text": [
      "tf.Tensor(0, shape=(), dtype=int32)\n",
      "tf.Tensor(1, shape=(), dtype=int32)\n",
      "tf.Tensor(2, shape=(), dtype=int32)\n",
      "tf.Tensor(3, shape=(), dtype=int32)\n",
      "tf.Tensor(4, shape=(), dtype=int32)\n",
      "tf.Tensor(5, shape=(), dtype=int32)\n",
      "tf.Tensor(7, shape=(), dtype=int32)\n",
      "tf.Tensor(8, shape=(), dtype=int32)\n",
      "tf.Tensor(9, shape=(), dtype=int32)\n",
      "tf.Tensor(0, shape=(), dtype=int32)\n",
      "tf.Tensor(1, shape=(), dtype=int32)\n",
      "tf.Tensor(2, shape=(), dtype=int32)\n",
      "tf.Tensor(4, shape=(), dtype=int32)\n",
      "tf.Tensor(5, shape=(), dtype=int32)\n",
      "tf.Tensor(6, shape=(), dtype=int32)\n",
      "tf.Tensor(7, shape=(), dtype=int32)\n",
      "tf.Tensor(8, shape=(), dtype=int32)\n",
      "tf.Tensor(9, shape=(), dtype=int32)\n",
      "tf.Tensor(6, shape=(), dtype=int32)\n",
      "tf.Tensor(3, shape=(), dtype=int32)\n",
      "tf.Tensor(0, shape=(), dtype=int32)\n",
      "tf.Tensor(1, shape=(), dtype=int32)\n",
      "tf.Tensor(2, shape=(), dtype=int32)\n",
      "tf.Tensor(3, shape=(), dtype=int32)\n",
      "tf.Tensor(4, shape=(), dtype=int32)\n",
      "tf.Tensor(5, shape=(), dtype=int32)\n",
      "tf.Tensor(6, shape=(), dtype=int32)\n",
      "tf.Tensor(8, shape=(), dtype=int32)\n",
      "tf.Tensor(9, shape=(), dtype=int32)\n",
      "tf.Tensor(7, shape=(), dtype=int32)\n"
     ]
    },
    {
     "data": {
      "text/plain": [
       "30"
      ]
     },
     "execution_count": 215,
     "metadata": {},
     "output_type": "execute_result"
    }
   ],
   "source": [
    "i=0\n",
    "for item in dataset2:\n",
    "    i+=1\n",
    "    print(item)\n",
    "i\n"
   ]
  },
  {
   "cell_type": "code",
   "execution_count": null,
   "id": "538f53b0",
   "metadata": {},
   "outputs": [],
   "source": []
  },
  {
   "cell_type": "code",
   "execution_count": 210,
   "id": "a3ebe938",
   "metadata": {},
   "outputs": [
    {
     "name": "stdout",
     "output_type": "stream",
     "text": [
      "tf.Tensor(1, shape=(), dtype=int64)\n",
      "tf.Tensor(2, shape=(), dtype=int64)\n",
      "tf.Tensor(3, shape=(), dtype=int64)\n",
      "tf.Tensor(4, shape=(), dtype=int64)\n",
      "tf.Tensor(5, shape=(), dtype=int64)\n",
      "tf.Tensor(1, shape=(), dtype=int64)\n",
      "tf.Tensor(2, shape=(), dtype=int64)\n",
      "tf.Tensor(3, shape=(), dtype=int64)\n",
      "tf.Tensor(4, shape=(), dtype=int64)\n",
      "tf.Tensor(5, shape=(), dtype=int64)\n",
      "tf.Tensor(1, shape=(), dtype=int64)\n",
      "tf.Tensor(2, shape=(), dtype=int64)\n",
      "tf.Tensor(3, shape=(), dtype=int64)\n",
      "tf.Tensor(4, shape=(), dtype=int64)\n",
      "tf.Tensor(5, shape=(), dtype=int64)\n",
      "tf.Tensor(1, shape=(), dtype=int64)\n",
      "tf.Tensor(2, shape=(), dtype=int64)\n",
      "tf.Tensor(3, shape=(), dtype=int64)\n",
      "tf.Tensor(4, shape=(), dtype=int64)\n",
      "tf.Tensor(5, shape=(), dtype=int64)\n",
      "tf.Tensor(1, shape=(), dtype=int64)\n",
      "tf.Tensor(2, shape=(), dtype=int64)\n",
      "tf.Tensor(3, shape=(), dtype=int64)\n",
      "tf.Tensor(4, shape=(), dtype=int64)\n",
      "tf.Tensor(5, shape=(), dtype=int64)\n",
      "tf.Tensor(1, shape=(), dtype=int64)\n",
      "tf.Tensor(2, shape=(), dtype=int64)\n",
      "tf.Tensor(3, shape=(), dtype=int64)\n",
      "tf.Tensor(4, shape=(), dtype=int64)\n",
      "tf.Tensor(5, shape=(), dtype=int64)\n"
     ]
    }
   ],
   "source": [
    "a=tf.data.Dataset.range(1,6)\n",
    "b=a.repeat(6)\n",
    "for i in b:\n",
    "    print(i)"
   ]
  },
  {
   "cell_type": "code",
   "execution_count": 213,
   "id": "0f3efee5",
   "metadata": {},
   "outputs": [
    {
     "name": "stdout",
     "output_type": "stream",
     "text": [
      "tf.Tensor(1, shape=(), dtype=int64)\n",
      "tf.Tensor(1, shape=(), dtype=int64)\n",
      "tf.Tensor(1, shape=(), dtype=int64)\n",
      "tf.Tensor(1, shape=(), dtype=int64)\n",
      "tf.Tensor(2, shape=(), dtype=int64)\n",
      "tf.Tensor(2, shape=(), dtype=int64)\n",
      "tf.Tensor(2, shape=(), dtype=int64)\n",
      "tf.Tensor(2, shape=(), dtype=int64)\n",
      "tf.Tensor(3, shape=(), dtype=int64)\n",
      "tf.Tensor(3, shape=(), dtype=int64)\n",
      "tf.Tensor(3, shape=(), dtype=int64)\n",
      "tf.Tensor(3, shape=(), dtype=int64)\n",
      "tf.Tensor(1, shape=(), dtype=int64)\n",
      "tf.Tensor(1, shape=(), dtype=int64)\n",
      "tf.Tensor(2, shape=(), dtype=int64)\n",
      "tf.Tensor(2, shape=(), dtype=int64)\n",
      "tf.Tensor(3, shape=(), dtype=int64)\n",
      "tf.Tensor(3, shape=(), dtype=int64)\n",
      "tf.Tensor(4, shape=(), dtype=int64)\n",
      "tf.Tensor(4, shape=(), dtype=int64)\n",
      "tf.Tensor(4, shape=(), dtype=int64)\n",
      "tf.Tensor(4, shape=(), dtype=int64)\n",
      "tf.Tensor(5, shape=(), dtype=int64)\n",
      "tf.Tensor(5, shape=(), dtype=int64)\n",
      "tf.Tensor(5, shape=(), dtype=int64)\n",
      "tf.Tensor(5, shape=(), dtype=int64)\n",
      "tf.Tensor(4, shape=(), dtype=int64)\n",
      "tf.Tensor(4, shape=(), dtype=int64)\n",
      "tf.Tensor(5, shape=(), dtype=int64)\n",
      "tf.Tensor(5, shape=(), dtype=int64)\n"
     ]
    }
   ],
   "source": [
    "a1=a.interleave(lambda x:tf.data.Dataset.from_tensors(x).repeat(6),cycle_length=3,block_length=4)\n",
    "for i in a1:\n",
    "    print(i)"
   ]
  },
  {
   "cell_type": "code",
   "execution_count": 216,
   "id": "2632810a",
   "metadata": {},
   "outputs": [
    {
     "name": "stdout",
     "output_type": "stream",
     "text": [
      "tf.Tensor([1 2], shape=(2,), dtype=int32) tf.Tensor(b'cat', shape=(), dtype=string)\n",
      "tf.Tensor([3 4], shape=(2,), dtype=int32) tf.Tensor(b'dog', shape=(), dtype=string)\n",
      "tf.Tensor([5 6], shape=(2,), dtype=int32) tf.Tensor(b'fox', shape=(), dtype=string)\n"
     ]
    }
   ],
   "source": [
    "x = np.array([[1, 2], [3, 4], [5, 6]])\n",
    "y = np.array(['cat', 'dog', 'fox'])\n",
    "dataset3=tf.data.Dataset.from_tensor_slices((x,y))\n",
    "for item_x,item_y in dataset3:\n",
    "    print(item_x,item_y)"
   ]
  },
  {
   "cell_type": "code",
   "execution_count": 217,
   "id": "0df6f913",
   "metadata": {},
   "outputs": [
    {
     "name": "stdout",
     "output_type": "stream",
     "text": [
      "(<tf.Tensor: shape=(2,), dtype=int32, numpy=array([1, 2])>, <tf.Tensor: shape=(), dtype=string, numpy=b'cat'>)\n",
      "(<tf.Tensor: shape=(2,), dtype=int32, numpy=array([3, 4])>, <tf.Tensor: shape=(), dtype=string, numpy=b'dog'>)\n",
      "(<tf.Tensor: shape=(2,), dtype=int32, numpy=array([5, 6])>, <tf.Tensor: shape=(), dtype=string, numpy=b'fox'>)\n"
     ]
    }
   ],
   "source": [
    "for i in dataset3:\n",
    "    print(i)"
   ]
  },
  {
   "cell_type": "code",
   "execution_count": 218,
   "id": "81318f89",
   "metadata": {},
   "outputs": [
    {
     "name": "stdout",
     "output_type": "stream",
     "text": [
      "tf.Tensor([1 2], shape=(2,), dtype=int32) tf.Tensor(b'cat', shape=(), dtype=string)\n",
      "tf.Tensor([3 4], shape=(2,), dtype=int32) tf.Tensor(b'dog', shape=(), dtype=string)\n",
      "tf.Tensor([5 6], shape=(2,), dtype=int32) tf.Tensor(b'fox', shape=(), dtype=string)\n"
     ]
    }
   ],
   "source": [
    "dataset4=tf.data.Dataset.from_tensor_slices({'feature1':x,'label':y})\n",
    "for item in dataset4:\n",
    "    print(item['feature1'],item['label'])"
   ]
  },
  {
   "cell_type": "code",
   "execution_count": 219,
   "id": "ee228760",
   "metadata": {},
   "outputs": [
    {
     "name": "stdout",
     "output_type": "stream",
     "text": [
      "{'feature1': <tf.Tensor: shape=(2,), dtype=int32, numpy=array([1, 2])>, 'label': <tf.Tensor: shape=(), dtype=string, numpy=b'cat'>}\n",
      "{'feature1': <tf.Tensor: shape=(2,), dtype=int32, numpy=array([3, 4])>, 'label': <tf.Tensor: shape=(), dtype=string, numpy=b'dog'>}\n",
      "{'feature1': <tf.Tensor: shape=(2,), dtype=int32, numpy=array([5, 6])>, 'label': <tf.Tensor: shape=(), dtype=string, numpy=b'fox'>}\n"
     ]
    }
   ],
   "source": [
    "for item in dataset4:\n",
    "    print(item)"
   ]
  }
 ],
 "metadata": {
  "kernelspec": {
   "display_name": "Python 3 (ipykernel)",
   "language": "python",
   "name": "python3"
  },
  "language_info": {
   "codemirror_mode": {
    "name": "ipython",
    "version": 3
   },
   "file_extension": ".py",
   "mimetype": "text/x-python",
   "name": "python",
   "nbconvert_exporter": "python",
   "pygments_lexer": "ipython3",
   "version": "3.9.7"
  }
 },
 "nbformat": 4,
 "nbformat_minor": 5
}
