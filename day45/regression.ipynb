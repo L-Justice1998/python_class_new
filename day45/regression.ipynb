{
 "cells": [
  {
   "cell_type": "code",
   "execution_count": 1,
   "id": "88201929",
   "metadata": {},
   "outputs": [],
   "source": [
    "import matplotlib as mpl\n",
    "import matplotlib.pyplot as plt\n",
    "%matplotlib inline\n",
    "import numpy as np\n",
    "import sklearn\n",
    "import pandas as pd\n",
    "import os\n",
    "import sys\n",
    "import time\n",
    "import tensorflow as tf\n",
    "\n",
    "from tensorflow import keras"
   ]
  },
  {
   "cell_type": "code",
   "execution_count": 2,
   "id": "6708ac37",
   "metadata": {},
   "outputs": [],
   "source": [
    "from sklearn.datasets import fetch_california_housing"
   ]
  },
  {
   "cell_type": "code",
   "execution_count": 3,
   "id": "f28267e2",
   "metadata": {},
   "outputs": [
    {
     "name": "stdout",
     "output_type": "stream",
     "text": [
      ".. _california_housing_dataset:\n",
      "\n",
      "California Housing dataset\n",
      "--------------------------\n",
      "\n",
      "**Data Set Characteristics:**\n",
      "\n",
      "    :Number of Instances: 20640\n",
      "\n",
      "    :Number of Attributes: 8 numeric, predictive attributes and the target\n",
      "\n",
      "    :Attribute Information:\n",
      "        - MedInc        median income in block\n",
      "        - HouseAge      median house age in block\n",
      "        - AveRooms      average number of rooms\n",
      "        - AveBedrms     average number of bedrooms\n",
      "        - Population    block population\n",
      "        - AveOccup      average house occupancy\n",
      "        - Latitude      house block latitude\n",
      "        - Longitude     house block longitude\n",
      "\n",
      "    :Missing Attribute Values: None\n",
      "\n",
      "This dataset was obtained from the StatLib repository.\n",
      "http://lib.stat.cmu.edu/datasets/\n",
      "\n",
      "The target variable is the median house value for California districts.\n",
      "\n",
      "This dataset was derived from the 1990 U.S. census, using one row per census\n",
      "block group. A block group is the smallest geographical unit for which the U.S.\n",
      "Census Bureau publishes sample data (a block group typically has a population\n",
      "of 600 to 3,000 people).\n",
      "\n",
      "It can be downloaded/loaded using the\n",
      ":func:`sklearn.datasets.fetch_california_housing` function.\n",
      "\n",
      ".. topic:: References\n",
      "\n",
      "    - Pace, R. Kelley and Ronald Barry, Sparse Spatial Autoregressions,\n",
      "      Statistics and Probability Letters, 33 (1997) 291-297\n",
      "\n",
      "(20640, 8)\n",
      "(20640,)\n"
     ]
    }
   ],
   "source": [
    "housing=fetch_california_housing()\n",
    "print(housing.DESCR)\n",
    "print(housing.data.shape)\n",
    "print(housing.target.shape)"
   ]
  },
  {
   "cell_type": "code",
   "execution_count": 4,
   "id": "5bbd3b62",
   "metadata": {},
   "outputs": [],
   "source": [
    "from sklearn.model_selection import train_test_split"
   ]
  },
  {
   "cell_type": "code",
   "execution_count": 5,
   "id": "c180cc63",
   "metadata": {},
   "outputs": [],
   "source": [
    "x_train_all, x_test, y_train_all, y_test = train_test_split(\n",
    "    housing.data, housing.target, random_state = 7)\n",
    "x_train, x_valid, y_train, y_valid = train_test_split(\n",
    "    x_train_all, y_train_all, random_state = 11)"
   ]
  },
  {
   "cell_type": "code",
   "execution_count": 6,
   "id": "7f126846",
   "metadata": {},
   "outputs": [],
   "source": [
    "from sklearn.preprocessing import StandardScaler\n",
    "\n",
    "scaler = StandardScaler()\n",
    "x_train_scaled = scaler.fit_transform(x_train)\n",
    "x_valid_scaled = scaler.transform(x_valid)\n",
    "x_test_scaled = scaler.transform(x_test)"
   ]
  },
  {
   "cell_type": "code",
   "execution_count": 8,
   "id": "36b6323d",
   "metadata": {},
   "outputs": [
    {
     "name": "stdout",
     "output_type": "stream",
     "text": [
      "Model: \"sequential\"\n",
      "_________________________________________________________________\n",
      " Layer (type)                Output Shape              Param #   \n",
      "=================================================================\n",
      " dense (Dense)               (None, 30)                270       \n",
      "                                                                 \n",
      " dense_1 (Dense)             (None, 1)                 31        \n",
      "                                                                 \n",
      "=================================================================\n",
      "Total params: 301\n",
      "Trainable params: 301\n",
      "Non-trainable params: 0\n",
      "_________________________________________________________________\n"
     ]
    }
   ],
   "source": [
    "model=keras.models.Sequential([keras.layers.Dense(30,activation='relu',input_shape=x_train.shape[1:]),keras.layers.Dense(1)])\n",
    "model.summary()"
   ]
  },
  {
   "cell_type": "code",
   "execution_count": 11,
   "id": "eee662d3",
   "metadata": {},
   "outputs": [],
   "source": [
    "model.compile(loss='mean_squared_error',optimizer='sgd')\n",
    "callbacks=[keras.callbacks.EarlyStopping(patience=5,min_delta=1e-3)]"
   ]
  },
  {
   "cell_type": "code",
   "execution_count": 12,
   "id": "f44d3b35",
   "metadata": {},
   "outputs": [
    {
     "name": "stdout",
     "output_type": "stream",
     "text": [
      "Epoch 1/100\n",
      "363/363 [==============================] - 2s 2ms/step - loss: 1.0500 - val_loss: 0.6284\n",
      "Epoch 2/100\n",
      "363/363 [==============================] - 1s 2ms/step - loss: 0.4827 - val_loss: 0.4718\n",
      "Epoch 3/100\n",
      "363/363 [==============================] - 1s 3ms/step - loss: 0.4302 - val_loss: 0.4350\n",
      "Epoch 4/100\n",
      "363/363 [==============================] - 1s 3ms/step - loss: 0.4108 - val_loss: 0.4212\n",
      "Epoch 5/100\n",
      "363/363 [==============================] - 1s 2ms/step - loss: 0.4091 - val_loss: 0.4230\n",
      "Epoch 6/100\n",
      "363/363 [==============================] - 1s 2ms/step - loss: 0.3955 - val_loss: 0.4007\n",
      "Epoch 7/100\n",
      "363/363 [==============================] - 1s 2ms/step - loss: 0.3854 - val_loss: 0.3937\n",
      "Epoch 8/100\n",
      "363/363 [==============================] - 1s 2ms/step - loss: 0.3796 - val_loss: 0.3908\n",
      "Epoch 9/100\n",
      "363/363 [==============================] - 1s 2ms/step - loss: 0.3754 - val_loss: 0.3825\n",
      "Epoch 10/100\n",
      "363/363 [==============================] - 1s 2ms/step - loss: 0.3731 - val_loss: 0.3807\n",
      "Epoch 11/100\n",
      "363/363 [==============================] - 1s 2ms/step - loss: 0.3703 - val_loss: 0.3883\n",
      "Epoch 12/100\n",
      "363/363 [==============================] - 1s 3ms/step - loss: 0.3675 - val_loss: 0.3748\n",
      "Epoch 13/100\n",
      "363/363 [==============================] - 1s 2ms/step - loss: 0.3659 - val_loss: 0.3722\n",
      "Epoch 14/100\n",
      "363/363 [==============================] - 1s 3ms/step - loss: 0.3635 - val_loss: 0.3733\n",
      "Epoch 15/100\n",
      "363/363 [==============================] - 2s 4ms/step - loss: 0.3605 - val_loss: 0.3681\n",
      "Epoch 16/100\n",
      "363/363 [==============================] - 1s 2ms/step - loss: 0.3583 - val_loss: 0.4023\n",
      "Epoch 17/100\n",
      "363/363 [==============================] - 1s 2ms/step - loss: 0.3661 - val_loss: 0.4035\n",
      "Epoch 18/100\n",
      "363/363 [==============================] - 1s 2ms/step - loss: 0.3572 - val_loss: 0.3640\n",
      "Epoch 19/100\n",
      "363/363 [==============================] - 1s 2ms/step - loss: 0.3536 - val_loss: 0.3706\n",
      "Epoch 20/100\n",
      "363/363 [==============================] - 1s 2ms/step - loss: 0.3565 - val_loss: 0.6613\n",
      "Epoch 21/100\n",
      "363/363 [==============================] - 1s 2ms/step - loss: 0.3607 - val_loss: 0.3742\n",
      "Epoch 22/100\n",
      "363/363 [==============================] - 1s 2ms/step - loss: 0.3506 - val_loss: 0.3568\n",
      "Epoch 23/100\n",
      "363/363 [==============================] - 1s 3ms/step - loss: 0.3580 - val_loss: 0.3592\n",
      "Epoch 24/100\n",
      "363/363 [==============================] - 1s 2ms/step - loss: 0.3503 - val_loss: 0.4815\n",
      "Epoch 25/100\n",
      "363/363 [==============================] - 1s 2ms/step - loss: 0.3532 - val_loss: 0.3615\n",
      "Epoch 26/100\n",
      "363/363 [==============================] - 1s 2ms/step - loss: 0.3473 - val_loss: 0.3545\n",
      "Epoch 27/100\n",
      "363/363 [==============================] - 1s 2ms/step - loss: 0.3467 - val_loss: 0.3525\n",
      "Epoch 28/100\n",
      "363/363 [==============================] - 1s 2ms/step - loss: 0.3429 - val_loss: 0.3562\n",
      "Epoch 29/100\n",
      "363/363 [==============================] - 1s 2ms/step - loss: 0.3438 - val_loss: 0.3479\n",
      "Epoch 30/100\n",
      "363/363 [==============================] - 1s 3ms/step - loss: 0.3409 - val_loss: 0.3507\n",
      "Epoch 31/100\n",
      "363/363 [==============================] - 1s 2ms/step - loss: 0.3414 - val_loss: 0.3501\n",
      "Epoch 32/100\n",
      "363/363 [==============================] - 1s 3ms/step - loss: 0.3401 - val_loss: 0.3471\n",
      "Epoch 33/100\n",
      "363/363 [==============================] - 1s 2ms/step - loss: 0.3397 - val_loss: 0.3482\n",
      "Epoch 34/100\n",
      "363/363 [==============================] - 1s 2ms/step - loss: 0.3404 - val_loss: 0.3507\n"
     ]
    },
    {
     "data": {
      "image/png": "[encoded data removed]",
      "text/plain": [
       "<Figure size 576x360 with 1 Axes>"
      ]
     },
     "metadata": {
      "needs_background": "light"
     },
     "output_type": "display_data"
    }
   ],
   "source": [
    "history=model.fit(x_train_scaled,y_train,validation_data=(x_valid_scaled,y_valid),epochs=100,callbacks=callbacks)\n",
    "def plot_learning_curves(history):\n",
    "    pd.DataFrame(history.history).plot(figsize=(8, 5))\n",
    "    plt.grid(True)\n",
    "    plt.gca().set_ylim(0, 1.4)\n",
    "    plt.show()\n",
    "plot_learning_curves(history)"
   ]
  },
  {
   "cell_type": "code",
   "execution_count": 13,
   "id": "7cbe8bda",
   "metadata": {},
   "outputs": [
    {
     "data": {
      "text/plain": [
       "0.3624623417854309"
      ]
     },
     "execution_count": 13,
     "metadata": {},
     "output_type": "execute_result"
    }
   ],
   "source": [
    "model.evaluate(x_test_scaled,y_test,verbose=0)"
   ]
  },
  {
   "cell_type": "code",
   "execution_count": 15,
   "id": "0bc96963",
   "metadata": {},
   "outputs": [],
   "source": [
    "import matplotlib as mpl\n",
    "import matplotlib.pyplot as plt\n",
    "%matplotlib inline\n",
    "import numpy as np\n",
    "import time \n",
    "import os\n",
    "import sklearn\n",
    "import tensorflow as tf\n",
    "import sys\n",
    "from tensorflow import keras\n"
   ]
  },
  {
   "cell_type": "code",
   "execution_count": 16,
   "id": "d1841795",
   "metadata": {},
   "outputs": [],
   "source": [
    "fashion_mnist = keras.datasets.fashion_mnist\n",
    "(x_train_all, y_train_all), (x_test, y_test) = fashion_mnist.load_data()\n",
    "x_valid, x_train = x_train_all[:5000], x_train_all[5000:]\n",
    "y_valid, y_train = y_train_all[:5000], y_train_all[5000:]"
   ]
  },
  {
   "cell_type": "code",
   "execution_count": 17,
   "id": "e6e96100",
   "metadata": {},
   "outputs": [],
   "source": [
    "from sklearn.preprocessing import StandardScaler\n",
    "\n",
    "scaler = StandardScaler()\n",
    "x_train_scaled = scaler.fit_transform(\n",
    "    x_train.astype(np.float32).reshape(-1, 1)).reshape(-1, 28, 28)\n",
    "x_valid_scaled = scaler.transform(\n",
    "    x_valid.astype(np.float32).reshape(-1, 1)).reshape(-1, 28, 28)\n",
    "x_test_scaled = scaler.transform(\n",
    "    x_test.astype(np.float32).reshape(-1, 1)).reshape(-1, 28, 28)"
   ]
  },
  {
   "cell_type": "code",
   "execution_count": 19,
   "id": "ad9fc2f6",
   "metadata": {},
   "outputs": [
    {
     "name": "stdout",
     "output_type": "stream",
     "text": [
      "Model: \"sequential_2\"\n",
      "_________________________________________________________________\n",
      " Layer (type)                Output Shape              Param #   \n",
      "=================================================================\n",
      " flatten_1 (Flatten)         (None, 784)               0         \n",
      "                                                                 \n",
      " dense_23 (Dense)            (None, 100)               78500     \n",
      "                                                                 \n",
      " dense_24 (Dense)            (None, 100)               10100     \n",
      "                                                                 \n",
      " dense_25 (Dense)            (None, 100)               10100     \n",
      "                                                                 \n",
      " dense_26 (Dense)            (None, 100)               10100     \n",
      "                                                                 \n",
      " dense_27 (Dense)            (None, 100)               10100     \n",
      "                                                                 \n",
      " dense_28 (Dense)            (None, 100)               10100     \n",
      "                                                                 \n",
      " dense_29 (Dense)            (None, 100)               10100     \n",
      "                                                                 \n",
      " dense_30 (Dense)            (None, 100)               10100     \n",
      "                                                                 \n",
      " dense_31 (Dense)            (None, 100)               10100     \n",
      "                                                                 \n",
      " dense_32 (Dense)            (None, 100)               10100     \n",
      "                                                                 \n",
      " dense_33 (Dense)            (None, 100)               10100     \n",
      "                                                                 \n",
      " dense_34 (Dense)            (None, 100)               10100     \n",
      "                                                                 \n",
      " dense_35 (Dense)            (None, 100)               10100     \n",
      "                                                                 \n",
      " dense_36 (Dense)            (None, 100)               10100     \n",
      "                                                                 \n",
      " dense_37 (Dense)            (None, 100)               10100     \n",
      "                                                                 \n",
      " dense_38 (Dense)            (None, 100)               10100     \n",
      "                                                                 \n",
      " dense_39 (Dense)            (None, 100)               10100     \n",
      "                                                                 \n",
      " dense_40 (Dense)            (None, 100)               10100     \n",
      "                                                                 \n",
      " dense_41 (Dense)            (None, 100)               10100     \n",
      "                                                                 \n",
      " dense_42 (Dense)            (None, 100)               10100     \n",
      "                                                                 \n",
      " dense_43 (Dense)            (None, 10)                1010      \n",
      "                                                                 \n",
      "=================================================================\n",
      "Total params: 271,410\n",
      "Trainable params: 271,410\n",
      "Non-trainable params: 0\n",
      "_________________________________________________________________\n"
     ]
    }
   ],
   "source": [
    "model=keras.models.Sequential()\n",
    "model.add(keras.layers.Flatten(input_shape=[28,28]))\n",
    "for i in range(20):\n",
    "    model.add(keras.layers.Dense(100,activation='relu'))\n",
    "model.add(keras.layers.Dense(10,activation='softmax'))\n",
    "model.compile(loss='sparse_categorical_crossentropy',optimizer=keras.optimizers.SGD(0.001),metrics=['accuracy'])\n",
    "model.summary()"
   ]
  },
  {
   "cell_type": "code",
   "execution_count": 20,
   "id": "8f12a90f",
   "metadata": {},
   "outputs": [
    {
     "name": "stdout",
     "output_type": "stream",
     "text": [
      "Epoch 1/100\n",
      "1719/1719 [==============================] - 11s 6ms/step - loss: 2.3020 - accuracy: 0.1394 - val_loss: 2.3012 - val_accuracy: 0.2078\n",
      "Epoch 2/100\n",
      "1719/1719 [==============================] - 9s 5ms/step - loss: 2.2999 - accuracy: 0.2021 - val_loss: 2.2984 - val_accuracy: 0.2064\n",
      "Epoch 3/100\n",
      "1719/1719 [==============================] - 9s 5ms/step - loss: 2.2960 - accuracy: 0.1889 - val_loss: 2.2930 - val_accuracy: 0.2170\n",
      "Epoch 4/100\n",
      "1719/1719 [==============================] - 8s 4ms/step - loss: 2.2879 - accuracy: 0.1911 - val_loss: 2.2807 - val_accuracy: 0.1856\n",
      "Epoch 5/100\n",
      "1719/1719 [==============================] - 9s 5ms/step - loss: 2.2666 - accuracy: 0.1841 - val_loss: 2.2453 - val_accuracy: 0.1906\n",
      "Epoch 6/100\n",
      "1719/1719 [==============================] - 8s 5ms/step - loss: 2.1888 - accuracy: 0.1927 - val_loss: 2.0745 - val_accuracy: 0.2008\n",
      "Epoch 7/100\n",
      "1719/1719 [==============================] - 8s 4ms/step - loss: 1.7558 - accuracy: 0.2717 - val_loss: 1.3611 - val_accuracy: 0.4438\n",
      "Epoch 8/100\n",
      "1719/1719 [==============================] - 8s 4ms/step - loss: 1.1892 - accuracy: 0.4995 - val_loss: 1.0167 - val_accuracy: 0.6044\n",
      "Epoch 9/100\n",
      "1719/1719 [==============================] - 8s 5ms/step - loss: 1.0009 - accuracy: 0.5940 - val_loss: 0.8602 - val_accuracy: 0.6574\n",
      "Epoch 10/100\n",
      "1719/1719 [==============================] - 8s 5ms/step - loss: 0.8840 - accuracy: 0.6409 - val_loss: 0.8057 - val_accuracy: 0.6768\n",
      "Epoch 11/100\n",
      "1719/1719 [==============================] - 9s 5ms/step - loss: 0.8191 - accuracy: 0.6726 - val_loss: 0.7394 - val_accuracy: 0.7038\n",
      "Epoch 12/100\n",
      "1719/1719 [==============================] - 9s 5ms/step - loss: 0.7594 - accuracy: 0.6953 - val_loss: 0.7347 - val_accuracy: 0.7160\n",
      "Epoch 13/100\n",
      "1719/1719 [==============================] - 8s 5ms/step - loss: 0.7178 - accuracy: 0.7188 - val_loss: 0.7233 - val_accuracy: 0.7116\n",
      "Epoch 14/100\n",
      "1719/1719 [==============================] - 8s 4ms/step - loss: 0.6662 - accuracy: 0.7456 - val_loss: 0.6115 - val_accuracy: 0.7766\n",
      "Epoch 15/100\n",
      "1719/1719 [==============================] - 8s 4ms/step - loss: 0.6291 - accuracy: 0.7625 - val_loss: 0.5829 - val_accuracy: 0.7860\n",
      "Epoch 16/100\n",
      "1719/1719 [==============================] - 7s 4ms/step - loss: 0.5939 - accuracy: 0.7793 - val_loss: 0.6772 - val_accuracy: 0.7554\n",
      "Epoch 17/100\n",
      "1719/1719 [==============================] - 7s 4ms/step - loss: 0.5643 - accuracy: 0.7935 - val_loss: 0.5307 - val_accuracy: 0.8096\n",
      "Epoch 18/100\n",
      "1719/1719 [==============================] - 8s 4ms/step - loss: 0.5354 - accuracy: 0.8084 - val_loss: 0.5228 - val_accuracy: 0.8120\n",
      "Epoch 19/100\n",
      "1719/1719 [==============================] - 8s 5ms/step - loss: 0.5183 - accuracy: 0.8164 - val_loss: 0.5149 - val_accuracy: 0.8166\n",
      "Epoch 20/100\n",
      "1719/1719 [==============================] - 8s 4ms/step - loss: 0.4974 - accuracy: 0.8255 - val_loss: 0.4907 - val_accuracy: 0.8270\n",
      "Epoch 21/100\n",
      "1719/1719 [==============================] - 8s 4ms/step - loss: 0.4872 - accuracy: 0.8318 - val_loss: 0.4894 - val_accuracy: 0.8278\n",
      "Epoch 22/100\n",
      "1719/1719 [==============================] - 8s 4ms/step - loss: 0.4669 - accuracy: 0.8380 - val_loss: 0.4657 - val_accuracy: 0.8412\n",
      "Epoch 23/100\n",
      "1719/1719 [==============================] - 8s 4ms/step - loss: 0.4531 - accuracy: 0.8438 - val_loss: 0.4678 - val_accuracy: 0.8388\n",
      "Epoch 24/100\n",
      "1719/1719 [==============================] - 8s 4ms/step - loss: 0.4402 - accuracy: 0.8475 - val_loss: 0.4736 - val_accuracy: 0.8406\n",
      "Epoch 25/100\n",
      "1719/1719 [==============================] - 8s 4ms/step - loss: 0.4298 - accuracy: 0.8504 - val_loss: 0.4597 - val_accuracy: 0.8432\n",
      "Epoch 26/100\n",
      "1719/1719 [==============================] - 8s 5ms/step - loss: 0.4205 - accuracy: 0.8543 - val_loss: 0.4396 - val_accuracy: 0.8478\n",
      "Epoch 27/100\n",
      "1719/1719 [==============================] - 8s 5ms/step - loss: 0.4105 - accuracy: 0.8586 - val_loss: 0.4248 - val_accuracy: 0.8538\n",
      "Epoch 28/100\n",
      "1719/1719 [==============================] - 8s 4ms/step - loss: 0.3991 - accuracy: 0.8620 - val_loss: 0.4246 - val_accuracy: 0.8514\n",
      "Epoch 29/100\n",
      "1719/1719 [==============================] - 7s 4ms/step - loss: 0.3905 - accuracy: 0.8656 - val_loss: 0.4273 - val_accuracy: 0.8536\n",
      "Epoch 30/100\n",
      "1719/1719 [==============================] - 8s 4ms/step - loss: 0.3803 - accuracy: 0.8695 - val_loss: 0.4433 - val_accuracy: 0.8490\n",
      "Epoch 31/100\n",
      "1719/1719 [==============================] - 8s 4ms/step - loss: 0.3743 - accuracy: 0.8709 - val_loss: 0.4165 - val_accuracy: 0.8550\n",
      "Epoch 32/100\n",
      "1719/1719 [==============================] - 8s 5ms/step - loss: 0.3656 - accuracy: 0.8731 - val_loss: 0.4380 - val_accuracy: 0.8488\n",
      "Epoch 33/100\n",
      "1719/1719 [==============================] - 7s 4ms/step - loss: 0.3566 - accuracy: 0.8770 - val_loss: 0.4061 - val_accuracy: 0.8616\n",
      "Epoch 34/100\n",
      "1719/1719 [==============================] - 7s 4ms/step - loss: 0.3519 - accuracy: 0.8793 - val_loss: 0.4096 - val_accuracy: 0.8586\n",
      "Epoch 35/100\n",
      "1719/1719 [==============================] - 8s 5ms/step - loss: 0.3435 - accuracy: 0.8807 - val_loss: 0.4024 - val_accuracy: 0.8616\n",
      "Epoch 36/100\n",
      "1719/1719 [==============================] - 7s 4ms/step - loss: 0.3383 - accuracy: 0.8824 - val_loss: 0.3944 - val_accuracy: 0.8670\n",
      "Epoch 37/100\n",
      "1719/1719 [==============================] - 7s 4ms/step - loss: 0.3338 - accuracy: 0.8846 - val_loss: 0.4230 - val_accuracy: 0.8538\n",
      "Epoch 38/100\n",
      "1719/1719 [==============================] - 7s 4ms/step - loss: 0.3272 - accuracy: 0.8863 - val_loss: 0.4049 - val_accuracy: 0.8604\n",
      "Epoch 39/100\n",
      "1719/1719 [==============================] - 7s 4ms/step - loss: 0.3216 - accuracy: 0.8887 - val_loss: 0.4201 - val_accuracy: 0.8576\n",
      "Epoch 40/100\n",
      "1719/1719 [==============================] - 9s 5ms/step - loss: 0.3167 - accuracy: 0.8904 - val_loss: 0.3887 - val_accuracy: 0.8708\n",
      "Epoch 41/100\n",
      "1719/1719 [==============================] - 10s 6ms/step - loss: 0.3115 - accuracy: 0.8923 - val_loss: 0.3891 - val_accuracy: 0.8668\n",
      "Epoch 42/100\n",
      "1719/1719 [==============================] - 8s 4ms/step - loss: 0.3060 - accuracy: 0.8936 - val_loss: 0.3908 - val_accuracy: 0.8708\n",
      "Epoch 43/100\n",
      "1719/1719 [==============================] - 7s 4ms/step - loss: 0.3013 - accuracy: 0.8948 - val_loss: 0.3900 - val_accuracy: 0.8690\n",
      "Epoch 44/100\n",
      "1719/1719 [==============================] - 8s 5ms/step - loss: 0.2965 - accuracy: 0.8966 - val_loss: 0.4041 - val_accuracy: 0.8622\n",
      "Epoch 45/100\n",
      "1719/1719 [==============================] - 9s 5ms/step - loss: 0.2911 - accuracy: 0.8994 - val_loss: 0.3860 - val_accuracy: 0.8704\n",
      "Epoch 46/100\n",
      "1719/1719 [==============================] - 8s 5ms/step - loss: 0.2877 - accuracy: 0.9000 - val_loss: 0.3920 - val_accuracy: 0.8710\n",
      "Epoch 47/100\n",
      "1719/1719 [==============================] - 7s 4ms/step - loss: 0.2837 - accuracy: 0.9017 - val_loss: 0.3993 - val_accuracy: 0.8660\n",
      "Epoch 48/100\n",
      "1719/1719 [==============================] - 7s 4ms/step - loss: 0.2798 - accuracy: 0.9039 - val_loss: 0.4528 - val_accuracy: 0.8552\n",
      "Epoch 49/100\n",
      "1719/1719 [==============================] - 8s 5ms/step - loss: 0.2757 - accuracy: 0.9043 - val_loss: 0.4029 - val_accuracy: 0.8668\n",
      "Epoch 50/100\n",
      "1719/1719 [==============================] - 9s 5ms/step - loss: 0.2725 - accuracy: 0.9064 - val_loss: 0.3870 - val_accuracy: 0.8714\n"
     ]
    }
   ],
   "source": [
    "logdir = './dnn-callbacks'\n",
    "if not os.path.exists(logdir):\n",
    "    os.mkdir(logdir)\n",
    "output_model_file = os.path.join(logdir,\n",
    "                                 \"fashion_mnist_model.h5\")\n",
    "\n",
    "callbacks = [\n",
    "    keras.callbacks.TensorBoard(logdir),\n",
    "    keras.callbacks.ModelCheckpoint(output_model_file,\n",
    "                                    save_best_only = True),\n",
    "    keras.callbacks.EarlyStopping(patience=5, min_delta=1e-3),\n",
    "]\n",
    "history = model.fit(x_train_scaled, y_train, epochs=100,\n",
    "                    validation_data=(x_valid_scaled, y_valid),\n",
    "                    callbacks = callbacks)"
   ]
  },
  {
   "cell_type": "code",
   "execution_count": 21,
   "id": "3c6f22a5",
   "metadata": {},
   "outputs": [
    {
     "data": {
      "image/png": "[encoded data removed]",
      "text/plain": [
       "<Figure size 576x360 with 1 Axes>"
      ]
     },
     "metadata": {
      "needs_background": "light"
     },
     "output_type": "display_data"
    }
   ],
   "source": [
    "plot_learning_curves(history)"
   ]
  },
  {
   "cell_type": "code",
   "execution_count": 22,
   "id": "57379b42",
   "metadata": {},
   "outputs": [
    {
     "data": {
      "text/plain": [
       "[0.42215660214424133, 0.8601999878883362]"
      ]
     },
     "execution_count": 22,
     "metadata": {},
     "output_type": "execute_result"
    }
   ],
   "source": [
    "model.evaluate(x_test_scaled,y_test,verbose=0)"
   ]
  },
  {
   "cell_type": "code",
   "execution_count": null,
   "id": "a7b50cbf",
   "metadata": {},
   "outputs": [],
   "source": []
  }
 ],
 "metadata": {
  "kernelspec": {
   "display_name": "PyCharm (day32)",
   "language": "python",
   "name": "pycharm-a7ca9fd6"
  },
  "language_info": {
   "codemirror_mode": {
    "name": "ipython",
    "version": 3
   },
   "file_extension": ".py",
   "mimetype": "text/x-python",
   "name": "python",
   "nbconvert_exporter": "python",
   "pygments_lexer": "ipython3",
   "version": "3.9.7"
  }
 },
 "nbformat": 4,
 "nbformat_minor": 5
}
